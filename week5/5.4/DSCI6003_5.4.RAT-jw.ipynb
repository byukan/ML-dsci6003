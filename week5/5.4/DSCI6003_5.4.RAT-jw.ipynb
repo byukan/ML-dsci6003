{
 "cells": [
  {
   "cell_type": "markdown",
   "metadata": {},
   "source": [
    "## RAT 5.4"
   ]
  },
  {
   "cell_type": "markdown",
   "metadata": {},
   "source": [
    "- Write a description of the Random Forest algorithm\n",
    "- Describe use cases, weaknesses and strengths of Random Forest\n",
    "- How are the Decision Trees in Random Forests different from standard Decision Trees?"
   ]
  },
  {
   "cell_type": "markdown",
   "metadata": {
    "collapsed": true
   },
   "source": [
    "the random forest algorithm is an ensemble learning method for classification and regression that operates by constructing a multitude of decision trees at training time and outputting the class that is the mode of the classes (classification) or mean prediction (regression) of the individual trees\n",
    "\n",
    "strengths:\n",
    "fast runtimes\n",
    "able to deal with unbalanced and missing data\n",
    "\n",
    "weaknesses:\n",
    "when used for regression, they cannot predict beyond the range in the training data\n",
    "may over-fit data sets that are particularly noisy\n",
    "\n",
    "difference is we specify the number of samples, which are taken with replacement in trees from random forests"
   ]
  },
  {
   "cell_type": "code",
   "execution_count": null,
   "metadata": {
    "collapsed": true
   },
   "outputs": [],
   "source": []
  }
 ],
 "metadata": {
  "anaconda-cloud": {},
  "kernelspec": {
   "display_name": "Python [conda env:nlp]",
   "language": "python",
   "name": "conda-env-nlp-py"
  },
  "language_info": {
   "codemirror_mode": {
    "name": "ipython",
    "version": 3
   },
   "file_extension": ".py",
   "mimetype": "text/x-python",
   "name": "python",
   "nbconvert_exporter": "python",
   "pygments_lexer": "ipython3",
   "version": "3.5.2"
  }
 },
 "nbformat": 4,
 "nbformat_minor": 0
}
