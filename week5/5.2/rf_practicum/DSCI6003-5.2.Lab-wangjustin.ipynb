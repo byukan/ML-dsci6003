{
 "cells": [
  {
   "cell_type": "markdown",
   "metadata": {},
   "source": [
    "# DSCI6003 Practicum I: Random Forests\n",
    "\n",
    "Your study of tree classifiers begins with random forests. \n",
    "\n",
    "## Implement Decision Trees\n",
    "\n",
    "In order to build a random forest you must first master building decision trees.\n",
    "\n",
    "1. If you have not yet completed working code for decision trees, start with getting a complete implementation using the annotated code stub DecisionTree.py and TreeNode.py provided to you in the /code directory. \n",
    "\n",
    "2. Use the run_decision_tree.py and test_decision_tree.py code stubs (with the command line) to ensure that your construction is correct. Use pycharm or sublime for a develop environment.\n",
    "\n",
    "3. Once your tree is capable of producing correct results, continue with the RandomForest.py stub, discussed below.\n",
    "\n",
    "4. You can check your performance of both the forest and trees against the setup of the executable in the practicum directory."
   ]
  },
  {
   "cell_type": "code",
   "execution_count": 1,
   "metadata": {
    "collapsed": true
   },
   "outputs": [],
   "source": [
    "import os"
   ]
  },
  {
   "cell_type": "code",
   "execution_count": 2,
   "metadata": {
    "collapsed": false
   },
   "outputs": [
    {
     "name": "stdout",
     "output_type": "stream",
     "text": [
      "you'll see this if you imported DecisionTree.py\n",
      "test_entropy() passed\n",
      "test_gini() passed\n",
      "test_make_split() passed\n",
      "test_information_gain() passed\n",
      "test_choose_split_index() passed\n",
      "test_predict() passed\n"
     ]
    }
   ],
   "source": [
    "%run test_decision_tree.py"
   ]
  },
  {
   "cell_type": "code",
   "execution_count": 3,
   "metadata": {
    "collapsed": false,
    "scrolled": true
   },
   "outputs": [
    {
     "name": "stdout",
     "output_type": "stream",
     "text": [
      "[['sunny' 85 85 False]\n",
      " ['sunny' 80 90 True]\n",
      " ['overcast' 83 78 False]\n",
      " ['rain' 70 96 False]\n",
      " ['rain' 68 80 False]\n",
      " ['rain' 65 70 True]\n",
      " ['overcast' 64 65 True]\n",
      " ['sunny' 72 95 False]\n",
      " ['sunny' 69 70 False]\n",
      " ['rain' 75 80 False]\n",
      " ['sunny' 75 70 True]\n",
      " ['overcast' 72 90 True]\n",
      " ['overcast' 81 75 False]\n",
      " ['rain' 71 80 True]]\n",
      "Play\n",
      "                  FEATURES       ACTUAL    PREDICTED\n",
      "                ----------   ----------   ----------\n",
      "     ['sunny' 85 85 False]   Don't Play         Play\n",
      "      ['sunny' 80 90 True]   Don't Play         Play\n",
      "  ['overcast' 83 78 False]         Play         Play\n",
      "      ['rain' 70 96 False]         Play         Play\n",
      "      ['rain' 68 80 False]         Play         Play\n",
      "       ['rain' 65 70 True]   Don't Play         Play\n",
      "   ['overcast' 64 65 True]         Play         Play\n",
      "     ['sunny' 72 95 False]   Don't Play         Play\n",
      "     ['sunny' 69 70 False]         Play         Play\n",
      "      ['rain' 75 80 False]         Play         Play\n",
      "      ['sunny' 75 70 True]         Play         Play\n",
      "   ['overcast' 72 90 True]         Play         Play\n",
      "  ['overcast' 81 75 False]         Play         Play\n",
      "       ['rain' 71 80 True]   Don't Play         Play\n"
     ]
    }
   ],
   "source": [
    "%run run_decision_tree.py"
   ]
  },
  {
   "cell_type": "code",
   "execution_count": 4,
   "metadata": {
    "collapsed": false
   },
   "outputs": [
    {
     "name": "stdout",
     "output_type": "stream",
     "text": [
      "[[1 'bat']\n",
      " [2 'cat']\n",
      " [2 'rat']\n",
      " [3 'bat']\n",
      " [3 'bat']]\n",
      "randomly_chosen_features [0 1]\n"
     ]
    },
    {
     "data": {
      "text/plain": [
       "[2, 5]"
      ]
     },
     "execution_count": 4,
     "metadata": {},
     "output_type": "execute_result"
    }
   ],
   "source": [
    "import numpy as np\n",
    "import random\n",
    "\n",
    "# randomly_chosen_features = random.sample(range(len(X)), self.num_features)\n",
    "\n",
    "X = np.array([[1, 'bat'], [2, 'cat'], [2, 'rat'], [3, 'bat'], [3, 'bat']], dtype=object)\n",
    "\n",
    "print(X)\n",
    "randomly_chosen_features = np.random.choice(range(len(X[0])), 2, replace = False)\n",
    "print(\"randomly_chosen_features\", randomly_chosen_features)\n",
    "X = X[:, randomly_chosen_features]\n",
    "#X = [X[i] for i in randomly_chosen_features]\n",
    "X\n",
    "\n",
    "\n",
    "v = [1, 2, 3, 4, 5, 6]\n",
    "good_indices = [1, 4]\n",
    "\n",
    "v = [v[i] for i in good_indices]\n",
    "v"
   ]
  },
  {
   "cell_type": "markdown",
   "metadata": {
    "collapsed": true
   },
   "source": [
    "## Build a Random Forest\n",
    "\n",
    "You will be using our implementation of Decision Trees to implement a Random Forest.\n",
    "\n",
    "You can use the `DecisionTree` class from `DecisionTree.py` with the following code:\n",
    "\n",
    "```python\n",
    "dt = DecisionTree()\n",
    "dt.fit(X_train, y_train)\n",
    "predicted_y = dt.predict(X_test)\n",
    "```"
   ]
  },
  {
   "cell_type": "code",
   "execution_count": 5,
   "metadata": {
    "collapsed": false
   },
   "outputs": [],
   "source": [
    "from sklearn.cross_validation import train_test_split\n",
    "\n",
    "\n",
    "df1 = pd.read_csv('../data/playgolf.csv')\n",
    "\n",
    "y = df1.pop('Result').values\n",
    "X = df1.values\n",
    "X_train, X_test, y_train, y_test = train_test_split(X, y)"
   ]
  },
  {
   "cell_type": "code",
   "execution_count": 6,
   "metadata": {
    "collapsed": false,
    "scrolled": false
   },
   "outputs": [
    {
     "data": {
      "text/plain": [
       "array(['Play', 'Play', 'Play', 'Play'], \n",
       "      dtype='<U4')"
      ]
     },
     "execution_count": 6,
     "metadata": {},
     "output_type": "execute_result"
    }
   ],
   "source": [
    "dt = DecisionTree()\n",
    "dt.fit(X_train, y_train)\n",
    "predicted_y = dt.predict(X_test)\n",
    "\n",
    "predicted_y"
   ]
  },
  {
   "cell_type": "markdown",
   "metadata": {},
   "source": [
    "You can also visualize a Decision Tree by printing it. This may be helpful for understanding your Random Forest.\n",
    "\n",
    "```python\n",
    "print dt\n",
    "```\n",
    "\n",
    "While you're getting your code to work, use the play golf data set that we used for implementing Decision Trees.\n",
    "\n",
    "There's a file called `RandomForest.py` which contains a skeleton of the code. Your goal is to fill it in so that you can run it with the following lines of code:\n",
    "\n",
    "```python\n",
    "from RandomForest import RandomForest\n",
    "from sklearn.cross_validation import train_test_split\n",
    "import numpy as np\n",
    "import pandas as pd\n",
    "\n",
    "df = pd.read_csv('data/playgolf.csv')\n",
    "y = df.pop('Result').values\n",
    "X = df.values\n",
    "X_train, X_test, y_train, y_test = train_test_split(X, y)\n",
    "\n",
    "rf = RandomForest(num_trees=10, num_features=5)\n",
    "rf.fit(X_train, y_train)\n",
    "y_predict = rf.predict(X_test)\n",
    "print \"score:\", rf.score(X_test, y_test)\n",
    "```\n",
    "\n",
    "### A. Implement *Tree Bagging*\n",
    "\n",
    "Bagging, or *bootstrap aggregating*, is taking several random samples *with replacement* from the data set and building a model for each sample. Each of these models gets a vote on the prediction.\n",
    "\n",
    "Sampling with replacement means that we can repeat data points. In the basic random forest, we will always use a sample size that is the same as the size of the original data set. Many data points will not be included in each sample and many will be repeated.\n",
    "\n",
    "1. Implement the `build_forest` method. For right now, we will be ignoring the `num_features` parameter. Here is the pseudocode:\n",
    "\n",
    "      Repeat num_trees times:\n",
    "          Create a random sample of the data with replacement\n",
    "          Build a decision tree with that sample\n",
    "      Return the list of the decision trees created"
   ]
  },
  {
   "cell_type": "code",
   "execution_count": 7,
   "metadata": {
    "collapsed": false,
    "scrolled": true
   },
   "outputs": [
    {
     "name": "stdout",
     "output_type": "stream",
     "text": [
      "Play\n"
     ]
    }
   ],
   "source": [
    "print(dt)"
   ]
  },
  {
   "cell_type": "code",
   "execution_count": 11,
   "metadata": {
    "collapsed": false,
    "scrolled": true
   },
   "outputs": [
    {
     "name": "stdout",
     "output_type": "stream",
     "text": [
      "score: 0.5\n"
     ]
    }
   ],
   "source": [
    "from RandomForest import RandomForest\n",
    "from sklearn.cross_validation import train_test_split\n",
    "import numpy as np\n",
    "import pandas as pd\n",
    "\n",
    "df = pd.read_csv('../data/playgolf.csv')\n",
    "y = df.pop('Result').values\n",
    "X = df.values\n",
    "X_train, X_test, y_train, y_test = train_test_split(X, y)\n",
    "\n",
    "rf = DecisionTree()\n",
    "\n",
    "\n",
    "rf.fit(X_train, y_train)\n",
    "y_predict = rf.predict(X_test)\n",
    "print (\"score:\", rf.score(X_test, y_test))"
   ]
  },
  {
   "cell_type": "markdown",
   "metadata": {},
   "source": [
    "### B. Implement random feature selection\n",
    "\n",
    "1. Modify the `DecisionTree` class so that it takes an additional parameter: `num_features`. This is the number of features to consider at each node in choosing the best split. Which features to consider is randomly chosen at each node. You will need to modify the `__init__`, method to take a `num_features` parameter. In `_choose_split_index`, you should randomly select `num_features` of the potential features to consider. Only calculate and compare the features that were randomly chosen, so that the feature you choose is one of the randomly chosen features.\n",
    "\n",
    "2. Modify `build_forest` in your `RandomForest` class to pass the `num_features` parameter to the Decision Trees.\n",
    "\n",
    "\n",
    "### C. Implement classification and scoring\n",
    "\n",
    "1. In the `predict` method, you should have each Decision Tree classify each data point. Choose the label with the majority of trees. Break ties by choosing one of the labels arbitrarily.\n",
    "\n",
    "2. In the `score` method, you should first classify the data points and count the percent of them which match the given labels.\n",
    "\n",
    "\n",
    "### D. Try a bigger data set\n",
    "\n",
    "You won't be able to get great results cross validating with the play golf data set since it's so small. In the data folder, there's a dataset called 'congressional_voting.csv'. This contains congressman, how they voted on different issues and their party.\n",
    "\n",
    "Here are what the 17 columns refer to:\n",
    "\n",
    "* Class Name: 2 (democrat, republican)\n",
    "* handicapped-infants: 2 (y,n)\n",
    "* water-project-cost-sharing: 2 (y,n)\n",
    "* adoption-of-the-budget-resolution: 2 (y,n)\n",
    "* physician-fee-freeze: 2 (y,n)\n",
    "* el-salvador-aid: 2 (y,n)\n",
    "* religious-groups-in-schools: 2 (y,n)\n",
    "* anti-satellite-test-ban: 2 (y,n)\n",
    "* aid-to-nicaraguan-contras: 2 (y,n)\n",
    "* mx-missile: 2 (y,n)\n",
    "* immigration: 2 (y,n)\n",
    "* synfuels-corporation-cutback: 2 (y,n)\n",
    "* education-spending: 2 (y,n)\n",
    "* superfund-right-to-sue: 2 (y,n)\n",
    "* crime: 2 (y,n)\n",
    "* duty-free-exports: 2 (y,n)\n",
    "* export-administration-act-south-africa: 2 (y,n)\n",
    "\n",
    "The dataset came from UCI [here](https://archive.ics.uci.edu/ml/datasets/Congressional+Voting+Records).\n",
    "\n",
    "1. Based on the votes on the 16 issues, predict the party using your implementation of Random Forest. Start with 10 trees and a maximum of 5 features.\n",
    "\n",
    "2. Compare how well the Random Forest does versus the Decision Tree.\n",
    "\n",
    "3. Try modifying the number of trees and see how it affects your accuracy.\n",
    "\n",
    "4. Calculate the accuracy for each of your decision trees on the test set and compare it to the accuracy of the random forest on the test set.\n",
    "\n",
    "5. Predict how the congressmen will vote on a particular issue given the remaining columns."
   ]
  },
  {
   "cell_type": "code",
   "execution_count": 12,
   "metadata": {
    "collapsed": false,
    "scrolled": false
   },
   "outputs": [
    {
     "data": {
      "text/html": [
       "<div>\n",
       "<table border=\"1\" class=\"dataframe\">\n",
       "  <thead>\n",
       "    <tr style=\"text-align: right;\">\n",
       "      <th></th>\n",
       "      <th>0</th>\n",
       "      <th>1</th>\n",
       "      <th>2</th>\n",
       "      <th>3</th>\n",
       "      <th>4</th>\n",
       "      <th>5</th>\n",
       "      <th>6</th>\n",
       "      <th>7</th>\n",
       "      <th>8</th>\n",
       "      <th>9</th>\n",
       "      <th>10</th>\n",
       "      <th>11</th>\n",
       "      <th>12</th>\n",
       "      <th>13</th>\n",
       "      <th>14</th>\n",
       "      <th>15</th>\n",
       "      <th>16</th>\n",
       "    </tr>\n",
       "  </thead>\n",
       "  <tbody>\n",
       "    <tr>\n",
       "      <th>423</th>\n",
       "      <td>democrat</td>\n",
       "      <td>n</td>\n",
       "      <td>y</td>\n",
       "      <td>y</td>\n",
       "      <td>n</td>\n",
       "      <td>n</td>\n",
       "      <td>y</td>\n",
       "      <td>y</td>\n",
       "      <td>y</td>\n",
       "      <td>y</td>\n",
       "      <td>n</td>\n",
       "      <td>y</td>\n",
       "      <td>n</td>\n",
       "      <td>n</td>\n",
       "      <td>y</td>\n",
       "      <td>y</td>\n",
       "      <td>y</td>\n",
       "    </tr>\n",
       "    <tr>\n",
       "      <th>426</th>\n",
       "      <td>democrat</td>\n",
       "      <td>y</td>\n",
       "      <td>n</td>\n",
       "      <td>y</td>\n",
       "      <td>n</td>\n",
       "      <td>n</td>\n",
       "      <td>n</td>\n",
       "      <td>y</td>\n",
       "      <td>y</td>\n",
       "      <td>y</td>\n",
       "      <td>y</td>\n",
       "      <td>n</td>\n",
       "      <td>n</td>\n",
       "      <td>n</td>\n",
       "      <td>n</td>\n",
       "      <td>y</td>\n",
       "      <td>y</td>\n",
       "    </tr>\n",
       "    <tr>\n",
       "      <th>427</th>\n",
       "      <td>republican</td>\n",
       "      <td>n</td>\n",
       "      <td>n</td>\n",
       "      <td>n</td>\n",
       "      <td>y</td>\n",
       "      <td>y</td>\n",
       "      <td>y</td>\n",
       "      <td>y</td>\n",
       "      <td>y</td>\n",
       "      <td>n</td>\n",
       "      <td>y</td>\n",
       "      <td>n</td>\n",
       "      <td>y</td>\n",
       "      <td>y</td>\n",
       "      <td>y</td>\n",
       "      <td>n</td>\n",
       "      <td>y</td>\n",
       "    </tr>\n",
       "    <tr>\n",
       "      <th>430</th>\n",
       "      <td>republican</td>\n",
       "      <td>n</td>\n",
       "      <td>n</td>\n",
       "      <td>y</td>\n",
       "      <td>y</td>\n",
       "      <td>y</td>\n",
       "      <td>y</td>\n",
       "      <td>n</td>\n",
       "      <td>n</td>\n",
       "      <td>y</td>\n",
       "      <td>y</td>\n",
       "      <td>n</td>\n",
       "      <td>y</td>\n",
       "      <td>y</td>\n",
       "      <td>y</td>\n",
       "      <td>n</td>\n",
       "      <td>y</td>\n",
       "    </tr>\n",
       "    <tr>\n",
       "      <th>431</th>\n",
       "      <td>democrat</td>\n",
       "      <td>n</td>\n",
       "      <td>n</td>\n",
       "      <td>y</td>\n",
       "      <td>n</td>\n",
       "      <td>n</td>\n",
       "      <td>n</td>\n",
       "      <td>y</td>\n",
       "      <td>y</td>\n",
       "      <td>y</td>\n",
       "      <td>y</td>\n",
       "      <td>n</td>\n",
       "      <td>n</td>\n",
       "      <td>n</td>\n",
       "      <td>n</td>\n",
       "      <td>n</td>\n",
       "      <td>y</td>\n",
       "    </tr>\n",
       "  </tbody>\n",
       "</table>\n",
       "</div>"
      ],
      "text/plain": [
       "             0  1  2  3  4  5  6  7  8  9  10 11 12 13 14 15 16\n",
       "423    democrat  n  y  y  n  n  y  y  y  y  n  y  n  n  y  y  y\n",
       "426    democrat  y  n  y  n  n  n  y  y  y  y  n  n  n  n  y  y\n",
       "427  republican  n  n  n  y  y  y  y  y  n  y  n  y  y  y  n  y\n",
       "430  republican  n  n  y  y  y  y  n  n  y  y  n  y  y  y  n  y\n",
       "431    democrat  n  n  y  n  n  n  y  y  y  y  n  n  n  n  n  y"
      ]
     },
     "execution_count": 12,
     "metadata": {},
     "output_type": "execute_result"
    }
   ],
   "source": [
    "df = pd.read_csv('../data/congressional_voting.csv', header = None)\n",
    "df = df.replace(\"?\", np.nan).dropna()\n",
    "df.tail()"
   ]
  },
  {
   "cell_type": "code",
   "execution_count": 13,
   "metadata": {
    "collapsed": false
   },
   "outputs": [
    {
     "data": {
      "text/plain": [
       "array(['democrat', 'republican', 'democrat', 'democrat', 'democrat',\n",
       "       'democrat', 'democrat', 'republican', 'democrat', 'republican'], dtype=object)"
      ]
     },
     "execution_count": 13,
     "metadata": {},
     "output_type": "execute_result"
    }
   ],
   "source": [
    "y = df.values[:,0]\n",
    "y[:10]"
   ]
  },
  {
   "cell_type": "code",
   "execution_count": 14,
   "metadata": {
    "collapsed": false,
    "scrolled": true
   },
   "outputs": [
    {
     "data": {
      "text/plain": [
       "array([['n', 'y', 'y', ..., 'y', 'y', 'y'],\n",
       "       ['n', 'y', 'n', ..., 'y', 'n', 'y'],\n",
       "       ['y', 'y', 'y', ..., 'n', 'y', 'y'],\n",
       "       ..., \n",
       "       ['n', 'n', 'n', ..., 'y', 'n', 'y'],\n",
       "       ['n', 'n', 'y', ..., 'y', 'n', 'y'],\n",
       "       ['n', 'n', 'y', ..., 'n', 'n', 'y']], dtype=object)"
      ]
     },
     "execution_count": 14,
     "metadata": {},
     "output_type": "execute_result"
    }
   ],
   "source": [
    "X = df.values[:,1:]\n",
    "X"
   ]
  },
  {
   "cell_type": "code",
   "execution_count": 15,
   "metadata": {
    "collapsed": false,
    "scrolled": true
   },
   "outputs": [
    {
     "name": "stdout",
     "output_type": "stream",
     "text": [
      "[['n' 'y' 'y' ..., 'y' 'y' 'y']\n",
      " ['n' 'y' 'n' ..., 'y' 'n' 'y']\n",
      " ['y' 'y' 'y' ..., 'n' 'y' 'y']\n",
      " ..., \n",
      " ['n' 'n' 'n' ..., 'y' 'n' 'y']\n",
      " ['n' 'n' 'y' ..., 'y' 'n' 'y']\n",
      " ['n' 'n' 'y' ..., 'n' 'n' 'y']]\n",
      "democrat\n",
      "                  FEATURES       ACTUAL    PREDICTED\n",
      "                ----------   ----------   ----------\n",
      "['n' 'y' 'y' 'n' 'y' 'y' 'n' 'n' 'n' 'n' 'n' 'n' 'y' 'y' 'y' 'y']     democrat     democrat\n",
      "['n' 'y' 'n' 'y' 'y' 'y' 'n' 'n' 'n' 'n' 'n' 'y' 'y' 'y' 'n' 'y']   republican     democrat\n",
      "['y' 'y' 'y' 'n' 'n' 'n' 'y' 'y' 'y' 'n' 'y' 'n' 'n' 'n' 'y' 'y']     democrat     democrat\n",
      "['y' 'y' 'y' 'n' 'n' 'n' 'y' 'y' 'y' 'n' 'n' 'n' 'n' 'n' 'y' 'y']     democrat     democrat\n",
      "['y' 'n' 'y' 'n' 'n' 'n' 'y' 'y' 'y' 'y' 'n' 'n' 'n' 'n' 'y' 'y']     democrat     democrat\n",
      "['y' 'n' 'y' 'n' 'n' 'n' 'y' 'y' 'y' 'n' 'y' 'n' 'n' 'n' 'y' 'y']     democrat     democrat\n",
      "['y' 'y' 'y' 'n' 'n' 'n' 'y' 'y' 'y' 'n' 'y' 'n' 'n' 'n' 'y' 'y']     democrat     democrat\n",
      "['y' 'n' 'n' 'y' 'y' 'n' 'y' 'y' 'y' 'n' 'n' 'y' 'y' 'y' 'n' 'y']   republican     democrat\n",
      "['y' 'y' 'y' 'n' 'n' 'n' 'y' 'y' 'y' 'n' 'y' 'n' 'n' 'n' 'y' 'y']     democrat     democrat\n",
      "['n' 'y' 'n' 'y' 'y' 'y' 'n' 'n' 'n' 'n' 'n' 'y' 'y' 'y' 'n' 'n']   republican     democrat\n",
      "['y' 'y' 'y' 'n' 'n' 'n' 'y' 'y' 'y' 'y' 'n' 'n' 'y' 'n' 'y' 'y']     democrat     democrat\n",
      "['n' 'y' 'n' 'y' 'y' 'y' 'n' 'n' 'n' 'n' 'n' 'y' 'y' 'y' 'n' 'y']   republican     democrat\n",
      "['y' 'y' 'y' 'n' 'n' 'n' 'y' 'y' 'y' 'n' 'n' 'n' 'n' 'n' 'y' 'y']     democrat     democrat\n",
      "['n' 'y' 'n' 'y' 'y' 'y' 'n' 'n' 'n' 'n' 'n' 'y' 'y' 'y' 'n' 'n']   republican     democrat\n",
      "['y' 'y' 'n' 'y' 'y' 'y' 'n' 'n' 'n' 'n' 'n' 'n' 'y' 'y' 'n' 'y']   republican     democrat\n",
      "['n' 'y' 'n' 'y' 'y' 'y' 'n' 'n' 'n' 'y' 'n' 'y' 'y' 'y' 'n' 'n']   republican     democrat\n",
      "['y' 'n' 'y' 'n' 'n' 'n' 'y' 'y' 'y' 'y' 'y' 'n' 'y' 'n' 'y' 'y']     democrat     democrat\n",
      "['y' 'n' 'y' 'n' 'n' 'n' 'y' 'y' 'y' 'n' 'n' 'n' 'n' 'n' 'n' 'y']     democrat     democrat\n",
      "['y' 'n' 'y' 'n' 'n' 'n' 'y' 'y' 'y' 'n' 'n' 'n' 'n' 'n' 'y' 'y']     democrat     democrat\n",
      "['y' 'y' 'y' 'n' 'n' 'n' 'y' 'y' 'y' 'n' 'n' 'n' 'n' 'n' 'n' 'y']     democrat     democrat\n",
      "['y' 'y' 'y' 'n' 'n' 'n' 'y' 'y' 'n' 'n' 'n' 'n' 'n' 'y' 'n' 'y']     democrat     democrat\n",
      "['y' 'y' 'y' 'n' 'n' 'n' 'y' 'y' 'y' 'n' 'y' 'n' 'n' 'n' 'y' 'y']     democrat     democrat\n",
      "['y' 'y' 'n' 'y' 'y' 'y' 'n' 'n' 'n' 'y' 'n' 'y' 'y' 'y' 'n' 'n']   republican     democrat\n",
      "['n' 'y' 'n' 'y' 'y' 'y' 'n' 'n' 'n' 'y' 'y' 'y' 'y' 'y' 'n' 'n']   republican     democrat\n",
      "['n' 'y' 'n' 'y' 'y' 'y' 'n' 'n' 'n' 'y' 'y' 'y' 'y' 'y' 'n' 'y']   republican     democrat\n",
      "['n' 'y' 'n' 'y' 'y' 'y' 'n' 'n' 'n' 'y' 'n' 'y' 'y' 'y' 'n' 'y']   republican     democrat\n",
      "['n' 'y' 'n' 'y' 'y' 'y' 'n' 'n' 'n' 'y' 'n' 'y' 'y' 'y' 'n' 'y']   republican     democrat\n",
      "['n' 'y' 'n' 'y' 'y' 'y' 'n' 'n' 'n' 'n' 'n' 'y' 'y' 'y' 'n' 'n']   republican     democrat\n",
      "['y' 'y' 'y' 'n' 'n' 'n' 'y' 'y' 'y' 'n' 'y' 'n' 'n' 'n' 'n' 'y']     democrat     democrat\n",
      "['y' 'y' 'n' 'y' 'y' 'y' 'y' 'n' 'n' 'n' 'n' 'y' 'y' 'y' 'n' 'y']   republican     democrat\n",
      "['n' 'y' 'n' 'y' 'y' 'y' 'y' 'n' 'n' 'n' 'y' 'y' 'y' 'y' 'n' 'y']   republican     democrat\n",
      "['n' 'y' 'n' 'y' 'y' 'y' 'n' 'n' 'n' 'y' 'n' 'y' 'y' 'y' 'n' 'n']   republican     democrat\n",
      "['y' 'y' 'y' 'n' 'n' 'n' 'y' 'y' 'y' 'n' 'n' 'n' 'n' 'n' 'y' 'y']     democrat     democrat\n",
      "['y' 'y' 'y' 'y' 'n' 'n' 'y' 'y' 'y' 'y' 'y' 'n' 'n' 'y' 'n' 'y']   republican     democrat\n",
      "['y' 'n' 'y' 'y' 'y' 'n' 'y' 'n' 'y' 'y' 'n' 'n' 'y' 'y' 'n' 'y']   republican     democrat\n",
      "['y' 'n' 'y' 'n' 'n' 'y' 'y' 'y' 'y' 'y' 'y' 'n' 'n' 'y' 'y' 'y']     democrat     democrat\n",
      "['n' 'y' 'y' 'y' 'y' 'y' 'n' 'n' 'n' 'y' 'y' 'n' 'y' 'y' 'n' 'n']     democrat     democrat\n",
      "['n' 'y' 'y' 'y' 'y' 'y' 'n' 'y' 'y' 'y' 'y' 'y' 'y' 'y' 'n' 'y']     democrat     democrat\n",
      "['y' 'y' 'y' 'n' 'y' 'y' 'n' 'n' 'n' 'y' 'y' 'n' 'y' 'y' 'n' 'y']     democrat     democrat\n",
      "['n' 'n' 'n' 'y' 'y' 'n' 'n' 'n' 'n' 'y' 'n' 'y' 'y' 'y' 'n' 'n']   republican     democrat\n",
      "['n' 'n' 'n' 'y' 'y' 'y' 'n' 'n' 'n' 'y' 'n' 'y' 'y' 'y' 'n' 'y']   republican     democrat\n",
      "['n' 'n' 'n' 'y' 'y' 'y' 'n' 'n' 'n' 'n' 'n' 'y' 'y' 'y' 'n' 'n']   republican     democrat\n",
      "['n' 'n' 'y' 'n' 'y' 'y' 'n' 'n' 'n' 'y' 'y' 'y' 'y' 'y' 'n' 'y']     democrat     democrat\n",
      "['n' 'n' 'n' 'y' 'y' 'y' 'n' 'n' 'n' 'y' 'n' 'y' 'y' 'y' 'n' 'n']   republican     democrat\n",
      "['n' 'n' 'n' 'y' 'y' 'y' 'n' 'n' 'n' 'n' 'n' 'y' 'y' 'y' 'n' 'n']   republican     democrat\n",
      "['n' 'y' 'y' 'n' 'y' 'y' 'y' 'n' 'y' 'y' 'y' 'n' 'y' 'y' 'n' 'y']     democrat     democrat\n",
      "['y' 'n' 'y' 'n' 'n' 'n' 'y' 'y' 'y' 'y' 'n' 'n' 'n' 'n' 'y' 'y']     democrat     democrat\n",
      "['y' 'n' 'y' 'n' 'n' 'n' 'y' 'y' 'y' 'y' 'y' 'n' 'n' 'n' 'y' 'y']     democrat     democrat\n",
      "['y' 'n' 'y' 'n' 'n' 'n' 'y' 'n' 'y' 'y' 'y' 'n' 'n' 'n' 'y' 'y']     democrat     democrat\n",
      "['y' 'n' 'y' 'n' 'y' 'y' 'n' 'n' 'n' 'n' 'n' 'n' 'n' 'n' 'n' 'y']     democrat     democrat\n",
      "['y' 'n' 'n' 'n' 'y' 'y' 'y' 'n' 'n' 'y' 'y' 'n' 'n' 'y' 'n' 'y']     democrat     democrat\n",
      "['y' 'y' 'y' 'n' 'n' 'y' 'y' 'y' 'y' 'y' 'n' 'n' 'n' 'n' 'n' 'y']     democrat     democrat\n",
      "['y' 'n' 'n' 'n' 'y' 'y' 'n' 'n' 'n' 'n' 'y' 'y' 'n' 'y' 'n' 'y']     democrat     democrat\n",
      "['y' 'n' 'y' 'n' 'y' 'y' 'y' 'n' 'n' 'n' 'y' 'n' 'n' 'y' 'n' 'y']     democrat     democrat\n",
      "['y' 'y' 'y' 'n' 'n' 'n' 'n' 'y' 'y' 'n' 'y' 'n' 'n' 'n' 'y' 'y']     democrat     democrat\n",
      "['n' 'y' 'n' 'y' 'y' 'y' 'n' 'n' 'n' 'n' 'n' 'y' 'y' 'y' 'n' 'y']   republican     democrat\n",
      "['n' 'n' 'y' 'n' 'n' 'n' 'y' 'y' 'y' 'y' 'n' 'n' 'n' 'n' 'y' 'y']     democrat     democrat\n",
      "['y' 'n' 'y' 'n' 'n' 'n' 'y' 'y' 'y' 'n' 'y' 'n' 'n' 'n' 'y' 'y']     democrat     democrat\n",
      "['y' 'y' 'y' 'y' 'y' 'n' 'y' 'n' 'n' 'n' 'n' 'y' 'y' 'y' 'n' 'y']   republican     democrat\n",
      "['n' 'y' 'y' 'n' 'n' 'n' 'n' 'y' 'y' 'y' 'y' 'n' 'n' 'n' 'y' 'y']     democrat     democrat\n",
      "['n' 'n' 'n' 'y' 'y' 'y' 'n' 'n' 'n' 'n' 'n' 'y' 'y' 'y' 'n' 'n']   republican     democrat\n",
      "['n' 'n' 'n' 'y' 'y' 'y' 'n' 'n' 'n' 'y' 'n' 'y' 'n' 'y' 'n' 'y']   republican     democrat\n",
      "['n' 'n' 'y' 'n' 'n' 'y' 'n' 'y' 'y' 'y' 'n' 'n' 'n' 'y' 'n' 'y']     democrat     democrat\n",
      "['n' 'n' 'n' 'y' 'y' 'y' 'n' 'n' 'n' 'y' 'n' 'y' 'y' 'y' 'n' 'y']   republican     democrat\n",
      "['n' 'n' 'n' 'y' 'y' 'y' 'n' 'n' 'n' 'y' 'n' 'y' 'y' 'y' 'n' 'n']   republican     democrat\n",
      "['n' 'y' 'n' 'y' 'y' 'y' 'n' 'n' 'n' 'y' 'y' 'y' 'y' 'n' 'n' 'y']   republican     democrat\n",
      "['n' 'n' 'y' 'n' 'n' 'y' 'y' 'y' 'y' 'y' 'n' 'n' 'n' 'y' 'n' 'y']     democrat     democrat\n",
      "['y' 'n' 'y' 'n' 'n' 'y' 'y' 'y' 'y' 'n' 'n' 'n' 'n' 'n' 'y' 'y']     democrat     democrat\n",
      "['n' 'n' 'n' 'y' 'n' 'n' 'y' 'y' 'y' 'y' 'n' 'n' 'y' 'y' 'n' 'y']   republican     democrat\n",
      "['n' 'n' 'n' 'y' 'y' 'y' 'y' 'y' 'y' 'y' 'n' 'y' 'y' 'y' 'n' 'y']   republican     democrat\n",
      "['n' 'y' 'n' 'y' 'y' 'y' 'n' 'n' 'n' 'n' 'n' 'y' 'y' 'y' 'n' 'y']   republican     democrat\n",
      "['n' 'n' 'n' 'n' 'n' 'n' 'y' 'y' 'y' 'y' 'n' 'y' 'y' 'y' 'y' 'y']     democrat     democrat\n",
      "['n' 'y' 'n' 'y' 'y' 'y' 'n' 'n' 'n' 'y' 'y' 'y' 'y' 'y' 'n' 'y']   republican     democrat\n",
      "['n' 'n' 'y' 'n' 'n' 'n' 'y' 'y' 'y' 'y' 'n' 'n' 'y' 'n' 'y' 'y']     democrat     democrat\n",
      "['y' 'y' 'n' 'y' 'y' 'y' 'n' 'n' 'n' 'y' 'n' 'y' 'y' 'y' 'n' 'y']   republican     democrat\n",
      "['n' 'y' 'y' 'n' 'n' 'y' 'n' 'y' 'y' 'y' 'y' 'n' 'y' 'n' 'y' 'y']     democrat     democrat\n",
      "['n' 'n' 'y' 'n' 'n' 'y' 'y' 'y' 'y' 'y' 'y' 'n' 'y' 'y' 'n' 'y']     democrat     democrat\n",
      "['n' 'y' 'n' 'y' 'y' 'y' 'n' 'n' 'n' 'n' 'n' 'y' 'y' 'y' 'n' 'n']   republican     democrat\n",
      "['y' 'y' 'n' 'y' 'y' 'y' 'y' 'n' 'n' 'n' 'n' 'y' 'y' 'y' 'n' 'n']   republican     democrat\n",
      "['n' 'y' 'n' 'y' 'y' 'y' 'n' 'n' 'n' 'y' 'n' 'y' 'y' 'y' 'n' 'n']   republican     democrat\n",
      "['n' 'y' 'n' 'n' 'y' 'y' 'n' 'n' 'n' 'n' 'n' 'y' 'y' 'y' 'y' 'y']     democrat     democrat\n",
      "['n' 'n' 'n' 'n' 'y' 'y' 'y' 'n' 'n' 'n' 'n' 'y' 'y' 'y' 'n' 'y']     democrat     democrat\n",
      "['n' 'y' 'y' 'n' 'y' 'y' 'y' 'n' 'n' 'n' 'y' 'y' 'y' 'y' 'n' 'y']     democrat     democrat\n",
      "['n' 'y' 'n' 'y' 'y' 'y' 'y' 'n' 'n' 'n' 'n' 'y' 'y' 'y' 'n' 'y']   republican     democrat\n",
      "['y' 'n' 'y' 'y' 'y' 'y' 'y' 'y' 'n' 'y' 'n' 'y' 'n' 'y' 'y' 'y']   republican     democrat\n",
      "['y' 'n' 'y' 'y' 'y' 'y' 'y' 'y' 'n' 'y' 'y' 'y' 'n' 'y' 'y' 'y']   republican     democrat\n",
      "['y' 'n' 'y' 'n' 'n' 'n' 'y' 'y' 'y' 'y' 'y' 'n' 'n' 'y' 'n' 'y']     democrat     democrat\n",
      "['n' 'n' 'n' 'n' 'y' 'y' 'n' 'n' 'n' 'y' 'y' 'y' 'y' 'y' 'n' 'y']     democrat     democrat\n",
      "['n' 'y' 'y' 'n' 'n' 'n' 'y' 'y' 'y' 'y' 'n' 'n' 'n' 'n' 'y' 'y']     democrat     democrat\n",
      "['n' 'n' 'y' 'y' 'n' 'n' 'y' 'y' 'y' 'y' 'n' 'n' 'n' 'y' 'y' 'y']   republican     democrat\n",
      "['y' 'n' 'y' 'n' 'n' 'n' 'y' 'y' 'y' 'y' 'n' 'n' 'n' 'n' 'y' 'y']     democrat     democrat\n",
      "['n' 'n' 'y' 'n' 'n' 'n' 'y' 'y' 'y' 'y' 'y' 'n' 'n' 'n' 'y' 'y']     democrat     democrat\n",
      "['n' 'n' 'y' 'n' 'n' 'n' 'y' 'y' 'y' 'y' 'y' 'n' 'n' 'n' 'y' 'y']     democrat     democrat\n",
      "['n' 'y' 'y' 'n' 'n' 'n' 'y' 'y' 'y' 'y' 'y' 'n' 'n' 'n' 'y' 'y']     democrat     democrat\n",
      "['y' 'n' 'y' 'n' 'n' 'n' 'y' 'y' 'y' 'n' 'n' 'n' 'n' 'n' 'y' 'y']     democrat     democrat\n",
      "['n' 'n' 'n' 'n' 'n' 'y' 'y' 'y' 'y' 'n' 'y' 'n' 'n' 'y' 'y' 'y']     democrat     democrat\n",
      "['n' 'n' 'y' 'n' 'n' 'n' 'y' 'y' 'y' 'n' 'n' 'n' 'n' 'n' 'y' 'y']     democrat     democrat\n",
      "['n' 'n' 'y' 'n' 'n' 'n' 'y' 'y' 'y' 'n' 'n' 'n' 'n' 'y' 'y' 'y']     democrat     democrat\n",
      "['y' 'y' 'y' 'n' 'n' 'n' 'y' 'y' 'y' 'n' 'n' 'n' 'n' 'n' 'y' 'y']     democrat     democrat\n",
      "['y' 'n' 'y' 'n' 'n' 'y' 'y' 'y' 'y' 'y' 'y' 'n' 'n' 'n' 'y' 'y']     democrat     democrat\n",
      "['y' 'n' 'y' 'n' 'n' 'n' 'y' 'y' 'y' 'y' 'n' 'n' 'n' 'n' 'y' 'y']     democrat     democrat\n",
      "['n' 'n' 'y' 'y' 'y' 'y' 'y' 'n' 'n' 'n' 'n' 'y' 'y' 'y' 'n' 'y']   republican     democrat\n",
      "['n' 'n' 'y' 'n' 'n' 'y' 'y' 'y' 'y' 'y' 'n' 'y' 'n' 'n' 'n' 'y']     democrat     democrat\n",
      "['n' 'n' 'n' 'y' 'y' 'y' 'n' 'n' 'n' 'y' 'n' 'y' 'n' 'y' 'n' 'y']   republican     democrat\n",
      "['y' 'y' 'y' 'n' 'n' 'n' 'y' 'y' 'y' 'y' 'y' 'n' 'n' 'n' 'n' 'y']     democrat     democrat\n",
      "['n' 'n' 'y' 'n' 'n' 'y' 'y' 'y' 'y' 'n' 'n' 'n' 'n' 'n' 'y' 'y']     democrat     democrat\n",
      "['n' 'y' 'n' 'y' 'y' 'y' 'n' 'n' 'n' 'y' 'n' 'y' 'y' 'y' 'n' 'y']   republican     democrat\n",
      "['n' 'n' 'y' 'n' 'n' 'n' 'y' 'y' 'y' 'n' 'y' 'n' 'n' 'n' 'y' 'y']     democrat     democrat\n",
      "['n' 'y' 'y' 'n' 'n' 'y' 'n' 'y' 'y' 'n' 'y' 'n' 'y' 'n' 'y' 'y']     democrat     democrat\n",
      "['y' 'y' 'n' 'y' 'y' 'y' 'n' 'n' 'n' 'y' 'n' 'y' 'y' 'y' 'n' 'y']   republican     democrat\n",
      "['n' 'y' 'n' 'y' 'y' 'y' 'n' 'n' 'n' 'y' 'n' 'y' 'y' 'y' 'n' 'n']   republican     democrat\n",
      "['n' 'y' 'y' 'n' 'n' 'n' 'n' 'y' 'y' 'n' 'y' 'n' 'n' 'y' 'y' 'y']     democrat     democrat\n",
      "['n' 'n' 'n' 'y' 'y' 'n' 'n' 'n' 'n' 'n' 'n' 'y' 'y' 'y' 'n' 'y']   republican     democrat\n",
      "['n' 'n' 'y' 'n' 'n' 'y' 'y' 'y' 'y' 'n' 'y' 'n' 'n' 'y' 'y' 'y']     democrat     democrat\n",
      "['n' 'y' 'y' 'y' 'y' 'y' 'y' 'n' 'y' 'y' 'n' 'y' 'y' 'y' 'n' 'y']   republican     democrat\n",
      "['n' 'y' 'n' 'y' 'y' 'y' 'n' 'n' 'n' 'n' 'n' 'y' 'y' 'y' 'n' 'y']   republican     democrat\n",
      "['n' 'y' 'n' 'y' 'y' 'y' 'n' 'n' 'y' 'y' 'n' 'y' 'y' 'y' 'n' 'y']   republican     democrat\n",
      "['n' 'y' 'n' 'y' 'y' 'y' 'n' 'n' 'n' 'y' 'n' 'y' 'y' 'y' 'n' 'y']   republican     democrat\n",
      "['n' 'n' 'n' 'y' 'y' 'y' 'n' 'n' 'n' 'y' 'n' 'y' 'n' 'y' 'n' 'y']   republican     democrat\n",
      "['n' 'n' 'y' 'n' 'n' 'n' 'y' 'y' 'y' 'n' 'n' 'n' 'n' 'n' 'y' 'y']     democrat     democrat\n",
      "['y' 'n' 'y' 'n' 'n' 'y' 'y' 'y' 'n' 'n' 'n' 'y' 'y' 'n' 'n' 'y']     democrat     democrat\n",
      "['n' 'n' 'n' 'y' 'y' 'y' 'y' 'n' 'n' 'y' 'n' 'n' 'n' 'y' 'y' 'y']   republican     democrat\n",
      "['y' 'n' 'y' 'n' 'n' 'n' 'y' 'y' 'y' 'y' 'y' 'n' 'n' 'y' 'y' 'y']     democrat     democrat\n",
      "['y' 'n' 'y' 'n' 'n' 'n' 'n' 'y' 'y' 'y' 'n' 'n' 'n' 'n' 'y' 'y']     democrat     democrat\n",
      "['y' 'n' 'y' 'n' 'n' 'n' 'y' 'y' 'y' 'y' 'y' 'n' 'n' 'n' 'y' 'y']     democrat     democrat\n",
      "['n' 'y' 'n' 'y' 'y' 'y' 'n' 'n' 'n' 'n' 'n' 'y' 'y' 'y' 'n' 'n']   republican     democrat\n",
      "['n' 'y' 'n' 'y' 'y' 'y' 'n' 'n' 'n' 'n' 'n' 'y' 'y' 'y' 'n' 'n']   republican     democrat\n",
      "['y' 'y' 'y' 'n' 'n' 'y' 'y' 'y' 'y' 'n' 'n' 'n' 'n' 'n' 'y' 'y']     democrat     democrat\n",
      "['n' 'y' 'n' 'y' 'y' 'y' 'n' 'n' 'n' 'n' 'n' 'y' 'y' 'y' 'n' 'y']   republican     democrat\n",
      "['y' 'n' 'y' 'n' 'n' 'n' 'y' 'y' 'y' 'y' 'n' 'n' 'n' 'n' 'n' 'y']     democrat     democrat\n",
      "['y' 'n' 'y' 'n' 'n' 'n' 'y' 'y' 'y' 'y' 'n' 'n' 'n' 'y' 'y' 'y']     democrat     democrat\n",
      "['n' 'n' 'n' 'y' 'y' 'n' 'n' 'n' 'n' 'n' 'n' 'y' 'n' 'y' 'n' 'n']   republican     democrat\n",
      "['n' 'n' 'y' 'n' 'n' 'n' 'y' 'y' 'y' 'n' 'y' 'n' 'n' 'n' 'y' 'y']     democrat     democrat\n",
      "['y' 'n' 'y' 'n' 'n' 'n' 'y' 'y' 'y' 'n' 'n' 'n' 'n' 'n' 'n' 'y']     democrat     democrat\n",
      "['y' 'n' 'y' 'n' 'n' 'n' 'y' 'y' 'y' 'y' 'n' 'n' 'n' 'n' 'n' 'y']     democrat     democrat\n",
      "['y' 'n' 'y' 'n' 'n' 'n' 'y' 'y' 'y' 'y' 'n' 'n' 'n' 'n' 'n' 'y']     democrat     democrat\n",
      "['n' 'n' 'n' 'y' 'y' 'y' 'n' 'n' 'n' 'y' 'n' 'y' 'n' 'y' 'n' 'y']   republican     democrat\n",
      "['y' 'n' 'n' 'n' 'n' 'n' 'y' 'y' 'y' 'y' 'n' 'n' 'n' 'y' 'n' 'y']   republican     democrat\n",
      "['y' 'n' 'y' 'n' 'n' 'n' 'y' 'y' 'y' 'n' 'n' 'n' 'n' 'n' 'n' 'y']     democrat     democrat\n",
      "['y' 'y' 'y' 'n' 'n' 'n' 'y' 'y' 'y' 'n' 'n' 'n' 'n' 'n' 'y' 'y']     democrat     democrat\n",
      "['y' 'n' 'n' 'y' 'y' 'n' 'y' 'n' 'n' 'y' 'n' 'n' 'n' 'y' 'y' 'y']   republican     democrat\n",
      "['n' 'n' 'n' 'y' 'y' 'y' 'n' 'n' 'n' 'n' 'n' 'y' 'y' 'y' 'y' 'n']   republican     democrat\n",
      "['n' 'n' 'y' 'y' 'y' 'y' 'y' 'y' 'n' 'y' 'n' 'n' 'n' 'y' 'n' 'y']   republican     democrat\n",
      "['n' 'n' 'n' 'y' 'y' 'y' 'n' 'n' 'n' 'n' 'n' 'y' 'y' 'y' 'n' 'y']   republican     democrat\n",
      "['n' 'n' 'n' 'y' 'y' 'y' 'n' 'n' 'n' 'y' 'n' 'y' 'y' 'y' 'n' 'n']   republican     democrat\n",
      "['n' 'n' 'y' 'n' 'n' 'n' 'y' 'y' 'y' 'y' 'n' 'n' 'n' 'y' 'n' 'y']     democrat     democrat\n",
      "['n' 'n' 'n' 'y' 'y' 'y' 'n' 'n' 'n' 'n' 'n' 'y' 'y' 'y' 'n' 'y']   republican     democrat\n",
      "['n' 'n' 'y' 'n' 'n' 'y' 'y' 'y' 'y' 'y' 'y' 'n' 'n' 'n' 'y' 'y']     democrat     democrat\n",
      "['y' 'y' 'y' 'n' 'y' 'y' 'n' 'y' 'n' 'y' 'y' 'n' 'y' 'y' 'y' 'y']     democrat     democrat\n",
      "['y' 'n' 'y' 'n' 'n' 'y' 'y' 'y' 'n' 'y' 'y' 'n' 'y' 'y' 'y' 'y']     democrat     democrat\n",
      "['y' 'y' 'y' 'n' 'n' 'y' 'y' 'y' 'y' 'y' 'y' 'n' 'y' 'y' 'y' 'y']     democrat     democrat\n",
      "['n' 'n' 'y' 'y' 'y' 'y' 'n' 'n' 'n' 'y' 'n' 'y' 'y' 'y' 'y' 'y']   republican     democrat\n",
      "['n' 'y' 'n' 'n' 'n' 'n' 'y' 'y' 'y' 'y' 'y' 'n' 'n' 'n' 'y' 'y']     democrat     democrat\n",
      "['n' 'y' 'y' 'n' 'n' 'y' 'y' 'y' 'y' 'y' 'n' 'n' 'y' 'y' 'y' 'y']     democrat     democrat\n",
      "['n' 'n' 'n' 'y' 'y' 'n' 'y' 'y' 'y' 'y' 'n' 'y' 'y' 'y' 'n' 'y']   republican     democrat\n",
      "['n' 'n' 'n' 'y' 'y' 'y' 'y' 'n' 'n' 'y' 'n' 'y' 'y' 'y' 'n' 'y']   republican     democrat\n",
      "['n' 'n' 'n' 'y' 'y' 'y' 'n' 'n' 'n' 'n' 'n' 'y' 'y' 'y' 'n' 'n']   republican     democrat\n",
      "['n' 'n' 'n' 'y' 'y' 'y' 'n' 'n' 'n' 'y' 'n' 'y' 'y' 'y' 'n' 'n']   republican     democrat\n",
      "['n' 'n' 'n' 'y' 'y' 'y' 'n' 'n' 'n' 'n' 'n' 'y' 'y' 'y' 'n' 'n']   republican     democrat\n",
      "['n' 'n' 'n' 'y' 'y' 'y' 'n' 'n' 'n' 'y' 'n' 'y' 'y' 'y' 'n' 'n']   republican     democrat\n",
      "['y' 'n' 'n' 'n' 'n' 'y' 'y' 'y' 'y' 'y' 'n' 'n' 'n' 'y' 'y' 'y']     democrat     democrat\n",
      "['n' 'n' 'n' 'y' 'y' 'y' 'n' 'n' 'n' 'y' 'n' 'y' 'y' 'y' 'y' 'n']   republican     democrat\n",
      "['n' 'n' 'y' 'n' 'n' 'y' 'y' 'y' 'y' 'y' 'n' 'n' 'y' 'n' 'n' 'y']     democrat     democrat\n",
      "['y' 'y' 'y' 'n' 'n' 'n' 'y' 'y' 'y' 'y' 'n' 'n' 'n' 'n' 'y' 'y']     democrat     democrat\n",
      "['n' 'y' 'y' 'y' 'y' 'y' 'n' 'n' 'n' 'y' 'n' 'y' 'y' 'y' 'n' 'y']   republican     democrat\n",
      "['n' 'y' 'n' 'y' 'y' 'y' 'y' 'y' 'n' 'n' 'y' 'y' 'y' 'y' 'y' 'y']   republican     democrat\n",
      "['n' 'n' 'n' 'n' 'n' 'y' 'n' 'y' 'y' 'n' 'y' 'y' 'y' 'y' 'y' 'n']     democrat     democrat\n",
      "['y' 'n' 'n' 'n' 'n' 'n' 'y' 'y' 'y' 'y' 'n' 'n' 'n' 'n' 'y' 'y']     democrat     democrat\n",
      "['n' 'y' 'y' 'n' 'n' 'y' 'n' 'y' 'y' 'y' 'n' 'n' 'y' 'y' 'n' 'y']     democrat     democrat\n",
      "['y' 'y' 'y' 'n' 'n' 'n' 'y' 'y' 'y' 'y' 'n' 'n' 'y' 'n' 'n' 'y']     democrat     democrat\n",
      "['n' 'y' 'n' 'y' 'y' 'y' 'n' 'n' 'n' 'n' 'y' 'y' 'y' 'y' 'n' 'n']   republican     democrat\n",
      "['y' 'y' 'n' 'y' 'n' 'n' 'y' 'y' 'y' 'n' 'y' 'n' 'n' 'y' 'n' 'y']     democrat     democrat\n",
      "['n' 'y' 'n' 'y' 'y' 'y' 'n' 'n' 'n' 'n' 'n' 'y' 'y' 'y' 'n' 'y']   republican     democrat\n",
      "['y' 'y' 'y' 'n' 'n' 'n' 'y' 'y' 'y' 'n' 'y' 'n' 'n' 'n' 'n' 'y']     democrat     democrat\n",
      "['n' 'y' 'n' 'y' 'y' 'y' 'n' 'n' 'n' 'y' 'n' 'y' 'y' 'y' 'n' 'n']   republican     democrat\n",
      "['n' 'n' 'y' 'n' 'n' 'n' 'y' 'y' 'y' 'n' 'n' 'n' 'n' 'n' 'y' 'y']     democrat     democrat\n",
      "['y' 'n' 'y' 'n' 'n' 'n' 'y' 'y' 'y' 'n' 'n' 'n' 'n' 'n' 'y' 'y']     democrat     democrat\n",
      "['y' 'n' 'y' 'n' 'n' 'n' 'y' 'y' 'y' 'y' 'n' 'n' 'n' 'y' 'y' 'y']     democrat     democrat\n",
      "['y' 'n' 'n' 'y' 'y' 'y' 'n' 'n' 'n' 'n' 'y' 'y' 'y' 'y' 'n' 'n']   republican     democrat\n",
      "['n' 'n' 'n' 'y' 'y' 'y' 'n' 'n' 'n' 'y' 'y' 'y' 'n' 'y' 'n' 'y']   republican     democrat\n",
      "['n' 'n' 'n' 'y' 'y' 'n' 'y' 'n' 'y' 'y' 'n' 'n' 'n' 'y' 'n' 'y']   republican     democrat\n",
      "['n' 'n' 'y' 'n' 'n' 'n' 'y' 'y' 'y' 'y' 'y' 'n' 'n' 'n' 'y' 'y']     democrat     democrat\n",
      "['n' 'n' 'n' 'y' 'y' 'y' 'y' 'n' 'n' 'y' 'n' 'y' 'n' 'y' 'y' 'y']   republican     democrat\n",
      "['n' 'n' 'n' 'y' 'y' 'y' 'n' 'n' 'n' 'y' 'n' 'y' 'y' 'y' 'n' 'y']   republican     democrat\n",
      "['y' 'n' 'n' 'y' 'y' 'y' 'n' 'n' 'n' 'y' 'n' 'y' 'y' 'y' 'n' 'n']   republican     democrat\n",
      "['n' 'y' 'y' 'y' 'y' 'y' 'y' 'y' 'y' 'n' 'n' 'y' 'y' 'y' 'n' 'y']   republican     democrat\n",
      "['n' 'y' 'n' 'n' 'n' 'y' 'y' 'n' 'y' 'n' 'y' 'n' 'n' 'n' 'y' 'y']     democrat     democrat\n",
      "['n' 'n' 'y' 'y' 'y' 'y' 'y' 'y' 'y' 'y' 'n' 'y' 'y' 'y' 'y' 'y']   republican     democrat\n",
      "['n' 'n' 'y' 'y' 'y' 'y' 'y' 'n' 'n' 'y' 'y' 'y' 'y' 'y' 'n' 'y']   republican     democrat\n",
      "['y' 'n' 'y' 'y' 'n' 'n' 'n' 'y' 'y' 'y' 'n' 'n' 'n' 'y' 'y' 'y']   republican     democrat\n",
      "['n' 'n' 'n' 'y' 'y' 'y' 'n' 'n' 'n' 'n' 'n' 'y' 'y' 'y' 'n' 'n']   republican     democrat\n",
      "['n' 'n' 'n' 'y' 'y' 'y' 'n' 'n' 'n' 'n' 'n' 'y' 'y' 'y' 'n' 'n']   republican     democrat\n",
      "['y' 'n' 'y' 'n' 'n' 'y' 'y' 'y' 'y' 'y' 'n' 'n' 'y' 'n' 'n' 'y']     democrat     democrat\n",
      "['y' 'y' 'y' 'n' 'n' 'y' 'y' 'y' 'y' 'y' 'y' 'y' 'y' 'n' 'n' 'y']     democrat     democrat\n",
      "['y' 'y' 'n' 'y' 'y' 'y' 'n' 'n' 'n' 'y' 'y' 'n' 'y' 'n' 'n' 'n']   republican     democrat\n",
      "['y' 'y' 'n' 'y' 'y' 'y' 'n' 'n' 'n' 'n' 'y' 'n' 'y' 'y' 'n' 'y']   republican     democrat\n",
      "['n' 'y' 'n' 'n' 'y' 'y' 'n' 'n' 'n' 'y' 'y' 'n' 'y' 'y' 'n' 'n']     democrat     democrat\n",
      "['n' 'y' 'y' 'n' 'n' 'y' 'y' 'y' 'n' 'y' 'n' 'n' 'n' 'n' 'y' 'y']     democrat     democrat\n",
      "['n' 'y' 'n' 'y' 'y' 'y' 'n' 'n' 'n' 'n' 'n' 'n' 'y' 'y' 'n' 'y']   republican     democrat\n",
      "['n' 'y' 'n' 'y' 'y' 'y' 'n' 'n' 'n' 'n' 'n' 'y' 'y' 'y' 'n' 'y']   republican     democrat\n",
      "['n' 'y' 'n' 'y' 'y' 'y' 'n' 'n' 'n' 'n' 'y' 'y' 'n' 'y' 'n' 'n']     democrat     democrat\n",
      "['n' 'n' 'n' 'y' 'y' 'y' 'n' 'n' 'n' 'n' 'n' 'y' 'y' 'y' 'n' 'y']   republican     democrat\n",
      "['n' 'n' 'n' 'y' 'y' 'y' 'n' 'n' 'n' 'n' 'n' 'y' 'y' 'y' 'n' 'y']   republican     democrat\n",
      "['y' 'y' 'y' 'n' 'y' 'y' 'n' 'y' 'y' 'y' 'y' 'n' 'n' 'n' 'n' 'y']     democrat     democrat\n",
      "['y' 'y' 'y' 'y' 'y' 'y' 'n' 'n' 'n' 'n' 'y' 'y' 'y' 'y' 'n' 'y']     democrat     democrat\n",
      "['y' 'y' 'n' 'n' 'y' 'y' 'n' 'n' 'n' 'n' 'y' 'y' 'y' 'y' 'y' 'n']     democrat     democrat\n",
      "['y' 'y' 'n' 'n' 'n' 'n' 'n' 'y' 'y' 'n' 'y' 'n' 'n' 'n' 'y' 'n']     democrat     democrat\n",
      "['y' 'y' 'n' 'y' 'y' 'y' 'n' 'n' 'n' 'n' 'y' 'y' 'y' 'y' 'n' 'y']   republican     democrat\n",
      "['y' 'y' 'y' 'n' 'y' 'y' 'n' 'y' 'n' 'n' 'y' 'n' 'y' 'n' 'y' 'y']     democrat     democrat\n",
      "['n' 'y' 'y' 'n' 'y' 'y' 'n' 'y' 'n' 'n' 'n' 'n' 'n' 'n' 'n' 'y']     democrat     democrat\n",
      "['n' 'y' 'n' 'y' 'y' 'y' 'n' 'n' 'n' 'y' 'y' 'y' 'y' 'y' 'n' 'n']   republican     democrat\n",
      "['y' 'y' 'n' 'y' 'y' 'y' 'n' 'n' 'n' 'y' 'n' 'y' 'y' 'y' 'n' 'y']   republican     democrat\n",
      "['n' 'n' 'n' 'y' 'y' 'y' 'n' 'n' 'n' 'n' 'n' 'y' 'y' 'y' 'n' 'y']   republican     democrat\n",
      "['y' 'n' 'y' 'n' 'y' 'y' 'n' 'n' 'y' 'y' 'n' 'n' 'y' 'y' 'n' 'y']     democrat     democrat\n",
      "['n' 'n' 'n' 'y' 'y' 'y' 'n' 'n' 'n' 'n' 'y' 'y' 'y' 'y' 'n' 'n']     democrat     democrat\n",
      "['n' 'n' 'n' 'y' 'y' 'y' 'n' 'n' 'n' 'n' 'n' 'y' 'y' 'y' 'n' 'n']   republican     democrat\n",
      "['n' 'n' 'n' 'y' 'y' 'y' 'n' 'n' 'n' 'n' 'y' 'y' 'y' 'y' 'n' 'y']   republican     democrat\n",
      "['y' 'n' 'y' 'n' 'n' 'y' 'y' 'y' 'y' 'y' 'y' 'n' 'n' 'n' 'n' 'y']     democrat     democrat\n",
      "['n' 'n' 'n' 'y' 'y' 'y' 'n' 'n' 'n' 'y' 'n' 'y' 'y' 'y' 'n' 'y']   republican     democrat\n",
      "['y' 'y' 'y' 'n' 'n' 'n' 'y' 'y' 'y' 'n' 'n' 'n' 'n' 'n' 'n' 'y']     democrat     democrat\n",
      "['y' 'y' 'n' 'y' 'y' 'y' 'n' 'n' 'n' 'y' 'n' 'n' 'y' 'y' 'n' 'y']   republican     democrat\n",
      "['y' 'y' 'y' 'n' 'n' 'n' 'y' 'y' 'y' 'y' 'y' 'n' 'y' 'n' 'n' 'y']     democrat     democrat\n",
      "['y' 'y' 'y' 'n' 'n' 'n' 'y' 'y' 'n' 'y' 'n' 'n' 'n' 'n' 'n' 'y']     democrat     democrat\n",
      "['y' 'y' 'y' 'n' 'n' 'n' 'y' 'y' 'y' 'n' 'n' 'n' 'n' 'n' 'n' 'y']     democrat     democrat\n",
      "['y' 'y' 'y' 'y' 'y' 'y' 'y' 'y' 'n' 'y' 'n' 'n' 'y' 'y' 'n' 'y']   republican     democrat\n",
      "['n' 'y' 'y' 'n' 'y' 'y' 'y' 'y' 'n' 'n' 'y' 'n' 'y' 'n' 'y' 'y']     democrat     democrat\n",
      "['n' 'n' 'y' 'n' 'n' 'y' 'y' 'y' 'y' 'n' 'y' 'n' 'n' 'n' 'y' 'y']     democrat     democrat\n",
      "['n' 'y' 'y' 'n' 'n' 'y' 'y' 'y' 'y' 'n' 'y' 'n' 'n' 'y' 'y' 'y']     democrat     democrat\n",
      "['y' 'n' 'y' 'n' 'n' 'n' 'y' 'y' 'y' 'y' 'n' 'n' 'n' 'n' 'y' 'y']     democrat     democrat\n",
      "['n' 'n' 'n' 'y' 'y' 'y' 'y' 'y' 'n' 'y' 'n' 'y' 'y' 'y' 'n' 'y']   republican     democrat\n",
      "['n' 'n' 'y' 'y' 'y' 'y' 'n' 'n' 'y' 'y' 'n' 'y' 'y' 'y' 'n' 'y']   republican     democrat\n",
      "['n' 'n' 'y' 'n' 'n' 'n' 'y' 'y' 'y' 'y' 'n' 'n' 'n' 'n' 'n' 'y']     democrat     democrat\n"
     ]
    }
   ],
   "source": [
    "# import run_decision_tree\n",
    "\n",
    "# run_decision_tree.test_tree('../data/congressional_voting.csv')\n",
    "\n",
    "\n",
    "# y = df.pop('Result').values\n",
    "y = df.values[:,0]\n",
    "X = df.values[:,1:]\n",
    "print(X)\n",
    "\n",
    "tree = DecisionTree()\n",
    "tree.fit(X, y, df.columns)\n",
    "print(tree)\n",
    "print\n",
    "\n",
    "y_predict = tree.predict(X)\n",
    "print('%26s   %10s   %10s' % (\"FEATURES\", \"ACTUAL\", \"PREDICTED\"))\n",
    "print('%26s   %10s   %10s' % (\"----------\", \"----------\", \"----------\"))\n",
    "for features, true, predicted in zip(X, y, y_predict):\n",
    "    print('%26s   %10s   %10s' % (str(features), str(true), str(predicted)))"
   ]
  },
  {
   "cell_type": "code",
   "execution_count": 18,
   "metadata": {
    "collapsed": false
   },
   "outputs": [
    {
     "data": {
      "text/plain": [
       "0.51724137931034486"
      ]
     },
     "execution_count": 18,
     "metadata": {},
     "output_type": "execute_result"
    }
   ],
   "source": [
    "tree.score(X_test, y_test)"
   ]
  },
  {
   "cell_type": "code",
   "execution_count": 66,
   "metadata": {
    "collapsed": false,
    "scrolled": true
   },
   "outputs": [
    {
     "name": "stderr",
     "output_type": "stream",
     "text": [
      "/Users/justw/OneDrive/gU/DSCI6003-student/week5/5.2/rf_practicum/RandomForest.py:60: VisibleDeprecationWarning: using a non-integer number instead of an integer will result in an error in the future\n",
      "  idx_1 = np.random.choice(range(len(X)), size=num_samples, replace=True)\n",
      "/Users/justw/OneDrive/gU/DSCI6003-student/week5/5.2/rf_practicum/RandomForest.py:66: VisibleDeprecationWarning: using a non-integer number instead of an integer will result in an error in the future\n",
      "  y_sample = np.random.choice(y, size=num_samples, replace=True)\n"
     ]
    },
    {
     "name": "stdout",
     "output_type": "stream",
     "text": [
      "['democrat' 'democrat' 'democrat' 'democrat' 'democrat' 'democrat'\n",
      " 'democrat' 'democrat' 'democrat' 'democrat' 'democrat' 'democrat'\n",
      " 'democrat' 'democrat' 'democrat' 'democrat' 'republican' 'democrat'\n",
      " 'republican' 'democrat' 'democrat' 'democrat' 'democrat' 'democrat'\n",
      " 'democrat' 'democrat' 'democrat' 'democrat' 'democrat' 'democrat'\n",
      " 'democrat' 'democrat' 'democrat' 'democrat' 'democrat' 'republican'\n",
      " 'democrat' 'democrat' 'democrat' 'democrat' 'democrat' 'democrat'\n",
      " 'democrat' 'democrat' 'democrat' 'democrat' 'democrat' 'democrat'\n",
      " 'democrat' 'democrat' 'democrat' 'democrat' 'democrat' 'democrat'\n",
      " 'democrat' 'democrat' 'democrat' 'democrat' 'democrat' 'democrat'\n",
      " 'democrat' 'democrat' 'democrat' 'democrat' 'democrat' 'democrat'\n",
      " 'republican' 'democrat' 'democrat' 'democrat' 'democrat' 'democrat'\n",
      " 'democrat' 'democrat' 'democrat' 'democrat' 'democrat' 'democrat'\n",
      " 'democrat' 'democrat' 'democrat' 'democrat' 'democrat' 'democrat'\n",
      " 'democrat' 'democrat' 'democrat' 'democrat' 'democrat' 'republic'\n",
      " 'democrat' 'democrat' 'democrat' 'democrat' 'democrat' 'democrat'\n",
      " 'democrat' 'democrat' 'democrat' 'democrat' 'democrat' 'democrat'\n",
      " 'democrat' 'democrat' 'democrat' 'democrat' 'democrat' 'republic'\n",
      " 'democrat' 'democrat' 'democrat' 'democrat' 'democrat' 'democrat'\n",
      " 'democrat' 'democrat' 'democrat' 'democrat' 'democrat' 'republican'\n",
      " 'democrat' 'democrat' 'democrat' 'democrat' 'democrat' 'democrat'\n",
      " 'democrat' 'democrat' 'democrat' 'democrat' 'democrat' 'democrat'\n",
      " 'democrat' 'democrat' 'democrat' 'democrat' 'democrat' 'democrat'\n",
      " 'democrat' 'democrat' 'democrat' 'democrat' 'democrat' 'democrat'\n",
      " 'democrat' 'democrat' 'democrat' 'democrat' 'democrat' 'democrat'\n",
      " 'democrat' 'democrat' 'democrat' 'democrat' 'democrat' 'democrat'\n",
      " 'democrat' 'democrat' 'democrat' 'democrat' 'democrat' 'democrat'\n",
      " 'democrat' 'democrat' 'democrat' 'democrat' 'democrat' 'democrat'\n",
      " 'democrat' 'democrat' 'democrat' 'democrat' 'democrat' 'democrat']\n",
      "\n",
      "score:\n",
      "0.568965517241\n"
     ]
    }
   ],
   "source": [
    "from RandomForest import RandomForest\n",
    "\n",
    "X_train, X_test, y_train, y_test = train_test_split(X, y)\n",
    "\n",
    "rf = RandomForest(num_trees = 10, num_features = 5)\n",
    "\n",
    "rf.fit(X_train, y_train)\n",
    "\n",
    "print(rf.predict(X_train))\n",
    "\n",
    "print(\"\\nscore:\")\n",
    "print(rf.score(X_test, y_test))"
   ]
  },
  {
   "cell_type": "markdown",
   "metadata": {},
   "source": [
    "Compare how well the Random Forest does versus the Decision Tree.\n",
    "\n",
    "Accuracy will depend on the which features were randomly chosen.\n",
    "\n",
    "Try modifying the number of trees and see how it affects your accuracy.\n",
    "\n",
    "It's like taking sample means - as you take more trees and average the scores, the accuracy approaches an asymtotic value.\n",
    "\n",
    "Calculate the accuracy for each of your decision trees on the test set and compare it to the accuracy of the random forest on the test set.\n",
    "\n",
    "Ok, sometimes the random forest is better, sometimes it is worse.\n",
    "\n",
    "Predict how the congressmen will vote on a particular issue given the remaining columns.\n",
    "\n",
    "This is a whole other lab. - it's a classification problem, you can use logistic regression or KNN or decision trees."
   ]
  },
  {
   "cell_type": "markdown",
   "metadata": {},
   "source": [
    "### Extra Credit: out-of-bag error and feature importance\n",
    "\n",
    "1. Out-of-bag error is a clever way of validating your model by testing individual trees based on samples that weren't including in their training set. It is described in the lecture notes, [Applied Data Science](http://columbia-applied-data-science.github.io/appdatasci.pdf) (9.4.3) and [Breiman's notes](http://www.stat.berkeley.edu/~breiman/RandomForests/cc_home.htm#ooberr).\n",
    "\n",
    "2. Feature importance is a way of determining which features contribute the most to being able to predict the result. It is discussed in the lecture notes and [Breiman's notes](http://www.stat.berkeley.edu/~breiman/RandomForests/cc_home.htm#varimp). You can compare what features you get with Breiman's method vs [sklearn](http://scikit-learn.org/stable/modules/ensemble.html#feature-importance-evaluation)."
   ]
  },
  {
   "cell_type": "code",
   "execution_count": null,
   "metadata": {
    "collapsed": true
   },
   "outputs": [],
   "source": []
  },
  {
   "cell_type": "code",
   "execution_count": null,
   "metadata": {
    "collapsed": true
   },
   "outputs": [],
   "source": []
  }
 ],
 "metadata": {
  "anaconda-cloud": {},
  "kernelspec": {
   "display_name": "Python [conda root]",
   "language": "python",
   "name": "conda-root-py"
  },
  "language_info": {
   "codemirror_mode": {
    "name": "ipython",
    "version": 3
   },
   "file_extension": ".py",
   "mimetype": "text/x-python",
   "name": "python",
   "nbconvert_exporter": "python",
   "pygments_lexer": "ipython3",
   "version": "3.5.2"
  }
 },
 "nbformat": 4,
 "nbformat_minor": 0
}
