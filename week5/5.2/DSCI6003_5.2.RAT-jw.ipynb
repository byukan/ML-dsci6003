{
 "cells": [
  {
   "cell_type": "markdown",
   "metadata": {},
   "source": [
    "##RAT 5.2"
   ]
  },
  {
   "cell_type": "markdown",
   "metadata": {},
   "source": [
    "- Write a description of Decision Trees\n",
    "- Describe use cases, weaknesses and strengths of Decision Trees\n",
    "- Describe the similarities, differences and use of Gini index and Entropy in the Construction of Decision Trees"
   ]
  },
  {
   "cell_type": "markdown",
   "metadata": {},
   "source": [
    "decision trees are structures to determine an outcome - for example, we check various options on whether to play or not play based on the wether by following paths down a tree.\n",
    "\n",
    "use cases - a classification technique that better tells you why a perticular result was reached\n",
    "\n",
    "strengths:\n",
    " - interpretable\n",
    " - handles missing values\n",
    " - computationally cheap to predict\n",
    " - can handle irrelevant features\n",
    " - incorporates mixed data\n",
    " \n",
    "weaknesses:\n",
    " - expensive to train\n",
    " - local optima\n",
    " - prone to overfitting"
   ]
  },
  {
   "cell_type": "markdown",
   "metadata": {},
   "source": [
    "Gini impurity measures how often a randomly chosen element from the set would be incorrectly labeled if it was randomly labeled according to the labels in the subset.\n",
    "\n",
    "entropy - The entropy of a set is a measure of the amount of disorder. Intuitively, if a set has all the same labels, that'll have low entropy and if it has a mix of labels, that's high entropy. We would like to create splits that minimize the entropy in each size. If our splits do a good job splitting along the boundary between classes, they have more predictive power."
   ]
  },
  {
   "cell_type": "markdown",
   "metadata": {},
   "source": [
    "different calculations that often give similar results"
   ]
  }
 ],
 "metadata": {
  "anaconda-cloud": {},
  "kernelspec": {
   "display_name": "Python [conda root]",
   "language": "python",
   "name": "conda-root-py"
  },
  "language_info": {
   "codemirror_mode": {
    "name": "ipython",
    "version": 3
   },
   "file_extension": ".py",
   "mimetype": "text/x-python",
   "name": "python",
   "nbconvert_exporter": "python",
   "pygments_lexer": "ipython3",
   "version": "3.5.2"
  }
 },
 "nbformat": 4,
 "nbformat_minor": 0
}
