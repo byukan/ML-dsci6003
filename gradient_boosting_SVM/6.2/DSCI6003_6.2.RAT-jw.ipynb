{
 "cells": [
  {
   "cell_type": "markdown",
   "metadata": {},
   "source": [
    "### RAT 6.2"
   ]
  },
  {
   "cell_type": "markdown",
   "metadata": {},
   "source": [
    "- Describe the basic algorithms for Ada Boosting\n",
    "- Describe use cases for Ada Boosting"
   ]
  },
  {
   "cell_type": "markdown",
   "metadata": {
    "collapsed": false
   },
   "source": [
    "adaptive boosting retrains a model by increasing the weight of incorrect results from previous iterations.  It is as though the row that was incorrectly labeled gets accounted for twice in the training data.  It's a little unintuitive, but this technique does not make the model more prone to overfitting.\n",
    "\n",
    "Use Ada Boosting if you want more accurate classification results or regression."
   ]
  }
 ],
 "metadata": {
  "anaconda-cloud": {},
  "kernelspec": {
   "display_name": "Python [conda env:nlp]",
   "language": "python",
   "name": "conda-env-nlp-py"
  },
  "language_info": {
   "codemirror_mode": {
    "name": "ipython",
    "version": 3
   },
   "file_extension": ".py",
   "mimetype": "text/x-python",
   "name": "python",
   "nbconvert_exporter": "python",
   "pygments_lexer": "ipython3",
   "version": "3.5.2"
  }
 },
 "nbformat": 4,
 "nbformat_minor": 0
}
