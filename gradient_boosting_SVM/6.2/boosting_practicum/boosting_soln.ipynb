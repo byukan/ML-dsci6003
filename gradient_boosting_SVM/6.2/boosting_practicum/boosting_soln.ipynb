{
 "cells": [
  {
   "cell_type": "code",
   "execution_count": 1,
   "metadata": {
    "collapsed": false
   },
   "outputs": [
    {
     "name": "stderr",
     "output_type": "stream",
     "text": [
      "/Users/justw/anaconda/envs/nlp/lib/python3.5/site-packages/sklearn/cross_validation.py:44: DeprecationWarning: This module was deprecated in version 0.18 in favor of the model_selection module into which all the refactored classes and functions are moved. Also note that the interface of the new CV iterators are different from that of this module. This module will be removed in 0.20.\n",
      "  \"This module will be removed in 0.20.\", DeprecationWarning)\n",
      "/Users/justw/anaconda/envs/nlp/lib/python3.5/site-packages/sklearn/grid_search.py:43: DeprecationWarning: This module was deprecated in version 0.18 in favor of the model_selection module into which all the refactored classes and functions are moved. This module will be removed in 0.20.\n",
      "  DeprecationWarning)\n"
     ]
    }
   ],
   "source": [
    "from sklearn.tree import DecisionTreeRegressor\n",
    "from sklearn.ensemble import RandomForestRegressor\n",
    "from sklearn.ensemble import GradientBoostingRegressor\n",
    "from sklearn.ensemble import AdaBoostRegressor\n",
    "from sklearn.datasets import load_boston\n",
    "from sklearn.cross_validation import train_test_split, cross_val_score\n",
    "from sklearn.grid_search import GridSearchCV\n",
    "from sklearn.metrics import mean_squared_error, r2_score\n",
    "from sklearn.ensemble.partial_dependence import plot_partial_dependence\n",
    "import matplotlib.pyplot as plt\n",
    "%matplotlib inline\n",
    "import numpy as np"
   ]
  },
  {
   "cell_type": "code",
   "execution_count": 2,
   "metadata": {
    "collapsed": false
   },
   "outputs": [],
   "source": [
    "boston = load_boston()"
   ]
  },
  {
   "cell_type": "code",
   "execution_count": 3,
   "metadata": {
    "collapsed": false
   },
   "outputs": [
    {
     "ename": "SyntaxError",
     "evalue": "Missing parentheses in call to 'print' (<ipython-input-3-0a1479e6c04b>, line 5)",
     "output_type": "error",
     "traceback": [
      "\u001b[0;36m  File \u001b[0;32m\"<ipython-input-3-0a1479e6c04b>\"\u001b[0;36m, line \u001b[0;32m5\u001b[0m\n\u001b[0;31m    print 'Train x Shape:', train_x.shape\u001b[0m\n\u001b[0m                         ^\u001b[0m\n\u001b[0;31mSyntaxError\u001b[0m\u001b[0;31m:\u001b[0m Missing parentheses in call to 'print'\n"
     ]
    }
   ],
   "source": [
    "y = boston.target\n",
    "x = boston.data\n",
    "train_x, test_x, train_y, test_y = train_test_split(x, y, test_size=.2, random_state=1)\n",
    "\n",
    "print 'Train x Shape:', train_x.shape\n",
    "print 'Test x Shape:', test_x.shape\n",
    "col_names = boston.feature_names\n",
    "print col_names"
   ]
  },
  {
   "cell_type": "code",
   "execution_count": null,
   "metadata": {
    "collapsed": false
   },
   "outputs": [],
   "source": [
    "def cross_val(estimator, train_x, train_y):\n",
    "    # n_jobs=-1 uses all the cores on your machine\n",
    "    mse = cross_val_score(estimator, train_x, train_y,\n",
    "                           scoring='mean_squared_error',\n",
    "                           cv=10, n_jobs=-1) * -1\n",
    "    r2 = cross_val_score(estimator, train_x, train_y,\n",
    "                           scoring='r2', cv=10, n_jobs=-1)Y\n",
    "\n",
    "    mean_mse = mse.mean()\n",
    "    mean_r2 = r2.mean()\n",
    "        \n",
    "    params = estimator.get_params()\n",
    "    name = estimator.__class__.__name__\n",
    "    print '%s Train CV | MSE: %.3f | R2: %.3f' % (name, mean_mse, mean_r2) \n",
    "    return mean_mse, mean_r2"
   ]
  },
  {
   "cell_type": "code",
   "execution_count": null,
   "metadata": {
    "collapsed": false
   },
   "outputs": [],
   "source": [
    "rf = RandomForestRegressor(n_estimators=100, n_jobs=-1, random_state=1)\n",
    "\n",
    "gdbr = GradientBoostingRegressor(learning_rate=0.1, loss='ls',\n",
    "                                 n_estimators=100, random_state=1)\n",
    "\n",
    "abr = AdaBoostRegressor(DecisionTreeRegressor(), learning_rate=0.1,\n",
    "                        loss='linear', n_estimators=100, random_state=1)"
   ]
  },
  {
   "cell_type": "code",
   "execution_count": null,
   "metadata": {
    "collapsed": false
   },
   "outputs": [],
   "source": [
    "cross_val(rf, train_x, train_y)\n",
    "cross_val(gdbr, train_x, train_y)\n",
    "cross_val(abr, train_x, train_y)"
   ]
  },
  {
   "cell_type": "code",
   "execution_count": null,
   "metadata": {
    "collapsed": false
   },
   "outputs": [],
   "source": [
    "rf.fit(train_x, train_y)\n",
    "gdbr.fit(train_x, train_y)\n",
    "abr.fit(train_x, train_y)"
   ]
  },
  {
   "cell_type": "code",
   "execution_count": null,
   "metadata": {
    "collapsed": false
   },
   "outputs": [],
   "source": [
    "def rf_score_plot():\n",
    "    rf_test_y_pred = rf.predict(test_x)\n",
    "    test_mse = mean_squared_error(rf_test_y_pred, test_y)\n",
    "    plt.axhline(test_mse, alpha=.7, c='y' , lw=3, ls='-.', label='Random Forest Test')"
   ]
  },
  {
   "cell_type": "code",
   "execution_count": null,
   "metadata": {
    "collapsed": false
   },
   "outputs": [],
   "source": [
    "def stage_score_plot(estimator, train_x, train_y, test_x, test_y):\n",
    "    name = estimator.__class__.__name__.replace('Regressor', '')\n",
    "    learn_rate = estimator.learning_rate\n",
    "    \n",
    "    train_scores = np.zeros((estimator.n_estimators,), dtype=np.float64)\n",
    "    test_scores = np.zeros((estimator.n_estimators,), dtype=np.float64)\n",
    "    \n",
    "    # Get train score from each boost\n",
    "    for i, train_y_pred in enumerate(estimator.staged_predict(train_x)):\n",
    "        train_scores[i] = mean_squared_error(train_y, train_y_pred)\n",
    "\n",
    "    # Get test score from each boost\n",
    "    for i, test_y_pred in enumerate(estimator.staged_predict(test_x)):\n",
    "        test_scores[i] = mean_squared_error(test_y, test_y_pred)\n",
    "        \n",
    "    plt.plot(train_scores, alpha=.5, label='%s Train - Rate %s' % (name, learn_rate))\n",
    "    plt.plot(test_scores, alpha=.5, label='%s Test - Rate %s' % (name, learn_rate), ls='--')\n",
    "    plt.title(name, fontsize=16, fontweight='bold')\n",
    "    plt.ylabel('MSE', fontsize=14)\n",
    "    plt.xlabel('Iterations', fontsize=14)\n"
   ]
  },
  {
   "cell_type": "code",
   "execution_count": null,
   "metadata": {
    "collapsed": false
   },
   "outputs": [],
   "source": [
    "fig = plt.figure()\n",
    "stage_score_plot(gdbr, train_x, train_y, test_x, test_y)\n",
    "rf_score_plot()\n",
    "plt.legend(loc='best')\n",
    "\n",
    "fig = plt.figure()\n",
    "stage_score_plot(abr, train_x, train_y, test_x, test_y)\n",
    "rf_score_plot()\n",
    "plt.legend(loc='best')"
   ]
  },
  {
   "cell_type": "code",
   "execution_count": null,
   "metadata": {
    "collapsed": false
   },
   "outputs": [],
   "source": [
    "abr_high_learn = GradientBoostingRegressor(learning_rate=1, loss='ls',\n",
    "                                           n_estimators=100, random_state=1)\n",
    "gdbr_high_learn.fit(train_x, train_y)\n",
    "\n",
    "fig = plt.figure()\n",
    "stage_score_plot(gdbr, train_x, train_y, test_x, test_y)\n",
    "stage_score_plot(gdbr_high_learn, train_x, train_y, test_x, test_y)\n",
    "plt.legend(loc='best')\n"
   ]
  },
  {
   "cell_type": "code",
   "execution_count": null,
   "metadata": {
    "collapsed": false
   },
   "outputs": [],
   "source": [
    "gdbr_high_learn = GradientBoostingRegressor(learning_rate=1, loss='ls',\n",
    "                                           n_estimators=100, random_state=1)\n",
    "gdbr_high_learn.fit(train_x, train_y)\n",
    "\n",
    "fig = plt.figure()\n",
    "stage_score_plot(gdbr, train_x, train_y, test_x, test_y)\n",
    "stage_score_plot(gdbr_high_learn, train_x, train_y, test_x, test_y)\n",
    "plt.legend(loc='best')\n"
   ]
  },
  {
   "cell_type": "markdown",
   "metadata": {},
   "source": [
    "##GridSearch"
   ]
  },
  {
   "cell_type": "code",
   "execution_count": null,
   "metadata": {
    "collapsed": false
   },
   "outputs": [],
   "source": [
    "rf_grid = {'max_depth': [3, None],\n",
    "           'max_features': [1, 3, 10],\n",
    "           'min_samples_split': [1, 3, 10],  \n",
    "           'min_samples_leaf': [1, 3, 10],\n",
    "           'bootstrap': [True, False],\n",
    "           'n_estimators': [25, 40, 50],\n",
    "           'random_state': [1]}\n",
    "\n",
    "gd_grid = {'learning_rate': [0.1, 0.05, 0.02, 0.01],\n",
    "           'max_depth': [4, 6],\n",
    "           'min_samples_leaf': [3, 5, 9, 17],\n",
    "           'max_features': [1.0, 0.3, 0.1],\n",
    "           'n_estimators': [500],\n",
    "           'random_state': [1]}"
   ]
  },
  {
   "cell_type": "code",
   "execution_count": null,
   "metadata": {
    "collapsed": false
   },
   "outputs": [],
   "source": [
    "def grid_search(est, grid):\n",
    "    grid_cv = GridSearchCV(est, grid, n_jobs=-1, verbose=True,\n",
    "                           scoring='mean_squared_error').fit(train_x, train_y)\n",
    "    return grid_cv"
   ]
  },
  {
   "cell_type": "code",
   "execution_count": null,
   "metadata": {
    "collapsed": false
   },
   "outputs": [],
   "source": [
    "rf_grid_search = grid_search(RandomForestRegressor(), rf_grid)"
   ]
  },
  {
   "cell_type": "code",
   "execution_count": null,
   "metadata": {
    "collapsed": false
   },
   "outputs": [],
   "source": [
    "gd_grid_search = grid_search(GradientBoostingRegressor(), gd_grid)"
   ]
  },
  {
   "cell_type": "code",
   "execution_count": null,
   "metadata": {
    "collapsed": false
   },
   "outputs": [],
   "source": [
    "rf_best = rf_grid_search.best_estimator_\n",
    "gd_best = gd_grid_search.best_estimator_"
   ]
  },
  {
   "cell_type": "code",
   "execution_count": null,
   "metadata": {
    "collapsed": false
   },
   "outputs": [],
   "source": [
    "gd_grid_search.best_params_"
   ]
  },
  {
   "cell_type": "code",
   "execution_count": null,
   "metadata": {
    "collapsed": false
   },
   "outputs": [],
   "source": [
    "rf_grid_search.best_params_"
   ]
  },
  {
   "cell_type": "markdown",
   "metadata": {},
   "source": [
    "###Previously\n",
    "- **GradientBoostingRegressor Train CV** | MSE: 8.453 | R2: 0.886\n",
    "\n",
    "- **RandomForestRegressor Train CV** | MSE: 9.881 | R2: 0.866"
   ]
  },
  {
   "cell_type": "code",
   "execution_count": null,
   "metadata": {
    "collapsed": false
   },
   "outputs": [],
   "source": [
    "cross_val(gd_best, train_x, train_y)\n",
    "cross_val(rf_best, train_x, train_y)"
   ]
  },
  {
   "cell_type": "code",
   "execution_count": null,
   "metadata": {
    "collapsed": false
   },
   "outputs": [],
   "source": [
    "test_ypred = gd_best.predict(test_x)\n",
    "print 'Gradient Boost Test MSE:', mean_squared_error(test_ypred, test_y)\n",
    "print 'Gradient Boost Test R2:',r2_score(test_ypred, test_y)"
   ]
  },
  {
   "cell_type": "code",
   "execution_count": null,
   "metadata": {
    "collapsed": false
   },
   "outputs": [],
   "source": [
    "test_ypred = rf_best.predict(test_x)\n",
    "print 'Random Forest Test MSE:', mean_squared_error(test_ypred, test_y)\n",
    "print 'Random Forest Test R2:', r2_score(test_ypred, test_y)"
   ]
  },
  {
   "cell_type": "code",
   "execution_count": null,
   "metadata": {
    "collapsed": false
   },
   "outputs": [],
   "source": [
    "# sort importances\n",
    "indices = np.argsort(gd_best.feature_importances_)\n",
    "# plot as bar chart\n",
    "figure = plt.figure(figsize=(10,7))\n",
    "plt.barh(np.arange(len(col_names)), gd_best.feature_importances_[indices],\n",
    "         align='center', alpha=.5)\n",
    "plt.yticks(np.arange(len(col_names)), np.array(col_names)[indices], fontsize=14)\n",
    "plt.xticks(fontsize=14)\n",
    "_ = plt.xlabel('Relative importance', fontsize=18)\n",
    "\n",
    "print '''1. CRIM: per capita crime rate by town \n",
    "2. ZN: proportion of residential land zoned for lots over 25,000 sq.ft. \n",
    "3. INDUS: proportion of non-retail business acres per town \n",
    "4. CHAS: Charles River dummy variable (= 1 if tract bounds river; 0 otherwise) \n",
    "5. NOX: nitric oxides concentration (parts per 10 million) \n",
    "6. RM: average number of rooms per dwelling \n",
    "7. AGE: proportion of owner-occupied units built prior to 1940 \n",
    "8. DIS: weighted distances to five Boston employment centres \n",
    "9. RAD: index of accessibility to radial highways \n",
    "10. TAX: full-value property-tax rate per $10,000 \n",
    "11. PTRATIO: pupil-teacher ratio by town \n",
    "12. B: 1000(Bk - 0.63)^2 where Bk is the proportion of blacks by town \n",
    "13. LSTAT: % lower status of the population'''"
   ]
  },
  {
   "cell_type": "code",
   "execution_count": null,
   "metadata": {
    "collapsed": false
   },
   "outputs": [],
   "source": [
    "fig, axs = plot_partial_dependence(gd_best, train_x, range(x.shape[1]) ,\n",
    "                                   feature_names=col_names, figsize=(15, 10))\n",
    "fig.tight_layout()"
   ]
  },
  {
   "cell_type": "markdown",
   "metadata": {},
   "source": [
    "```python\n",
    "params = {'n_estimators': 500, 'max_depth': 4, 'min_samples_split': 1,\n",
    "          'learn_rate': 0.01, 'loss': 'ls'}\n",
    "```"
   ]
  },
  {
   "cell_type": "code",
   "execution_count": null,
   "metadata": {
    "collapsed": false
   },
   "outputs": [],
   "source": []
  }
 ],
 "metadata": {
  "anaconda-cloud": {},
  "kernelspec": {
   "display_name": "Python [conda env:nlp]",
   "language": "python",
   "name": "conda-env-nlp-py"
  },
  "language_info": {
   "codemirror_mode": {
    "name": "ipython",
    "version": 3
   },
   "file_extension": ".py",
   "mimetype": "text/x-python",
   "name": "python",
   "nbconvert_exporter": "python",
   "pygments_lexer": "ipython3",
   "version": "3.5.2"
  }
 },
 "nbformat": 4,
 "nbformat_minor": 0
}
