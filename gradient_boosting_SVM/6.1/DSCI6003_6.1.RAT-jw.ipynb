{
 "cells": [
  {
   "cell_type": "markdown",
   "metadata": {},
   "source": [
    "##RAT 6.1"
   ]
  },
  {
   "cell_type": "markdown",
   "metadata": {},
   "source": [
    "- Describe Bagging and use cases for bagging with standard classifiers\t \n",
    "\n",
    "- Discuss Ensemble Classifiers and the Wisdom of the Crowd in the context of machine learning\n",
    "\n",
    "- How would you architect a new data pipeline solution? (Be creative and apply what you learned:) "
   ]
  },
  {
   "cell_type": "markdown",
   "metadata": {},
   "source": [
    "bagging is bootstrap aggregating, which involves having each model in the ensemble vote with equal weight.  In order to promote model variance, bagging trains each model in the ensemble using a randomly drawn subset of the training set.\n",
    "\n",
    "As an example, the random forest algorithm combines random decision trees with bagging to achieve very high classification accuracy. An interesting application of bagging in unsupervised learning is provided here."
   ]
  },
  {
   "cell_type": "markdown",
   "metadata": {},
   "source": [
    "The wisdom of the crowd is the collective opinion of a group of individuals rather than that of a single expert. A large group's aggregated answers to questions involving quantity estimation, general world knowledge, and spatial reasoning has generally been found to be as good as, and often better than, the answer given by any of the individuals within the group."
   ]
  },
  {
   "cell_type": "markdown",
   "metadata": {},
   "source": [
    "clean the data, understand the labels, and rectify missing values\n",
    "\n",
    "split into a test and training set\n",
    "\n",
    "run through the classification or regression algorithm\n",
    "\n",
    "put together the confusion matrix, plot a roc curve, associate costs\n",
    "\n",
    "what would be peculiar for random forsts - bagging.  50% is a good choice to use.  We have to decide the number of features and how to split."
   ]
  },
  {
   "cell_type": "code",
   "execution_count": null,
   "metadata": {
    "collapsed": true
   },
   "outputs": [],
   "source": [
    "### groups:\n",
    "['Lisa', 'Jacob', 'Baolin', 'Aaron M'],\n",
    "['Aaron Z', 'Trevor', 'Fraida', 'Theresa'],\n",
    "['Jonathan', 'Hemalatha', 'Nathan', 'Justin', 'Bryn']\n",
    " "
   ]
  }
 ],
 "metadata": {
  "anaconda-cloud": {},
  "kernelspec": {
   "display_name": "Python [conda env:nlp]",
   "language": "python",
   "name": "conda-env-nlp-py"
  },
  "language_info": {
   "codemirror_mode": {
    "name": "ipython",
    "version": 3
   },
   "file_extension": ".py",
   "mimetype": "text/x-python",
   "name": "python",
   "nbconvert_exporter": "python",
   "pygments_lexer": "ipython3",
   "version": "3.5.2"
  }
 },
 "nbformat": 4,
 "nbformat_minor": 0
}
