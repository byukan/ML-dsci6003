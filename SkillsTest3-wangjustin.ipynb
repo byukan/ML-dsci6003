{
 "cells": [
  {
   "cell_type": "markdown",
   "metadata": {},
   "source": [
    "### Name:   Justin J. Wang"
   ]
  },
  {
   "cell_type": "markdown",
   "metadata": {},
   "source": [
    "# Skills Test 3\n",
    "\n",
    "1.  The Gauss-Markov theorem proves that OLS is the best Best Linear Unbiased Estimator (BLUE) of regression coefficients.  What are the requirements for the Gauss-Markov theorem? (list all that apply)\n",
    "```\n",
    "    a. The errors in the labels are heteroskedastic\n",
    "    b. The estimate of the regression coefficients must be linear in the problem labels (aka y's, outcomes etc.).\n",
    "    c. The errors in the labels must be zero mean.\n",
    "    d. The features must be linear functions of one another\n",
    "    e. The errors in the labels must be independent of one another.\n",
    "    f. The errors in the labels must have fixed, finite variance.\n",
    "    g. The estimates of the regression coefficients must be linear in the X's\n",
    "    h. The relationship between the labels and the features (X's, predictors, etc.) is linear.\n",
    "    i. The matrix X must be full rank.\n",
    "    \n",
    "    Answer: c, e, f, g, i\n",
    "    \n",
    "    yes i - because a Markovian matirx has full rank\n",
    "    \n",
    "    not h - can be curved also\n",
    "    not d is a ridiculous requirement\n",
    "    c - 0 mean unit variance, that why we standardize\n",
    "    not a -  no we don't require different variance (heteroskedasticity)\n",
    "```\n",
    "\n",
    "2.  Given a column vector of labels y and a corresponding matrix of X's, give the matrix vector expression for the OLS coefficients (in Latex).\n",
    "\n",
    "    $ \\hat{\\beta} = (X^TX)^{-1}X^Ty $\n",
    "\n",
    "\n",
    "3.  Which of the following are reasons you might suspect SVM would be better suited to your problem than penalized linear regression?  (pick all that apply)\n",
    "```\n",
    "    a. Large errors are exponentially more important than small ones.\n",
    "    b. Training must be very rapid.\n",
    "    c. Errors near the decision boundary are more important than large errors.\n",
    "    d. You need a technique that can model dependence of labels on non-linear functions of the attributes\n",
    "    e. You have a classification problem not a regression problem.\n",
    "    f. Points on the correct side of the decision boundary should not get penalized at all\n",
    "    \n",
    "    Answer: a, c, d, e, f\n",
    "```\n",
    "\n",
    "4.  Which of the following are properties of the \"Kernel Trick\"?  (list all that apply)\n",
    "```\n",
    "    a. Kernel trick is applied in dual space\n",
    "    b. Kernel trick performs basis expansion for SVM\n",
    "    c. Kernel trick makes training faster than with simple lineaer kernel\n",
    "    d. Any basis expansion (for example, all of the ones we studied earlier) can be used in the kernel trick\n",
    "    \n",
    "    Answer:  a, b, d\n",
    "```\n",
    "\n",
    "5. Which of the following are correct comparisons between K-means and Gaussian mixture model clustering.\n",
    "```\n",
    "    a. Computational complexity for GMM and K-means both have quadratic dependence on number of rows of data.\n",
    "    b. K-means clusters are roughly the same size whereas GMM clusters can be radically different\n",
    "    c. K-means is sensitive to scaling whereas GMM is indifferent.\n",
    "    d. GMM only clusters numeric data, whereas K-means will work with categorical data.\n",
    "    e. K-means algo can lead to sub-optimal clusters when data is very well separated with large gaps between clusters.  Not true with GMM.\n",
    "    \n",
    "    Answer:  b, e\n",
    "    \n",
    "    not a\n",
    "    K means is O(n* k * di) - it has linear dependence on the number of rows of data.\n",
    "```\n",
    "\n",
    "6.  Which of the following statements about silhouette statistics are true?\n",
    "```\n",
    "    a. Silhouette always gives a clear indication of best number of clusters\n",
    "    b. Silhouette statistics give a visual indication of clustering performance.\n",
    "    c. Silhouette statistics measure the proximity between points within a cluster relative to their proximity to points in other clusters.\n",
    "    d. Silhouette analysis is indifferent to scaling of your data\n",
    "    \n",
    "    Answer: b, c, d\n",
    "    \n",
    "    there's no evaluation metric, so a is not necessarily True\n",
    "```\n",
    "\n",
    "The following function should do element wise multiplication. This means your input has to be  a numpy array. Use try-catch to determine if the input (x) is a numpy array and return an error message if it isn't.\n",
    "\n",
    "```python\n",
    "    def np_double_sum(x):\n",
    "       x = x * 2\n",
    "       return x.sum()\n",
    "```\n",
    "\n",
    "As an example if I run your code the output should be:\n",
    "\n",
    "```python \n",
    "    import numpy\n",
    "    a = np.array([1,2,3])\n",
    "    print(np_double_sum(a))\n",
    "    # 12\n",
    "    b = 2\n",
    "    print(np_double(b))\n",
    "    # Not a valid input. Needs to be a numpy array.\n",
    "```\n",
    "\n",
    "\n",
    "Annotate the code (figure out what it is going on at each step and write comments to help a reader follow the logic). \n",
    "\n",
    "```python\n",
    "    def mystery_function(x):\n",
    "        s = []\n",
    "        while len(x) > 1:\n",
    "            num = min(x)\n",
    "            s.append(num)\n",
    "            x.pop(x.index(num))\n",
    "        s += x\n",
    "        return s\n",
    "```"
   ]
  },
  {
   "cell_type": "code",
   "execution_count": 5,
   "metadata": {
    "collapsed": true
   },
   "outputs": [],
   "source": [
    "import numpy as np\n",
    "\n",
    "def np_double_sum(x):\n",
    "    try:\n",
    "        x = x * 2\n",
    "        return x.sum()\n",
    "    except:\n",
    "        print(\"Not a valid input. Needs to be a numpy array.\")\n",
    "        raise Exception(\"Not a valid input. Needs to be a numpy array.\")"
   ]
  },
  {
   "cell_type": "code",
   "execution_count": 6,
   "metadata": {
    "collapsed": false
   },
   "outputs": [
    {
     "data": {
      "text/plain": [
       "12"
      ]
     },
     "execution_count": 6,
     "metadata": {},
     "output_type": "execute_result"
    }
   ],
   "source": [
    "a = np.array([1, 2, 3])\n",
    "np_double_sum(a)"
   ]
  },
  {
   "cell_type": "code",
   "execution_count": 7,
   "metadata": {
    "collapsed": false
   },
   "outputs": [
    {
     "name": "stdout",
     "output_type": "stream",
     "text": [
      "Not a valid input. Needs to be a numpy array.\n"
     ]
    },
    {
     "ename": "Exception",
     "evalue": "Not a valid input. Needs to be a numpy array.",
     "output_type": "error",
     "traceback": [
      "\u001b[0;31m---------------------------------------------------------------------------\u001b[0m",
      "\u001b[0;31mAttributeError\u001b[0m                            Traceback (most recent call last)",
      "\u001b[0;32m<ipython-input-5-ee0720997e98>\u001b[0m in \u001b[0;36mnp_double_sum\u001b[0;34m(x)\u001b[0m\n\u001b[1;32m      5\u001b[0m         \u001b[0mx\u001b[0m \u001b[0;34m=\u001b[0m \u001b[0mx\u001b[0m \u001b[0;34m*\u001b[0m \u001b[0;36m2\u001b[0m\u001b[0;34m\u001b[0m\u001b[0m\n\u001b[0;32m----> 6\u001b[0;31m         \u001b[0;32mreturn\u001b[0m \u001b[0mx\u001b[0m\u001b[0;34m.\u001b[0m\u001b[0msum\u001b[0m\u001b[0;34m(\u001b[0m\u001b[0;34m)\u001b[0m\u001b[0;34m\u001b[0m\u001b[0m\n\u001b[0m\u001b[1;32m      7\u001b[0m     \u001b[0;32mexcept\u001b[0m\u001b[0;34m:\u001b[0m\u001b[0;34m\u001b[0m\u001b[0m\n",
      "\u001b[0;31mAttributeError\u001b[0m: 'list' object has no attribute 'sum'",
      "\nDuring handling of the above exception, another exception occurred:\n",
      "\u001b[0;31mException\u001b[0m                                 Traceback (most recent call last)",
      "\u001b[0;32m<ipython-input-7-580e8253b760>\u001b[0m in \u001b[0;36m<module>\u001b[0;34m()\u001b[0m\n\u001b[1;32m      1\u001b[0m \u001b[0mb\u001b[0m \u001b[0;34m=\u001b[0m \u001b[0;34m[\u001b[0m\u001b[0;36m1\u001b[0m\u001b[0;34m,\u001b[0m \u001b[0;36m2\u001b[0m\u001b[0;34m,\u001b[0m \u001b[0;36m3\u001b[0m\u001b[0;34m]\u001b[0m\u001b[0;34m\u001b[0m\u001b[0m\n\u001b[0;32m----> 2\u001b[0;31m \u001b[0mnp_double_sum\u001b[0m\u001b[0;34m(\u001b[0m\u001b[0mb\u001b[0m\u001b[0;34m)\u001b[0m\u001b[0;34m\u001b[0m\u001b[0m\n\u001b[0m",
      "\u001b[0;32m<ipython-input-5-ee0720997e98>\u001b[0m in \u001b[0;36mnp_double_sum\u001b[0;34m(x)\u001b[0m\n\u001b[1;32m      7\u001b[0m     \u001b[0;32mexcept\u001b[0m\u001b[0;34m:\u001b[0m\u001b[0;34m\u001b[0m\u001b[0m\n\u001b[1;32m      8\u001b[0m         \u001b[0mprint\u001b[0m\u001b[0;34m(\u001b[0m\u001b[0;34m\"Not a valid input. Needs to be a numpy array.\"\u001b[0m\u001b[0;34m)\u001b[0m\u001b[0;34m\u001b[0m\u001b[0m\n\u001b[0;32m----> 9\u001b[0;31m         \u001b[0;32mraise\u001b[0m \u001b[0mException\u001b[0m\u001b[0;34m(\u001b[0m\u001b[0;34m\"Not a valid input. Needs to be a numpy array.\"\u001b[0m\u001b[0;34m)\u001b[0m\u001b[0;34m\u001b[0m\u001b[0m\n\u001b[0m",
      "\u001b[0;31mException\u001b[0m: Not a valid input. Needs to be a numpy array."
     ]
    }
   ],
   "source": [
    "b = [1, 2, 3]\n",
    "np_double_sum(b)"
   ]
  },
  {
   "cell_type": "code",
   "execution_count": 8,
   "metadata": {
    "collapsed": true
   },
   "outputs": [],
   "source": [
    "def mystery_function(x):\n",
    "    \"\"\"\n",
    "    this function is a sorting function - selection sort\n",
    "    :param: x is a container, such as a list, that has the min() function overloaded\n",
    "    \n",
    "    O(n^2) time, and O(n) space, because you made an auxiliary list s,\n",
    "    when you could swapped in-place if you wanted O(1) space\n",
    "    \"\"\"\n",
    "    s = []  # declare and initialize an empty list\n",
    "    while len(x) > 1:  # so long as the list has at least 2 elements\n",
    "        num = min(x)  # store the minimum element of the input container x\n",
    "        s.append(num)  # store the minimum of the container in the list s\n",
    "        x.pop(x.index(num))  # remove the item, num, from the container x\n",
    "    s += x  # after looping, and we have 1 element left in x, concatenate the two lists, with x at the rhs or end of s\n",
    "    return s  # returns the sorted list"
   ]
  },
  {
   "cell_type": "code",
   "execution_count": 9,
   "metadata": {
    "collapsed": false
   },
   "outputs": [
    {
     "data": {
      "text/plain": [
       "[1, 2, 3, 4, 5]"
      ]
     },
     "execution_count": 9,
     "metadata": {},
     "output_type": "execute_result"
    }
   ],
   "source": [
    "a = [5, 4, 3, 2, 1]\n",
    "mystery_function(a)"
   ]
  },
  {
   "cell_type": "code",
   "execution_count": null,
   "metadata": {
    "collapsed": true
   },
   "outputs": [],
   "source": []
  }
 ],
 "metadata": {
  "anaconda-cloud": {},
  "kernelspec": {
   "display_name": "Python [conda env:nlp]",
   "language": "python",
   "name": "conda-env-nlp-py"
  },
  "language_info": {
   "codemirror_mode": {
    "name": "ipython",
    "version": 3
   },
   "file_extension": ".py",
   "mimetype": "text/x-python",
   "name": "python",
   "nbconvert_exporter": "python",
   "pygments_lexer": "ipython3",
   "version": "3.5.2"
  }
 },
 "nbformat": 4,
 "nbformat_minor": 0
}
