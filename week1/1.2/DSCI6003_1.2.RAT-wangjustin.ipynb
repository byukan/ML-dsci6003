{
 "cells": [
  {
   "cell_type": "markdown",
   "metadata": {
    "collapsed": true
   },
   "source": [
    "##RAT 1.2"
   ]
  },
  {
   "cell_type": "markdown",
   "metadata": {},
   "source": [
    "###Linear Algebra"
   ]
  },
  {
   "cell_type": "markdown",
   "metadata": {},
   "source": [
    "1.Find the eigenvalues and eigenvectors of matrix A\n",
    "\n",
    "$${\\bf A} = \\left[ \\begin{matrix} 3 & 1 \\\\ -2 & 0 \\end{matrix} \\right]$$"
   ]
  },
  {
   "cell_type": "code",
   "execution_count": 6,
   "metadata": {
    "collapsed": false
   },
   "outputs": [
    {
     "data": {
      "text/plain": [
       "(array([ 2.,  1.]), array([[ 0.70710678, -0.4472136 ],\n",
       "        [-0.70710678,  0.89442719]]))"
      ]
     },
     "execution_count": 6,
     "metadata": {},
     "output_type": "execute_result"
    }
   ],
   "source": [
    "import numpy as np\n",
    "\n",
    "A = np.array([[3, 1], [-2, 0]])\n",
    "w, v = np.linalg.eig(A)\n",
    "w, v"
   ]
  },
  {
   "cell_type": "markdown",
   "metadata": {},
   "source": [
    "2.What's the relationship/difference between Eigendecomposition and SVD? "
   ]
  },
  {
   "cell_type": "markdown",
   "metadata": {},
   "source": [
    "eigendecomposition of A = PDP^-1, where P is matrix of eigenvectors, and D has the corresponding eigenvalues along the main diagonal.  It is a diagonalization.  One thing you could easily do is raise the matrix to a power.\n",
    "\n",
    "SVD decomposes singular values, so A = U$\\sum$V*, the singular values are the square roots of the eigenvalues."
   ]
  },
  {
   "cell_type": "markdown",
   "metadata": {
    "collapsed": false
   },
   "source": [
    "3.Find bases for the kernel and the image of the linear transformation given by \n",
    "$$ T \\left( \\left[ \\begin{matrix} x \\\\ y \\\\ z \\end{matrix} \\right] \\right) = \\left[ \\begin{matrix} 3x - y + z \\\\ y +2z \\\\ 3y + 6z \\end{matrix} \\right]$$"
   ]
  },
  {
   "cell_type": "code",
   "execution_count": 7,
   "metadata": {
    "collapsed": false
   },
   "outputs": [],
   "source": [
    "# !pip install sympy"
   ]
  },
  {
   "cell_type": "code",
   "execution_count": 8,
   "metadata": {
    "collapsed": false
   },
   "outputs": [
    {
     "data": {
      "text/plain": [
       "(Matrix([\n",
       " [1.0,   0, 1.0, 0],\n",
       " [  0, 1.0, 2.0, 0],\n",
       " [  0,   0,   0, 0]]), [0, 1])"
      ]
     },
     "execution_count": 8,
     "metadata": {},
     "output_type": "execute_result"
    }
   ],
   "source": [
    "import sympy\n",
    "T = np.array([[3, -1, 1, 0], [0, 1, 2, 0], [0, 3, 6, 0]])\n",
    "\n",
    "x = np.zeros(3)\n",
    "\n",
    "sympy.Matrix(T).rref()\n",
    "\n",
    "# so then we write out the rref matrix as parametric equations\n",
    "\n",
    "# basis for image is linearly independent rows."
   ]
  },
  {
   "cell_type": "markdown",
   "metadata": {},
   "source": [
    "###Calculus"
   ]
  },
  {
   "cell_type": "markdown",
   "metadata": {
    "collapsed": true
   },
   "source": [
    "1) Find the derivatives of the following function:\n",
    "\n",
    "$$y = {x}^{2}{2}^{x}+\\pi$$\n",
    "\n",
    "2) Find the derivative of the following function:\n",
    "\n",
    "$$\\frac{y}{x-y}={x}^{2}+1$$"
   ]
  },
  {
   "cell_type": "markdown",
   "metadata": {
    "collapsed": true
   },
   "source": [
    "use power rule"
   ]
  },
  {
   "cell_type": "markdown",
   "metadata": {},
   "source": [
    "for 2, do implicit differentiation"
   ]
  }
 ],
 "metadata": {
  "anaconda-cloud": {},
  "kernelspec": {
   "display_name": "Python 3",
   "language": "python",
   "name": "python3"
  },
  "language_info": {
   "codemirror_mode": {
    "name": "ipython",
    "version": 3
   },
   "file_extension": ".py",
   "mimetype": "text/x-python",
   "name": "python",
   "nbconvert_exporter": "python",
   "pygments_lexer": "ipython3",
   "version": "3.5.2"
  }
 },
 "nbformat": 4,
 "nbformat_minor": 0
}
