{
 "cells": [
  {
   "cell_type": "markdown",
   "metadata": {
    "collapsed": true
   },
   "source": [
    "##RAT 1.2"
   ]
  },
  {
   "cell_type": "markdown",
   "metadata": {},
   "source": [
    "###Linear Algebra"
   ]
  },
  {
   "cell_type": "markdown",
   "metadata": {},
   "source": [
    "1.Find the eigenvalues and eigenvectors of matrix A\n",
    "\n",
    "$${\\bf A} = \\left[ \\begin{matrix} 3 & 1 \\\\ -2 & 0 \\end{matrix} \\right]$$"
   ]
  },
  {
   "cell_type": "markdown",
   "metadata": {},
   "source": [
    "###Solution\n",
    "- eigenvalues: 1, 2\n",
    "- eigenvectors: $\\left[ \\begin{matrix} -1 \\\\ 1 \\end{matrix} \\right]$, $\\left[ \\begin{matrix} -1 \\\\ 2 \\end{matrix} \\right]$"
   ]
  },
  {
   "cell_type": "markdown",
   "metadata": {},
   "source": [
    "2.What's the relationship/difference between Eigendecomposition and SVD? "
   ]
  },
  {
   "cell_type": "markdown",
   "metadata": {
    "collapsed": false
   },
   "source": [
    "3.Find bases for the kernel and the image of the linear transformation given by \n",
    "$$ T \\left( \\left[ \\begin{matrix} x \\\\ y \\\\ z \\end{matrix} \\right] \\right) = \\left[ \\begin{matrix} 3x - y + z \\\\ y +2z \\\\ 3y + 6z \\end{matrix} \\right]$$"
   ]
  },
  {
   "cell_type": "markdown",
   "metadata": {},
   "source": [
    "###Solution\n",
    "a basis for the kernel is $$ \\begin{Bmatrix} \\left[ \\begin{matrix} -1 \\\\ -2 \\\\ 1 \\end{matrix} \\right] \\end{Bmatrix} $$\n",
    "\n",
    "a basis for the image is $$ \\begin{Bmatrix} \\left[ \\begin{matrix} 3 \\\\ 0 \\\\ 0 \\end{matrix} \\right], \\left[ \\begin{matrix} -1 \\\\ 1 \\\\ 3 \\end{matrix} \\right] \\end{Bmatrix} $$"
   ]
  },
  {
   "cell_type": "markdown",
   "metadata": {},
   "source": [
    "###Calculous"
   ]
  },
  {
   "cell_type": "markdown",
   "metadata": {
    "collapsed": true
   },
   "source": [
    "1.Find the derivative of the following 2 functions \n",
    "\n",
    "$$y = {x}^{2}{2}^{x}+\\pi$$\n",
    "\n",
    "$$\\frac{y}{x-y}={x}^{2}+1$$"
   ]
  },
  {
   "cell_type": "markdown",
   "metadata": {
    "collapsed": true
   },
   "source": [
    "###Solution\n",
    "\n",
    "$$\\frac{dy}{dx}=2^x(2x+x^2ln2)$$\n",
    "$$\\frac{dy}{dx}=\\frac{3x^2-2xy+1}{x^2+2}$$"
   ]
  },
  {
   "cell_type": "code",
   "execution_count": null,
   "metadata": {
    "collapsed": true
   },
   "outputs": [],
   "source": []
  }
 ],
 "metadata": {
  "kernelspec": {
   "display_name": "Python 2",
   "language": "python",
   "name": "python2"
  },
  "language_info": {
   "codemirror_mode": {
    "name": "ipython",
    "version": 2
   },
   "file_extension": ".py",
   "mimetype": "text/x-python",
   "name": "python",
   "nbconvert_exporter": "python",
   "pygments_lexer": "ipython2",
   "version": "2.7.11"
  }
 },
 "nbformat": 4,
 "nbformat_minor": 0
}
