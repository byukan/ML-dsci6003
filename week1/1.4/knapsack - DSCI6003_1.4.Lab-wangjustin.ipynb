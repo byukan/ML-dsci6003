{
 "cells": [
  {
   "cell_type": "markdown",
   "metadata": {},
   "source": [
    "# DSCI 6003 1.4 Lab\n",
    "\n",
    "Today you are to solve a dynamic programming problem from scratch: [Interviewcake #16](https://www.interviewcake.com/question/java/cake-thief)\n",
    "\n",
    "Repeated below:\n",
    "\n",
    "You are a renowned thief who has recently switched from stealing precious metals to stealing cakes because of the insane profit margins. You end up hitting the jackpot, breaking into the world's largest privately owned stock of cakes—the vault of the Queen of England.\n",
    "While Queen Elizabeth has a limited number of types of cake, she has an unlimited supply of each type.\n",
    "\n",
    "Each type of cake has a weight and a value, stored in objects of a CakeType class:\n",
    "\n",
    "    class CakeType:\n",
    "        def __init__(self, typename, weight, value):\n",
    "            self.typename = typename\n",
    "            self.weight = weight\n",
    "            self.value = value\n",
    "\n",
    "i.e. cake1 = CakeType(chocolate, 3, 50)\n",
    "\n",
    "Begin by diagramming the solution and drawing a parallel to other problems we have discussed in class. Work through the solution step by step without drilling through the internet. You might consider a simpler problem first.\n",
    "\n",
    "Good luck. "
   ]
  },
  {
   "cell_type": "code",
   "execution_count": 3,
   "metadata": {
    "collapsed": false,
    "scrolled": true
   },
   "outputs": [
    {
     "data": {
      "text/plain": [
       "'\\n    @brief knapsack problem\\n'"
      ]
     },
     "execution_count": 3,
     "metadata": {},
     "output_type": "execute_result"
    }
   ],
   "source": [
    "\"\"\"\n",
    "    @brief knapsack problem\n",
    "\"\"\"\n",
    "# Queen Elizabeth has a limited number of types of cakes, but unlimited supply of each\n",
    "# unbounded"
   ]
  },
  {
   "cell_type": "code",
   "execution_count": 4,
   "metadata": {
    "collapsed": false
   },
   "outputs": [
    {
     "data": {
      "text/plain": [
       "(array([1, 2, 0]), 1)"
      ]
     },
     "execution_count": 4,
     "metadata": {},
     "output_type": "execute_result"
    }
   ],
   "source": [
    "import numpy as np\n",
    "x = np.array([3, 1, 2])\n",
    "index_array = np.argsort(x)\n",
    "\n",
    "index_array, x[index_array[0]]"
   ]
  },
  {
   "cell_type": "code",
   "execution_count": 5,
   "metadata": {
    "collapsed": true
   },
   "outputs": [],
   "source": [
    "class CakeType:\n",
    "    def __init__(self, typename, weight, value):\n",
    "        self.typename = typename\n",
    "        self.weight = weight\n",
    "        self.value = value\n",
    "        self.density = value/weight"
   ]
  },
  {
   "cell_type": "code",
   "execution_count": 6,
   "metadata": {
    "collapsed": true
   },
   "outputs": [],
   "source": [
    "# https://www.interviewcake.com/question/python/cake-thief"
   ]
  },
  {
   "cell_type": "code",
   "execution_count": 7,
   "metadata": {
    "collapsed": false,
    "scrolled": true
   },
   "outputs": [
    {
     "data": {
      "text/plain": [
       "160"
      ]
     },
     "execution_count": 7,
     "metadata": {},
     "output_type": "execute_result"
    }
   ],
   "source": [
    "def max_duffel_bag_value(cake_tuples, capacity):\n",
    "    \"\"\"\n",
    "    takes a list of cake type tuples and a weight capacity, and \n",
    "    returns the maximum monetary value the duffel bag can hold\n",
    "    \"\"\"\n",
    "    # try optimal solutions for each capacity increment, starting at 1\n",
    "#     max_value = 0\n",
    "    \n",
    "    \n",
    "    # list to hold the maximum possible value at every\n",
    "    # integer capacity from 0 to weight_capacity\n",
    "    # starting each index with value 0\n",
    "    m = [0]*(capacity+1)\n",
    "#     for i in range(capacity+1):\n",
    "#         m[i] = 0\n",
    "#     print(m[3])\n",
    "    \n",
    "    \n",
    "\n",
    "    # every integer from 0 to the input weight_capacity\n",
    "    for current_capacity in range(capacity+1):\n",
    "        \n",
    "        current_max_value = 0\n",
    "\n",
    "        for weight, value in cake_tuples:\n",
    "    # #         i = 1\n",
    "            if weight <= current_capacity:\n",
    "                # find max value\n",
    "                max_value_using_cake = value + m[current_capacity - weight]\n",
    "                current_max_value = max(max_value_using_cake, current_max_value)\n",
    "                \n",
    "        m[current_capacity] = current_max_value\n",
    "\n",
    "\n",
    "#             if weight == 1:\n",
    "#                 m[1] = max(m[1], value)\n",
    "#     #             m[1] = max_value\n",
    "#     #             print(m[1])\n",
    "#             if weight == 2:\n",
    "#                 m[2] = max(m[1]+m[1], value)\n",
    "#     #             m[2] = max_value\n",
    "\n",
    "\n",
    "#     #         if weight == capacity:\n",
    "#     #             m[capacity] = max(m[capacity], value)\n",
    "\n",
    "#     #         if weight == capacity - 1:\n",
    "#     #             m[capacity] = max(m[capacity], m[capacity-1]+value)\n",
    "\n",
    "#             if weight == 3:\n",
    "#                 m[3] = max(m[2]+m[1], value)\n",
    "#     #             print(m[2])\n",
    "\n",
    "#             if weight == 4:\n",
    "#                 m[4] = max()\n",
    "            \n",
    "\n",
    "\n",
    "        \n",
    "#     return m[capacity]\n",
    "    return m[capacity]\n",
    "    \n",
    "\n",
    "cake_tuples = [(1, 160), (2, 321), (3, 15)]\n",
    "capacity    = 1\n",
    "\n",
    "max_duffel_bag_value(cake_tuples, capacity)"
   ]
  },
  {
   "cell_type": "code",
   "execution_count": 8,
   "metadata": {
    "collapsed": false
   },
   "outputs": [
    {
     "data": {
      "text/plain": [
       "481"
      ]
     },
     "execution_count": 8,
     "metadata": {},
     "output_type": "execute_result"
    }
   ],
   "source": [
    "321+160"
   ]
  },
  {
   "cell_type": "code",
   "execution_count": 9,
   "metadata": {
    "collapsed": false
   },
   "outputs": [
    {
     "data": {
      "text/plain": [
       "555"
      ]
     },
     "execution_count": 9,
     "metadata": {},
     "output_type": "execute_result"
    }
   ],
   "source": [
    "cake_tuples = [(7, 160), (3, 90), (2, 15)]\n",
    "capacity    = 20\n",
    "\n",
    "max_duffel_bag_value(cake_tuples, capacity)\n",
    "# returns 555 (6 of the middle type of cake and 1 of the last type of cake)"
   ]
  },
  {
   "cell_type": "code",
   "execution_count": 10,
   "metadata": {
    "collapsed": false,
    "scrolled": true
   },
   "outputs": [],
   "source": [
    "\"\"\"\n",
    "** looking at the value/weight ratios doesn’t always give us the optimal answer **\n",
    "\"\"\"\n",
    "# def knapsack(capacity, selections):\n",
    "#     \"\"\"\n",
    "    \n",
    "#     :return: maximum monetary value the knapsackcan hold\n",
    "#     \"\"\"\n",
    "    \n",
    "#     # sorted list of densities\n",
    "#     v = [x.density for x in selections].sort()\n",
    "    \n",
    "# #     index_array = np.argsort(selections)\n",
    "#     # index of the densest cake\n",
    "    \n",
    "    \n",
    "#     # for x in lizs_stash:\n",
    "#     #     v.append(x.density)\n",
    "#     current_weight = 0\n",
    "# #     my_cakes = []\n",
    "    \n",
    "#     while current_weight < capacity:\n",
    "#         i = 0\n",
    "# #         p = np.where(x==i)[0][0]  # position of ith densest cake\n",
    "\n",
    "#         # add one unit of the most dense cake, if it won't overflow the capacity\n",
    "#         while (current_weight + v[i]) < capacity:\n",
    "#             current_weight += v[i]\n",
    "# #             my_cakes.append(selections[i])\n",
    "# #         else:  # try adding one of the next densest\n",
    "            \n",
    "    \n",
    "    \n",
    "    \n",
    "chocolate = CakeType('chocolate', 3, 8)\n",
    "key_lime = CakeType('key_lime', 2, 6)\n",
    "strawberry = CakeType('strawberry', 4, 10)\n",
    "\n",
    "lizs_stash = [chocolate, key_lime, strawberry]\n",
    "\n",
    "\n",
    "\n",
    "# knapsack(19, lizs_stash)"
   ]
  },
  {
   "cell_type": "code",
   "execution_count": 11,
   "metadata": {
    "collapsed": false
   },
   "outputs": [
    {
     "data": {
      "text/plain": [
       "0"
      ]
     },
     "execution_count": 11,
     "metadata": {},
     "output_type": "execute_result"
    }
   ],
   "source": [
    "x = np.array([14, 13,  1, 15,  8,  0, 17, 11, 19, 13])\n",
    "array_index = np.where(x == 14)\n",
    "array_index[0][0]"
   ]
  },
  {
   "cell_type": "code",
   "execution_count": null,
   "metadata": {
    "collapsed": true
   },
   "outputs": [],
   "source": []
  }
 ],
 "metadata": {
  "anaconda-cloud": {},
  "kernelspec": {
   "display_name": "Python 3",
   "language": "python",
   "name": "python3"
  },
  "language_info": {
   "codemirror_mode": {
    "name": "ipython",
    "version": 3
   },
   "file_extension": ".py",
   "mimetype": "text/x-python",
   "name": "python",
   "nbconvert_exporter": "python",
   "pygments_lexer": "ipython3",
   "version": "3.5.2"
  }
 },
 "nbformat": 4,
 "nbformat_minor": 0
}
