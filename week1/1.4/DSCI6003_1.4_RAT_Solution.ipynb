{
 "cells": [
  {
   "cell_type": "markdown",
   "metadata": {},
   "source": [
    "Best, Average, Worst cases\n",
    "- Quick sort: $n, nlogn, n^2$\n",
    "- Merge sort: $nlogn, nlogn, nlogn$\n",
    "- Selection sort: $n^2, n^2, n^2$\n",
    "- Insertion sort: $n, n^2, n^2$"
   ]
  },
  {
   "cell_type": "code",
   "execution_count": 1,
   "metadata": {
    "collapsed": true
   },
   "outputs": [],
   "source": [
    "def shellsort(a):\n",
    "    # define gap split (not the don shell method)\n",
    "    s = len(a)//2\n",
    "    # while the gap split is not yet 0 (we get there using the floor division method)\n",
    "    while s > 0:\n",
    "        # decrement the gap\n",
    "        for i in range(s):\n",
    "            # now use the gap insertion sort detailed below\n",
    "            _gap_insertion_sort(a, i, s)\n",
    "        # cut the gap size in half.\n",
    "        s = s//2\n",
    "    \n",
    "def _gap_insertion_sort(a, start, gap):\n",
    "    # get the length of a\n",
    "    N = len(a)\n",
    "    # indexing over the range using gap sized strides\n",
    "    for i in range(start+gap, N, gap):\n",
    "        # the current value of comparison is a[i]\n",
    "        curr = a[i]\n",
    "        # the current position is at i\n",
    "        p = i\n",
    "        # now insertion sort down the current gapped list - same as the insertion sort while loop, except that we decrement the position pointer and make sure that it's always larger than the gap.\n",
    "        while p>=gap and a[p-gap]>curr:\n",
    "            a[p]=a[p-gap]\n",
    "            p = p-gap\n",
    "\n",
    "        # just like insertion sort, we set the current largest element to the current position\n",
    "        a[p]=curr"
   ]
  },
  {
   "cell_type": "code",
   "execution_count": null,
   "metadata": {
    "collapsed": true
   },
   "outputs": [],
   "source": []
  }
 ],
 "metadata": {
  "kernelspec": {
   "display_name": "Python 2",
   "language": "python",
   "name": "python2"
  },
  "language_info": {
   "codemirror_mode": {
    "name": "ipython",
    "version": 2
   },
   "file_extension": ".py",
   "mimetype": "text/x-python",
   "name": "python",
   "nbconvert_exporter": "python",
   "pygments_lexer": "ipython2",
   "version": "2.7.11"
  }
 },
 "nbformat": 4,
 "nbformat_minor": 0
}
