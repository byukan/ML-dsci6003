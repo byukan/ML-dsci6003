{
 "cells": [
  {
   "cell_type": "markdown",
   "metadata": {},
   "source": [
    "# DSCI 6003 1.4 Lab\n",
    "\n",
    "Today you are to solve a dynamic programming problem from scratch: [Interviewcake #16](https://www.interviewcake.com/question/java/cake-thief)\n",
    "\n",
    "Repeated below:\n",
    "\n",
    "You are a renowned thief who has recently switched from stealing precious metals to stealing cakes because of the insane profit margins. You end up hitting the jackpot, breaking into the world's largest privately owned stock of cakes—the vault of the Queen of England.\n",
    "While Queen Elizabeth has a limited number of types of cake, she has an unlimited supply of each type.\n",
    "\n",
    "Each type of cake has a weight and a value, stored in objects of a CakeType class:\n",
    "\n",
    "    class CakeType:\n",
    "        def __init__(self, typename, weight, value):\n",
    "            self.typename = typename\n",
    "            self.weight = weight\n",
    "            self.value = value\n",
    "\n",
    "i.e. cake1 = CakeType(chocolate, 3, 50)\n",
    "\n",
    "Begin by diagramming the solution and drawing a paralell to other problems we have discussed in class. Work through the solution step by step without drilling through the internet. You might consider a simpler problem first.\n",
    "\n",
    "Good luck. "
   ]
  },
  {
   "cell_type": "code",
   "execution_count": null,
   "metadata": {
    "collapsed": true
   },
   "outputs": [],
   "source": [
    "class CakeType:\n",
    "    def __init__(self, typename, weight, value):\n",
    "        self.typename = typename\n",
    "        self.weight = weight\n",
    "        self.value = value"
   ]
  },
  {
   "cell_type": "markdown",
   "metadata": {},
   "source": [
    "Below is provided the basic bottom up, tabulation based solution to the unbounded knapsack problem as solved by JJT."
   ]
  },
  {
   "cell_type": "code",
   "execution_count": 2,
   "metadata": {
    "collapsed": false
   },
   "outputs": [],
   "source": [
    "\n",
    "import numpy as np\n",
    "import operator\n",
    "def solve_combinations(weights, values, W):\n",
    "    \n",
    "    N = len((weights))\n",
    "    M = np.zeros((W+1, N), dtype=int) \n",
    "    V = np.zeros((W+1), dtype=int) \n",
    "     \n",
    "    def _update_M_row(weights, M, w, n):\n",
    "        for i, m in enumerate(M[w]):\n",
    "            M[w][i] = M[w-weights[n]][i]\n",
    "        M[w][n] += 1 \n",
    "        return M\n",
    "\n",
    "    def _update_V(weights, V, w, n):\n",
    "        # Alternative:\n",
    "        #add_array = np.zeros((N),dtype=int) #spawns a vector of len(N) of zeros\n",
    "        #add_array[n] = 1 # we change the right entry to 1 (adding one)\n",
    "        #M[w] = add_array+M[w-weights[n]] #now you just add the row to the backtrack matrix \n",
    "        V[w] = V[w-weights[n]]+values[n]\n",
    "        return V\n",
    "    \n",
    "    for n in range(N):\n",
    "        \n",
    "        for w in range(weights[n], W+1):\n",
    "            \n",
    "            if (V[w-weights[n]]+values[n] > V[w]):\n",
    "                \n",
    "                M = _update_M_row(weights, M, w, n)\n",
    "                V = _update_V(weights, V, w, n)  \n",
    "                         \n",
    "    print sorted(zip(V,M), key=operator.itemgetter(0), reverse=True)[0]"
   ]
  },
  {
   "cell_type": "code",
   "execution_count": 3,
   "metadata": {
    "collapsed": false
   },
   "outputs": [
    {
     "name": "stdout",
     "output_type": "stream",
     "text": [
      "(44, array([0, 5, 0, 1]))\n"
     ]
    }
   ],
   "source": [
    "w = [5, 3, 5, 4]\n",
    "v = [5, 7, 8, 9]\n",
    "W = 19\n",
    "\n",
    "solve_combinations(w, v, W)"
   ]
  },
  {
   "cell_type": "code",
   "execution_count": null,
   "metadata": {
    "collapsed": true
   },
   "outputs": [],
   "source": []
  }
 ],
 "metadata": {
  "kernelspec": {
   "display_name": "Python 2",
   "language": "python",
   "name": "python2"
  },
  "language_info": {
   "codemirror_mode": {
    "name": "ipython",
    "version": 2
   },
   "file_extension": ".py",
   "mimetype": "text/x-python",
   "name": "python",
   "nbconvert_exporter": "python",
   "pygments_lexer": "ipython2",
   "version": "2.7.10"
  }
 },
 "nbformat": 4,
 "nbformat_minor": 0
}
