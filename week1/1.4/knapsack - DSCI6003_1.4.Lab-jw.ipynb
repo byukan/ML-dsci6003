{
 "cells": [
  {
   "cell_type": "markdown",
   "metadata": {},
   "source": [
    "# DSCI 6003 1.4 Lab\n",
    "\n",
    "Today you are to solve a dynamic programming problem from scratch: [Interviewcake #16](https://www.interviewcake.com/question/java/cake-thief)\n",
    "\n",
    "Repeated below:\n",
    "\n",
    "You are a renowned thief who has recently switched from stealing precious metals to stealing cakes because of the insane profit margins. You end up hitting the jackpot, breaking into the world's largest privately owned stock of cakes—the vault of the Queen of England.\n",
    "While Queen Elizabeth has a limited number of types of cake, she has an unlimited supply of each type.\n",
    "\n",
    "Each type of cake has a weight and a value, stored in objects of a CakeType class:\n",
    "\n",
    "    class CakeType:\n",
    "        def __init__(self, typename, weight, value):\n",
    "            self.typename = typename\n",
    "            self.weight = weight\n",
    "            self.value = value\n",
    "\n",
    "i.e. cake1 = CakeType(chocolate, 3, 50)\n",
    "\n",
    "Begin by diagramming the solution and drawing a parallel to other problems we have discussed in class. Work through the solution step by step without drilling through the internet. You might consider a simpler problem first.\n",
    "\n",
    "Good luck. "
   ]
  },
  {
   "cell_type": "code",
   "execution_count": null,
   "metadata": {
    "collapsed": true
   },
   "outputs": [],
   "source": [
    "\"\"\"\n",
    "    @brief knapsack problem\n",
    "\"\"\"\n",
    "\n",
    "# Queen Elizabeth has a limited number of types of cakes, but unlimited supply of each\n",
    "# unbounded"
   ]
  },
  {
   "cell_type": "code",
   "execution_count": 7,
   "metadata": {
    "collapsed": false
   },
   "outputs": [
    {
     "data": {
      "text/plain": [
       "(array([1, 2, 0]), 1)"
      ]
     },
     "execution_count": 7,
     "metadata": {},
     "output_type": "execute_result"
    }
   ],
   "source": [
    "import numpy as np\n",
    "x = np.array([3, 1, 2])\n",
    "index_array = np.argsort(x)\n",
    "\n",
    "index_array, x[index_array[0]]"
   ]
  },
  {
   "cell_type": "code",
   "execution_count": 8,
   "metadata": {
    "collapsed": true
   },
   "outputs": [],
   "source": [
    "class CakeType:\n",
    "    def __init__(self, typename, weight, value):\n",
    "        self.typename = typename\n",
    "        self.weight = weight\n",
    "        self.value = value\n",
    "        self.density = value/weight"
   ]
  },
  {
   "cell_type": "code",
   "execution_count": 41,
   "metadata": {
    "collapsed": false
   },
   "outputs": [
    {
     "ename": "IndentationError",
     "evalue": "expected an indented block (<ipython-input-41-d82029ebcb17>, line 26)",
     "output_type": "error",
     "traceback": [
      "\u001b[0;36m  File \u001b[0;32m\"<ipython-input-41-d82029ebcb17>\"\u001b[0;36m, line \u001b[0;32m26\u001b[0m\n\u001b[0;31m    chocolate = CakeType('chocolate', 3, 8)\u001b[0m\n\u001b[0m                                           ^\u001b[0m\n\u001b[0;31mIndentationError\u001b[0m\u001b[0;31m:\u001b[0m expected an indented block\n"
     ]
    }
   ],
   "source": [
    "def knapsack(capacity, selections):\n",
    "    \"\"\"\n",
    "    \n",
    "    :return: maximum monetary value the knapsackcan hold\n",
    "    \"\"\"\n",
    "    \n",
    "    # sorted list of densities\n",
    "    v = [x.density for x in selections]\n",
    "    \n",
    "    index_array = np.argsort(selections)\n",
    "    # index of the densest cake\n",
    "    \n",
    "    \n",
    "    # for x in lizs_stash:\n",
    "    #     v.append(x.density)\n",
    "    current_weight = 0\n",
    "    my_cakes = []\n",
    "    \n",
    "    while current_weight < capacity:\n",
    "        i = 0\n",
    "        p = np.where(x==i)[0][0]  # position of ith densest cake\n",
    "\n",
    "        # add one unit of the most dense cake, if it won't overflow the capacity\n",
    "        while current_weight + v[p] < capacity:\n",
    "            current_weight += v[p]\n",
    "            my_cakes.append(selections[i])\n",
    "#         else:  # try adding one of the next densest\n",
    "            \n",
    "    \n",
    "    \n",
    "    \n",
    "chocolate = CakeType('chocolate', 3, 8)\n",
    "key_lime = CakeType('key_lime', 2, 6)\n",
    "strawberry = CakeType('strawberry', 4, 10)\n",
    "\n",
    "lizs_stash = [chocolate, key_lime, strawberry]\n",
    "\n",
    "\n",
    "\n",
    "knapsack(19, lizs_stash)"
   ]
  },
  {
   "cell_type": "code",
   "execution_count": 38,
   "metadata": {
    "collapsed": false
   },
   "outputs": [
    {
     "data": {
      "text/plain": [
       "0"
      ]
     },
     "execution_count": 38,
     "metadata": {},
     "output_type": "execute_result"
    }
   ],
   "source": [
    "x = np.array([14, 13,  1, 15,  8,  0, 17, 11, 19, 13])\n",
    "array_index = np.where(x == 14)\n",
    "array_index[0][0]"
   ]
  },
  {
   "cell_type": "code",
   "execution_count": null,
   "metadata": {
    "collapsed": true
   },
   "outputs": [],
   "source": []
  }
 ],
 "metadata": {
  "anaconda-cloud": {},
  "kernelspec": {
   "display_name": "Python [conda env:nlp]",
   "language": "python",
   "name": "conda-env-nlp-py"
  },
  "language_info": {
   "codemirror_mode": {
    "name": "ipython",
    "version": 3
   },
   "file_extension": ".py",
   "mimetype": "text/x-python",
   "name": "python",
   "nbconvert_exporter": "python",
   "pygments_lexer": "ipython3",
   "version": "3.5.2"
  }
 },
 "nbformat": 4,
 "nbformat_minor": 0
}
