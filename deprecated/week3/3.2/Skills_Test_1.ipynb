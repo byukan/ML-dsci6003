{
 "cells": [
  {
   "cell_type": "markdown",
   "metadata": {},
   "source": [
    "# Skills Test 1\n",
    "\n",
    "Solve problems that you are comfortable with first, to the best of your ability. Realize that many, if not most, students may not complete the entire test, and thus you need to focus on *doing your best on what you can*. \n",
    "\n",
    "* Time: 90 minutes\n",
    "* Closed Book\n",
    "* Individual\n",
    "\n",
    "Remember: Everything is Showbiz. Break a leg."
   ]
  },
  {
   "cell_type": "markdown",
   "metadata": {},
   "source": [
    "# Written Examination\n",
    "\n",
    "Focus on producing concise, complete answers to the written sections. Place answers to each question in the appropriate cell. Written answers that are complete but spitballing (i.e. B.S.) will be unlikely to recieve any points. Partial answers with a few correct elements are much more likely to do better."
   ]
  },
  {
   "cell_type": "markdown",
   "metadata": {},
   "source": [
    "## Discussing Models:"
   ]
  },
  {
   "cell_type": "markdown",
   "metadata": {},
   "source": [
    "1) Write a concise description of each of the elements for k-Nearest Neighbors:\n",
    "\n",
    "* Hypothesis\n",
    "* Cost\n",
    "* Optimization\n",
    "\n",
    "(It is true that these elements do not map cleanly to those of other algorithms you have learned, however you should be able to take a moment and reason out approximately what they should be.)"
   ]
  },
  {
   "cell_type": "markdown",
   "metadata": {},
   "source": [
    "2) k-Nearest Neighbors: what are the:\n",
    "\n",
    "* Use cases\n",
    "* Strengths\n",
    "* Weaknesses \n",
    "\n",
    "(short answers!)"
   ]
  },
  {
   "cell_type": "markdown",
   "metadata": {},
   "source": [
    "3) You have produced the below diagram of performance for your k-NN algorithm. Assume that you have used euclidean distance for your distance metric. Explain in a concise discription what is happening and the *mathematical reason as to why* it is happening. \n",
    "\n",
    "\n",
    "\n",
    "![dvp](./images/dvp.png)"
   ]
  },
  {
   "cell_type": "markdown",
   "metadata": {},
   "source": [
    "4) Write a concise description (including mathematical formulae) of each of the elements for Regularized Logistic Regression:\n",
    "\n",
    "* Hypothesis\n",
    "* Cost\n",
    "* Optimization\n"
   ]
  },
  {
   "cell_type": "markdown",
   "metadata": {},
   "source": [
    "5) Logistic Regression: Why would we choose to use a logistic regression over any other type of regression? What is the real difference between a logistic regression and any other?"
   ]
  },
  {
   "cell_type": "markdown",
   "metadata": {},
   "source": [
    "6) How do we measure the performance of Logistic Regression? How does this differ from measurement of the performance of standard Regression?"
   ]
  },
  {
   "cell_type": "markdown",
   "metadata": {},
   "source": [
    "7) Write a concise description (including mathematical formulae) of each of the elements for Naive Bayes:\n",
    "\n",
    "* Hypothesis\n",
    "* Cost\n",
    "* Optimization\n"
   ]
  },
  {
   "cell_type": "markdown",
   "metadata": {},
   "source": [
    "8) Why is Naive Bayes so naive? Use the mathematics to provide an explanation. The best answer will discuss the probability theory involved."
   ]
  },
  {
   "cell_type": "markdown",
   "metadata": {},
   "source": [
    "9) Why would I prefer to use lasso regression instead of ridge regression? "
   ]
  },
  {
   "cell_type": "markdown",
   "metadata": {},
   "source": [
    "## Model Metrics\n",
    "\n",
    "These questions will require a little extra writing than the above section. "
   ]
  },
  {
   "cell_type": "markdown",
   "metadata": {},
   "source": [
    "1) Why does the Bias-Variance tradeoff occur? More specifically, what causes it?"
   ]
  },
  {
   "cell_type": "markdown",
   "metadata": {},
   "source": [
    "2) How do we know that a model is underfit? "
   ]
  },
  {
   "cell_type": "markdown",
   "metadata": {},
   "source": [
    "3) How do we know that a model is overfit?"
   ]
  },
  {
   "cell_type": "markdown",
   "metadata": {},
   "source": [
    "4) How do bias and variance relate to precision and accuracy? How do they relate to Type I and Type II errors?"
   ]
  },
  {
   "cell_type": "markdown",
   "metadata": {},
   "source": [
    "5) Why is $R^{2}$ not a good metric to compare two regression models? What would be a better choice to compare them?"
   ]
  },
  {
   "cell_type": "markdown",
   "metadata": {},
   "source": [
    "### Questions 6-8\n",
    "\n",
    "Below is a ROC curve detailing the confusion matrix of a binary ultrasound test for uterine cancer. The ultrasound device makes it possible to measure its thickness. The idea of the test is to measure the thickness of the wall and set a threshold of thickness that is \"normal\". \n",
    "\n",
    "When the test measures a thickness greater this number, the patient will be labeled as a cancer risk and the test will be \"positive\". Below the number the test will be \"negative.\"\n",
    "\n",
    "Of course there are limitations. \n",
    "\n",
    "![uterine_roc](./images/ROC_endometrial.jpg)"
   ]
  },
  {
   "cell_type": "markdown",
   "metadata": {},
   "source": [
    "6) Write a *brief* description of what is happening in the above figure, discussing the role of sensitivity and specificity with respect to the confusion matrix."
   ]
  },
  {
   "cell_type": "markdown",
   "metadata": {},
   "source": [
    "7) Suppose that this test is expensive and lacks predictive value of outcome and thus we want to minimize the number of false positives while still keeping the test usefully diagnostic. Where should we set the threshold?"
   ]
  },
  {
   "cell_type": "markdown",
   "metadata": {},
   "source": [
    "8) Suppose that this test is cheap and it doesn't matter to us what the human implications are of giving millions of women a year the belief that they are soon to be diagnosed with uterine cancer. Our intent is to diagnose every possible case while keeping the number of false positives reasonable. Where should we set the threshold?"
   ]
  },
  {
   "cell_type": "markdown",
   "metadata": {},
   "source": [
    "# Coding Examination\n"
   ]
  },
  {
   "cell_type": "markdown",
   "metadata": {},
   "source": [
    "## Bernoulli Bayes\n",
    "\n",
    "You will need to use the original lab for Naive Bayes.\n",
    "\n",
    "Naive Bayes has numerous variants. The only difference between each of these variants and Multinomial Bayes is in the calculation of the distribution of likelihoods.  For Bernoulli Bayes we have the following likelihood function:\n",
    "\n",
    "$$p(y|x) = p(x_{i}|y)^{N_{1}}(1-p(x_{i}|y))^{N_{0}}$$\n",
    "\n",
    "Where $y$ is the class to be predicted, $p(x_{i}|y)$ is the frequency of a feature (word) given the class. However, we account for the prediction of the class discussing the frequencies of appearance each label has. That is to say, $N_{1}$ is the number of counts of a given feature (word) within that class and/or prediction. $N_{0}$ is the number of counts when the given feature does *not* appear within a given class! Hence we are predicting *negative* relationships within a class as well as positive relationships.\n",
    "\n",
    "you are permitted to study this [resource](http://nlp.stanford.edu/IR-book/html/htmledition/the-bernoulli-model-1.html) and compare with [this one](http://nlp.stanford.edu/IR-book/html/htmledition/naive-bayes-text-classification-1.html). Don't waste too much time reading!!\n",
    "\n",
    "\n",
    "1) Write the log-likelihood cost function needed for BernoulliBayes.\n",
    "\n",
    "2) Inherit from the `NaiveBayes` class from the lab to create a `BernoulliBayes` subclass.\n",
    "\n",
    "3) Overwrite the `_compute_likelihood()` function of the `NaiveBayes` parent class (within the subclass) to reflect the log-likelihood of the Bernoulli Bayes variant.\n",
    "\n",
    "4) Run your `BernoulliBayes` model on the same test harness used in the lab.  How does it score compared to the Multinomial Naive Bayes? Why would this behavior occur?"
   ]
  },
  {
   "cell_type": "code",
   "execution_count": null,
   "metadata": {
    "collapsed": true
   },
   "outputs": [],
   "source": []
  }
 ],
 "metadata": {
  "kernelspec": {
   "display_name": "Python 2",
   "language": "python",
   "name": "python2"
  },
  "language_info": {
   "codemirror_mode": {
    "name": "ipython",
    "version": 2
   },
   "file_extension": ".py",
   "mimetype": "text/x-python",
   "name": "python",
   "nbconvert_exporter": "python",
   "pygments_lexer": "ipython2",
   "version": "2.7.9"
  }
 },
 "nbformat": 4,
 "nbformat_minor": 0
}
