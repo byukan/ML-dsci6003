{
 "cells": [
  {
   "cell_type": "markdown",
   "metadata": {},
   "source": [
    "##RAT 6.1"
   ]
  },
  {
   "cell_type": "markdown",
   "metadata": {},
   "source": [
    "- Describe Bagging and use cases for bagging with standard classifiers\t \n",
    "\n",
    "- Discuss Ensemble Classifiers and the Wisdom of the Crowd in the context of machine learning\n",
    "\n",
    "- How would you architect a new data pipeline solution? (Be creative and apply what you learned:) "
   ]
  },
  {
   "cell_type": "code",
   "execution_count": null,
   "metadata": {
    "collapsed": true
   },
   "outputs": [],
   "source": [
    "### groups:\n",
    "['Lisa', 'Jacob', 'Baolin', 'Aaron M'],\n",
    "['Aaron Z', 'Trevor', 'Fraida', 'Theresa'],\n",
    "['Jonathan', 'Hemalatha', 'Nathan', 'Justin', 'Bryn']\n",
    " "
   ]
  }
 ],
 "metadata": {
  "kernelspec": {
   "display_name": "Python 2",
   "language": "python",
   "name": "python2"
  },
  "language_info": {
   "codemirror_mode": {
    "name": "ipython",
    "version": 2
   },
   "file_extension": ".py",
   "mimetype": "text/x-python",
   "name": "python",
   "nbconvert_exporter": "python",
   "pygments_lexer": "ipython2",
   "version": "2.7.11"
  }
 },
 "nbformat": 4,
 "nbformat_minor": 0
}
