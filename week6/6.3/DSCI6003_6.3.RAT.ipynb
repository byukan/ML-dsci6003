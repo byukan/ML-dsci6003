{
 "cells": [
  {
   "cell_type": "markdown",
   "metadata": {},
   "source": [
    "## RAT 6.3"
   ]
  },
  {
   "cell_type": "markdown",
   "metadata": {},
   "source": [
    "- Describe the Gradient Boosting Algorithm and its use cases\n",
    "\n",
    "- Why are we able to cross validate our Random Forest with our training set (OOB error)? I.e. Why doesn't this count as testing on my training set?\n",
    "\n",
    "- In Random Forests, what do you expect to happen to the test error as you build more trees? How is this different from increasing the number of trees in Boosting?\n",
    "\n",
    "- Say I have 50 machines that I can use to build my model. Which of these ensemble methods can utilize multiple machines?\n",
    "    - Random Forest\n",
    "    - Gradient Boosting\n",
    "    - AdaBoost"
   ]
  },
  {
   "cell_type": "code",
   "execution_count": 1,
   "metadata": {
    "collapsed": true
   },
   "outputs": [],
   "source": [
    "#  Groups\n",
    "[['Justin', 'Theresa', 'Hemalatha', 'Aaron Z', 'Trevor'],\n",
    " ['Nathan', 'Jonathan', 'Jacob', 'Lisa'],\n",
    " ['Bryn', 'Fraida', 'Aaron M', 'Baolin']]"
   ]
  }
 ],
 "metadata": {
  "anaconda-cloud": {},
  "kernelspec": {
   "display_name": "Python [conda env:nlp]",
   "language": "python",
   "name": "conda-env-nlp-py"
  },
  "language_info": {
   "codemirror_mode": {
    "name": "ipython",
    "version": 3
   },
   "file_extension": ".py",
   "mimetype": "text/x-python",
   "name": "python",
   "nbconvert_exporter": "python",
   "pygments_lexer": "ipython3",
   "version": "3.5.2"
  }
 },
 "nbformat": 4,
 "nbformat_minor": 0
}
