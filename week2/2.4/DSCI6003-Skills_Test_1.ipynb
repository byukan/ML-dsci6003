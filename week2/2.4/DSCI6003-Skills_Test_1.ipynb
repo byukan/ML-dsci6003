{
 "cells": [
  {
   "cell_type": "markdown",
   "metadata": {
    "collapsed": true
   },
   "source": [
    "# DSCI 6003 Skills Test 1\n",
    "\n",
    "1. Diagram the solution correctly\n",
    "2. Write pseudocode\n",
    "3. Write actual code\n",
    "4. Test it\n",
    "\n",
    "Partial solutions will be accepted. Plagiarism will result in serious consequences."
   ]
  },
  {
   "cell_type": "markdown",
   "metadata": {},
   "source": [
    "1) \n",
    "\n",
    "Write an algorithm using a completed Union-Find class to determine if a graph has a **cycle** in it. \n",
    "\n",
    "Consider the below graph. If all three nodes are connected, the graph has a cycle.\n",
    "\n",
    "        0\n",
    "        |  \\\n",
    "        |    \\\n",
    "        1-----2\n",
    "\n",
    "The following UF array represents this closed cycle graph:\n",
    "\n",
    "    index: 0   1   2\n",
    "\n",
    "    value: 1   2   2\n",
    "\n",
    "Your whole program should build several types of graphs, including those with cycles, and test for each."
   ]
  },
  {
   "cell_type": "markdown",
   "metadata": {},
   "source": [
    "2)\n",
    "\n",
    "Implement Sillysort, with the following pseudocode:\n",
    "\n",
    "    given an array of digits a of length N\n",
    "\n",
    "    moving forward along a starting from the second position to the end:\n",
    "        run _sillysort(a, N)\n",
    "\n",
    "    define _sillysort(a, start_pos):\n",
    "        set position = start_pos\n",
    "        moving backwards along a from start_pos:\n",
    "            if the a[position-1] is greater than a[position]:\n",
    "                swap a[position-1] and a[position]\n",
    "\n"
   ]
  },
  {
   "cell_type": "markdown",
   "metadata": {},
   "source": [
    "3) \n",
    "\n",
    "Write a function that prints out all the different possible ways you can make change from a list of coins, given the amount N to make change for, the number of types M of infinitely available coins, and list of coin values C where $C=\\{C_1,C_2,C_3,..,C_M\\}$. You may choose any number of coins as long as their sum is equal to N.\n",
    "\n",
    "You cannot just use a cartesian product and provide all combinations of coins whose value equals N. You must provide an answer that can solve for thousands or millions of different types of coins.\n"
   ]
  },
  {
   "cell_type": "markdown",
   "metadata": {},
   "source": [
    "4)\n",
    "\n",
    "Suppose we have a dataset that has 5 features. Why might we use PCA or LDA before performing kNN? "
   ]
  },
  {
   "cell_type": "code",
   "execution_count": null,
   "metadata": {
    "collapsed": true
   },
   "outputs": [],
   "source": []
  }
 ],
 "metadata": {
  "kernelspec": {
   "display_name": "Python 2",
   "language": "python",
   "name": "python2"
  },
  "language_info": {
   "codemirror_mode": {
    "name": "ipython",
    "version": 2
   },
   "file_extension": ".py",
   "mimetype": "text/x-python",
   "name": "python",
   "nbconvert_exporter": "python",
   "pygments_lexer": "ipython2",
   "version": "2.7.10"
  }
 },
 "nbformat": 4,
 "nbformat_minor": 0
}
