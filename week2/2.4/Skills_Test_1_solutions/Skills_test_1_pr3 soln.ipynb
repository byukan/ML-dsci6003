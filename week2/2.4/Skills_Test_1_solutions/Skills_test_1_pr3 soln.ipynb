{
 "cells": [
  {
   "cell_type": "code",
   "execution_count": 28,
   "metadata": {
    "collapsed": false
   },
   "outputs": [],
   "source": [
    "def combs(N, C):\n",
    "    \n",
    "    combos = []\n",
    "    def find_combs(N, C, combo=None, index=0, combos=[]):\n",
    "        T = len(C)\n",
    "        if combo == None:\n",
    "            combo = []\n",
    "        csum = sum(combo)\n",
    "        if csum == N:\n",
    "            yield combo\n",
    "        else:\n",
    "            for i in xrange(index, T):\n",
    "                c = C[i]\n",
    "                if csum+c <=N:\n",
    "                    next_combo = combo+[c]\n",
    "                    for c in find_combs(N, C, next_combo, i, combos):\n",
    "                        yield c\n",
    "    \n",
    "    for i in find_combs(N, C, combos):\n",
    "        combos.append(i)\n"
   ]
  },
  {
   "cell_type": "code",
   "execution_count": 54,
   "metadata": {
    "collapsed": true
   },
   "outputs": [],
   "source": [
    "def find_combs(N, C, combo=None, index=0):\n",
    "    T = len(C)\n",
    "    if combo == None:\n",
    "        combo = []\n",
    "    csum = sum(combo)\n",
    "    if csum == N:\n",
    "        yield combo\n",
    "    else:\n",
    "        for i in xrange(index, T):\n",
    "            c = C[i]\n",
    "            if csum+c <=N:\n",
    "                next_combo = combo+[c]\n",
    "                for c in find_combs(N, C, next_combo, i):\n",
    "                    yield c"
   ]
  },
  {
   "cell_type": "code",
   "execution_count": 67,
   "metadata": {
    "collapsed": false
   },
   "outputs": [],
   "source": [
    "def combs(N, C):\n",
    "    \n",
    "    T = len(C)\n",
    "    combos = []\n",
    "    def gen_comb(N, C, T, combos, combo=None, index=0):\n",
    "        \n",
    "        if combo==None:\n",
    "            combo = []\n",
    "        \n",
    "        csum = sum(combo)\n",
    "        \n",
    "        if csum == N:\n",
    "            return combo\n",
    "            \n",
    "        else:\n",
    "            if csum+C[index] <=N:\n",
    "                next_combo = combo+[C[index]]\n",
    "                return gen_comb(N, C, T, combos, next_combo, index+1)\n",
    "                \n",
    "    gen_comb(N, C, T, combos)\n"
   ]
  },
  {
   "cell_type": "code",
   "execution_count": 115,
   "metadata": {
    "collapsed": false
   },
   "outputs": [],
   "source": [
    "from collections import Counter\n",
    "import copy\n",
    "\n",
    "def find_combs(N, C):\n",
    "    combos = []\n",
    "    def gen_combs(N, C, combos, combo=None, index=0):\n",
    "\n",
    "        if combo==None:\n",
    "            combo = Counter()\n",
    "            \n",
    "        csum = sum(k*v for k, v in combo.iteritems())\n",
    "        \n",
    "        if csum == N:\n",
    "            combos.append(combo)\n",
    "        else:\n",
    "            # try all possible change choices\n",
    "            for i in xrange(index, len(C)):            \n",
    "                if csum+C[i] <=N:\n",
    "                    # this is the one real weakness of this approach \n",
    "                    # - you have to spawn a copy\n",
    "                    new_combo = copy.copy(combo)\n",
    "                    new_combo[C[i]] += 1\n",
    "                    gen_combs(N, C, combos, new_combo, i)\n",
    "    gen_combs(N,C, combos)\n",
    "    return combos"
   ]
  },
  {
   "cell_type": "code",
   "execution_count": 116,
   "metadata": {
    "collapsed": false
   },
   "outputs": [
    {
     "name": "stdout",
     "output_type": "stream",
     "text": [
      "0\n",
      "1\n",
      "2\n",
      "3\n",
      "4\n",
      "5\n",
      "5\n",
      "4\n",
      "3\n",
      "5\n",
      "2\n",
      "4\n",
      "5\n"
     ]
    },
    {
     "data": {
      "text/plain": [
       "[Counter({1: 5}),\n",
       " Counter({1: 3, 2: 1}),\n",
       " Counter({2: 2, 1: 1}),\n",
       " Counter({5: 1})]"
      ]
     },
     "execution_count": 116,
     "metadata": {},
     "output_type": "execute_result"
    }
   ],
   "source": [
    "N = 5\n",
    "C = [1, 2, 5]\n",
    "find_combs(N, C)"
   ]
  },
  {
   "cell_type": "code",
   "execution_count": 55,
   "metadata": {
    "collapsed": false
   },
   "outputs": [
    {
     "name": "stdout",
     "output_type": "stream",
     "text": [
      "[1, 1, 1, 1, 1]\n",
      "[1, 1, 1, 2]\n",
      "[1, 2, 2]\n",
      "[5]\n"
     ]
    }
   ],
   "source": [
    "N = 5\n",
    "C = [1, 2, 5]\n",
    "for i in find_combs(N, C):\n",
    "    print i"
   ]
  },
  {
   "cell_type": "code",
   "execution_count": null,
   "metadata": {
    "collapsed": true
   },
   "outputs": [],
   "source": []
  }
 ],
 "metadata": {
  "kernelspec": {
   "display_name": "Python 2",
   "language": "python",
   "name": "python2"
  },
  "language_info": {
   "codemirror_mode": {
    "name": "ipython",
    "version": 2
   },
   "file_extension": ".py",
   "mimetype": "text/x-python",
   "name": "python",
   "nbconvert_exporter": "python",
   "pygments_lexer": "ipython2",
   "version": "2.7.10"
  }
 },
 "nbformat": 4,
 "nbformat_minor": 0
}
