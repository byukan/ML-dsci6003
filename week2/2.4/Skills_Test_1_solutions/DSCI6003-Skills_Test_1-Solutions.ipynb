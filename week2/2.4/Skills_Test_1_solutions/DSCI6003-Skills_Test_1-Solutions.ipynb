{
 "cells": [
  {
   "cell_type": "markdown",
   "metadata": {
    "collapsed": true
   },
   "source": [
    "# DSCI 6003 Skills Test 1\n",
    "\n",
    "1. Diagram the solution correctly\n",
    "2. Write pseudocode\n",
    "3. Write actual code\n",
    "4. Test it\n",
    "\n",
    "Partial solutions will be accepted. Plagiarism will result in serious consequences."
   ]
  },
  {
   "cell_type": "markdown",
   "metadata": {},
   "source": [
    "1) \n",
    "\n",
    "Write an algorithm using a completed Union-Find class to determine if a graph has a **cycle** in it. \n",
    "\n",
    "Consider the below graph. If all three nodes are connected, the graph has a cycle.\n",
    "\n",
    "        0\n",
    "        |  \\\n",
    "        |    \\\n",
    "        1-----2\n",
    "\n",
    "The following UF array represents this closed cycle graph:\n",
    "\n",
    "    index: 0   1   2\n",
    "\n",
    "    value: 1   2   2\n",
    "\n",
    "Your whole program should build several types of graphs, including those with cycles, and test for each."
   ]
  },
  {
   "cell_type": "code",
   "execution_count": 65,
   "metadata": {
    "collapsed": false
   },
   "outputs": [],
   "source": [
    "from collections import defaultdict\n",
    "\n",
    "\n",
    "class UF:\n",
    "    \"\"\"An implementation of union find data structure.\n",
    "    It uses weighted quick union by rank with path compression.\n",
    "    \"\"\"\n",
    "\n",
    "    def __init__(self, N):\n",
    "        \"\"\"Initialize an empty union find object with N items.\n",
    "\n",
    "        Args:\n",
    "            N: Number of items in the union find object.\n",
    "        \"\"\"\n",
    "\n",
    "        self._id = list(range(N))\n",
    "        self._count = N\n",
    "        self._rank = [0] * N\n",
    "        self._N = N\n",
    "        self._symbol_to_index = {}\n",
    "        self._index_to_symbol = {}\n",
    "        self._edges = {} # source, destination\n",
    "\n",
    "    def find(self, p):\n",
    "        \"\"\"Find the set identifier for the item p.\"\"\"\n",
    "\n",
    "        # For integer items, try to preserve natural 0--N order if\n",
    "        # possible, even if the successive calls to find are not in\n",
    "        # that order\n",
    "        if isinstance(p, int) and p < self._N and \\\n",
    "           p not in self._index_to_symbol:\n",
    "            self._symbol_to_index[p] = p\n",
    "            self._index_to_symbol[p] = p\n",
    "        else:\n",
    "            # Non-integer items (e.g. string)\n",
    "            self._symbol_to_index.setdefault(p, len(self._symbol_to_index))\n",
    "            self._index_to_symbol.setdefault(self._symbol_to_index[p], p)\n",
    "        i = self._symbol_to_index[p]\n",
    "        if i >= self._N:\n",
    "            raise IndexError('You have been exceeding the UF capacity')\n",
    "\n",
    "        id = self._id\n",
    "        while i != id[i]:\n",
    "            id[i] = id[id[i]]   # Path compression\n",
    "            i = id[i]\n",
    "        return i\n",
    "\n",
    "    def count(self):\n",
    "        \"\"\"Return the number of items.\"\"\"\n",
    "\n",
    "        return self._count\n",
    "\n",
    "    def connected(self, p, q):\n",
    "        \"\"\"Check if the items p and q are on the same set or not.\"\"\"\n",
    "\n",
    "        return self.find(p) == self.find(q)\n",
    "\n",
    "    def union(self, p, q):\n",
    "        \"\"\"Combine sets containing p and q into a single set.\"\"\"\n",
    "\n",
    "        if p not in self._edges:\n",
    "            self._edges[p] = [q] \n",
    "        else:\n",
    "            self._edges[p].append(q) # to make this more serious, you would need methods to handle requests of object names\n",
    "        \n",
    "        if q not in self._edges:\n",
    "            self._edges[q] = [p]\n",
    "        else:\n",
    "            self._edges[q].append(p) # to make this more serious, you would need methods to handle requests of object names\n",
    "                \n",
    "        id = self._id\n",
    "        rank = self._rank\n",
    "\n",
    "        i = self.find(p)\n",
    "        j = self.find(q)\n",
    "        if i == j:\n",
    "            return\n",
    "\n",
    "        self._count -= 1\n",
    "        if rank[i] < rank[j]:\n",
    "            id[i] = j\n",
    "        elif rank[i] > rank[j]:\n",
    "            id[j] = i\n",
    "        else:\n",
    "            id[j] = i\n",
    "            rank[i] += 1\n",
    "\n",
    "    def find_cycles(self):\n",
    "        adjt = []\n",
    "        for k, aj in self._edges.iteritems():\n",
    "            adj = []\n",
    "            if aj:\n",
    "                for e in aj:\n",
    "                    adj.append(e)\n",
    "            adjt.append(adj)\n",
    "\n",
    "\n",
    "        def _find_cycles(v, adjacent, visited, parent):\n",
    "            visited[v] = True\n",
    "            for i, a in enumerate(adjacent[v]):\n",
    "                if not visited[a]: \n",
    "                    return _find_cycles(a, adjacent, visited, v)\n",
    "                elif a != parent:\n",
    "                    return True\n",
    "            return False\n",
    "\n",
    "\n",
    "        visited = len(self._edges)*[False]\n",
    "        for v, n in self._edges.iteritems():\n",
    "            if not visited[v]:\n",
    "                return _find_cycles(v, adjt, visited, -1)\n",
    "        return False\n",
    "  \n",
    "    \n",
    "    def get_components(self):\n",
    "        \"\"\"List of symbol components (as sets)\"\"\"\n",
    "        d = defaultdict(set)\n",
    "        for i, j in enumerate(self._id):\n",
    "            d[self.find(self._index_to_symbol.get(j, j))].add(self._index_to_symbol.get(i, i))\n",
    "        return list(d.values())\n",
    "\n",
    "    def __str__(self):\n",
    "        \"\"\"String representation of the union find object.\"\"\"\n",
    "        return \" \".join([str(x) for x in self._id])\n",
    "\n",
    "    def __repr__(self):\n",
    "        \"\"\"Representation of the union find object.\"\"\"\n",
    "        return \"UF(\" + str(self) + \")\""
   ]
  },
  {
   "cell_type": "code",
   "execution_count": 66,
   "metadata": {
    "collapsed": false
   },
   "outputs": [
    {
     "name": "stdout",
     "output_type": "stream",
     "text": [
      "[0, 1, 2, 3, 4, 5]\n",
      "case 1:\n",
      "True\n",
      "case 2:\n",
      "True\n",
      "case 3:\n",
      "False\n"
     ]
    }
   ],
   "source": [
    "\n",
    "'''\n",
    "1.\n",
    "\n",
    "    0---1---4\n",
    "    |   |  \n",
    "    |   |  \n",
    " 5--2---3\n",
    "\n",
    "\n",
    "'''\n",
    "\n",
    "\n",
    "'''\n",
    "2.\n",
    "\n",
    "    0---1---3---5\n",
    "    |   |  \n",
    "    |   |  \n",
    "    2---4\n",
    "\n",
    "\n",
    "'''\n",
    "\n",
    "'''\n",
    "3. \n",
    "\n",
    "    0---3---2---4---1\n",
    "    \n",
    "    \n",
    "'''\n",
    "\n",
    "\n",
    "# case 1\n",
    "\n",
    "#Initialize a list of length 10 as a UnionFind class\n",
    "\n",
    "uf = UF(6)\n",
    "uf.union(0,1)\n",
    "uf.union(0,2)\n",
    "uf.union(1,3)\n",
    "uf.union(2,3)\n",
    "\n",
    "\n",
    "print \"case 1:\"\n",
    "print uf.find_cycles()\n",
    "\n",
    "\n",
    "#Initialize a list of length 10 as a UnionFind class\n",
    "\n",
    "uf2 = UF(6)\n",
    "uf2.union(0,1)\n",
    "uf2.union(0,2)\n",
    "uf2.union(1,4)\n",
    "uf2.union(2,4)\n",
    "uf2.union(1,3)\n",
    "uf2.union(3,5)\n",
    "\n",
    "print \"case 2:\"\n",
    "print uf2.find_cycles()\n",
    "\n",
    "# case 3\n",
    "\n",
    "#Initialize a list of length 10 as a UnionFind class\n",
    "\n",
    "uf3 = UF(6)\n",
    "\n",
    "uf3.union(0,3)\n",
    "uf3.union(3,2)\n",
    "uf3.union(2,4)\n",
    "uf3.union(4,1)\n",
    "\n",
    "\n",
    "\n",
    "print \"case 3:\"\n",
    "print uf3.find_cycles()\n",
    "\n"
   ]
  },
  {
   "cell_type": "markdown",
   "metadata": {},
   "source": [
    "2)\n",
    "\n",
    "Implement Sillysort, with the following pseudocode:\n",
    "\n",
    "    given an array of digits a of length N\n",
    "\n",
    "    moving forward along a starting from the second position to the end:\n",
    "        run _sillysort(a, N)\n",
    "\n",
    "    define _sillysort(a, start_pos):\n",
    "        set position = start_pos\n",
    "        moving backwards along a from start_pos:\n",
    "            if the a[position-1] is greater than a[position]:\n",
    "                swap a[position-1] and a[position]\n",
    "\n"
   ]
  },
  {
   "cell_type": "code",
   "execution_count": 101,
   "metadata": {
    "collapsed": true
   },
   "outputs": [],
   "source": [
    "def sillysort(a):\n",
    "    N = len(a)\n",
    "    \n",
    "    def _swap(a, b):\n",
    "        return b, a\n",
    "    \n",
    "    def _sillysort(a, start):\n",
    "        pos = start\n",
    "        for i in xrange(pos, 0,-1):\n",
    "            if a[i-1] > a[i]:\n",
    "                 a[i-1], a[i] = a[i], a[i-1]\n",
    "    \n",
    "    for i in xrange(1, N):\n",
    "        _sillysort(a, N-1)\n",
    "    return a"
   ]
  },
  {
   "cell_type": "code",
   "execution_count": 111,
   "metadata": {
    "collapsed": false
   },
   "outputs": [],
   "source": [
    "\n",
    "for i in xrange(5):\n",
    "    a = [random.randrange(0, 101, 1) for i in xrange(100)]\n",
    "    assert sillysort(a) == sorted(a)\n",
    "    # test the student's code here"
   ]
  },
  {
   "cell_type": "markdown",
   "metadata": {},
   "source": [
    "3) \n",
    "\n",
    "Write a function that prints out all the different possible ways you can make change from a list of coins, given the amount N to make change for, the number of types M of infinitely available coins, and list of coin values C where $C=\\{C_1,C_2,C_3,..,C_M\\}$. You may choose any number of coins as long as their sum is equal to N.\n",
    "\n",
    "You cannot just use a cartesian product and provide all combinations of coins whose value equals N. You must provide an answer that can solve for thousands or millions of different types of coins.\n"
   ]
  },
  {
   "cell_type": "code",
   "execution_count": 128,
   "metadata": {
    "collapsed": true
   },
   "outputs": [],
   "source": [
    "from collections import Counter\n",
    "import copy\n",
    "\n",
    "def find_combs(N, C):\n",
    "    # store the combos in a local list\n",
    "    \n",
    "    combos = []\n",
    "    def gen_combs(N, C, combos, combo=None, index=0):\n",
    "\n",
    "        if combo==None:\n",
    "            combo = Counter()\n",
    "            \n",
    "        csum = sum(k*v for k, v in combo.iteritems())\n",
    "        \n",
    "        if csum == N:\n",
    "            combos.append(combo)\n",
    "        else:\n",
    "            # try all possible change choices\n",
    "            for i in xrange(index, len(C)):            \n",
    "                if csum+C[i] <=N:\n",
    "                    # this is the one real weakness of this approach \n",
    "                    # - you have to spawn a copy\n",
    "                    new_combo = copy.copy(combo)\n",
    "                    new_combo[C[i]] += 1\n",
    "                    gen_combs(N, C, combos, new_combo, i)\n",
    "    gen_combs(N,C, combos)\n",
    "    return combos"
   ]
  },
  {
   "cell_type": "code",
   "execution_count": 129,
   "metadata": {
    "collapsed": false
   },
   "outputs": [
    {
     "data": {
      "text/plain": [
       "[Counter({1: 5}),\n",
       " Counter({1: 3, 2: 1}),\n",
       " Counter({2: 2, 1: 1}),\n",
       " Counter({5: 1})]"
      ]
     },
     "execution_count": 129,
     "metadata": {},
     "output_type": "execute_result"
    }
   ],
   "source": [
    "N = 5\n",
    "C = [1, 2, 5]\n",
    "find_combs(N, C)"
   ]
  },
  {
   "cell_type": "markdown",
   "metadata": {},
   "source": [
    "4)\n",
    "\n",
    "Suppose we have a dataset that has 5 features. Why might we use PCA or LDA before performing kNN? "
   ]
  },
  {
   "cell_type": "markdown",
   "metadata": {},
   "source": [
    "**The intuition of KNN breaks down as we move beyond 3 dimensions. We might be able to recover the utility of the algorithm by removing features. This can be done by using feature projection to project the data to a plane with 3 or fewer dimensions.**"
   ]
  },
  {
   "cell_type": "code",
   "execution_count": null,
   "metadata": {
    "collapsed": true
   },
   "outputs": [],
   "source": []
  }
 ],
 "metadata": {
  "kernelspec": {
   "display_name": "Python 2",
   "language": "python",
   "name": "python2"
  },
  "language_info": {
   "codemirror_mode": {
    "name": "ipython",
    "version": 2
   },
   "file_extension": ".py",
   "mimetype": "text/x-python",
   "name": "python",
   "nbconvert_exporter": "python",
   "pygments_lexer": "ipython2",
   "version": "2.7.10"
  }
 },
 "nbformat": 4,
 "nbformat_minor": 0
}
