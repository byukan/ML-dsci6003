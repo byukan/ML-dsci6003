{
 "cells": [
  {
   "cell_type": "markdown",
   "metadata": {
    "collapsed": true
   },
   "source": [
    "# DSCI6003 2.4 Lecture\n",
    "\n",
    "## LDA and More on Dimensionality Reduction\n",
    "\n",
    "\n",
    "### By the End of This Lecture You Will\n",
    "\n",
    "1. Be familiar with the concepts of Linear Discriminant Analysis\n",
    "2. Be able to perform LDA on a discrete dataset\n",
    "3. Be able to recite the rules of thumb for dimensionality reduction\n"
   ]
  },
  {
   "cell_type": "markdown",
   "metadata": {},
   "source": [
    "[Linear Discriminant Analysis (LDA)](http://scikit-learn.org/0.16/modules/lda_qda.html#lda-qda) is most commonly used as a pre-processing technique, although it has found a home in some fields as a means of classification. Like PCA it makes the assumption of normally distributed, independent data (less common). It also assumes completely separable classes (more common).\n",
    "\n",
    "https://en.wikipedia.org/wiki/Linear_discriminant_analysis#Fisher.27s_linear_discriminant\n",
    "\n",
    "LDA approach is a discrete analog of Principal Component Analysis, but in addition to finding the component axes that maximize the variance of our data (PCA), we are interested in the axes that maximize the separation between classes (LDA).\n",
    "\n",
    "Because LDA is class-based, we must have the labels a priori, making this an example of a supervised learner. It is called linear discriminant analysis due to the fact that the outputs, the \"linear discriminants\" are the **eigenvectors pointing along the boundaries of separation** between the classes. "
   ]
  },
  {
   "cell_type": "markdown",
   "metadata": {},
   "source": [
    "## The LDA Method\n",
    "\n",
    "LDA is performed in almost exactly the same way as PCA:\n",
    "\n",
    "1. Compute $\\mu_{c}$, the mean feature vectors for each class $c$\n",
    "2. Compute the scatter matrix $\\Sigma_{W}$ and $\\Sigma_{B}$ for between and within classes.\n",
    "3. Solve the eigenvalue equation for $\\Sigma_{W}^{-1}\\Sigma_{B}$\n",
    "4. Sort and select eigenvectors (linear discriminants)\n",
    "5. Project the data onto the new space"
   ]
  },
  {
   "cell_type": "markdown",
   "metadata": {},
   "source": [
    "## Interpreting Eigenvalues in PCA/LDA\n",
    "\n",
    "The scree plot is often enough to determine if we have a clear dimensionality reduction. A looming danger with either method, however, occurs if noise in the data is oscillatory and of greater magnitude than the underlying signal. This is where skill and understanding of the data come in."
   ]
  },
  {
   "cell_type": "markdown",
   "metadata": {},
   "source": [
    "Below we'll perform an LDA by hand. The below code snippets are taken from [Sebastian Raschka's blog](http://sebastianraschka.com/Articles/2014_python_lda.html#step-3-solving-the-generalized-eigenvalue-problem-for-the-matrix-sw-1sb). The analysis is so adequate as to leave nothing to be desired."
   ]
  },
  {
   "cell_type": "code",
   "execution_count": 1,
   "metadata": {
    "collapsed": true
   },
   "outputs": [],
   "source": [
    "feature_dict = {i:label for i,label in zip(\n",
    "                range(4),\n",
    "                  ('sepal length in cm',\n",
    "                  'sepal width in cm',\n",
    "                  'petal length in cm',\n",
    "                  'petal width in cm', ))}"
   ]
  },
  {
   "cell_type": "code",
   "execution_count": 2,
   "metadata": {
    "collapsed": false
   },
   "outputs": [
    {
     "data": {
      "text/html": [
       "<div>\n",
       "<table border=\"1\" class=\"dataframe\">\n",
       "  <thead>\n",
       "    <tr style=\"text-align: right;\">\n",
       "      <th></th>\n",
       "      <th>sepal length in cm</th>\n",
       "      <th>sepal width in cm</th>\n",
       "      <th>petal length in cm</th>\n",
       "      <th>petal width in cm</th>\n",
       "      <th>class label</th>\n",
       "    </tr>\n",
       "  </thead>\n",
       "  <tbody>\n",
       "    <tr>\n",
       "      <th>145</th>\n",
       "      <td>6.7</td>\n",
       "      <td>3.0</td>\n",
       "      <td>5.2</td>\n",
       "      <td>2.3</td>\n",
       "      <td>Iris-virginica</td>\n",
       "    </tr>\n",
       "    <tr>\n",
       "      <th>146</th>\n",
       "      <td>6.3</td>\n",
       "      <td>2.5</td>\n",
       "      <td>5.0</td>\n",
       "      <td>1.9</td>\n",
       "      <td>Iris-virginica</td>\n",
       "    </tr>\n",
       "    <tr>\n",
       "      <th>147</th>\n",
       "      <td>6.5</td>\n",
       "      <td>3.0</td>\n",
       "      <td>5.2</td>\n",
       "      <td>2.0</td>\n",
       "      <td>Iris-virginica</td>\n",
       "    </tr>\n",
       "    <tr>\n",
       "      <th>148</th>\n",
       "      <td>6.2</td>\n",
       "      <td>3.4</td>\n",
       "      <td>5.4</td>\n",
       "      <td>2.3</td>\n",
       "      <td>Iris-virginica</td>\n",
       "    </tr>\n",
       "    <tr>\n",
       "      <th>149</th>\n",
       "      <td>5.9</td>\n",
       "      <td>3.0</td>\n",
       "      <td>5.1</td>\n",
       "      <td>1.8</td>\n",
       "      <td>Iris-virginica</td>\n",
       "    </tr>\n",
       "  </tbody>\n",
       "</table>\n",
       "</div>"
      ],
      "text/plain": [
       "     sepal length in cm  sepal width in cm  petal length in cm  \\\n",
       "145                 6.7                3.0                 5.2   \n",
       "146                 6.3                2.5                 5.0   \n",
       "147                 6.5                3.0                 5.2   \n",
       "148                 6.2                3.4                 5.4   \n",
       "149                 5.9                3.0                 5.1   \n",
       "\n",
       "     petal width in cm     class label  \n",
       "145                2.3  Iris-virginica  \n",
       "146                1.9  Iris-virginica  \n",
       "147                2.0  Iris-virginica  \n",
       "148                2.3  Iris-virginica  \n",
       "149                1.8  Iris-virginica  "
      ]
     },
     "execution_count": 2,
     "metadata": {},
     "output_type": "execute_result"
    }
   ],
   "source": [
    "import pandas as pd\n",
    "\n",
    "df = pd.io.parsers.read_csv(\n",
    "    filepath_or_buffer='https://archive.ics.uci.edu/ml/machine-learning-databases/iris/iris.data',\n",
    "    header=None,\n",
    "    sep=',',\n",
    "    )\n",
    "df.columns = [l for i,l in sorted(feature_dict.items())] + ['class label']\n",
    "df.dropna(how=\"all\", inplace=True) # to drop the empty line at file-end\n",
    "\n",
    "df.tail()"
   ]
  },
  {
   "cell_type": "code",
   "execution_count": 3,
   "metadata": {
    "collapsed": true
   },
   "outputs": [],
   "source": [
    "from sklearn.preprocessing import LabelEncoder\n",
    "\n",
    "X = df[[0,1,2,3]].values\n",
    "y = df['class label'].values\n",
    "\n",
    "enc = LabelEncoder()\n",
    "label_encoder = enc.fit(y)\n",
    "y = label_encoder.transform(y) + 1\n",
    "\n",
    "label_dict = {1: 'Setosa', 2: 'Versicolor', 3:'Virginica'}"
   ]
  },
  {
   "cell_type": "markdown",
   "metadata": {},
   "source": [
    "Once we have loaded the data, it's time to perform some basic eda to see how the classes are distributed."
   ]
  },
  {
   "cell_type": "code",
   "execution_count": 4,
   "metadata": {
    "collapsed": false
   },
   "outputs": [
    {
     "data": {
      "image/png": "[encoded data removed]",
      "text/plain": [
       "<matplotlib.figure.Figure at 0x115445150>"
      ]
     },
     "metadata": {},
     "output_type": "display_data"
    }
   ],
   "source": [
    "%matplotlib inline\n",
    "\n",
    "from matplotlib import pyplot as plt\n",
    "import numpy as np\n",
    "import math\n",
    "\n",
    "fig, axes = plt.subplots(nrows=2, ncols=2, figsize=(12,6))\n",
    "\n",
    "for ax,cnt in zip(axes.ravel(), range(4)):  \n",
    "\n",
    "    # set bin sizes\n",
    "    min_b = math.floor(np.min(X[:,cnt]))\n",
    "    max_b = math.ceil(np.max(X[:,cnt]))\n",
    "    bins = np.linspace(min_b, max_b, 25)\n",
    "\n",
    "    # plottling the histograms\n",
    "    for lab,col in zip(range(1,4), ('blue', 'red', 'green')):\n",
    "        ax.hist(X[y==lab, cnt],\n",
    "                   color=col,\n",
    "                   label='class %s' %label_dict[lab],\n",
    "                   bins=bins,\n",
    "                   alpha=0.5,)\n",
    "    ylims = ax.get_ylim()\n",
    "\n",
    "    # plot annotation\n",
    "    leg = ax.legend(loc='upper right', fancybox=True, fontsize=8)\n",
    "    leg.get_frame().set_alpha(0.5)\n",
    "    ax.set_ylim([0, max(ylims)+2])\n",
    "    ax.set_xlabel(feature_dict[cnt])\n",
    "    ax.set_title('Iris histogram #%s' %str(cnt+1))\n",
    "\n",
    "    # hide axis ticks\n",
    "    ax.tick_params(axis=\"both\", which=\"both\", bottom=\"off\", top=\"off\",  \n",
    "            labelbottom=\"on\", left=\"off\", right=\"off\", labelleft=\"on\")\n",
    "\n",
    "    # remove axis spines\n",
    "    ax.spines[\"top\"].set_visible(False)  \n",
    "    ax.spines[\"right\"].set_visible(False)\n",
    "    ax.spines[\"bottom\"].set_visible(False)\n",
    "    ax.spines[\"left\"].set_visible(False)    \n",
    "\n",
    "axes[0][0].set_ylabel('count')\n",
    "axes[1][0].set_ylabel('count')\n",
    "\n",
    "fig.tight_layout()       \n",
    "\n",
    "plt.show()"
   ]
  },
  {
   "cell_type": "code",
   "execution_count": 5,
   "metadata": {
    "collapsed": false
   },
   "outputs": [
    {
     "data": {
      "text/plain": [
       "array([[ 6.3,  3.3,  6. ,  2.5],\n",
       "       [ 5.8,  2.7,  5.1,  1.9],\n",
       "       [ 7.1,  3. ,  5.9,  2.1],\n",
       "       [ 6.3,  2.9,  5.6,  1.8],\n",
       "       [ 6.5,  3. ,  5.8,  2.2],\n",
       "       [ 7.6,  3. ,  6.6,  2.1],\n",
       "       [ 4.9,  2.5,  4.5,  1.7],\n",
       "       [ 7.3,  2.9,  6.3,  1.8],\n",
       "       [ 6.7,  2.5,  5.8,  1.8],\n",
       "       [ 7.2,  3.6,  6.1,  2.5],\n",
       "       [ 6.5,  3.2,  5.1,  2. ],\n",
       "       [ 6.4,  2.7,  5.3,  1.9],\n",
       "       [ 6.8,  3. ,  5.5,  2.1],\n",
       "       [ 5.7,  2.5,  5. ,  2. ],\n",
       "       [ 5.8,  2.8,  5.1,  2.4],\n",
       "       [ 6.4,  3.2,  5.3,  2.3],\n",
       "       [ 6.5,  3. ,  5.5,  1.8],\n",
       "       [ 7.7,  3.8,  6.7,  2.2],\n",
       "       [ 7.7,  2.6,  6.9,  2.3],\n",
       "       [ 6. ,  2.2,  5. ,  1.5],\n",
       "       [ 6.9,  3.2,  5.7,  2.3],\n",
       "       [ 5.6,  2.8,  4.9,  2. ],\n",
       "       [ 7.7,  2.8,  6.7,  2. ],\n",
       "       [ 6.3,  2.7,  4.9,  1.8],\n",
       "       [ 6.7,  3.3,  5.7,  2.1],\n",
       "       [ 7.2,  3.2,  6. ,  1.8],\n",
       "       [ 6.2,  2.8,  4.8,  1.8],\n",
       "       [ 6.1,  3. ,  4.9,  1.8],\n",
       "       [ 6.4,  2.8,  5.6,  2.1],\n",
       "       [ 7.2,  3. ,  5.8,  1.6],\n",
       "       [ 7.4,  2.8,  6.1,  1.9],\n",
       "       [ 7.9,  3.8,  6.4,  2. ],\n",
       "       [ 6.4,  2.8,  5.6,  2.2],\n",
       "       [ 6.3,  2.8,  5.1,  1.5],\n",
       "       [ 6.1,  2.6,  5.6,  1.4],\n",
       "       [ 7.7,  3. ,  6.1,  2.3],\n",
       "       [ 6.3,  3.4,  5.6,  2.4],\n",
       "       [ 6.4,  3.1,  5.5,  1.8],\n",
       "       [ 6. ,  3. ,  4.8,  1.8],\n",
       "       [ 6.9,  3.1,  5.4,  2.1],\n",
       "       [ 6.7,  3.1,  5.6,  2.4],\n",
       "       [ 6.9,  3.1,  5.1,  2.3],\n",
       "       [ 5.8,  2.7,  5.1,  1.9],\n",
       "       [ 6.8,  3.2,  5.9,  2.3],\n",
       "       [ 6.7,  3.3,  5.7,  2.5],\n",
       "       [ 6.7,  3. ,  5.2,  2.3],\n",
       "       [ 6.3,  2.5,  5. ,  1.9],\n",
       "       [ 6.5,  3. ,  5.2,  2. ],\n",
       "       [ 6.2,  3.4,  5.4,  2.3],\n",
       "       [ 5.9,  3. ,  5.1,  1.8]])"
      ]
     },
     "execution_count": 5,
     "metadata": {},
     "output_type": "execute_result"
    }
   ],
   "source": [
    "X[y==3]"
   ]
  },
  {
   "cell_type": "code",
   "execution_count": 6,
   "metadata": {
    "collapsed": false
   },
   "outputs": [
    {
     "name": "stdout",
     "output_type": "stream",
     "text": [
      "Mean Vector class 1: [ 5.006  3.418  1.464  0.244]\n",
      "\n",
      "Mean Vector class 2: [ 5.936  2.77   4.26   1.326]\n",
      "\n",
      "Mean Vector class 3: [ 6.588  2.974  5.552  2.026]\n",
      "\n"
     ]
    }
   ],
   "source": [
    "np.set_printoptions(precision=4)\n",
    "\n",
    "mean_vectors = []\n",
    "for cl in range(1,4):\n",
    "    mean_vectors.append(np.mean(X[y==cl], axis=0))\n",
    "    print('Mean Vector class %s: %s\\n' %(cl, mean_vectors[cl-1]))"
   ]
  },
  {
   "cell_type": "markdown",
   "metadata": {},
   "source": [
    "Now let's examine the scatter matrices\n"
   ]
  },
  {
   "cell_type": "code",
   "execution_count": 20,
   "metadata": {
    "collapsed": false
   },
   "outputs": [
    {
     "name": "stdout",
     "output_type": "stream",
     "text": [
      "('within-class Scatter Matrix:\\n', array([[ 38.9562,  13.683 ,  24.614 ,   5.6556],\n",
      "       [ 13.683 ,  17.035 ,   8.12  ,   4.9132],\n",
      "       [ 24.614 ,   8.12  ,  27.22  ,   6.2536],\n",
      "       [  5.6556,   4.9132,   6.2536,   6.1756]]))\n"
     ]
    }
   ],
   "source": [
    "S_W = np.zeros((4,4))\n",
    "for cl,mv in zip(range(1,4), mean_vectors):\n",
    "    class_sc_mat = np.zeros((4,4))                  # scatter matrix for every class\n",
    "    for row in X[y == cl]:\n",
    "        row, mv = row.reshape(4,1), mv.reshape(4,1) # make column vectors\n",
    "        class_sc_mat += (row-mv).dot((row-mv).T)\n",
    "    S_W += class_sc_mat                             # sum class scatter matrices\n",
    "print('within-class Scatter Matrix:\\n', S_W)"
   ]
  },
  {
   "cell_type": "code",
   "execution_count": 8,
   "metadata": {
    "collapsed": false
   },
   "outputs": [
    {
     "name": "stdout",
     "output_type": "stream",
     "text": [
      "[[ 0.4733 -0.0179  0.311   0.1555]\n",
      " [-0.0179  0.0007 -0.0118 -0.0059]\n",
      " [ 0.311  -0.0118  0.2043  0.1022]\n",
      " [ 0.1555 -0.0059  0.1022  0.0511]]\n",
      "[[ 38.9562  13.683   24.614    5.6556]\n",
      " [ 13.683   17.035    8.12     4.9132]\n",
      " [ 24.614    8.12    27.22     6.2536]\n",
      " [  5.6556   4.9132   6.2536   6.1756]]\n"
     ]
    }
   ],
   "source": [
    "row = row.reshape(4,1)\n",
    "mv = mv.reshape(4,1)\n",
    "\n",
    "print (row-mv).dot((row-mv).T)\n",
    "\n",
    "\n",
    "print S_W"
   ]
  },
  {
   "cell_type": "code",
   "execution_count": 9,
   "metadata": {
    "collapsed": false
   },
   "outputs": [
    {
     "name": "stdout",
     "output_type": "stream",
     "text": [
      "('between-class Scatter Matrix:\\n', array([[  63.2121,  -19.534 ,  165.1647,   71.3631],\n",
      "       [ -19.534 ,   10.9776,  -56.0552,  -22.4924],\n",
      "       [ 165.1647,  -56.0552,  436.6437,  186.9081],\n",
      "       [  71.3631,  -22.4924,  186.9081,   80.6041]]))\n"
     ]
    }
   ],
   "source": [
    "overall_mean = np.mean(X, axis=0)\n",
    "\n",
    "S_B = np.zeros((4,4))\n",
    "for i,mean_vec in enumerate(mean_vectors):  \n",
    "    n = X[y==i+1,:].shape[0]\n",
    "    mean_vec = mean_vec.reshape(4,1) # make column vector\n",
    "    overall_mean = overall_mean.reshape(4,1) # make column vector\n",
    "    S_B += n * (mean_vec - overall_mean).dot((mean_vec - overall_mean).T)\n",
    "\n",
    "print('between-class Scatter Matrix:\\n', S_B)"
   ]
  },
  {
   "cell_type": "code",
   "execution_count": 10,
   "metadata": {
    "collapsed": false
   },
   "outputs": [
    {
     "data": {
      "text/plain": [
       "array([[ 0.7447],\n",
       "       [-0.08  ],\n",
       "       [ 1.7933],\n",
       "       [ 0.8273]])"
      ]
     },
     "execution_count": 10,
     "metadata": {},
     "output_type": "execute_result"
    }
   ],
   "source": [
    "mean_vec - overall_mean"
   ]
  },
  {
   "cell_type": "code",
   "execution_count": 11,
   "metadata": {
    "collapsed": false
   },
   "outputs": [
    {
     "name": "stdout",
     "output_type": "stream",
     "text": [
      "\n",
      "Eigenvector 1: \n",
      "[[ 0.2049]\n",
      " [ 0.3871]\n",
      " [-0.5465]\n",
      " [-0.7138]]\n",
      "Eigenvalue 1: 3.23e+01\n",
      "\n",
      "Eigenvector 2: \n",
      "[[-0.009 ]\n",
      " [-0.589 ]\n",
      " [ 0.2543]\n",
      " [-0.767 ]]\n",
      "Eigenvalue 2: 2.78e-01\n",
      "\n",
      "Eigenvector 3: \n",
      "[[-0.4977]\n",
      " [-0.1139]\n",
      " [-0.1857]\n",
      " [ 0.8396]]\n",
      "Eigenvalue 3: -4.26e-15\n",
      "\n",
      "Eigenvector 4: \n",
      "[[ 0.472 ]\n",
      " [-0.4418]\n",
      " [-0.4867]\n",
      " [ 0.5874]]\n",
      "Eigenvalue 4: 6.75e-15\n"
     ]
    }
   ],
   "source": [
    "eig_vals, eig_vecs = np.linalg.eig(np.linalg.inv(S_W).dot(S_B))\n",
    "\n",
    "for i in range(len(eig_vals)):\n",
    "    eigvec_sc = eig_vecs[:,i].reshape(4,1)   \n",
    "    print('\\nEigenvector {}: \\n{}'.format(i+1, eigvec_sc.real))\n",
    "    print('Eigenvalue {:}: {:.2e}'.format(i+1, eig_vals[i].real))"
   ]
  },
  {
   "cell_type": "code",
   "execution_count": 12,
   "metadata": {
    "collapsed": false
   },
   "outputs": [
    {
     "name": "stdout",
     "output_type": "stream",
     "text": [
      "Eigenvalues in decreasing order:\n",
      "\n",
      "32.2719577997\n",
      "0.27756686384\n",
      "6.75111700988e-15\n",
      "4.26188251583e-15\n"
     ]
    }
   ],
   "source": [
    "# Make a list of (eigenvalue, eigenvector) tuples\n",
    "eig_pairs = [(np.abs(eig_vals[i]), eig_vecs[:,i]) for i in range(len(eig_vals))]\n",
    "\n",
    "# Sort the (eigenvalue, eigenvector) tuples from high to low\n",
    "eig_pairs = sorted(eig_pairs, key=lambda k: k[0], reverse=True)\n",
    "\n",
    "# Visually confirm that the list is correctly sorted by decreasing eigenvalues\n",
    "\n",
    "print('Eigenvalues in decreasing order:\\n')\n",
    "for i in eig_pairs:\n",
    "    print(i[0])\n"
   ]
  },
  {
   "cell_type": "code",
   "execution_count": 13,
   "metadata": {
    "collapsed": false
   },
   "outputs": [
    {
     "name": "stdout",
     "output_type": "stream",
     "text": [
      "('Matrix W:\\n', array([[ 0.2049, -0.009 ],\n",
      "       [ 0.3871, -0.589 ],\n",
      "       [-0.5465,  0.2543],\n",
      "       [-0.7138, -0.767 ]]))\n"
     ]
    },
    {
     "data": {
      "image/png": "[encoded data removed]",
      "text/plain": [
       "<matplotlib.figure.Figure at 0x1153fecd0>"
      ]
     },
     "metadata": {},
     "output_type": "display_data"
    }
   ],
   "source": [
    "from matplotlib import pyplot as plt\n",
    "\n",
    "W = np.hstack((eig_pairs[0][1].reshape(4,1), eig_pairs[1][1].reshape(4,1)))\n",
    "print('Matrix W:\\n', W.real)\n",
    "X_lda = X.dot(W)\n",
    "\n",
    "def plot_step_lda():\n",
    "\n",
    "    ax = plt.subplot(111)\n",
    "    for label,marker,color in zip(\n",
    "        range(1,4),('^', 's', 'o'),('blue', 'red', 'green')):\n",
    "\n",
    "        plt.scatter(x=X_lda[:,0].real[y == label],\n",
    "                y=X_lda[:,1].real[y == label],\n",
    "                marker=marker,\n",
    "                color=color,\n",
    "                alpha=0.5,\n",
    "                label=label_dict[label]\n",
    "                )\n",
    "\n",
    "    plt.xlabel('LD1')\n",
    "    plt.ylabel('LD2')\n",
    "\n",
    "    leg = plt.legend(loc='upper right', fancybox=True)\n",
    "    leg.get_frame().set_alpha(0.5)\n",
    "    plt.title('LDA: Iris projection onto the first 2 linear discriminants')\n",
    "\n",
    "    # hide axis ticks\n",
    "    plt.tick_params(axis=\"both\", which=\"both\", bottom=\"off\", top=\"off\",  \n",
    "            labelbottom=\"on\", left=\"off\", right=\"off\", labelleft=\"on\")\n",
    "\n",
    "    # remove axis spines\n",
    "    ax.spines[\"top\"].set_visible(False)  \n",
    "    ax.spines[\"right\"].set_visible(False)\n",
    "    ax.spines[\"bottom\"].set_visible(False)\n",
    "    ax.spines[\"left\"].set_visible(False)    \n",
    "\n",
    "    plt.grid()\n",
    "    plt.tight_layout\n",
    "    plt.show()\n",
    "\n",
    "plot_step_lda()"
   ]
  },
  {
   "cell_type": "markdown",
   "metadata": {
    "collapsed": true
   },
   "source": [
    "## LDA as a Classifier using Sklearn"
   ]
  },
  {
   "cell_type": "code",
   "execution_count": 14,
   "metadata": {
    "collapsed": false
   },
   "outputs": [],
   "source": [
    "from sklearn.discriminant_analysis import LinearDiscriminantAnalysis\n",
    "from sklearn.cross_validation import train_test_split\n",
    "from sklearn.metrics import accuracy_score"
   ]
  },
  {
   "cell_type": "code",
   "execution_count": 15,
   "metadata": {
    "collapsed": false
   },
   "outputs": [],
   "source": [
    "# Create an instance of the class\n",
    "lda = LinearDiscriminantAnalysis(n_components = 2)"
   ]
  },
  {
   "cell_type": "code",
   "execution_count": 16,
   "metadata": {
    "collapsed": true
   },
   "outputs": [],
   "source": [
    "# Run a train test split on the data\n",
    "X_train, X_test, y_train, y_test = train_test_split(X,y,test_size = 0.25)"
   ]
  },
  {
   "cell_type": "code",
   "execution_count": 17,
   "metadata": {
    "collapsed": false
   },
   "outputs": [
    {
     "name": "stdout",
     "output_type": "stream",
     "text": [
      "Accuracy Score Training Set: 0.973214285714\n",
      "Accuracy Score Test Set: 1.0\n"
     ]
    },
    {
     "name": "stderr",
     "output_type": "stream",
     "text": [
      "/Users/justin/anaconda/envs/py27/lib/python2.7/site-packages/sklearn/discriminant_analysis.py:453: UserWarning: The priors do not sum to 1. Renormalizing\n",
      "  UserWarning)\n"
     ]
    }
   ],
   "source": [
    "# Fit the model to the training data\n",
    "lda.fit(X_train,y_train)\n",
    "\n",
    "# Print the accuracy score for the training set\n",
    "print \"Accuracy Score Training Set: {}\".format(accuracy_score(y_train,lda.predict(X_train)))\n",
    "\n",
    "# Print the accuracy score for the testing set\n",
    "print \"Accuracy Score Test Set: {}\".format(accuracy_score(y_test,lda.predict(X_test)))"
   ]
  },
  {
   "cell_type": "markdown",
   "metadata": {},
   "source": [
    "### To use it in dimensionality reduction, just set n_components to whatever value you like and run the training data through fit transform and the testing data through transform, like so. "
   ]
  },
  {
   "cell_type": "code",
   "execution_count": 18,
   "metadata": {
    "collapsed": false
   },
   "outputs": [],
   "source": [
    "reduced_X_train = lda.fit_transform(X_train,y_train)\n",
    "reduced_X_test = lda.transform(X_test)"
   ]
  },
  {
   "cell_type": "code",
   "execution_count": 19,
   "metadata": {
    "collapsed": false
   },
   "outputs": [
    {
     "data": {
      "text/plain": [
       "array([[  4.3313e+00,   3.2566e-01],\n",
       "       [ -7.0578e+00,   1.0351e-01],\n",
       "       [  4.9088e+00,  -5.4243e-01],\n",
       "       [  2.6752e+00,  -1.6693e+00],\n",
       "       [  2.8176e+00,   8.0854e-01],\n",
       "       [  6.1767e+00,   2.3181e+00],\n",
       "       [  5.3331e+00,  -1.3674e-01],\n",
       "       [  2.4662e+00,   2.2681e-01],\n",
       "       [  2.8249e+00,  -2.8464e-01],\n",
       "       [ -6.4982e+00,  -9.5113e-01],\n",
       "       [  5.1513e+00,  -2.1529e+00],\n",
       "       [  1.9755e+00,  -4.5982e-01],\n",
       "       [ -5.7189e+00,  -5.3974e-01],\n",
       "       [  5.8880e+00,   1.8992e+00],\n",
       "       [ -6.7610e+00,  -1.3637e-01],\n",
       "       [  1.4098e+00,  -1.5206e+00],\n",
       "       [ -4.9468e+00,  -1.7528e+00],\n",
       "       [  5.6837e+00,   1.0569e-02],\n",
       "       [  5.1834e+00,   1.8449e-01],\n",
       "       [  6.1132e+00,   1.4943e-02],\n",
       "       [  4.5825e+00,   5.1571e-02],\n",
       "       [ -6.7736e+00,  -3.0111e-02],\n",
       "       [  5.4245e+00,   1.3199e+00],\n",
       "       [ -6.4856e+00,  -1.0574e+00],\n",
       "       [  2.3217e+00,  -8.6501e-01],\n",
       "       [  7.4982e+00,  -7.6656e-01],\n",
       "       [ -8.7474e+00,   1.6112e+00],\n",
       "       [ -5.9288e+00,  -7.8395e-01],\n",
       "       [  5.1976e+00,   9.4708e-01],\n",
       "       [  1.7244e+00,  -1.8573e-01],\n",
       "       [  1.3738e+00,  -3.3304e-01],\n",
       "       [ -6.9879e+00,   1.8491e-01],\n",
       "       [ -6.9414e+00,   6.5355e-01],\n",
       "       [  2.6959e+00,  -7.2842e-01],\n",
       "       [ -5.7387e+00,  -1.0462e+00],\n",
       "       [ -7.6389e+00,   4.7701e-01],\n",
       "       [  2.5280e+00,  -1.4330e+00],\n",
       "       [ -7.1072e+00,   9.6295e-01],\n",
       "       [ -7.3341e+00,   5.9011e-01],\n",
       "       [  2.9037e+00,  -1.0997e-01],\n",
       "       [  1.5586e+00,  -5.7045e-01],\n",
       "       [ -5.9154e+00,  -4.5579e-01],\n",
       "       [ -8.3601e+00,   1.6994e+00],\n",
       "       [ -7.0991e+00,   6.2181e-01],\n",
       "       [  1.9056e+00,  -5.4122e-01],\n",
       "       [  2.2643e+00,  -1.0527e+00],\n",
       "       [ -6.2992e+00,  -4.2595e-01],\n",
       "       [  3.6616e+00,  -1.3915e+00],\n",
       "       [  1.0313e-01,  -1.1713e+00],\n",
       "       [ -5.9781e+00,  -6.1863e-01],\n",
       "       [  3.9908e+00,  -1.2312e+00],\n",
       "       [ -7.5136e+00,   1.8144e+00],\n",
       "       [ -8.0641e+00,   1.0251e+00],\n",
       "       [ -6.4508e+00,   6.4605e-01],\n",
       "       [  6.4683e+00,   1.7854e+00],\n",
       "       [  6.3323e+00,  -1.2083e+00],\n",
       "       [ -7.0327e+00,  -1.0900e-01],\n",
       "       [  6.2318e-01,  -1.5330e+00],\n",
       "       [  3.7736e+00,   3.1193e-01],\n",
       "       [ -6.6911e+00,  -5.4964e-02],\n",
       "       [ -5.3827e+00,   4.6458e-01],\n",
       "       [  8.0070e+00,   2.1017e+00],\n",
       "       [  5.4005e+00,   2.9642e-02],\n",
       "       [ -6.4982e+00,  -9.5113e-01],\n",
       "       [  1.4223e+00,  -1.6269e+00],\n",
       "       [  1.2662e+00,  -7.8980e-01],\n",
       "       [  4.6633e+00,  -8.4212e-01],\n",
       "       [ -6.5835e+00,  -2.9233e-01],\n",
       "       [ -6.0723e+00,  -7.4723e-01],\n",
       "       [  1.3920e+00,  -2.4013e+00],\n",
       "       [  6.6361e+00,   4.0761e-01],\n",
       "       [  2.6060e+00,  -3.0451e-01],\n",
       "       [ -6.5988e+00,   1.1420e+00],\n",
       "       [  6.7501e+00,   1.7367e+00],\n",
       "       [  4.8356e+00,  -1.9850e+00],\n",
       "       [  8.4729e-01,   1.6794e-01],\n",
       "       [  6.8792e+00,   1.1688e+00],\n",
       "       [  4.7321e+00,   1.4362e+00],\n",
       "       [  3.2668e+00,  -6.8912e-02],\n",
       "       [ -7.0158e+00,   1.0314e+00],\n",
       "       [  4.0514e+00,   1.0118e+00],\n",
       "       [  5.9312e+00,   1.3243e+00],\n",
       "       [  9.0209e+00,  -4.6205e-01],\n",
       "       [  2.2490e+00,   3.8166e-01],\n",
       "       [  1.7649e+00,  -4.4432e-01],\n",
       "       [  1.0995e+00,  -1.6089e+00],\n",
       "       [ -5.9619e+00,  -9.2442e-01],\n",
       "       [  5.4095e+00,   1.5112e+00],\n",
       "       [ -6.4982e+00,  -9.5113e-01],\n",
       "       [  6.9212e+00,   7.0841e-01],\n",
       "       [  6.2498e+00,  -4.8931e-01],\n",
       "       [  2.5012e+00,  -1.3952e+00],\n",
       "       [  6.7829e+00,   2.4262e+00],\n",
       "       [ -7.6337e+00,   7.6981e-01],\n",
       "       [ -8.0167e+00,   2.6223e+00],\n",
       "       [  6.1102e-03,  -6.6599e-01],\n",
       "       [ -5.9235e+00,   8.9710e-01],\n",
       "       [ -6.2830e+00,  -7.3173e-01],\n",
       "       [  2.7048e+00,   5.8973e-02],\n",
       "       [  2.1782e+00,   5.5996e-01],\n",
       "       [ -5.9656e+00,  -7.2489e-01],\n",
       "       [ -6.2778e+00,   2.5519e-01],\n",
       "       [  6.7253e-01,  -1.6983e+00],\n",
       "       [  3.9988e+00,  -8.7819e-01],\n",
       "       [ -5.4806e+00,   1.2296e+00],\n",
       "       [  1.5756e+00,   2.5231e-01],\n",
       "       [ -6.7064e+00,   1.3794e+00],\n",
       "       [  6.9544e+00,   1.5430e+00],\n",
       "       [  5.8406e+00,   9.9613e-01],\n",
       "       [  4.3519e+00,   5.7238e-01],\n",
       "       [  2.5296e+00,   1.1417e+00],\n",
       "       [  1.5999e+00,  -1.0887e+00]])"
      ]
     },
     "execution_count": 19,
     "metadata": {},
     "output_type": "execute_result"
    }
   ],
   "source": [
    "# Notice now how there are only two components\n",
    "\n",
    "reduced_X_train"
   ]
  },
  {
   "cell_type": "code",
   "execution_count": null,
   "metadata": {
    "collapsed": true
   },
   "outputs": [],
   "source": []
  }
 ],
 "metadata": {
  "anaconda-cloud": {},
  "kernelspec": {
   "display_name": "Python [conda env:py27]",
   "language": "python",
   "name": "conda-env-py27-py"
  },
  "language_info": {
   "codemirror_mode": {
    "name": "ipython",
    "version": 2
   },
   "file_extension": ".py",
   "mimetype": "text/x-python",
   "name": "python",
   "nbconvert_exporter": "python",
   "pygments_lexer": "ipython2",
   "version": "2.7.12"
  }
 },
 "nbformat": 4,
 "nbformat_minor": 0
}
