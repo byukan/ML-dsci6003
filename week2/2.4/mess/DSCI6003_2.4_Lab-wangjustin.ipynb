{
 "cells": [
  {
   "cell_type": "code",
   "execution_count": 3,
   "metadata": {
    "collapsed": true
   },
   "outputs": [],
   "source": [
    "## Put import statements here\n",
    "import numpy as np\n",
    "import pandas as pd"
   ]
  },
  {
   "cell_type": "markdown",
   "metadata": {},
   "source": [
    "# Creating  a Machine Learning model"
   ]
  },
  {
   "cell_type": "markdown",
   "metadata": {},
   "source": [
    "Today you will be creating your first machine learning model! There are many components to this creating these models. However, there is a general pipeline that you can follow and iterate over to simplify the model building process.\n",
    "\n",
    "  1. Define the problem\n",
    "  2. Prepare the data\n",
    "  3. Spot check algorithms (to figure out the best ones)\n",
    "  4. Improve results (usually requires going back to step 2 or 3)\n",
    "  5. Present results\n",
    "  \n",
    "For a more detailed description of the results, visit <a href=http://machinelearningmastery.com/process-for-working-through-machine-learning-problems/>this website.</a>"
   ]
  },
  {
   "cell_type": "markdown",
   "metadata": {},
   "source": [
    "Since we have been using the iris dataset a lot lately, we felt it was time to switch things up. Let's look at this dataset. It can be downloaded directly from the UCI Machine Learning repository. <a href = http://archive.ics.uci.edu/ml/datasets/STUDENT+ALCOHOL+CONSUMPTION>Download the dataset here.</a> Once you have downloaded it, make sure the dataset is in the same folder as this ipython notebook. From there, we can begin working with it. "
   ]
  },
  {
   "cell_type": "markdown",
   "metadata": {},
   "source": [
    "## 1. Define the problem\n",
    "\n",
    "To understand where this dataset might be useful, skim over these articles. They both show how machine learning can improve graduation rates by finding students at risk of dropping out. In this lab, we are going to take characteristics and grades for a group of students and see if we can predict whether they fall in low, medium, or high risk categories."
   ]
  },
  {
   "cell_type": "markdown",
   "metadata": {},
   "source": [
    "https://dssg.uchicago.edu/wp-content/uploads/2016/04/montogmery-kd2015.pdf\n",
    "\n",
    "http://www.opb.org/news/article/npr-how-one-university-used-big-data-to-boost-graduation-rates/"
   ]
  },
  {
   "cell_type": "markdown",
   "metadata": {},
   "source": [
    "Question 1: From the second article, by what percentage have graduation rates increased at Georgia State University since they implemented their new graduation and progression success (GPS) system and hired new advisors? "
   ]
  },
  {
   "cell_type": "markdown",
   "metadata": {},
   "source": [
    "6%"
   ]
  },
  {
   "cell_type": "markdown",
   "metadata": {},
   "source": [
    "## 2. Prepare the data"
   ]
  },
  {
   "cell_type": "markdown",
   "metadata": {},
   "source": [
    "Skim over the student.txt file to better understand what is in this dataset. It is important to know where to find information about any of the variables in a dataset. We are just going to use student-por.csv for this labn. It contains data on the grades and characteristics of certain students in the class. Let's load the data."
   ]
  },
  {
   "cell_type": "code",
   "execution_count": 4,
   "metadata": {
    "collapsed": false,
    "scrolled": true
   },
   "outputs": [
    {
     "data": {
      "text/html": [
       "<div>\n",
       "<table border=\"1\" class=\"dataframe\">\n",
       "  <thead>\n",
       "    <tr style=\"text-align: right;\">\n",
       "      <th></th>\n",
       "      <th>school</th>\n",
       "      <th>sex</th>\n",
       "      <th>age</th>\n",
       "      <th>address</th>\n",
       "      <th>famsize</th>\n",
       "      <th>Pstatus</th>\n",
       "      <th>Medu</th>\n",
       "      <th>Fedu</th>\n",
       "      <th>Mjob</th>\n",
       "      <th>Fjob</th>\n",
       "      <th>...</th>\n",
       "      <th>famrel</th>\n",
       "      <th>freetime</th>\n",
       "      <th>goout</th>\n",
       "      <th>Dalc</th>\n",
       "      <th>Walc</th>\n",
       "      <th>health</th>\n",
       "      <th>absences</th>\n",
       "      <th>G1</th>\n",
       "      <th>G2</th>\n",
       "      <th>G3</th>\n",
       "    </tr>\n",
       "  </thead>\n",
       "  <tbody>\n",
       "    <tr>\n",
       "      <th>0</th>\n",
       "      <td>GP</td>\n",
       "      <td>F</td>\n",
       "      <td>18</td>\n",
       "      <td>U</td>\n",
       "      <td>GT3</td>\n",
       "      <td>A</td>\n",
       "      <td>4</td>\n",
       "      <td>4</td>\n",
       "      <td>at_home</td>\n",
       "      <td>teacher</td>\n",
       "      <td>...</td>\n",
       "      <td>4</td>\n",
       "      <td>3</td>\n",
       "      <td>4</td>\n",
       "      <td>1</td>\n",
       "      <td>1</td>\n",
       "      <td>3</td>\n",
       "      <td>4</td>\n",
       "      <td>0</td>\n",
       "      <td>11</td>\n",
       "      <td>11</td>\n",
       "    </tr>\n",
       "    <tr>\n",
       "      <th>1</th>\n",
       "      <td>GP</td>\n",
       "      <td>F</td>\n",
       "      <td>17</td>\n",
       "      <td>U</td>\n",
       "      <td>GT3</td>\n",
       "      <td>T</td>\n",
       "      <td>1</td>\n",
       "      <td>1</td>\n",
       "      <td>at_home</td>\n",
       "      <td>other</td>\n",
       "      <td>...</td>\n",
       "      <td>5</td>\n",
       "      <td>3</td>\n",
       "      <td>3</td>\n",
       "      <td>1</td>\n",
       "      <td>1</td>\n",
       "      <td>3</td>\n",
       "      <td>2</td>\n",
       "      <td>9</td>\n",
       "      <td>11</td>\n",
       "      <td>11</td>\n",
       "    </tr>\n",
       "    <tr>\n",
       "      <th>2</th>\n",
       "      <td>GP</td>\n",
       "      <td>F</td>\n",
       "      <td>15</td>\n",
       "      <td>U</td>\n",
       "      <td>LE3</td>\n",
       "      <td>T</td>\n",
       "      <td>1</td>\n",
       "      <td>1</td>\n",
       "      <td>at_home</td>\n",
       "      <td>other</td>\n",
       "      <td>...</td>\n",
       "      <td>4</td>\n",
       "      <td>3</td>\n",
       "      <td>2</td>\n",
       "      <td>2</td>\n",
       "      <td>3</td>\n",
       "      <td>3</td>\n",
       "      <td>6</td>\n",
       "      <td>12</td>\n",
       "      <td>13</td>\n",
       "      <td>12</td>\n",
       "    </tr>\n",
       "    <tr>\n",
       "      <th>3</th>\n",
       "      <td>GP</td>\n",
       "      <td>F</td>\n",
       "      <td>15</td>\n",
       "      <td>U</td>\n",
       "      <td>GT3</td>\n",
       "      <td>T</td>\n",
       "      <td>4</td>\n",
       "      <td>2</td>\n",
       "      <td>health</td>\n",
       "      <td>services</td>\n",
       "      <td>...</td>\n",
       "      <td>3</td>\n",
       "      <td>2</td>\n",
       "      <td>2</td>\n",
       "      <td>1</td>\n",
       "      <td>1</td>\n",
       "      <td>5</td>\n",
       "      <td>0</td>\n",
       "      <td>14</td>\n",
       "      <td>14</td>\n",
       "      <td>14</td>\n",
       "    </tr>\n",
       "    <tr>\n",
       "      <th>4</th>\n",
       "      <td>GP</td>\n",
       "      <td>F</td>\n",
       "      <td>16</td>\n",
       "      <td>U</td>\n",
       "      <td>GT3</td>\n",
       "      <td>T</td>\n",
       "      <td>3</td>\n",
       "      <td>3</td>\n",
       "      <td>other</td>\n",
       "      <td>other</td>\n",
       "      <td>...</td>\n",
       "      <td>4</td>\n",
       "      <td>3</td>\n",
       "      <td>2</td>\n",
       "      <td>1</td>\n",
       "      <td>2</td>\n",
       "      <td>5</td>\n",
       "      <td>0</td>\n",
       "      <td>11</td>\n",
       "      <td>13</td>\n",
       "      <td>13</td>\n",
       "    </tr>\n",
       "  </tbody>\n",
       "</table>\n",
       "<p>5 rows × 33 columns</p>\n",
       "</div>"
      ],
      "text/plain": [
       "  school sex  age address famsize Pstatus  Medu  Fedu     Mjob      Fjob ...  \\\n",
       "0     GP   F   18       U     GT3       A     4     4  at_home   teacher ...   \n",
       "1     GP   F   17       U     GT3       T     1     1  at_home     other ...   \n",
       "2     GP   F   15       U     LE3       T     1     1  at_home     other ...   \n",
       "3     GP   F   15       U     GT3       T     4     2   health  services ...   \n",
       "4     GP   F   16       U     GT3       T     3     3    other     other ...   \n",
       "\n",
       "  famrel freetime  goout  Dalc  Walc health absences  G1  G2  G3  \n",
       "0      4        3      4     1     1      3        4   0  11  11  \n",
       "1      5        3      3     1     1      3        2   9  11  11  \n",
       "2      4        3      2     2     3      3        6  12  13  12  \n",
       "3      3        2      2     1     1      5        0  14  14  14  \n",
       "4      4        3      2     1     2      5        0  11  13  13  \n",
       "\n",
       "[5 rows x 33 columns]"
      ]
     },
     "execution_count": 4,
     "metadata": {},
     "output_type": "execute_result"
    }
   ],
   "source": [
    "student_grades = pd.read_csv('student-por.csv', ';')\n",
    "student_grades.head()"
   ]
  },
  {
   "cell_type": "markdown",
   "metadata": {},
   "source": [
    "Make sure you check the dataframe using .head(). Is there something wrong? What can you do to fix this error? "
   ]
  },
  {
   "cell_type": "markdown",
   "metadata": {},
   "source": [
    "Yes, all the features are in one column."
   ]
  },
  {
   "cell_type": "code",
   "execution_count": 5,
   "metadata": {
    "collapsed": false
   },
   "outputs": [],
   "source": [
    "# student_grades.split(\";\") - put delimiter in read_csv statement."
   ]
  },
  {
   "cell_type": "markdown",
   "metadata": {},
   "source": [
    "We are going to attempt to predict the final grade (G3 column). However, the scores range from 0 - 20. Thus, we will need to bin the values. Let's assume that we want our algorithm to flag anyone who may possibly score below a 10 on the final grade, to allow the teacher time to tutor or help the student boost their score. "
   ]
  },
  {
   "cell_type": "markdown",
   "metadata": {},
   "source": [
    "Run this cell to create a variable that will flag a student with a score less than 10 with a 1, and all other students will be 0."
   ]
  },
  {
   "cell_type": "code",
   "execution_count": 6,
   "metadata": {
    "collapsed": false
   },
   "outputs": [],
   "source": [
    "def categorize(val,high_risk):\n",
    "    if val <= high_risk:\n",
    "        return 1\n",
    "    else:\n",
    "        return 0\n",
    "    \n",
    "student_grades.loc[:,'flag_student'] = student_grades.loc[:,'G3'].map(lambda x: categorize(x,10))"
   ]
  },
  {
   "cell_type": "markdown",
   "metadata": {},
   "source": [
    "'flag_students' will now be the column we are trying to predict. This is where your expertise kicks in! Choose which features to keep, and save them into the X variable (this will become our feature space). "
   ]
  },
  {
   "cell_type": "code",
   "execution_count": 7,
   "metadata": {
    "collapsed": false
   },
   "outputs": [
    {
     "data": {
      "text/html": [
       "<div>\n",
       "<table border=\"1\" class=\"dataframe\">\n",
       "  <thead>\n",
       "    <tr style=\"text-align: right;\">\n",
       "      <th></th>\n",
       "      <th>school</th>\n",
       "      <th>sex</th>\n",
       "      <th>age</th>\n",
       "      <th>address</th>\n",
       "      <th>famsize</th>\n",
       "      <th>Pstatus</th>\n",
       "      <th>Medu</th>\n",
       "      <th>Fedu</th>\n",
       "      <th>Mjob</th>\n",
       "      <th>Fjob</th>\n",
       "      <th>...</th>\n",
       "      <th>freetime</th>\n",
       "      <th>goout</th>\n",
       "      <th>Dalc</th>\n",
       "      <th>Walc</th>\n",
       "      <th>health</th>\n",
       "      <th>absences</th>\n",
       "      <th>G1</th>\n",
       "      <th>G2</th>\n",
       "      <th>G3</th>\n",
       "      <th>flag_student</th>\n",
       "    </tr>\n",
       "  </thead>\n",
       "  <tbody>\n",
       "    <tr>\n",
       "      <th>644</th>\n",
       "      <td>MS</td>\n",
       "      <td>F</td>\n",
       "      <td>19</td>\n",
       "      <td>R</td>\n",
       "      <td>GT3</td>\n",
       "      <td>T</td>\n",
       "      <td>2</td>\n",
       "      <td>3</td>\n",
       "      <td>services</td>\n",
       "      <td>other</td>\n",
       "      <td>...</td>\n",
       "      <td>4</td>\n",
       "      <td>2</td>\n",
       "      <td>1</td>\n",
       "      <td>2</td>\n",
       "      <td>5</td>\n",
       "      <td>4</td>\n",
       "      <td>10</td>\n",
       "      <td>11</td>\n",
       "      <td>10</td>\n",
       "      <td>1</td>\n",
       "    </tr>\n",
       "    <tr>\n",
       "      <th>645</th>\n",
       "      <td>MS</td>\n",
       "      <td>F</td>\n",
       "      <td>18</td>\n",
       "      <td>U</td>\n",
       "      <td>LE3</td>\n",
       "      <td>T</td>\n",
       "      <td>3</td>\n",
       "      <td>1</td>\n",
       "      <td>teacher</td>\n",
       "      <td>services</td>\n",
       "      <td>...</td>\n",
       "      <td>3</td>\n",
       "      <td>4</td>\n",
       "      <td>1</td>\n",
       "      <td>1</td>\n",
       "      <td>1</td>\n",
       "      <td>4</td>\n",
       "      <td>15</td>\n",
       "      <td>15</td>\n",
       "      <td>16</td>\n",
       "      <td>0</td>\n",
       "    </tr>\n",
       "    <tr>\n",
       "      <th>646</th>\n",
       "      <td>MS</td>\n",
       "      <td>F</td>\n",
       "      <td>18</td>\n",
       "      <td>U</td>\n",
       "      <td>GT3</td>\n",
       "      <td>T</td>\n",
       "      <td>1</td>\n",
       "      <td>1</td>\n",
       "      <td>other</td>\n",
       "      <td>other</td>\n",
       "      <td>...</td>\n",
       "      <td>1</td>\n",
       "      <td>1</td>\n",
       "      <td>1</td>\n",
       "      <td>1</td>\n",
       "      <td>5</td>\n",
       "      <td>6</td>\n",
       "      <td>11</td>\n",
       "      <td>12</td>\n",
       "      <td>9</td>\n",
       "      <td>1</td>\n",
       "    </tr>\n",
       "    <tr>\n",
       "      <th>647</th>\n",
       "      <td>MS</td>\n",
       "      <td>M</td>\n",
       "      <td>17</td>\n",
       "      <td>U</td>\n",
       "      <td>LE3</td>\n",
       "      <td>T</td>\n",
       "      <td>3</td>\n",
       "      <td>1</td>\n",
       "      <td>services</td>\n",
       "      <td>services</td>\n",
       "      <td>...</td>\n",
       "      <td>4</td>\n",
       "      <td>5</td>\n",
       "      <td>3</td>\n",
       "      <td>4</td>\n",
       "      <td>2</td>\n",
       "      <td>6</td>\n",
       "      <td>10</td>\n",
       "      <td>10</td>\n",
       "      <td>10</td>\n",
       "      <td>1</td>\n",
       "    </tr>\n",
       "    <tr>\n",
       "      <th>648</th>\n",
       "      <td>MS</td>\n",
       "      <td>M</td>\n",
       "      <td>18</td>\n",
       "      <td>R</td>\n",
       "      <td>LE3</td>\n",
       "      <td>T</td>\n",
       "      <td>3</td>\n",
       "      <td>2</td>\n",
       "      <td>services</td>\n",
       "      <td>other</td>\n",
       "      <td>...</td>\n",
       "      <td>4</td>\n",
       "      <td>1</td>\n",
       "      <td>3</td>\n",
       "      <td>4</td>\n",
       "      <td>5</td>\n",
       "      <td>4</td>\n",
       "      <td>10</td>\n",
       "      <td>11</td>\n",
       "      <td>11</td>\n",
       "      <td>0</td>\n",
       "    </tr>\n",
       "  </tbody>\n",
       "</table>\n",
       "<p>5 rows × 34 columns</p>\n",
       "</div>"
      ],
      "text/plain": [
       "    school sex  age address famsize Pstatus  Medu  Fedu      Mjob      Fjob  \\\n",
       "644     MS   F   19       R     GT3       T     2     3  services     other   \n",
       "645     MS   F   18       U     LE3       T     3     1   teacher  services   \n",
       "646     MS   F   18       U     GT3       T     1     1     other     other   \n",
       "647     MS   M   17       U     LE3       T     3     1  services  services   \n",
       "648     MS   M   18       R     LE3       T     3     2  services     other   \n",
       "\n",
       "        ...      freetime goout  Dalc  Walc  health absences  G1  G2  G3  \\\n",
       "644     ...             4     2     1     2       5        4  10  11  10   \n",
       "645     ...             3     4     1     1       1        4  15  15  16   \n",
       "646     ...             1     1     1     1       5        6  11  12   9   \n",
       "647     ...             4     5     3     4       2        6  10  10  10   \n",
       "648     ...             4     1     3     4       5        4  10  11  11   \n",
       "\n",
       "    flag_student  \n",
       "644            1  \n",
       "645            0  \n",
       "646            1  \n",
       "647            1  \n",
       "648            0  \n",
       "\n",
       "[5 rows x 34 columns]"
      ]
     },
     "execution_count": 7,
     "metadata": {},
     "output_type": "execute_result"
    }
   ],
   "source": [
    "student_grades.tail()"
   ]
  },
  {
   "cell_type": "code",
   "execution_count": 8,
   "metadata": {
    "collapsed": false
   },
   "outputs": [],
   "source": [
    "X = student_grades.loc[:,['Mjob', 'romantic','sex', 'goout', 'Walc']]\n",
    "y = student_grades.loc[:,'flag_student']"
   ]
  },
  {
   "cell_type": "code",
   "execution_count": 9,
   "metadata": {
    "collapsed": false,
    "scrolled": true
   },
   "outputs": [
    {
     "data": {
      "text/html": [
       "<div>\n",
       "<table border=\"1\" class=\"dataframe\">\n",
       "  <thead>\n",
       "    <tr style=\"text-align: right;\">\n",
       "      <th></th>\n",
       "      <th>Mjob</th>\n",
       "      <th>romantic</th>\n",
       "      <th>sex</th>\n",
       "      <th>goout</th>\n",
       "      <th>Walc</th>\n",
       "    </tr>\n",
       "  </thead>\n",
       "  <tbody>\n",
       "    <tr>\n",
       "      <th>644</th>\n",
       "      <td>services</td>\n",
       "      <td>no</td>\n",
       "      <td>F</td>\n",
       "      <td>2</td>\n",
       "      <td>2</td>\n",
       "    </tr>\n",
       "    <tr>\n",
       "      <th>645</th>\n",
       "      <td>teacher</td>\n",
       "      <td>no</td>\n",
       "      <td>F</td>\n",
       "      <td>4</td>\n",
       "      <td>1</td>\n",
       "    </tr>\n",
       "    <tr>\n",
       "      <th>646</th>\n",
       "      <td>other</td>\n",
       "      <td>no</td>\n",
       "      <td>F</td>\n",
       "      <td>1</td>\n",
       "      <td>1</td>\n",
       "    </tr>\n",
       "    <tr>\n",
       "      <th>647</th>\n",
       "      <td>services</td>\n",
       "      <td>no</td>\n",
       "      <td>M</td>\n",
       "      <td>5</td>\n",
       "      <td>4</td>\n",
       "    </tr>\n",
       "    <tr>\n",
       "      <th>648</th>\n",
       "      <td>services</td>\n",
       "      <td>no</td>\n",
       "      <td>M</td>\n",
       "      <td>1</td>\n",
       "      <td>4</td>\n",
       "    </tr>\n",
       "  </tbody>\n",
       "</table>\n",
       "</div>"
      ],
      "text/plain": [
       "         Mjob romantic sex  goout  Walc\n",
       "644  services       no   F      2     2\n",
       "645   teacher       no   F      4     1\n",
       "646     other       no   F      1     1\n",
       "647  services       no   M      5     4\n",
       "648  services       no   M      1     4"
      ]
     },
     "execution_count": 9,
     "metadata": {},
     "output_type": "execute_result"
    }
   ],
   "source": [
    "X.tail()"
   ]
  },
  {
   "cell_type": "code",
   "execution_count": 10,
   "metadata": {
    "collapsed": true
   },
   "outputs": [],
   "source": [
    "#convert categorical to dummy\n",
    "student_with_dummies = pd.get_dummies(student_grades)"
   ]
  },
  {
   "cell_type": "code",
   "execution_count": 11,
   "metadata": {
    "collapsed": false,
    "scrolled": true
   },
   "outputs": [
    {
     "data": {
      "text/html": [
       "<div>\n",
       "<table border=\"1\" class=\"dataframe\">\n",
       "  <thead>\n",
       "    <tr style=\"text-align: right;\">\n",
       "      <th></th>\n",
       "      <th>goout</th>\n",
       "      <th>Walc</th>\n",
       "      <th>Mjob_at_home</th>\n",
       "      <th>Mjob_health</th>\n",
       "      <th>Mjob_other</th>\n",
       "      <th>Mjob_services</th>\n",
       "      <th>Mjob_teacher</th>\n",
       "      <th>romantic_no</th>\n",
       "      <th>romantic_yes</th>\n",
       "      <th>sex_F</th>\n",
       "      <th>sex_M</th>\n",
       "    </tr>\n",
       "  </thead>\n",
       "  <tbody>\n",
       "    <tr>\n",
       "      <th>644</th>\n",
       "      <td>2</td>\n",
       "      <td>2</td>\n",
       "      <td>0.0</td>\n",
       "      <td>0.0</td>\n",
       "      <td>0.0</td>\n",
       "      <td>1.0</td>\n",
       "      <td>0.0</td>\n",
       "      <td>1.0</td>\n",
       "      <td>0.0</td>\n",
       "      <td>1.0</td>\n",
       "      <td>0.0</td>\n",
       "    </tr>\n",
       "    <tr>\n",
       "      <th>645</th>\n",
       "      <td>4</td>\n",
       "      <td>1</td>\n",
       "      <td>0.0</td>\n",
       "      <td>0.0</td>\n",
       "      <td>0.0</td>\n",
       "      <td>0.0</td>\n",
       "      <td>1.0</td>\n",
       "      <td>1.0</td>\n",
       "      <td>0.0</td>\n",
       "      <td>1.0</td>\n",
       "      <td>0.0</td>\n",
       "    </tr>\n",
       "    <tr>\n",
       "      <th>646</th>\n",
       "      <td>1</td>\n",
       "      <td>1</td>\n",
       "      <td>0.0</td>\n",
       "      <td>0.0</td>\n",
       "      <td>1.0</td>\n",
       "      <td>0.0</td>\n",
       "      <td>0.0</td>\n",
       "      <td>1.0</td>\n",
       "      <td>0.0</td>\n",
       "      <td>1.0</td>\n",
       "      <td>0.0</td>\n",
       "    </tr>\n",
       "    <tr>\n",
       "      <th>647</th>\n",
       "      <td>5</td>\n",
       "      <td>4</td>\n",
       "      <td>0.0</td>\n",
       "      <td>0.0</td>\n",
       "      <td>0.0</td>\n",
       "      <td>1.0</td>\n",
       "      <td>0.0</td>\n",
       "      <td>1.0</td>\n",
       "      <td>0.0</td>\n",
       "      <td>0.0</td>\n",
       "      <td>1.0</td>\n",
       "    </tr>\n",
       "    <tr>\n",
       "      <th>648</th>\n",
       "      <td>1</td>\n",
       "      <td>4</td>\n",
       "      <td>0.0</td>\n",
       "      <td>0.0</td>\n",
       "      <td>0.0</td>\n",
       "      <td>1.0</td>\n",
       "      <td>0.0</td>\n",
       "      <td>1.0</td>\n",
       "      <td>0.0</td>\n",
       "      <td>0.0</td>\n",
       "      <td>1.0</td>\n",
       "    </tr>\n",
       "  </tbody>\n",
       "</table>\n",
       "</div>"
      ],
      "text/plain": [
       "     goout  Walc  Mjob_at_home  Mjob_health  Mjob_other  Mjob_services  \\\n",
       "644      2     2           0.0          0.0         0.0            1.0   \n",
       "645      4     1           0.0          0.0         0.0            0.0   \n",
       "646      1     1           0.0          0.0         1.0            0.0   \n",
       "647      5     4           0.0          0.0         0.0            1.0   \n",
       "648      1     4           0.0          0.0         0.0            1.0   \n",
       "\n",
       "     Mjob_teacher  romantic_no  romantic_yes  sex_F  sex_M  \n",
       "644           0.0          1.0           0.0    1.0    0.0  \n",
       "645           1.0          1.0           0.0    1.0    0.0  \n",
       "646           0.0          1.0           0.0    1.0    0.0  \n",
       "647           0.0          1.0           0.0    0.0    1.0  \n",
       "648           0.0          1.0           0.0    0.0    1.0  "
      ]
     },
     "execution_count": 11,
     "metadata": {},
     "output_type": "execute_result"
    }
   ],
   "source": [
    "dummies = pd.get_dummies(X)\n",
    "dummies.tail()"
   ]
  },
  {
   "cell_type": "markdown",
   "metadata": {},
   "source": [
    "Bonus: Since KNN relies on distance, you cannot directly put categorical variables into the algorithm. If you want to include this type of information, you will first need to dummify the variables before putting them in the classifier. As an example, dummifying would take a column with 'yes' or 'no' and would change the 'yes' to a 1 and a 'no' to a zero. Try creating a method that will do this for you. \n",
    "\n",
    "Use pd.get_dummies(X)"
   ]
  },
  {
   "cell_type": "markdown",
   "metadata": {},
   "source": [
    "# 3. Spot check algorithms"
   ]
  },
  {
   "cell_type": "markdown",
   "metadata": {},
   "source": [
    "For now, we will use accuracy to improve upon our model. We want to maximize the accuracy in both the training and testing set. Play around and see how high you can get the scores! Watch out though, scores that are too high (such as 100% accuracy) can sometimes be flags for leakage and other improper modeling techniques. While using PCA or LDA, make sure to use the following pipeline. \n",
    "\n",
    " 1. Train/Test split\n",
    " 2. Dimensionality reduction on training set\n",
    " 3. Fit model to training set\n",
    " 4. Accuracy of model on training set\n",
    " 5. Dimensionality reduction on testing set\n",
    " 6. Accuracy of model on testing set"
   ]
  },
  {
   "cell_type": "markdown",
   "metadata": {},
   "source": [
    "Use LDA, PCA, and KNN to make a classifier to predict using attributes that suggest a student may be at high risk for under-performing in the course. Note: LDA can be used for dimensionality reduction and classification. "
   ]
  },
  {
   "cell_type": "code",
   "execution_count": 12,
   "metadata": {
    "collapsed": true
   },
   "outputs": [],
   "source": [
    "# LDA - linear discriminant analysis; ## LDA as a Classifier using Sklearn\n",
    "\n",
    "from sklearn.discriminant_analysis import LinearDiscriminantAnalysis\n",
    "from sklearn.cross_validation import train_test_split\n",
    "from sklearn.metrics import accuracy_score"
   ]
  },
  {
   "cell_type": "code",
   "execution_count": 13,
   "metadata": {
    "collapsed": true
   },
   "outputs": [],
   "source": [
    "# Create an instance of the class\n",
    "lda = LinearDiscriminantAnalysis(n_components = 2)"
   ]
  },
  {
   "cell_type": "code",
   "execution_count": 14,
   "metadata": {
    "collapsed": false
   },
   "outputs": [],
   "source": [
    "# Run a train test split on the data\n",
    "X_train, X_test, y_train, y_test = train_test_split(X,y,test_size = 0.25)"
   ]
  },
  {
   "cell_type": "code",
   "execution_count": 15,
   "metadata": {
    "collapsed": false,
    "scrolled": true
   },
   "outputs": [
    {
     "name": "stdout",
     "output_type": "stream",
     "text": [
      "Optimization terminated successfully.\n",
      "         Current function value: 0.404196\n",
      "         Iterations 7\n"
     ]
    },
    {
     "data": {
      "text/html": [
       "<table class=\"simpletable\">\n",
       "<tr>\n",
       "        <td>Model:</td>              <td>Logit</td>      <td>Pseudo R-squared:</td>    <td>0.342</td>  \n",
       "</tr>\n",
       "<tr>\n",
       "  <td>Dependent Variable:</td>   <td>flag_student</td>         <td>AIC:</td>         <td>604.6461</td> \n",
       "</tr>\n",
       "<tr>\n",
       "         <td>Date:</td>        <td>2016-11-06 15:01</td>       <td>BIC:</td>         <td>783.6634</td> \n",
       "</tr>\n",
       "<tr>\n",
       "   <td>No. Observations:</td>         <td>649</td>        <td>Log-Likelihood:</td>    <td>-262.32</td> \n",
       "</tr>\n",
       "<tr>\n",
       "       <td>Df Model:</td>             <td>39</td>            <td>LL-Null:</td>        <td>-398.38</td> \n",
       "</tr>\n",
       "<tr>\n",
       "     <td>Df Residuals:</td>           <td>609</td>         <td>LLR p-value:</td>    <td>1.0115e-36</td>\n",
       "</tr>\n",
       "<tr>\n",
       "      <td>Converged:</td>           <td>1.0000</td>           <td>Scale:</td>         <td>1.0000</td>  \n",
       "</tr>\n",
       "<tr>\n",
       "    <td>No. Iterations:</td>        <td>7.0000</td>              <td></td>               <td></td>     \n",
       "</tr>\n",
       "</table>\n",
       "<table class=\"simpletable\">\n",
       "<tr>\n",
       "            <td></td>            <th>Coef.</th>  <th>Std.Err.</th>    <th>z</th>     <th>P>|z|</th> <th>[0.025</th>  <th>0.975]</th> \n",
       "</tr>\n",
       "<tr>\n",
       "  <th>Intercept</th>            <td>-1.0250</td>  <td>2.0704</td>  <td>-0.4951</td> <td>0.6205</td> <td>-5.0828</td> <td>3.0328</td> \n",
       "</tr>\n",
       "<tr>\n",
       "  <th>school[T.MS]</th>         <td>1.4398</td>   <td>0.2715</td>  <td>5.3033</td>  <td>0.0000</td> <td>0.9077</td>  <td>1.9719</td> \n",
       "</tr>\n",
       "<tr>\n",
       "  <th>sex[T.M]</th>             <td>0.7177</td>   <td>0.2723</td>  <td>2.6357</td>  <td>0.0084</td> <td>0.1840</td>  <td>1.2514</td> \n",
       "</tr>\n",
       "<tr>\n",
       "  <th>address[T.U]</th>         <td>-0.1603</td>  <td>0.2626</td>  <td>-0.6105</td> <td>0.5416</td> <td>-0.6750</td> <td>0.3544</td> \n",
       "</tr>\n",
       "<tr>\n",
       "  <th>famsize[T.LE3]</th>       <td>-0.0772</td>  <td>0.2589</td>  <td>-0.2982</td> <td>0.7655</td> <td>-0.5846</td> <td>0.4302</td> \n",
       "</tr>\n",
       "<tr>\n",
       "  <th>Pstatus[T.T]</th>         <td>-0.0157</td>  <td>0.3553</td>  <td>-0.0443</td> <td>0.9647</td> <td>-0.7120</td> <td>0.6806</td> \n",
       "</tr>\n",
       "<tr>\n",
       "  <th>Mjob[T.health]</th>       <td>-0.0040</td>  <td>0.5606</td>  <td>-0.0071</td> <td>0.9943</td> <td>-1.1028</td> <td>1.0948</td> \n",
       "</tr>\n",
       "<tr>\n",
       "  <th>Mjob[T.other]</th>        <td>-0.0217</td>  <td>0.2993</td>  <td>-0.0725</td> <td>0.9422</td> <td>-0.6083</td> <td>0.5649</td> \n",
       "</tr>\n",
       "<tr>\n",
       "  <th>Mjob[T.services]</th>     <td>-0.3163</td>  <td>0.3868</td>  <td>-0.8179</td> <td>0.4134</td> <td>-1.0744</td> <td>0.4417</td> \n",
       "</tr>\n",
       "<tr>\n",
       "  <th>Mjob[T.teacher]</th>      <td>-0.6812</td>  <td>0.5674</td>  <td>-1.2004</td> <td>0.2300</td> <td>-1.7933</td> <td>0.4310</td> \n",
       "</tr>\n",
       "<tr>\n",
       "  <th>Fjob[T.health]</th>       <td>1.4440</td>   <td>0.7344</td>  <td>1.9663</td>  <td>0.0493</td> <td>0.0046</td>  <td>2.8834</td> \n",
       "</tr>\n",
       "<tr>\n",
       "  <th>Fjob[T.other]</th>        <td>-0.0249</td>  <td>0.4556</td>  <td>-0.0547</td> <td>0.9563</td> <td>-0.9179</td> <td>0.8680</td> \n",
       "</tr>\n",
       "<tr>\n",
       "  <th>Fjob[T.services]</th>     <td>0.5767</td>   <td>0.4799</td>  <td>1.2017</td>  <td>0.2295</td> <td>-0.3639</td> <td>1.5173</td> \n",
       "</tr>\n",
       "<tr>\n",
       "  <th>Fjob[T.teacher]</th>      <td>-0.4342</td>  <td>0.8643</td>  <td>-0.5024</td> <td>0.6154</td> <td>-2.1282</td> <td>1.2597</td> \n",
       "</tr>\n",
       "<tr>\n",
       "  <th>reason[T.home]</th>       <td>-0.6103</td>  <td>0.3063</td>  <td>-1.9922</td> <td>0.0463</td> <td>-1.2107</td> <td>-0.0099</td>\n",
       "</tr>\n",
       "<tr>\n",
       "  <th>reason[T.other]</th>      <td>-0.4530</td>  <td>0.3705</td>  <td>-1.2228</td> <td>0.2214</td> <td>-1.1791</td> <td>0.2731</td> \n",
       "</tr>\n",
       "<tr>\n",
       "  <th>reason[T.reputation]</th> <td>-0.4504</td>  <td>0.3254</td>  <td>-1.3843</td> <td>0.1663</td> <td>-1.0882</td> <td>0.1873</td> \n",
       "</tr>\n",
       "<tr>\n",
       "  <th>guardian[T.mother]</th>   <td>0.7853</td>   <td>0.2893</td>  <td>2.7141</td>  <td>0.0066</td> <td>0.2182</td>  <td>1.3524</td> \n",
       "</tr>\n",
       "<tr>\n",
       "  <th>guardian[T.other]</th>    <td>-0.5233</td>  <td>0.6179</td>  <td>-0.8469</td> <td>0.3971</td> <td>-1.7344</td> <td>0.6878</td> \n",
       "</tr>\n",
       "<tr>\n",
       "  <th>schoolsup[T.yes]</th>     <td>1.2151</td>   <td>0.3635</td>  <td>3.3426</td>  <td>0.0008</td> <td>0.5026</td>  <td>1.9276</td> \n",
       "</tr>\n",
       "<tr>\n",
       "  <th>famsup[T.yes]</th>        <td>0.0759</td>   <td>0.2398</td>  <td>0.3167</td>  <td>0.7515</td> <td>-0.3941</td> <td>0.5460</td> \n",
       "</tr>\n",
       "<tr>\n",
       "  <th>paid[T.yes]</th>          <td>-0.1317</td>  <td>0.4765</td>  <td>-0.2764</td> <td>0.7822</td> <td>-1.0657</td> <td>0.8023</td> \n",
       "</tr>\n",
       "<tr>\n",
       "  <th>activities[T.yes]</th>    <td>-0.2678</td>  <td>0.2394</td>  <td>-1.1186</td> <td>0.2633</td> <td>-0.7371</td> <td>0.2015</td> \n",
       "</tr>\n",
       "<tr>\n",
       "  <th>nursery[T.yes]</th>       <td>0.2456</td>   <td>0.2930</td>  <td>0.8385</td>  <td>0.4018</td> <td>-0.3286</td> <td>0.8198</td> \n",
       "</tr>\n",
       "<tr>\n",
       "  <th>higher[T.yes]</th>        <td>-1.5109</td>  <td>0.3729</td>  <td>-4.0518</td> <td>0.0001</td> <td>-2.2418</td> <td>-0.7800</td>\n",
       "</tr>\n",
       "<tr>\n",
       "  <th>internet[T.yes]</th>      <td>0.0518</td>   <td>0.2799</td>  <td>0.1850</td>  <td>0.8532</td> <td>-0.4967</td> <td>0.6003</td> \n",
       "</tr>\n",
       "<tr>\n",
       "  <th>romantic[T.yes]</th>      <td>0.3869</td>   <td>0.2405</td>  <td>1.6091</td>  <td>0.1076</td> <td>-0.0844</td> <td>0.8582</td> \n",
       "</tr>\n",
       "<tr>\n",
       "  <th>age</th>                  <td>-0.0179</td>  <td>0.1098</td>  <td>-0.1634</td> <td>0.8702</td> <td>-0.2331</td> <td>0.1972</td> \n",
       "</tr>\n",
       "<tr>\n",
       "  <th>Medu</th>                 <td>-0.0017</td>  <td>0.1542</td>  <td>-0.0110</td> <td>0.9912</td> <td>-0.3039</td> <td>0.3005</td> \n",
       "</tr>\n",
       "<tr>\n",
       "  <th>Fedu</th>                 <td>-0.2788</td>  <td>0.1442</td>  <td>-1.9335</td> <td>0.0532</td> <td>-0.5615</td> <td>0.0038</td> \n",
       "</tr>\n",
       "<tr>\n",
       "  <th>traveltime</th>           <td>-0.0615</td>  <td>0.1586</td>  <td>-0.3876</td> <td>0.6983</td> <td>-0.3724</td> <td>0.2494</td> \n",
       "</tr>\n",
       "<tr>\n",
       "  <th>studytime</th>            <td>-0.1735</td>  <td>0.1500</td>  <td>-1.1565</td> <td>0.2475</td> <td>-0.4675</td> <td>0.1205</td> \n",
       "</tr>\n",
       "<tr>\n",
       "  <th>failures</th>             <td>1.7351</td>   <td>0.2968</td>  <td>5.8457</td>  <td>0.0000</td> <td>1.1533</td>  <td>2.3168</td> \n",
       "</tr>\n",
       "<tr>\n",
       "  <th>famrel</th>               <td>-0.0222</td>  <td>0.1170</td>  <td>-0.1897</td> <td>0.8495</td> <td>-0.2514</td> <td>0.2070</td> \n",
       "</tr>\n",
       "<tr>\n",
       "  <th>freetime</th>             <td>0.1538</td>   <td>0.1167</td>  <td>1.3177</td>  <td>0.1876</td> <td>-0.0750</td> <td>0.3825</td> \n",
       "</tr>\n",
       "<tr>\n",
       "  <th>goout</th>                <td>-0.0543</td>  <td>0.1150</td>  <td>-0.4725</td> <td>0.6366</td> <td>-0.2797</td> <td>0.1711</td> \n",
       "</tr>\n",
       "<tr>\n",
       "  <th>Dalc</th>                 <td>0.0680</td>   <td>0.1609</td>  <td>0.4223</td>  <td>0.6728</td> <td>-0.2474</td> <td>0.3833</td> \n",
       "</tr>\n",
       "<tr>\n",
       "  <th>Walc</th>                 <td>0.0570</td>   <td>0.1277</td>  <td>0.4461</td>  <td>0.6556</td> <td>-0.1933</td> <td>0.3073</td> \n",
       "</tr>\n",
       "<tr>\n",
       "  <th>health</th>               <td>0.0385</td>   <td>0.0832</td>  <td>0.4632</td>  <td>0.6432</td> <td>-0.1245</td> <td>0.2016</td> \n",
       "</tr>\n",
       "<tr>\n",
       "  <th>absences</th>             <td>0.0924</td>   <td>0.0245</td>  <td>3.7759</td>  <td>0.0002</td> <td>0.0444</td>  <td>0.1403</td> \n",
       "</tr>\n",
       "</table>"
      ],
      "text/plain": [
       "<class 'statsmodels.iolib.summary2.Summary'>\n",
       "\"\"\"\n",
       "                           Results: Logit\n",
       "====================================================================\n",
       "Model:               Logit             Pseudo R-squared:  0.342     \n",
       "Dependent Variable:  flag_student      AIC:               604.6461  \n",
       "Date:                2016-11-06 15:01  BIC:               783.6634  \n",
       "No. Observations:    649               Log-Likelihood:    -262.32   \n",
       "Df Model:            39                LL-Null:           -398.38   \n",
       "Df Residuals:        609               LLR p-value:       1.0115e-36\n",
       "Converged:           1.0000            Scale:             1.0000    \n",
       "No. Iterations:      7.0000                                         \n",
       "--------------------------------------------------------------------\n",
       "                      Coef.  Std.Err.    z    P>|z|   [0.025  0.975]\n",
       "--------------------------------------------------------------------\n",
       "Intercept            -1.0250   2.0704 -0.4951 0.6205 -5.0828  3.0328\n",
       "school[T.MS]          1.4398   0.2715  5.3033 0.0000  0.9077  1.9719\n",
       "sex[T.M]              0.7177   0.2723  2.6357 0.0084  0.1840  1.2514\n",
       "address[T.U]         -0.1603   0.2626 -0.6105 0.5416 -0.6750  0.3544\n",
       "famsize[T.LE3]       -0.0772   0.2589 -0.2982 0.7655 -0.5846  0.4302\n",
       "Pstatus[T.T]         -0.0157   0.3553 -0.0443 0.9647 -0.7120  0.6806\n",
       "Mjob[T.health]       -0.0040   0.5606 -0.0071 0.9943 -1.1028  1.0948\n",
       "Mjob[T.other]        -0.0217   0.2993 -0.0725 0.9422 -0.6083  0.5649\n",
       "Mjob[T.services]     -0.3163   0.3868 -0.8179 0.4134 -1.0744  0.4417\n",
       "Mjob[T.teacher]      -0.6812   0.5674 -1.2004 0.2300 -1.7933  0.4310\n",
       "Fjob[T.health]        1.4440   0.7344  1.9663 0.0493  0.0046  2.8834\n",
       "Fjob[T.other]        -0.0249   0.4556 -0.0547 0.9563 -0.9179  0.8680\n",
       "Fjob[T.services]      0.5767   0.4799  1.2017 0.2295 -0.3639  1.5173\n",
       "Fjob[T.teacher]      -0.4342   0.8643 -0.5024 0.6154 -2.1282  1.2597\n",
       "reason[T.home]       -0.6103   0.3063 -1.9922 0.0463 -1.2107 -0.0099\n",
       "reason[T.other]      -0.4530   0.3705 -1.2228 0.2214 -1.1791  0.2731\n",
       "reason[T.reputation] -0.4504   0.3254 -1.3843 0.1663 -1.0882  0.1873\n",
       "guardian[T.mother]    0.7853   0.2893  2.7141 0.0066  0.2182  1.3524\n",
       "guardian[T.other]    -0.5233   0.6179 -0.8469 0.3971 -1.7344  0.6878\n",
       "schoolsup[T.yes]      1.2151   0.3635  3.3426 0.0008  0.5026  1.9276\n",
       "famsup[T.yes]         0.0759   0.2398  0.3167 0.7515 -0.3941  0.5460\n",
       "paid[T.yes]          -0.1317   0.4765 -0.2764 0.7822 -1.0657  0.8023\n",
       "activities[T.yes]    -0.2678   0.2394 -1.1186 0.2633 -0.7371  0.2015\n",
       "nursery[T.yes]        0.2456   0.2930  0.8385 0.4018 -0.3286  0.8198\n",
       "higher[T.yes]        -1.5109   0.3729 -4.0518 0.0001 -2.2418 -0.7800\n",
       "internet[T.yes]       0.0518   0.2799  0.1850 0.8532 -0.4967  0.6003\n",
       "romantic[T.yes]       0.3869   0.2405  1.6091 0.1076 -0.0844  0.8582\n",
       "age                  -0.0179   0.1098 -0.1634 0.8702 -0.2331  0.1972\n",
       "Medu                 -0.0017   0.1542 -0.0110 0.9912 -0.3039  0.3005\n",
       "Fedu                 -0.2788   0.1442 -1.9335 0.0532 -0.5615  0.0038\n",
       "traveltime           -0.0615   0.1586 -0.3876 0.6983 -0.3724  0.2494\n",
       "studytime            -0.1735   0.1500 -1.1565 0.2475 -0.4675  0.1205\n",
       "failures              1.7351   0.2968  5.8457 0.0000  1.1533  2.3168\n",
       "famrel               -0.0222   0.1170 -0.1897 0.8495 -0.2514  0.2070\n",
       "freetime              0.1538   0.1167  1.3177 0.1876 -0.0750  0.3825\n",
       "goout                -0.0543   0.1150 -0.4725 0.6366 -0.2797  0.1711\n",
       "Dalc                  0.0680   0.1609  0.4223 0.6728 -0.2474  0.3833\n",
       "Walc                  0.0570   0.1277  0.4461 0.6556 -0.1933  0.3073\n",
       "health                0.0385   0.0832  0.4632 0.6432 -0.1245  0.2016\n",
       "absences              0.0924   0.0245  3.7759 0.0002  0.0444  0.1403\n",
       "====================================================================\n",
       "\n",
       "\"\"\""
      ]
     },
     "execution_count": 15,
     "metadata": {},
     "output_type": "execute_result"
    }
   ],
   "source": [
    "import statsmodels.formula.api as smf\n",
    "lm = smf.logit('flag_student ~ school + \tsex + \tage + \taddress + \tfamsize + \tPstatus + \tMedu + \tFedu + \tMjob + \tFjob + \treason + \tguardian + \ttraveltime + \tstudytime + \tfailures + \tschoolsup + \tfamsup + \tpaid + \tactivities + \tnursery + \thigher + \tinternet + \tromantic + \tfamrel + \tfreetime + \tgoout + \tDalc + \tWalc + \thealth + \tabsences', data = student_grades).fit()\n",
    "lm.summary2()"
   ]
  },
  {
   "cell_type": "code",
   "execution_count": 16,
   "metadata": {
    "collapsed": false
   },
   "outputs": [],
   "source": [
    "#export data to csv\n",
    "dummies.to_csv('student_with_dummies.csv')"
   ]
  },
  {
   "cell_type": "code",
   "execution_count": 17,
   "metadata": {
    "collapsed": false,
    "scrolled": true
   },
   "outputs": [
    {
     "data": {
      "text/plain": [
       "(125, 524)"
      ]
     },
     "execution_count": 17,
     "metadata": {},
     "output_type": "execute_result"
    }
   ],
   "source": [
    "#1 Split data into train/test\n",
    "#code from http://stackoverflow.com/questions/24147278/how-do-i-create-test-and-train-samples-from-one-dataframe-with-pandas\n",
    "X=student_with_dummies.drop(['flag_student','G1','G2'],axis = 1)\n",
    "X_scaled = (X-np.mean(X, axis = 0))/(np.var(X, axis =0))\n",
    "Y=student_with_dummies.flag_student\n",
    "msk = np.random.rand(len(student_with_dummies)) < 0.8\n",
    "train_X,train_Y = X_scaled[msk],Y[msk]\n",
    "test_X, test_Y = X_scaled[~msk],Y[~msk]\n",
    "len(test_Y),len(train_Y)"
   ]
  },
  {
   "cell_type": "code",
   "execution_count": 18,
   "metadata": {
    "collapsed": false,
    "scrolled": true
   },
   "outputs": [
    {
     "data": {
      "text/plain": [
       "(array([  1.02895152e-01,   9.55673213e-02,   7.77932593e-02,\n",
       "          6.23924307e-02,   5.73999567e-02,   5.60633104e-02,\n",
       "          5.07108028e-02,   4.41578225e-02,   4.23906337e-02,\n",
       "          3.87409199e-02,   3.50089066e-02,   2.88047096e-02,\n",
       "          2.80717971e-02,   2.65253716e-02,   2.54439195e-02,\n",
       "          2.36536398e-02,   2.29568907e-02,   2.19176653e-02,\n",
       "          1.99178220e-02,   1.90217979e-02,   1.85224041e-02,\n",
       "          1.67584046e-02,   1.62534647e-02,   1.43819934e-02,\n",
       "          1.29684577e-02,   1.22914792e-02,   6.40466131e-03,\n",
       "          4.06780621e-03,   3.71231280e-03,   3.14328872e-03,\n",
       "          2.91720128e-03,   2.03471281e-03,   1.83550180e-03,\n",
       "          1.44079247e-03,   1.23536433e-03,   1.15308630e-03,\n",
       "          6.34371210e-04,   5.50092161e-04,   1.53877790e-04,\n",
       "          1.06598262e-04,   2.02924906e-32,   3.33549389e-33,\n",
       "          2.92258367e-33,   1.52088728e-33,   1.15680581e-33,\n",
       "          7.44897868e-34,   6.44938295e-34,   6.44938295e-34,\n",
       "          6.44938295e-34,   6.44938295e-34,   6.44938295e-34,\n",
       "          6.44938295e-34,   6.44938295e-34,   6.44938295e-34,\n",
       "          3.67738323e-34,   2.05485357e-34,   1.13273798e-34]),\n",
       " array([ 0.10289515,  0.19846247,  0.27625573,  0.33864816,  0.39604812,\n",
       "         0.45211143,  0.50282223,  0.54698006,  0.58937069,  0.62811161,\n",
       "         0.66312052,  0.69192522,  0.71999702,  0.74652239,  0.77196631,\n",
       "         0.79561995,  0.81857684,  0.84049451,  0.86041233,  0.87943413,\n",
       "         0.89795653,  0.91471494,  0.9309684 ,  0.9453504 ,  0.95831885,\n",
       "         0.97061033,  0.97701499,  0.9810828 ,  0.98479511,  0.9879384 ,\n",
       "         0.9908556 ,  0.99289032,  0.99472582,  0.99616661,  0.99740197,\n",
       "         0.99855506,  0.99918943,  0.99973952,  0.9998934 ,  1.        ,\n",
       "         1.        ,  1.        ,  1.        ,  1.        ,  1.        ,\n",
       "         1.        ,  1.        ,  1.        ,  1.        ,  1.        ,\n",
       "         1.        ,  1.        ,  1.        ,  1.        ,  1.        ,\n",
       "         1.        ,  1.        ]))"
      ]
     },
     "execution_count": 18,
     "metadata": {},
     "output_type": "execute_result"
    }
   ],
   "source": [
    "#2 dimensionality reduction on training set - PCA:\n",
    "\n",
    "from sklearn import decomposition\n",
    "\n",
    "pca = decomposition.PCA()\n",
    "pca.fit(train_X)\n",
    "pca.explained_variance_ratio_,np.cumsum(pca.explained_variance_ratio_)"
   ]
  },
  {
   "cell_type": "markdown",
   "metadata": {},
   "source": [
    "The first 20 principal components account for 90% of the variation in the data. The 21st principal component contributes less than 1% of the variability. Use only the first 20 principal components"
   ]
  },
  {
   "cell_type": "code",
   "execution_count": 19,
   "metadata": {
    "collapsed": false,
    "scrolled": true
   },
   "outputs": [
    {
     "name": "stdout",
     "output_type": "stream",
     "text": [
      "Populating the interactive namespace from numpy and matplotlib\n"
     ]
    },
    {
     "data": {
      "image/png": "[encoded data removed]",
      "text/plain": [
       "<matplotlib.figure.Figure at 0x115477b38>"
      ]
     },
     "metadata": {},
     "output_type": "display_data"
    }
   ],
   "source": [
    "%pylab inline\n",
    "\n",
    "pca = decomposition.PCA(n_components = 20)\n",
    "pca.fit(train_X)\n",
    "X_PCA = pca.transform(train_X)\n",
    "plt.scatter(X_PCA[:,0],X_PCA[:,1], c =train_Y);"
   ]
  },
  {
   "cell_type": "code",
   "execution_count": 20,
   "metadata": {
    "collapsed": false,
    "scrolled": true
   },
   "outputs": [
    {
     "data": {
      "image/png": "[encoded data removed]",
      "text/plain": [
       "<matplotlib.figure.Figure at 0x115477828>"
      ]
     },
     "metadata": {},
     "output_type": "display_data"
    }
   ],
   "source": [
    "#PCA on test data\n",
    "X_test_PCA = pca.transform(test_X)\n",
    "plt.scatter(X_test_PCA[:,0],X_test_PCA[:,1], c =test_Y);"
   ]
  },
  {
   "cell_type": "code",
   "execution_count": 21,
   "metadata": {
    "collapsed": false
   },
   "outputs": [
    {
     "data": {
      "text/plain": [
       "0.68799999999999994"
      ]
     },
     "execution_count": 21,
     "metadata": {},
     "output_type": "execute_result"
    }
   ],
   "source": [
    "#KNN after PCA\n",
    "from sklearn.neighbors import KNeighborsClassifier\n",
    "\n",
    "#search for optimal neighbors\n",
    "nbrs = KNeighborsClassifier(n_neighbors=3).fit(X_PCA, train_Y)\n",
    "#nbrs.predict(X_train_PCA)\n",
    "nbrs.score(X_test_PCA,test_Y)"
   ]
  },
  {
   "cell_type": "code",
   "execution_count": 22,
   "metadata": {
    "collapsed": false,
    "scrolled": true
   },
   "outputs": [
    {
     "data": {
      "image/png": "[encoded data removed]",
      "text/plain": [
       "<matplotlib.figure.Figure at 0x11a96b588>"
      ]
     },
     "metadata": {},
     "output_type": "display_data"
    }
   ],
   "source": [
    "error_test,error_train =[],[]\n",
    "for i in range(1,20):\n",
    "    nbrs = KNeighborsClassifier(n_neighbors=i).fit(X_PCA, train_Y)\n",
    "    error_test.append(nbrs.score(X_test_PCA,test_Y))\n",
    "    error_train.append(nbrs.score(X_PCA,train_Y))\n",
    "plt.plot(error_test, label = \"test\")\n",
    "plt.plot(error_train, label = 'train')\n",
    "plt.show()"
   ]
  },
  {
   "cell_type": "markdown",
   "metadata": {},
   "source": [
    "Errors minimized at neighbors = 13"
   ]
  },
  {
   "cell_type": "code",
   "execution_count": 23,
   "metadata": {
    "collapsed": false,
    "scrolled": true
   },
   "outputs": [
    {
     "name": "stdout",
     "output_type": "stream",
     "text": [
      "Accuracy: 70.4\n"
     ]
    },
    {
     "data": {
      "image/png": "[encoded data removed]",
      "text/plain": [
       "<matplotlib.figure.Figure at 0x103473b38>"
      ]
     },
     "metadata": {},
     "output_type": "display_data"
    },
    {
     "data": {
      "text/plain": [
       "<matplotlib.figure.Figure at 0x11a7947f0>"
      ]
     },
     "metadata": {},
     "output_type": "display_data"
    }
   ],
   "source": [
    "nbrs = KNeighborsClassifier(n_neighbors=13).fit(X_PCA, train_Y)\n",
    "#nbrs.predict(X_test_PCA)\n",
    "#nbrs.score(X_test_PCA,test_Y)\n",
    "print(\"Accuracy:\", nbrs.score(X_test_PCA,test_Y)*100)\n",
    "plt.subplot(221)\n",
    "plt.scatter(X_test_PCA[:,0],X_test_PCA[:,1], c =test_Y);\n",
    "plt.subplot(222)\n",
    "\n",
    "plt.scatter(X_test_PCA[:,0],X_test_PCA[:,1], c =nbrs.predict(X_test_PCA));\n",
    "#plt.scatter(X_test_PCA[:,0],X_test_PCA[:,1], c= train_Y)\n",
    "#plt.plot(X_test_PCA[:,0],X_test_PCA[:,1],'o', color = nbrs.predict(X_test_PCA))\n",
    "plt.figure(figsize(15,10))\n",
    "plt.show();"
   ]
  },
  {
   "cell_type": "code",
   "execution_count": 24,
   "metadata": {
    "collapsed": false
   },
   "outputs": [
    {
     "name": "stdout",
     "output_type": "stream",
     "text": [
      "Accuracy: 88.0\n"
     ]
    },
    {
     "name": "stderr",
     "output_type": "stream",
     "text": [
      "/Users/justin/anaconda/lib/python3.5/site-packages/sklearn/discriminant_analysis.py:387: UserWarning: Variables are collinear.\n",
      "  warnings.warn(\"Variables are collinear.\")\n"
     ]
    }
   ],
   "source": [
    "#LDA on data\n",
    "\n",
    "from sklearn.discriminant_analysis import LinearDiscriminantAnalysis\n",
    "clf = LinearDiscriminantAnalysis()\n",
    "clf.fit(train_X, train_Y)\n",
    "clf.classes_\n",
    "#print(clf.decision_function(train_X))\n",
    "print(\"Accuracy:\", clf.score(test_X, test_Y)*100)\n",
    "# print(clf.explained_variance_ratio)\n",
    "#print(\"Covariance\",clf.store_covariance)"
   ]
  },
  {
   "cell_type": "code",
   "execution_count": null,
   "metadata": {
    "collapsed": true
   },
   "outputs": [],
   "source": []
  },
  {
   "cell_type": "markdown",
   "metadata": {},
   "source": [
    "# 4. Improve Results"
   ]
  },
  {
   "cell_type": "markdown",
   "metadata": {},
   "source": [
    "There are a few things we can do to maximize the score. One thing is to tune different parameters. Parameters can be number of components, number of nearest neighbors, which distance function to use, and so on. Change these numbers and see how the accuracy changes with them. "
   ]
  },
  {
   "cell_type": "markdown",
   "metadata": {},
   "source": [
    "Bonus: Check out <a href=http://scikit-learn.org/0.17/modules/generated/sklearn.grid_search.GridSearchCV.html>GridsearchCV</a>. This will allow you to choose combinations of parameters and it will let you know which one is the best. It is super powerful!"
   ]
  },
  {
   "cell_type": "code",
   "execution_count": 25,
   "metadata": {
    "collapsed": false,
    "scrolled": true
   },
   "outputs": [
    {
     "data": {
      "image/png": "[encoded data removed]",
      "text/plain": [
       "<matplotlib.figure.Figure at 0x11aa9b320>"
      ]
     },
     "metadata": {},
     "output_type": "display_data"
    }
   ],
   "source": [
    "#KNN without PCA:\n",
    "error_test,error_train =[],[]\n",
    "for i in range(1,20):\n",
    "    nbrs = KNeighborsClassifier(n_neighbors=i).fit(train_X, train_Y)\n",
    "    error_test.append(nbrs.score(test_X,test_Y))\n",
    "    error_train.append(nbrs.score(train_X,train_Y))\n",
    "plt.plot(error_test, label = \"test\")\n",
    "plt.plot(error_train, label = 'train')\n",
    "plt.show()"
   ]
  },
  {
   "cell_type": "code",
   "execution_count": 26,
   "metadata": {
    "collapsed": false,
    "scrolled": true
   },
   "outputs": [
    {
     "name": "stdout",
     "output_type": "stream",
     "text": [
      "Accuracy: 69.6\n"
     ]
    }
   ],
   "source": [
    "# Without PCA: use 11 neighbors\n",
    "\n",
    "nbrs = KNeighborsClassifier(n_neighbors=11).fit(train_X, train_Y)\n",
    "#nbrs.predict(X_test_PCA)\n",
    "#nbrs.score(X_test_PCA,test_Y)\n",
    "print(\"Accuracy:\", nbrs.score(test_X,test_Y)*100)\n",
    "\n"
   ]
  },
  {
   "cell_type": "markdown",
   "metadata": {},
   "source": [
    "There are a few things we can do to maximize the score. One thing is to tune different parameters. Parameters can be number of components, number of nearest neighbors, which distance function to use, and so on. Change these numbers and see how the accuracy changes with them. "
   ]
  },
  {
   "cell_type": "code",
   "execution_count": 27,
   "metadata": {
    "collapsed": false,
    "scrolled": true
   },
   "outputs": [
    {
     "data": {
      "image/png": "[encoded data removed]",
      "text/plain": [
       "<matplotlib.figure.Figure at 0x11a830e80>"
      ]
     },
     "metadata": {},
     "output_type": "display_data"
    }
   ],
   "source": [
    "error_test,error_train =[],[]\n",
    "for i in range(1,20):\n",
    "    nbrs = KNeighborsClassifier(n_neighbors=i, algorithm = 'kd_tree').fit(X_PCA, train_Y)\n",
    "    error_test.append(nbrs.score(X_test_PCA,test_Y))\n",
    "    error_train.append(nbrs.score(X_PCA,train_Y))\n",
    "plt.plot(error_test, label = \"test\")\n",
    "plt.plot(error_train, label = 'train')\n",
    "plt.show()"
   ]
  },
  {
   "cell_type": "code",
   "execution_count": 28,
   "metadata": {
    "collapsed": false
   },
   "outputs": [
    {
     "name": "stdout",
     "output_type": "stream",
     "text": [
      "Accuracy: 69.6\n"
     ]
    }
   ],
   "source": [
    "nbrs = KNeighborsClassifier(n_neighbors=11, algorithm = 'kd_tree').fit(train_X, train_Y)\n",
    "#nbrs.predict(X_test_PCA)\n",
    "#nbrs.score(X_test_PCA,test_Y)\n",
    "print(\"Accuracy:\", nbrs.score(test_X,test_Y)*100)\n",
    "\n"
   ]
  },
  {
   "cell_type": "code",
   "execution_count": 29,
   "metadata": {
    "collapsed": false
   },
   "outputs": [
    {
     "name": "stdout",
     "output_type": "stream",
     "text": [
      "Accuracy: 69.6\n"
     ]
    }
   ],
   "source": [
    "nbrs = KNeighborsClassifier(n_neighbors=11, algorithm = 'brute').fit(train_X, train_Y)\n",
    "#nbrs.predict(X_test_PCA)\n",
    "#nbrs.score(X_test_PCA,test_Y)\n",
    "print(\"Accuracy:\", nbrs.score(test_X,test_Y)*100)\n",
    "\n"
   ]
  },
  {
   "cell_type": "markdown",
   "metadata": {},
   "source": [
    "# 5. Present result"
   ]
  },
  {
   "cell_type": "markdown",
   "metadata": {},
   "source": [
    "For a company, this usually includes a slide show or presentation on what your findings were. In this case, you will not have to do that. Although, you may want to think about these aspects of your model. "
   ]
  },
  {
   "cell_type": "markdown",
   "metadata": {},
   "source": [
    " 1. Are there ethical concerns with trying to find high risk students this way?\n",
    " \n",
    " Yes, it could be argued that you're discriminating people based on sex, race, or family income.\n",
    " \n",
    " 2. Is there a possibility of neglecting the high performing students? What would the implications of this be?\n",
    " \n",
    " Yes, resources get spent on underperforming students, and quality and reputation of institution decreases.\n",
    " \n",
    " 3. Would it be beneficial to allow a parent to have access to this information so that they can be informed when their student is flagged for possibly being at risk of failing the course? \n",
    " \n",
    " No, these are based off things that people have no control over, and not the type of info that should be presented when informing an individual that they need to improve, because they aren't direct reasons why a student is failing.\n",
    " \n",
    "There are no right or wrong answers to these questions, but they are good to think about. You do have to provide a thoughtful reponse to atleast one of these questions. "
   ]
  },
  {
   "cell_type": "code",
   "execution_count": null,
   "metadata": {
    "collapsed": true
   },
   "outputs": [],
   "source": []
  }
 ],
 "metadata": {
  "anaconda-cloud": {},
  "kernelspec": {
   "display_name": "Python [default]",
   "language": "python",
   "name": "python3"
  },
  "language_info": {
   "codemirror_mode": {
    "name": "ipython",
    "version": 3
   },
   "file_extension": ".py",
   "mimetype": "text/x-python",
   "name": "python",
   "nbconvert_exporter": "python",
   "pygments_lexer": "ipython3",
   "version": "3.5.2"
  }
 },
 "nbformat": 4,
 "nbformat_minor": 0
}
