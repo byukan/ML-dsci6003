{
 "cells": [
  {
   "cell_type": "markdown",
   "metadata": {},
   "source": [
    "## RAT 2.3\n",
    "\n",
    "- Give a concise description of k-Nearest Neighbors\n",
    "\n",
    "- What are the strengths and weaknesses of kNN?"
   ]
  },
  {
   "cell_type": "markdown",
   "metadata": {},
   "source": [
    "k-nearest neighbors is an algorithmic technique using the set of k nodes with the shortest distance, however defined, to a given node.\n",
    "\n",
    "For fixed KK, the KNN classifier predicts the class of xx as the majority class among its KK nearest neighbors.\n",
    "\n",
    "strengths:\n",
    "\n",
    "effective when applied to large datasets\n",
    "\n",
    "robust to noise\n",
    "\n",
    "weaknesses:\n",
    "\n",
    "deciding value of k, or distance definition is ambiguous\n",
    "\n",
    "polynomial time complexity"
   ]
  },
  {
   "cell_type": "code",
   "execution_count": null,
   "metadata": {
    "collapsed": true
   },
   "outputs": [],
   "source": []
  }
 ],
 "metadata": {
  "anaconda-cloud": {},
  "kernelspec": {
   "display_name": "Python [default]",
   "language": "python",
   "name": "python3"
  },
  "language_info": {
   "codemirror_mode": {
    "name": "ipython",
    "version": 3
   },
   "file_extension": ".py",
   "mimetype": "text/x-python",
   "name": "python",
   "nbconvert_exporter": "python",
   "pygments_lexer": "ipython3",
   "version": "3.5.2"
  }
 },
 "nbformat": 4,
 "nbformat_minor": 0
}
