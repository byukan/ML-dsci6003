{
 "cells": [
  {
   "cell_type": "markdown",
   "metadata": {},
   "source": [
    "##RAT 2.1\n",
    "\n",
    "This is a classic dynamic programming question. \n",
    "\n",
    "Find the subarray of a given array of integers whose sum is maximum.\n",
    "\n",
    "For example, in the array [1, -2, 3, 10, -4, 7, 2, -5], its sub-array [3, 10, -4, 7, 2] has the maximum sum 18.\n"
   ]
  },
  {
   "cell_type": "code",
   "execution_count": 68,
   "metadata": {
    "collapsed": false
   },
   "outputs": [
    {
     "name": "stdout",
     "output_type": "stream",
     "text": [
      "7\n",
      "([3, 10, -4, 7, 2], 18)\n"
     ]
    }
   ],
   "source": [
    "import numpy as np\n",
    "\n",
    "l = [1, -2, 3, 10, -4, 7, 2, -5]\n",
    "\n",
    "# get a recursion\n",
    "def max_subarray(l):\n",
    "    c = 0\n",
    "    s = 0\n",
    "#     sum = 0\n",
    "    maxes = [l[0]]\n",
    "    for i in range(1, len(l)):\n",
    "        c += 1\n",
    "#         sum += l[i]\n",
    "        maxes.append(max(l[i], l[i]+maxes[i-1]))\n",
    "        if l[i] > l[i]+maxes[i-1]:\n",
    "            s = i\n",
    "#             e = \n",
    "#         else:\n",
    "# #             s = \n",
    "#             e = i\n",
    "    print(c)\n",
    "    return l[s:np.argmax(maxes)+1], sum(l[s:np.argmax(maxes)+1])\n",
    "\n",
    "print(max_subarray(l))"
   ]
  },
  {
   "cell_type": "code",
   "execution_count": null,
   "metadata": {
    "collapsed": true
   },
   "outputs": [],
   "source": []
  }
 ],
 "metadata": {
  "anaconda-cloud": {},
  "kernelspec": {
   "display_name": "Python [conda env:nlp]",
   "language": "python",
   "name": "conda-env-nlp-py"
  },
  "language_info": {
   "codemirror_mode": {
    "name": "ipython",
    "version": 3
   },
   "file_extension": ".py",
   "mimetype": "text/x-python",
   "name": "python",
   "nbconvert_exporter": "python",
   "pygments_lexer": "ipython3",
   "version": "3.5.2"
  }
 },
 "nbformat": 4,
 "nbformat_minor": 0
}
