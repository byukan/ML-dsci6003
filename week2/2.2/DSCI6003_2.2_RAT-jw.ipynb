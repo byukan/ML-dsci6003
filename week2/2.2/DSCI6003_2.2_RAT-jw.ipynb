{
 "cells": [
  {
   "cell_type": "markdown",
   "metadata": {},
   "source": [
    "##RAT 2.2\n",
    "\n",
    "Let's do a bit more practice before we dive into machine learning algorithms. \n",
    "\n",
    "Say you have an array for which the ith element is the price of a given stock on day i. Design an algorithm to find the maximum profit. You may complete at most k transactions. Note: You may not engage in multiple transactions at the same time (ie, you must sell the stock before you buy again)."
   ]
  },
  {
   "cell_type": "code",
   "execution_count": 3,
   "metadata": {
    "collapsed": false
   },
   "outputs": [
    {
     "name": "stdout",
     "output_type": "stream",
     "text": [
      "6\n"
     ]
    },
    {
     "data": {
      "text/plain": [
       "-1"
      ]
     },
     "execution_count": 3,
     "metadata": {},
     "output_type": "execute_result"
    }
   ],
   "source": [
    "#  Suppose we could access yesterday's stock prices as a list, where:\n",
    "#     The indices are the time in minutes past trade opening time, which was 9:30am local time.\n",
    "#     The values are the price in dollars of Apple stock at that time.\n",
    "# So if the stock cost $500 at 10:30am, stock_prices_yesterday[60] = 500.\n",
    "# Write an efficient function that takes stock_prices_yesterday and returns the best profit I could have made from 1 purchase and 1 sale of 1 Apple stock yesterday. \n",
    "\n",
    "stock_prices_yesterday = [10, 7, 5, 8, 11, 9]\n",
    "monotonic_decrease= [10, 9, 5, 3.5, 2, 0]\n",
    "\n",
    "\n",
    "def get_max_profit(v):\n",
    "    \"\"\"\n",
    "    O(n) time, and O(1) space\n",
    "    : edge case when stock prices goes down all day, return negative profit\n",
    "    \"\"\"\n",
    "    # calculate max profit for each minute, and store largest value\n",
    "    \n",
    "    if len(v) < 2:\n",
    "        raise IndexError(\"At least 2 stock prices required to compute profit.\")\n",
    "    max_profit = v[1] - v[0]\n",
    "    min_price = v[0]\n",
    "\n",
    "    for i in range(len(v)-1):\n",
    "        \n",
    "        # skip the first (0th) time\n",
    "        if i == 0:\n",
    "            continue\n",
    "        \n",
    "        if v[i] < min_price:\n",
    "            min_price = v[i]\n",
    "        profit = v[i+1] - min_price\n",
    "#         profit = v[i+1] - min(v[:i+1])  # would storing min improve time complexity? - yes\n",
    "        if profit > max_profit:\n",
    "            max_profit = profit\n",
    "    return max_profit\n",
    "\n",
    "print(get_max_profit(stock_prices_yesterday))\n",
    "# returns 6 (buying for $5 and selling for $11)\n",
    "\n",
    "get_max_profit(monotonic_decrease)"
   ]
  },
  {
   "cell_type": "code",
   "execution_count": 4,
   "metadata": {
    "collapsed": false
   },
   "outputs": [
    {
     "name": "stdout",
     "output_type": "stream",
     "text": [
      "[10, 7, 5]\n",
      "0 , 10\n",
      "<enumerate object at 0x104721dc8>\n",
      "1 , 7\n",
      "<enumerate object at 0x104721dc8>\n",
      "2 , 5\n",
      "<enumerate object at 0x104721dc8>\n",
      "3 , 8\n",
      "<enumerate object at 0x104721dc8>\n",
      "4 , 11\n",
      "<enumerate object at 0x104721dc8>\n",
      "5 , 9\n",
      "<enumerate object at 0x104721dc8>\n"
     ]
    }
   ],
   "source": [
    "print(stock_prices_yesterday[0:3])\n",
    "\n",
    "for earlier_time, earlier_price in enumerate(stock_prices_yesterday):\n",
    "    print(earlier_time, \",\", earlier_price)\n",
    "    print(enumerate(stock_prices_yesterday))"
   ]
  },
  {
   "cell_type": "code",
   "execution_count": null,
   "metadata": {
    "collapsed": true
   },
   "outputs": [],
   "source": []
  }
 ],
 "metadata": {
  "anaconda-cloud": {},
  "kernelspec": {
   "display_name": "Python 3",
   "language": "python",
   "name": "python3"
  },
  "language_info": {
   "codemirror_mode": {
    "name": "ipython",
    "version": 3
   },
   "file_extension": ".py",
   "mimetype": "text/x-python",
   "name": "python",
   "nbconvert_exporter": "python",
   "pygments_lexer": "ipython3",
   "version": "3.5.2"
  }
 },
 "nbformat": 4,
 "nbformat_minor": 0
}
