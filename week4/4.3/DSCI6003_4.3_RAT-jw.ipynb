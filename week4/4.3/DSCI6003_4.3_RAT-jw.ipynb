{
 "cells": [
  {
   "cell_type": "markdown",
   "metadata": {},
   "source": [
    "## RAT 4.3\n",
    "\n",
    "\n",
    "- Summarize Naive assumption of Naive Bayes\n",
    "\n",
    "- Describe use cases, weaknesses and strengths of Naive Bayes\n",
    "\n",
    "- Derive and write the cost function of Logistic Regression\n"
   ]
  },
  {
   "cell_type": "markdown",
   "metadata": {
    "collapsed": true
   },
   "source": [
    "Naive Bayes belongs to a family of simple probabilistic classifiers, based on applying Bayes' theorem with strong (naive) independence assumptions among the features.\n",
    "\n",
    "The naive assumption means that the classifier assumes that the value of a particular features is independent of the value of any other feature, given the class variable.\n",
    "\n",
    "\"For example, a fruit may be considered to be an apple if it is red, round, and about 10 cm in diameter. A naive Bayes classifier considers each of these features to contribute independently to the probability that this fruit is an apple, regardless of any possible correlations between the color, roundness, and diameter features.\"\n",
    "\n",
    "* "
   ]
  },
  {
   "cell_type": "code",
   "execution_count": null,
   "metadata": {
    "collapsed": true
   },
   "outputs": [],
   "source": []
  }
 ],
 "metadata": {
  "anaconda-cloud": {},
  "kernelspec": {
   "display_name": "Python [conda env:nlp]",
   "language": "python",
   "name": "conda-env-nlp-py"
  },
  "language_info": {
   "codemirror_mode": {
    "name": "ipython",
    "version": 3
   },
   "file_extension": ".py",
   "mimetype": "text/x-python",
   "name": "python",
   "nbconvert_exporter": "python",
   "pygments_lexer": "ipython3",
   "version": "3.5.2"
  }
 },
 "nbformat": 4,
 "nbformat_minor": 0
}
