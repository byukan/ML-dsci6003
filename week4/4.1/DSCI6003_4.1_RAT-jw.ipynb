{
 "cells": [
  {
   "cell_type": "markdown",
   "metadata": {},
   "source": [
    "## RAT 4.1\n",
    "\n",
    "1 - What is the Bias-Variance Tradeoff?\n",
    "\n",
    "a. Explain what \"Bias\" and \"Variance\" are.\n",
    "\n",
    "b. When we overfit, what happens to bias and variance?\n",
    "\n",
    "c. When we underfit, what happens to bias and variance?\n",
    "\n",
    "d. Describe relationship between bias/variance and precision/accuracy\n",
    "\n",
    "e. How do Ridge and Lasso attempt to win at the Bias-Variance tradeoff? What exactly is being penalized?"
   ]
  },
  {
   "cell_type": "markdown",
   "metadata": {},
   "source": [
    "Bias-Variance tradeoff is the phenomenon that lower variance comes with higher bias and vice-versa.\n",
    "\n",
    "a. bias is the difference between an estimator's expected value and the true value of the parameter being estimated.\n",
    "\n",
    "variance measures how far a set of numbers are spread out.\n",
    "\n",
    "b. overfit leads to low variance, high bias\n",
    "\n",
    "c. underfit leads to high variance, low bias\n",
    "\n",
    "\n",
    "Accuracy is the proximity of measurement results to the true value; precision, the repeatability, or reproducibility of the measurement\n",
    "\n",
    "d. precision is positive predictive value - tp/(tp+fp)\n",
    "recall is hit rage  - tp/(tp+fn)\n",
    "\n",
    "e. it penalizes having too many features relative to the number of data points.  having lots of features and few rows would lead to overfitting.  ridge and lasso penalizes the number of variables."
   ]
  },
  {
   "cell_type": "markdown",
   "metadata": {},
   "source": [
    "2 - Discuss Type I and Type II errors in the context of model quality.\n",
    "\n",
    "3 - Provide formulas and English language descriptions for precision, recall and F-1 statistic"
   ]
  },
  {
   "cell_type": "markdown",
   "metadata": {
    "collapsed": true
   },
   "source": [
    "#2. more type II errors means precision is higher than recall\n",
    "more type I errors means recall is higher than precision\n",
    "\n",
    "#3.        * Precision - the positive predictive value\n",
    "        \n",
    "        PPV = TP / (TP + FP)\n",
    "        \n",
    "        e.g. - reliability of positive results; proportion of patients that have cancer over all the positive tests\n",
    "        \n",
    "        * Recall - true positive rate, or sensitivity, the probability of detection\n",
    "        \n",
    "        recall = TP / (TP + FN)\n",
    "        \n",
    "        e.g. - how many cancer cases the test can correctly predict.\n",
    "        \n",
    "        * F1 Statistic - score computed by the harmonic mean of precision and recall\n",
    "        \n",
    "        F1 = 2*TP / (2*TP + FP + FN)"
   ]
  },
  {
   "cell_type": "code",
   "execution_count": null,
   "metadata": {
    "collapsed": true
   },
   "outputs": [],
   "source": []
  }
 ],
 "metadata": {
  "anaconda-cloud": {},
  "kernelspec": {
   "display_name": "Python [conda env:nlp]",
   "language": "python",
   "name": "conda-env-nlp-py"
  },
  "language_info": {
   "codemirror_mode": {
    "name": "ipython",
    "version": 3
   },
   "file_extension": ".py",
   "mimetype": "text/x-python",
   "name": "python",
   "nbconvert_exporter": "python",
   "pygments_lexer": "ipython3",
   "version": "3.5.2"
  }
 },
 "nbformat": 4,
 "nbformat_minor": 0
}
