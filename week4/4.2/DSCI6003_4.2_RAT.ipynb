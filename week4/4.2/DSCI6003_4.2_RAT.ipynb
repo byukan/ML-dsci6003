{
 "cells": [
  {
   "cell_type": "markdown",
   "metadata": {},
   "source": [
    "##RAT 4.2\n",
    "\n",
    "1 - \n",
    "\n",
    "a. Write the equations for and use AIC, BIC, AICc and Cp to assess model quality relative to other models. \n",
    "\n",
    "b. Discuss the differences and similarity between these measures in detail and the motivational foundations for using one over the other.\n",
    "\n",
    "2 - \n",
    "\n",
    "A recap of regularization: Describe use cases, weaknesses and strengths of Lasso, Ridge and Elstic Net Regularization"
   ]
  },
  {
   "cell_type": "code",
   "execution_count": null,
   "metadata": {
    "collapsed": true
   },
   "outputs": [],
   "source": []
  }
 ],
 "metadata": {
  "kernelspec": {
   "display_name": "Python 2",
   "language": "python",
   "name": "python2"
  },
  "language_info": {
   "codemirror_mode": {
    "name": "ipython",
    "version": 2
   },
   "file_extension": ".py",
   "mimetype": "text/x-python",
   "name": "python",
   "nbconvert_exporter": "python",
   "pygments_lexer": "ipython2",
   "version": "2.7.11"
  }
 },
 "nbformat": 4,
 "nbformat_minor": 0
}
