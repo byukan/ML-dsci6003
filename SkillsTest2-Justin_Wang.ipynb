{
 "cells": [
  {
   "cell_type": "markdown",
   "metadata": {},
   "source": [
    "### Name:\n",
    "Remember to include your name in the filename as well. "
   ]
  },
  {
   "cell_type": "markdown",
   "metadata": {},
   "source": [
    "# Skills Test 2\n",
    "\n",
    "## Part 1: Multiple Choice\n",
    "Notice some of these questions require more than 1 answer. "
   ]
  },
  {
   "cell_type": "markdown",
   "metadata": {},
   "source": [
    "     1. In which cases would you expect penalized regression to be a better choice than boosted trees? (Type out all the letters corresponding to points that are true in the answer space).\n",
    "         a. Lots of rows relative to the number of columns\n",
    "         b. The best possible decision boundary is a straight line\n",
    "         c. Lots more columns than rows\n",
    "         d. The best possible decision boundary is jagged and non-linear\n",
    "         \n",
    "         Answer: b, c"
   ]
  },
  {
   "cell_type": "markdown",
   "metadata": {},
   "source": [
    "b, c\n",
    "\n",
    "\n",
    "a - boosted trees, with lots of data, you're not prone to overfitting, so it's not necessarily advantageous to penalize the features\n",
    "\n",
    "b - penalized regression\n",
    "\n",
    "\n",
    "c - penalized regression has advantage because it will go through all the columns based on what's available.\n",
    "\n",
    "d - boosted tree"
   ]
  },
  {
   "cell_type": "markdown",
   "metadata": {},
   "source": [
    "https://www.analyticsvidhya.com/blog/2015/11/quick-introduction-boosting-algorithms-machine-learning/"
   ]
  },
  {
   "cell_type": "markdown",
   "metadata": {},
   "source": [
    "    \n",
    "     2. In which cases would suspect that Lasso Regression would outperform Ridge Regression?\n",
    "      (Type out all the letters corresponding to points that are true in the answer space).\n",
    "        a. When it gives better performance on cross validated data\n",
    "        b. To select a group of collinear varibles that have a large affect on the outcome\n",
    "        c. Selecting a single variable that has a large affect on the outcome\n",
    "        \n",
    "        Answer: a, b, c"
   ]
  },
  {
   "cell_type": "markdown",
   "metadata": {},
   "source": [
    "a, b, c\n",
    "\n",
    "\n",
    "\n",
    "a, if you cross validate and performance is better, then it's better; sometimes which one is better depends on the dataset\n",
    "\n",
    "b, because lasso selects a subset of features, and sets the insignificant features to have 0 weight.\n",
    "\n",
    "c, lasso is more appropraite becasue ridge would factor in all the variables.\n",
    "\n",
    "a difference is that ridge regression uses the complete dataset, and makes the weights on useless coefficients very small; whereas lasso regression can have the weight of insignificant features set to 0, so it is using a subset of features."
   ]
  },
  {
   "cell_type": "markdown",
   "metadata": {},
   "source": [
    "        \n",
    "    3. Why would we need to use basis expansion? What are different ways that you can perform basis expansion? (Type out all the letters corresponding to points that are true in the answer space).\n",
    "        a. Fitting a linear model to non-linear data\n",
    "        b. For extracting variable importances \n",
    "        c. Adding squared and cubed terms to a linear model \n",
    "        d. For removing collinear data from the dataset\n",
    "        \n",
    "        Answer: a, c"
   ]
  },
  {
   "cell_type": "markdown",
   "metadata": {},
   "source": [
    "to better fit the model and improve accuracy using a curve rather than a straight line\n",
    "\n",
    "a\n",
    "\n",
    "c"
   ]
  },
  {
   "cell_type": "markdown",
   "metadata": {},
   "source": [
    "       \n",
    "     4. What is the bias/variance trade off (Choose one) \n",
    "        a.  The trade off between interpretability of a model and how well it performs\n",
    "        b.  The trade off between how well a model fits to the training and testing data\n",
    "        c.  The trade off between having less or more features included in your model\n",
    "        \n",
    "        Answer: b"
   ]
  },
  {
   "cell_type": "markdown",
   "metadata": {},
   "source": [
    "b, robustness - if test data is not in training data, it will return huge error for an overfit model\n",
    "\n",
    "an underfit model will have low variance and high bias\n",
    "\n",
    "an overfit model will have high variance, and low bias"
   ]
  },
  {
   "cell_type": "markdown",
   "metadata": {},
   "source": [
    "      \n",
    "     5. MSE and R^2 - Interpret these metrics. What types of models are these appropriate for? \n",
    "      (Type out all the letters corresponding to points that are true in the answer space)\n",
    "        a. They are used to measure success of a classification model\n",
    "        b. They are used to measure success of a regression model\n",
    "        c. MSE is a value between 0 and 1\n",
    "        d. R^2 is a value between 0 and 1\n",
    "        e. MSE corresponds to the amount of variance that is being captured by the model \n",
    "        f. MSE corresponds to the average for the square of the deviations\n",
    "\n",
    "        Answer: b, d, f"
   ]
  },
  {
   "cell_type": "markdown",
   "metadata": {},
   "source": [
    "b, these metrics are appropriate for regression models\n",
    "\n",
    "d\n",
    "\n",
    "f\n",
    "\n",
    "MSE - mean squared error, is the mean of the squared deviations of predicted values from actual\n",
    "\n",
    "R^2 is the ratio of variance from model over the variance of data.\n",
    "\n",
    "MSE is based on the y-values.\n",
    "\n",
    "R^2 is a percentage"
   ]
  },
  {
   "cell_type": "markdown",
   "metadata": {},
   "source": [
    "    6.  Derive and write the cost function for Logistic Regression using LaTex"
   ]
  },
  {
   "cell_type": "markdown",
   "metadata": {},
   "source": [
    "The cost function without regularization is given by  \n",
    "\n",
    "$J(\\theta) = - \\frac{1}{m} \\sum_{i=1}^m [y^{(i)}\\log (h_\\theta (x^{(i)})) + (1 - y^{(i)})\\log (1 - h_\\theta(x^{(i)}))]$\n",
    "\n",
    "\n",
    "The logistic regression uses a sigmoid/logistic function which is \n",
    "$0 \\leq h_\\theta (x) \\leq 1$\n",
    ". \n",
    "Defined as :\n",
    "\n",
    "\n",
    "$\\begin{align*}\n",
    "& h_\\theta (x) =  \\dfrac{1}{1 + e^{-(\\theta^T x)}} \\newline \\newline\n",
    "\\end{align*}$\n",
    "\n",
    "- 0 asymptote for x -> -$\\infty$\n",
    "- 1 asymptote for x -> $\\infty$"
   ]
  },
  {
   "cell_type": "code",
   "execution_count": 4,
   "metadata": {
    "collapsed": false,
    "scrolled": false
   },
   "outputs": [
    {
     "data": {
      "image/png": "[encoded data removed]",
      "text/plain": [
       "<matplotlib.figure.Figure at 0x1a7e86c6048>"
      ]
     },
     "metadata": {},
     "output_type": "display_data"
    }
   ],
   "source": [
    "import numpy as np\n",
    "import matplotlib.pyplot as plt\n",
    "%matplotlib inline\n",
    "def logistic(x):\n",
    "    return np.exp(x)/(1 + np.exp(x))\n",
    "\n",
    "x = np.linspace(-6,6,100)\n",
    "y = logistic(x)\n",
    "\n",
    "plt.title(\"Plot of Logistic Function\")\n",
    "plt.xlabel(\"x\")\n",
    "plt.ylabel(\"y\")\n",
    "plt.grid()\n",
    "plt.plot(x,y);"
   ]
  },
  {
   "cell_type": "markdown",
   "metadata": {},
   "source": [
    "We can interpret the logistic function as $h_\\theta(x) = p(y=1|x, \\theta$)\n",
    "\n",
    "Because probabilities should sum to 1, define $p(y = 0 | x, \\theta) := 1-p(y=1 | x, \\theta)$"
   ]
  },
  {
   "cell_type": "markdown",
   "metadata": {},
   "source": [
    "In regression, the cost function is \n",
    "\n",
    "$$J(\\theta) = \\dfrac{1}{m} \\sum_{i=1}^m Cost(h_\\theta(x^{(i)}),y^{(i)})$$\n",
    "\n",
    "\n",
    "So, the original cost of single training example is:\n",
    "\n",
    "\n",
    "$$ Cost(h_\\theta(x),y) = -log(h_\\theta(x)) \\,if\\, y = 1 $$\n",
    "\n",
    "\n",
    "$$ Cost(h_\\theta(x),y) = -log(1-h_\\theta(x)) \\,if\\,  y = 0 $$"
   ]
  },
  {
   "cell_type": "markdown",
   "metadata": {},
   "source": [
    "The cost function is, up to a sign, the log- likelihood function to be maximized in the MLE procedure.  We use logarithms because they convert products into sums and do not alter the maximization search, as they are monotone increasing functions.  As a result, calculations are easier when taking the derivative."
   ]
  },
  {
   "cell_type": "markdown",
   "metadata": {},
   "source": [
    "Because we always have y = 0 or y = 1, we can simplify the cost function definition to:\n",
    "\n",
    "$$Cost(h_\\theta(x), y) = -y*log*(h_\\theta(x)) - (1-y)* log(1-h_\\theta(x))$$\n",
    "\n",
    "\n",
    "Hence, the cost function for the training set is:\n",
    "\n",
    "$$J(\\theta) = - \\frac{1}{m} \\sum_{i=1}^m [y^{(i)}\\log (h_\\theta (x^{(i)})) + (1 - y^{(i)})\\log (1 - h_\\theta(x^{(i)}))]$$\n",
    "\n",
    ", as required."
   ]
  },
  {
   "cell_type": "markdown",
   "metadata": {},
   "source": [
    "http://math.stackexchange.com/questions/886555/deriving-cost-function-using-mle-why-use-log-function"
   ]
  },
  {
   "cell_type": "markdown",
   "metadata": {},
   "source": [
    "    7. Define the following terms pertaining to confusion matrices and provide formulas for each (using TP, TN, FP, FN). What situations do each of these quantities correspond with given that you are trying to predict whether or not a patient has cancer (you can skip the F1 statistic). For example, accuracy corresponds to the fraction of all the medical cases that we predicted correctly. \n",
    "    \n",
    "        * Accuracy - merely the proportion of correct guesses, which could yield misleading results if the number of samples from differnt classes vary greatly.\n",
    "        \n",
    "        accuracy = (sum of true positives + sum of true negatives) / sum of total population\n",
    "        \n",
    "        ACC = (TP + TN) / (TP+TN+FP+FN)\n",
    "        \n",
    "        e.g. - fraction of all the medical cases that we predicted correctly\n",
    "        \n",
    "        * Precision - the positive predictive value\n",
    "        \n",
    "        PPV = TP / (TP + FP)\n",
    "        \n",
    "        e.g. - reliability of positive results; proportion of patients that have cancer over all the positive tests\n",
    "        \n",
    "        * Recall - true positive rate, or sensitivity, the probability of detection\n",
    "        \n",
    "        recall = TP / (TP + FN)\n",
    "        \n",
    "        e.g. - how many cancer cases the test can correctly predict.\n",
    "        \n",
    "        * F1 Statistic - score computed by the harmonic mean of precision and recall\n",
    "        \n",
    "        F1 = 2*TP / (2*TP + FP + FN)\n",
    "        \n",
    "       \n",
    "        * Type I Error - false positive, FP\n",
    "        \n",
    "        e.g. - tested positive, but patient does not have cancer\n",
    "        \n",
    "        * Type II Error - false negative, FN\n",
    "        \n",
    "        e.g. - tested negative, but patient has cancer\n",
    "        \n",
    "       What part of the confusion matrix represents Type I and Type II errors?"
   ]
  },
  {
   "cell_type": "markdown",
   "metadata": {},
   "source": [
    "<img src = \"http://docs.eyesopen.com/toolkits/cookbook/python/_images/confusion-matrix.png\">\n",
    "\n",
    "The false positives in quadrant I are the Type I errors, and the false negatives in quadrant III are the Type II errors."
   ]
  },
  {
   "cell_type": "markdown",
   "metadata": {},
   "source": [
    "## Part 2: Building a Model\n",
    "\n",
    "# Wine Quality Modeling\n",
    "\n",
    "Use **ensembles of trees** (Random Forest and Gradient Boosting) to build a good model for the <a href = \n",
    "'https://archive.ics.uci.edu/ml/datasets/Wine+Quality'>wine quality dataset</a>. Make the required parametric adjustments to get the best performance from each model. Report the final MSE and R^2. **Extract and compare** the variable importances generated by each model. We are not going to hold your hand here. Use whatever tools/visuals you need to help you come up with the best model possible. "
   ]
  },
  {
   "cell_type": "code",
   "execution_count": null,
   "metadata": {
    "collapsed": true
   },
   "outputs": [],
   "source": []
  }
 ],
 "metadata": {
  "anaconda-cloud": {},
  "kernelspec": {
   "display_name": "Python [conda root]",
   "language": "python",
   "name": "conda-root-py"
  },
  "language_info": {
   "codemirror_mode": {
    "name": "ipython",
    "version": 3
   },
   "file_extension": ".py",
   "mimetype": "text/x-python",
   "name": "python",
   "nbconvert_exporter": "python",
   "pygments_lexer": "ipython3",
   "version": "3.5.2"
  }
 },
 "nbformat": 4,
 "nbformat_minor": 0
}
