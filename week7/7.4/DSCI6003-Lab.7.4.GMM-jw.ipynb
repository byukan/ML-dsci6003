{
 "cells": [
  {
   "cell_type": "code",
   "execution_count": 1,
   "metadata": {
    "collapsed": true
   },
   "outputs": [],
   "source": [
    "# Place import statements here\n",
    "import numpy as np\n",
    "import matplotlib.pyplot as plt\n",
    "import matplotlib.mlab as mlab\n",
    "from mpl_toolkits.mplot3d import Axes3D\n",
    "%matplotlib inline"
   ]
  },
  {
   "cell_type": "markdown",
   "metadata": {},
   "source": [
    "# DSCI6003 Lab - Gaussian Mixture Models"
   ]
  },
  {
   "cell_type": "markdown",
   "metadata": {},
   "source": [
    "Similar to yesterday, we will be looking at Gaussian Mixture models and how it compares to other clustering algorithms. The goal for today is: \n",
    "\n",
    "1. Understand the algorithm behind Gaussian mixture models (and how it works).\n",
    "2. Look at the different behaviour between GMM and KMeans. \n",
    "3. Experiment with using unsupervised techniques on supervised data. "
   ]
  },
  {
   "cell_type": "markdown",
   "metadata": {},
   "source": [
    "### Part 1: Implementing GMM\n",
    "    1. Generate the data. We will use code to do that. Run the code sample below and produce a plot of the data. \n",
    "    2. Fit a GMM model to it. \n",
    "    3. Look at a plot of the silhouette score for varying values of n_components. What do you notice? \n",
    "    4. Plot the location of the centers (mean values).\n",
    "\n",
    "### Part 2: Comparing to KMeans\n",
    "    1. Notice that the class_weights variable is set to 0.6 (in the function call). Check the silhouette score for KMeans over various values for n_clusters. What is the optimal number of parameters? Compare it with the silhouette score for GMM. \n",
    "    2. Plot the centroids for the optimal parameter value. Where are they placed? Is it similar to the mean values for GMM? \n",
    "    3. Now change the class_weights variable to a valued such as 21. How does this change the plot? \n",
    "    4. With this new sample dataset, get the silhouette score for KMeans and GMM. What do you notice about the optimal parameters? Did they change? \n",
    "    5. Plot the centroids for n_components and n_clusters being 2. How do they differ between GMM and KMeans \n",
    "\n",
    "### Part 3: Experimenting on Supervised Data\n",
    "    1. Load the iris dataset from sklearn. \n",
    "    2. Do a train/test split on your data using random_state = 123412.\n",
    "    3. Run a GMM on it. What accuracy score do you get? \n",
    "    4. Run KMeans on it. What score do you get? \n",
    "    5. Run a Random Forest on it. What score do you get? \n",
    "    \n",
    "    Note: You might have to run the cell a few times to get the optimal score (since 0,1,2 labels are randomly given in the unsupervised cases)."
   ]
  },
  {
   "cell_type": "code",
   "execution_count": 2,
   "metadata": {
    "collapsed": false
   },
   "outputs": [
    {
     "name": "stdout",
     "output_type": "stream",
     "text": [
      "0.00632453617818\n"
     ]
    },
    {
     "data": {
      "image/png": "[encoded data removed]",
      "text/plain": [
       "<matplotlib.figure.Figure at 0x104872780>"
      ]
     },
     "metadata": {},
     "output_type": "display_data"
    }
   ],
   "source": [
    "def q(x, y, weights):\n",
    "    g1 = mlab.bivariate_normal(x, y, 1.0, 1.0, -1, -1, -0.8)\n",
    "    g2 = mlab.bivariate_normal(x, y, 1.5, 0.8, 1, 2, 0.6)\n",
    "    return weights*g1+28.4*g2/(weights+28.4)\n",
    "\n",
    "def sample(class_weights):\n",
    "    N = 10000\n",
    "    s = 10\n",
    "    r = np.zeros(2)\n",
    "    p = q(r[0], r[1], class_weights)\n",
    "    print(p)\n",
    "    samples = []\n",
    "    for i in range(N):\n",
    "        rn = r + np.random.normal(size=2)\n",
    "        pn = q(rn[0], rn[1],class_weights)\n",
    "        if pn >= p:\n",
    "            p = pn\n",
    "            r = rn\n",
    "        else:\n",
    "            u = np.random.rand()\n",
    "            if u < pn/p:\n",
    "                p = pn\n",
    "                r = rn\n",
    "        if i % s == 0:\n",
    "            samples.append(r)\n",
    "\n",
    "    samples = np.array(samples)\n",
    "    plt.scatter(samples[:, 0], samples[:, 1], alpha=0.5, s=1)\n",
    "    return samples\n",
    "\n",
    "s = sample(0.6)"
   ]
  },
  {
   "cell_type": "code",
   "execution_count": null,
   "metadata": {
    "collapsed": true
   },
   "outputs": [],
   "source": []
  }
 ],
 "metadata": {
  "anaconda-cloud": {},
  "kernelspec": {
   "display_name": "Python [conda env:nlp]",
   "language": "python",
   "name": "conda-env-nlp-py"
  },
  "language_info": {
   "codemirror_mode": {
    "name": "ipython",
    "version": 3
   },
   "file_extension": ".py",
   "mimetype": "text/x-python",
   "name": "python",
   "nbconvert_exporter": "python",
   "pygments_lexer": "ipython3",
   "version": "3.5.2"
  }
 },
 "nbformat": 4,
 "nbformat_minor": 0
}
