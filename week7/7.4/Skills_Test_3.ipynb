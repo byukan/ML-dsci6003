{
 "cells": [
  {
   "cell_type": "markdown",
   "metadata": {},
   "source": [
    "# DSCI 6003 Skills Test 3\n",
    "\n",
    "For this cohort, this skills test is entirely optional. You other choice is to fill out the SVM code stub. Either document must be turned into the professor no later than Wednesday at midnight. \n"
   ]
  },
  {
   "cell_type": "markdown",
   "metadata": {},
   "source": [
    "### Chess\n",
    "\n",
    "Although the opening series (of moves) of a chess game is an outcome space difficult to define clearly, the endgame series of a chess game is an enumerable space. This is the realm within which computer programs are most efficient at defeating a human opponent. The underlying structure of the space can be at least partially characterized by databases of expected final moves. Today we are going to learn the outcome space of the King-Rook vs. King setup. This is the number of moves given the current position until a local guaranteed win.\n",
    "\n",
    "Download [this dataset](http://archive.ics.uci.edu/ml/datasets/Chess+%28King-Rook+vs.+King%29) and build a prediction of the outcome. The data is given as a series of locations where the values are separated by commas. The locations are given based on a standard chess grid algebraic notation [mapping](http://www.chess-game-strategies.com/chess-grid-systems.html). \n",
    "\n",
    "The lines are laid out as follows:\n",
    "\n",
    "\"a,1,b,3,c,2,draw\"\n",
    "\n",
    "The first six characters are grid positions of the pieces in order, i.e.:\n",
    "\n",
    "King: a1 \n",
    "Rook: b3\n",
    "King: c2\n",
    "\n",
    "All of these positions are dicussing the King-Rook vs. King outcomes. This of course means that one side has a rook and a king and the other side a king. (The game ends in a draw if there are only kings.). The outcome character is just describing the outcome of the game. A win is indicated if a number is denoted like \"sixteen.\"\n",
    "\n"
   ]
  },
  {
   "cell_type": "markdown",
   "metadata": {},
   "source": [
    "### 1. Create a classifier that predicts the outcome of the dataset.\n",
    "\n",
    "This is an enormously difficult task for a machine to learn and is a largely unsolved problem. You may apply your maximal skill level. Use everything you have been taught. Note that this is a multiclass model and you will need to use a multiclass approach to classification. You may need to use a boosted model or ensemble model. You will be graded on the level of sophistication and validation your analysis displays. \n",
    "\n",
    "### 2. Write a short description of why you think your classifier works."
   ]
  },
  {
   "cell_type": "code",
   "execution_count": null,
   "metadata": {
    "collapsed": true
   },
   "outputs": [],
   "source": []
  }
 ],
 "metadata": {
  "kernelspec": {
   "display_name": "Python 2",
   "language": "python",
   "name": "python2"
  },
  "language_info": {
   "codemirror_mode": {
    "name": "ipython",
    "version": 2
   },
   "file_extension": ".py",
   "mimetype": "text/x-python",
   "name": "python",
   "nbconvert_exporter": "python",
   "pygments_lexer": "ipython2",
   "version": "2.7.10"
  }
 },
 "nbformat": 4,
 "nbformat_minor": 0
}
