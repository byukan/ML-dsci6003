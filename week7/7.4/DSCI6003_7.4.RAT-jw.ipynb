{
 "cells": [
  {
   "cell_type": "markdown",
   "metadata": {},
   "source": [
    "# 7.4 RAT\n",
    "\n",
    "1. Write an explanation in your own words of why and how kMeans works. Why does it produce non deterministic results and why would enhancements like kmeans++ exist?\n",
    "\n",
    "2. Develop two case examples where a data scientist might use clustering."
   ]
  },
  {
   "cell_type": "markdown",
   "metadata": {
    "collapsed": true
   },
   "source": [
    "kMeans clusters the data points into k clusters based off distances from the centroid.  The first centroid is randomly chosen.  k-means++ is an algorithm for choosing the initial values for the k-means clustering algorithm.\n",
    "\n",
    "two examples:\n",
    "\n",
    "1. i'd like to define where to cut off students into 5 categories to assign grades.  A, B, C, D, F, using k=5\n",
    "\n",
    "2. run k means to group customers into tiers, low, mid, high, to give them personalized ads."
   ]
  }
 ],
 "metadata": {
  "anaconda-cloud": {},
  "kernelspec": {
   "display_name": "Python [conda env:nlp]",
   "language": "python",
   "name": "conda-env-nlp-py"
  },
  "language_info": {
   "codemirror_mode": {
    "name": "ipython",
    "version": 3
   },
   "file_extension": ".py",
   "mimetype": "text/x-python",
   "name": "python",
   "nbconvert_exporter": "python",
   "pygments_lexer": "ipython3",
   "version": "3.5.2"
  }
 },
 "nbformat": 4,
 "nbformat_minor": 0
}
