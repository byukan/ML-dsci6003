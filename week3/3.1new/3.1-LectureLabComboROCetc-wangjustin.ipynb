{
 "cells": [
  {
   "cell_type": "markdown",
   "metadata": {},
   "source": [
    "# Evaluation Metrics for Classifiers\n",
    "\n",
    "There are two reasons why you might want to evaluate the performance of a classifier.  One is that you need to characterize performance as part of optimizing model parameters (also known as \"training\" the model).  The other is that you need to guage the performance of a classifier in terms of the objectives of the problem you're trying to solve.  \n",
    "\n",
    "## Q\n",
    "Would the same method of performance evaluation work for both of these objectives?  \n",
    "\n",
    "## Goals\n",
    "\n",
    "* Given two ROC curves, pick the best curve/threshold for the problem at hand\n",
    "* When would you use F_beta vs. AUC\n",
    "* State one reason why the Youden index is useful and one reason it can be misleading\n",
    "* __Exercise (next week):__ Construct a Profit curve to evaluate the precision/recall trade-off\n",
    "\n",
    "## Review \n",
    "\n",
    "A classification problem is when we're trying to predict a discrete (categorical) outcome. We'll start with binary classification (i.e., yes/no questions).\n",
    "\n",
    "Here are some example questions:\n",
    "\n",
    "* Does a patient have cancer?\n",
    "* Will a team win the next game?\n",
    "* Will the customer buy my product?\n",
    "* Will I get the loan?\n",
    "\n",
    "In binary classification, we assign labels of 0 and 1 to our data.\n",
    "\n",
    "### Logistic Regression\n",
    "\n",
    "Let's start by looking at an example. We're going to be using some NFL data. The x axis is the number of touchdowns scored by team over a season and the y axis is whether they lost or won the game indicated by a value of 0 or 1 respectively.\n",
    "\n",
    "![NFL data](images/nfl.png)\n",
    "\n",
    "So, how do we predict whether we have a win or a loss if we are given a score? Note that we are going to be predicting values between 0 and 1. Close to 0 means we're sure it's in class 0, close to 1 means we're sure it's in class 1, and closer to 0.5 means we don't know.\n",
    "\n",
    "If we use linear regression, we will certainly do better than randomly guessing, but it doesn't accurately represent the data:\n",
    "\n",
    "![NFL linear regression](images/linefit.png)\n",
    "\n",
    "So clearly a line is not the best way to model this data. So we need to find a better curve.\n",
    "\n",
    "## Measuring success \n",
    "\n",
    "So how do we measure how well our model does? Just like with regression, we need to split the data in a training set and a test set and measure our success based on how well it does on the test set.\n",
    "\n",
    "### Accuracy\n",
    "The simplest measure is **accuracy**. This is the number of correct predictions over the total number of predictions. It's the percent you predicted correctly. In `sklearn`, this is what the `score` method calculates.\n",
    "\n",
    "### Shortcomings of Accuracy\n",
    "Accuracy is often a good first glance measure, but it has many shortcomings. If the classes are unbalanced, accuracy will not measure how well you did at predicting. Say you are trying to predict whether or not an email is spam. Only 2% of emails are in fact spam emails. You could get 98% accuracy by always predicting not spam. This is a great accuracy but a horrible model!\n",
    "\n",
    "### Confusion Matrix\n",
    "We can get a better picture our model but looking at the confusion matrix. We get the following four metrics:\n",
    "\n",
    "* **True Positives (TP)**: Correct positive predictions\n",
    "* **False Positives (FP)**: Incorrect positive predictions (false alarm)\n",
    "* **True Negatives (TN)**: Correct negative predictions\n",
    "* **False Negatives (FN)**: Incorrect negative predictions (a miss)\n",
    "\n",
    "|            | Predicted Yes  | Predicted No   |\n",
    "| ---------- | -------------- | -------------- |\n",
    "| Actual Yes | True positive  | False negative |\n",
    "| Actual No  | False positive | True negative  |\n",
    "\n",
    "With logistic regression, we can visualize it as follows:\n",
    "\n",
    "![logistic confusion matrix](images/logistic.png)\n",
    "\n",
    "### Precision, Recall and F1\n",
    "\n",
    "![](http://i.stack.imgur.com/ysM0Z.png)\n",
    "Instead of accuracy, there are some other scores we can calculate:\n",
    "\n",
    "* **Precision**: A measure of how good your positive predictions are\n",
    "    ```\n",
    "    Precison = TP / (TP + FP)\n",
    "             = TP / (predicted yes)\n",
    "    ```\n",
    "* **Recall**: A measure of how well you predict positive cases. Aka *sensitivity*.\n",
    "    ```\n",
    "    Recall = TP / (TP + FN) \n",
    "           = TP / (actual yes)\n",
    "    ```\n",
    "* **F1 Score**: The harmonic mean of Precision and Recall\n",
    "    ```\n",
    "    F1 = 2 / (1/Precision + 1/Recall)\n",
    "       = 2 * Precision * Recall / (Precision + Recall)\n",
    "       = 2TP / (2TP + FN + FP)\n",
    "    ```\n",
    "\n",
    "Accuracy can also be written in this notation:\n",
    "```\n",
    "Accuracy = (TP + TN) / (TP + FP + TN + FN)\n",
    "```\n",
    "![](http://upload.wikimedia.org/wikipedia/commons/2/26/Precisionrecall.svg)"
   ]
  },
  {
   "cell_type": "markdown",
   "metadata": {},
   "source": [
    "## Q\n",
    "1.  What tools do you have at your disposal to change TP, FP, TN and FN?  \n",
    "2.  Some of you used linear regression to predict the 2-4 labels on the breast cancer data set.  What could you do with the output from that model to get your classifier to correctly classify every positive exaple?\n",
    "3.  In what ways would performance suffer?\n",
    "\n",
    "## Example 1.  - Calculating confusion matrix quantities\n",
    "Suppose that you're using linear regression to predict 0-1 labels.  You train your model and on the test data you get the following results.  Calculate the  \n"
   ]
  },
  {
   "cell_type": "code",
   "execution_count": 14,
   "metadata": {
    "collapsed": false
   },
   "outputs": [
    {
     "name": "stdout",
     "output_type": "stream",
     "text": [
      "10\n",
      "4 1 1 4\n"
     ]
    }
   ],
   "source": [
    "# Here are the results in list form, so it's easier to do some calculations\n",
    "labels = [0,0,0,0,0,1,1,1,1,1]\n",
    "predictions = [-0.8, -0.4, 0.0, 0.4, 0.8, 0.2, 0.6, 1.0, 1.4, 1.8]\n",
    "threshold = .5\n",
    "\n",
    "#calculate #'s for TP, FP, TN, FN\n",
    "\n",
    "\n",
    "\n",
    "# Here are the results in list form, so it's easier to do some calculations\n",
    "labels = [0, 0, 0, 0, 0, 1, 1, 1, 1, 1]\n",
    "predictions = [-.8, -.4, 0, .4, .8, .2, .6, 1, 1.4, 1.8]\n",
    "threshold = .5\n",
    "\n",
    "# calculate #s for TP, FP, TN, FN\n",
    "lp = list(zip(labels, predictions))\n",
    "TP = sum([1 for (l,p) in lp if l>0 and p>threshold])\n",
    "FN = sum([1 for (l,p) in lp if l>0 and p<=threshold])\n",
    "TN = sum([1 for (l,p) in lp if l<=0 and p<=threshold])\n",
    "FP = sum([1 for (l,p) in lp if l<=0 and p>threshold])\n",
    "print(TP + FN + TN + FP)\n",
    "print(TP, FN, FP, TN)"
   ]
  },
  {
   "cell_type": "markdown",
   "metadata": {},
   "source": [
    "## Example 2. - Suppose some mistakes are more expensive than others\n",
    "Now suppose that the cost of a false positive is 1 and the cost of a false negative is 10, while true positive and false positive cost zero.  How much does your predictor cost with a threshold value of 0.5?  Generate costs for threshold values of 0.0, 0.25, 0.5, 0.75 and 1.0.  Which one yields the minimum cost?  Explain any shift in the threshold from 0.5.  \n",
    "\n",
    "\n",
    "## Lab Exercise 1.  \n",
    "Use one of the KNN model that you trained on breast cancer data.  That model is trying to predict the numbers 2 or 4 corresponding to no cancer or cancer.  Suppose you used the number 3.0 to form no/yes prediction based on your numerical prediction.  \n",
    "1.  Use a threshold value of 3.0 on the breast cancer knn model you built.  Compare the predictions to the actual labels and generate 2x2 matrix of predictions versus actual - TP, FP, TN, FN.  \n",
    "2.  Suppose there's a cost of $200k for false negative and a cost of $2k for false positive.  Calculate costs associated with your classifier and experiment with some values to get a feel for the best threshold value.  "
   ]
  },
  {
   "cell_type": "code",
   "execution_count": 15,
   "metadata": {
    "collapsed": false
   },
   "outputs": [],
   "source": [
    "# import pandas as pd\n",
    "import numpy as np\n",
    "\n",
    "with open('breast-cancer-wisconsin.data.txt') as f:\n",
    "    data = f.readlines()\n",
    "    \n",
    "# df = pd.read_csv('breast-cancer-wisconsin.data.txt')\n",
    "# df.shape()\n",
    "# df.dropna()\n",
    "\n",
    "cleaned_list= []\n",
    "\n",
    "for x in data:\n",
    "    if \"?\" not in x:\n",
    "        cleaned_list.append(x)\n",
    "#     else:\n",
    "#         print(x)\n",
    "        \n",
    "# cleaned_list.split(\",\")\n",
    "\n",
    "# for x in cleaned_list:\n",
    "#     x.split(\",\")\n",
    "\n",
    "# for i in range(len(cleaned_list))\n",
    "#     cleaned_list[i].replace(\"\\n\", \"\").split(\",\")\n",
    "\n",
    "list_of_lists = []\n",
    "\n",
    "for x in cleaned_list:\n",
    "    temp = x.replace(\"\\n\", \"\").split(\",\")\n",
    "    row = [float(z) for z in temp]\n",
    "    list_of_lists.append(row)\n",
    "    \n",
    "list_of_lists = np.array(list_of_lists)\n",
    "list_of_lists.shape\n",
    "list_of_lists[:,1:].shape\n",
    "\n",
    "no_ids = list_of_lists[:,1:]\n",
    "X = no_ids[:,:-1]\n",
    "y = no_ids[:,-1]  # labels\n",
    "# x.shape\n",
    "# y.shape"
   ]
  },
  {
   "cell_type": "code",
   "execution_count": 16,
   "metadata": {
    "collapsed": false,
    "scrolled": true
   },
   "outputs": [
    {
     "data": {
      "text/plain": [
       "((546, 9), (137, 9), (546,), (137,))"
      ]
     },
     "execution_count": 16,
     "metadata": {},
     "output_type": "execute_result"
    }
   ],
   "source": [
    "from sklearn.model_selection import train_test_split\n",
    "xTrVal, xTe, yTrVal, yTe = train_test_split(X, y, test_size =.2)  #Function for splitting off data for final test\n",
    "nFolds = 5  #number of cross validation folds\n",
    "xTrVal.shape, xTe.shape, yTrVal.shape, yTe.shape"
   ]
  },
  {
   "cell_type": "code",
   "execution_count": 17,
   "metadata": {
    "collapsed": false,
    "scrolled": true
   },
   "outputs": [
    {
     "data": {
      "text/plain": [
       "array([ 2.,  2.,  2.,  2.,  2.,  2.,  4.,  2.,  2.,  2.,  4.,  2.,  2.,\n",
       "        2.,  2.,  2.,  2.,  4.,  4.,  2.,  2.,  4.,  2.,  2.,  2.,  2.,\n",
       "        4.,  4.,  2.,  2.,  2.,  4.,  4.,  4.,  2.,  2.,  2.,  4.,  4.,\n",
       "        4.,  2.,  2.,  4.,  4.,  4.,  2.,  2.,  2.,  2.,  2.,  2.,  2.,\n",
       "        2.,  4.,  2.,  2.,  2.,  2.,  2.,  2.,  4.,  4.,  2.,  2.,  2.,\n",
       "        2.,  4.,  2.,  4.,  2.,  4.,  4.,  4.,  2.,  2.,  4.,  2.,  4.,\n",
       "        2.,  4.,  2.,  2.,  2.,  2.,  2.,  4.,  2.,  4.,  4.,  2.,  2.,\n",
       "        4.,  2.,  4.,  4.,  2.,  2.,  4.,  2.,  4.,  2.,  2.,  2.,  2.,\n",
       "        4.,  2.,  2.,  4.,  4.,  2.,  2.,  4.,  2.,  2.,  2.,  4.,  4.,\n",
       "        4.,  2.,  4.,  2.,  2.,  4.,  2.,  2.,  4.,  2.,  2.,  2.,  2.,\n",
       "        2.,  2.,  2.,  2.,  2.,  2.,  4.])"
      ]
     },
     "execution_count": 17,
     "metadata": {},
     "output_type": "execute_result"
    }
   ],
   "source": [
    "# cross validation loop  \n",
    "for ixVal in range(nFolds):\n",
    "    valIdx = [i for i in range(len(xTrVal)) if i%nFolds==ixVal]  #or use sklearn k-fold package\n",
    "    trainIdx = [i for i in range(len(xTrVal)) if i%nFolds!=ixVal]\n",
    "    xTrain = xTrVal[trainIdx]  #this will work if xTrVal is a numpy array.. if xTrVal is a list, use list comprehension\n",
    "    xVal = xTrVal[valIdx]\n",
    "    \n",
    "    #Use sklearn KNN package to provide training and validation results for range of reasonable k-values\n",
    "\n",
    "from sklearn.neighbors import KNeighborsClassifier\n",
    "\n",
    "for i in range(1,200):\n",
    "    neigh = KNeighborsClassifier(n_neighbors=i)\n",
    "    neigh.fit(X, y) \n",
    "    \n",
    "\n",
    "neigh = KNeighborsClassifier(n_neighbors=3)\n",
    "neigh.fit(X,y)\n",
    "neigh.predict(xTe)\n",
    "    \n",
    "    \n",
    "# KNeighborsClassifier(...)\n",
    "# print(neigh.predict([[1.1]]))\n",
    "# [0]\n",
    "\n",
    "\n",
    "\n",
    "# print(neigh.predict_proba([[0.9]]))\n",
    "\n",
    "\n",
    "\n",
    "# use probability version, not the hard classification\n",
    "\n",
    "# [[ 0.66666667  0.33333333]]\n",
    "#     #save training and testing results for each of the nFolds runs\n",
    "    \n",
    "\n",
    "\n",
    "\n",
    "#Plot all nFolds RMSE (root mean squared error) plots as function of k\n",
    "#pick k for minimum validation error \n",
    "#run xTe, yTe with best k value to confirm error estimate.  "
   ]
  },
  {
   "cell_type": "code",
   "execution_count": 20,
   "metadata": {
    "collapsed": false
   },
   "outputs": [
    {
     "data": {
      "text/plain": [
       "array([[89,  0],\n",
       "       [ 2, 46]])"
      ]
     },
     "execution_count": 20,
     "metadata": {},
     "output_type": "execute_result"
    }
   ],
   "source": [
    "# import sklearn.metrics.confusion_matrix\n",
    "from sklearn.metrics import confusion_matrix\n",
    "\n",
    "a, b = zip(*neigh.predict_proba(xTe))\n",
    "output = [2 if i<.5 else 4 for i in b]\n",
    "\n",
    "confusion_matrix(yTe, output)"
   ]
  },
  {
   "cell_type": "markdown",
   "metadata": {},
   "source": [
    "### ROC Curves \n",
    "\n",
    "One of the best ways to evaluate how a classifier performs is an ROC curve. (http://en.wikipedia.org/wiki/Receiver_operating_characteristic) \n",
    "\n",
    "![](images/roc_curve.png)\n",
    "\n",
    "ROC curve plots true positive rate (TPR) versus false positive rate (FPR).  TPR and FPR are defined in terms of quantities that you can read out of the confusion matrix.  Here are the definitions.   to plot it.\n",
    "\n",
    "\n",
    "Recall that the true positive **rate** is\n",
    "\n",
    "```\n",
    " number of true positives     number correctly predicted positive\n",
    "-------------------------- = -------------------------------------\n",
    " number of positive cases           number of positive cases\n",
    "```\n",
    "\n",
    "and the false positive **rate** is\n",
    "\n",
    "```\n",
    " number of false positives     number incorrectly predicted positive\n",
    "--------------------------- = ---------------------------------------\n",
    "  number of negative cases           number of negative cases\n",
    "```\n",
    "\n",
    "\n",
    "### Example 3.  \n",
    "1. Write an ROC curve function to compute several points on the ROC curve for the toy problem above. Then plot the result (TPR versus FPR).  \n",
    "2.  What happens if you choose a threshold value and generate hard 0-1 labels before calculating the ROC curve?\n"
   ]
  },
  {
   "cell_type": "code",
   "execution_count": 28,
   "metadata": {
    "collapsed": false,
    "scrolled": true
   },
   "outputs": [
    {
     "name": "stdout",
     "output_type": "stream",
     "text": [
      "[1.0, 1.0, 1.0, 1.0, 1.0, 1.0, 1.0, 1.0, 0.8, 0.8, 0.8, 0.6, 0.6, 0.4, 0.4, 0.4, 0.2, 0.2, 0.0, 0.0] [1.0, 1.0, 0.8, 0.8, 0.6, 0.6, 0.6, 0.4, 0.4, 0.2, 0.2, 0.2, 0.0, 0.0, 0.0, 0.0, 0.0, 0.0, 0.0, 0.0]\n"
     ]
    },
    {
     "data": {
      "text/plain": [
       "[<matplotlib.lines.Line2D at 0x1108f7b00>]"
      ]
     },
     "execution_count": 28,
     "metadata": {},
     "output_type": "execute_result"
    },
    {
     "data": {
      "image/png": "[encoded data removed]",
      "text/plain": [
       "<matplotlib.figure.Figure at 0x10d272ba8>"
      ]
     },
     "metadata": {},
     "output_type": "display_data"
    }
   ],
   "source": [
    "import numpy as np\n",
    "import matplotlib.pyplot as plt\n",
    "%matplotlib inline\n",
    "\n",
    "# Here are the results in list form, so it's easier to do some calculations\n",
    "labels = [0,0,0,0,0,1,1,1,1,1]\n",
    "predictions = [-0.8, -0.4, 0.0, 0.4, 0.8, 0.2, 0.6, 1.0, 1.4, 1.8]\n",
    "\n",
    "tpr = []; fpr = []\n",
    "for th in np.linspace(-1, 2, 20):\n",
    "    threshold = th\n",
    "    \n",
    "    # calculate #s for TP, FP, TN, FN\n",
    "    lp = list(zip(labels, predictions))\n",
    "    TP = sum([1 for (l,p) in lp if l>0 and p>threshold])\n",
    "    FN = sum([1 for (l,p) in lp if l>0 and p<=threshold])\n",
    "    TN = sum([1 for (l,p) in lp if l<=0 and p<=threshold])\n",
    "    FP = sum([1 for (l,p) in lp if l<=0 and p>threshold])\n",
    "    tpr.append(TP/5.0)  # true positive ratio\n",
    "    fpr.append(FP/5.0)\n",
    "\n",
    "print(tpr, fpr)\n",
    "\n",
    "plt.plot(fpr, tpr)\n",
    "\n",
    "# threshold = .5\n",
    "\n",
    "# #calculate #'s for TP, FP, TN, FN\n",
    "\n",
    "\n",
    "\n",
    "# # Here are the results in list form, so it's easier to do some calculations\n",
    "# labels = [0, 0, 0, 0, 0, 1, 1, 1, 1, 1]\n",
    "# predictions = [-.8, -.4, 0, .4, .8, .2, .6, 1, 1.4, 1.8]\n",
    "# threshold = .5\n",
    "\n",
    "\n",
    "# # print(TP + FN + TN + FP)\n",
    "# # print(TP, FN, FP, TN)"
   ]
  },
  {
   "cell_type": "markdown",
   "metadata": {},
   "source": [
    "the 45 degree line is random guessing, so you're looking for some improvement above that; 1/2 area under the curve is really bad"
   ]
  },
  {
   "cell_type": "markdown",
   "metadata": {
    "collapsed": true
   },
   "source": [
    "## Thought Lab \n",
    "When you use KNN as your prediction algorithm you have two choices on this binary classification problem.  You can use regression version of KNN or classification version of KNN.  \n",
    "1.  What happens if you take as output from KNN classifier, the majority class?  What your alternative?\n",
    "2.  What is the difference in the way the labels are calculated?\n",
    "2.  What is the difference in the ROC curve?\n",
    "\n",
    "## Lab Exercise 2.  \n",
    "1.  Plot a ROC curve for the breast cancer data using whatever predictions are handy for you.  \n",
    "\n",
    "\n",
    "### Youden Index\n",
    "\n",
    "Youden's Index (sometimes called J statistic) is similar to the F1 score in that it is a single number that describes the performance of a classifier.\n",
    "\n",
    "$$J = Sensitivity + Specificity - 1$$\n",
    "\n",
    "$$where$$\n",
    "\n",
    "$$Sensitivity = \\frac{TP}{TP + FN}$$\n",
    "\n",
    "$$Specificity = \\frac{TN}{TN + FP}$$\n",
    "\n",
    "![](http://i.stack.imgur.com/ysM0Z.png)\n",
    "\n",
    "The J statistic ranges from 0 to 1:\n",
    "* 0 indicating that the classifier does no better than random\n",
    "* 1 indicating that the test performed perfectly\n",
    "\n",
    "It can be thought of as an improvement on the F1 score since it takes into account all of the cells in a confusion matrix.  It can also be used to find the optimal threshold for a given ROC curve."
   ]
  },
  {
   "cell_type": "code",
   "execution_count": null,
   "metadata": {
    "collapsed": true
   },
   "outputs": [],
   "source": []
  }
 ],
 "metadata": {
  "kernelspec": {
   "display_name": "Python 3",
   "language": "python",
   "name": "python3"
  },
  "language_info": {
   "codemirror_mode": {
    "name": "ipython",
    "version": 3
   },
   "file_extension": ".py",
   "mimetype": "text/x-python",
   "name": "python",
   "nbconvert_exporter": "python",
   "pygments_lexer": "ipython3",
   "version": "3.5.2"
  }
 },
 "nbformat": 4,
 "nbformat_minor": 0
}
