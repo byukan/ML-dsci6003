{
 "cells": [
  {
   "cell_type": "markdown",
   "metadata": {},
   "source": [
    "# 3.2: ElasticNet Penalty and Efficient Solution - glmnet\n",
    "\n",
    "## Readings\n",
    "https://en.wikipedia.org/wiki/Elastic_net_regularization  \n",
    "https://en.wikipedia.org/wiki/Lp_space#The_p-norm_in_finite_dimensions  \n",
    "http://statweb.stanford.edu/~jhf/ftp/glmnet.pdf  \n",
    "http://ai.stanford.edu/~ang/papers/icml04-l1l2.pdf  \n",
    "\n",
    "\n",
    "## Penalty Functions\n",
    "In the last lecture you saw how the introduction of a sum-of-squared penalty on the weights could serve to regularize linear regression.  The penalty forced the weight vector to be somewhat smaller in magnitude than the weights for unconstrained ordinary least squares regression.  Sum of squares isn't the only way to quantify the length of a vector.  Sum of squares corresponds to Euclidean distance and is referred to in the literature as $L_2$-norm.  But any Minkowski norm could be used as a penalty.  Thus the penalized regression problem you saw last time was \n",
    "\n",
    "$w^*, b^* = argmin_{w, b} \\frac1M \\sum_{i=1}^M (y_i - (b + x_i w^T))^2  + \\alpha (w_1^2 + w_2^2 + ... + w_N^2)$\n",
    "\n",
    "This looks a little different because the squares of the weights are written out instead of being expressed (equivalently) as $ww^T$.  The power to which each weight is raised before being squared could be any positive number p.  \n",
    "\n",
    "$w^*, b^* = argmin_{w, b} \\frac1M \\sum_{i=1}^M (y_i - (b + x_i w^T))^2  + \\alpha (|w_1|^p + |w_2|^p + ... + |w_N|^p)$\n",
    "\n",
    "These are related to Minkowski norms.  https://en.wikipedia.org/wiki/Lp_space#The_p-norm_in_finite_dimensions.  As a practical matter, the versions most frequently used as regression penalties are $L_2$ and $L_1$.  $L_1$ corresponds to $p=1$ and $L_2$ corresponds to $p=2$.  Notice that the precise penalty used in ridge regression is not a norm, but the square of the $L_2$ norm.  The $L_1$ norm of the weights is the sum of the absolute values of the weights.  The choice of using $L_1$ versus $L_2$ matters because it leads to some useful differences in the solutions to the penalized regression problem.  The principal differences are 1) $L_1$ gives sparse weight vectors and is less sensitive to irrelevant features (Ng paper).  2) $L_2$ deals better with correlated attributes.  You can understand some of these differences by referring to one of the figures from \"Elements of Statistical Learning\" - the excellent book on machine learning by Stanford professors Hastie, Tibshirani and Friedman.  This link will take you to the website for the book (which is free online).  \n",
    "http://statweb.stanford.edu/~tibs/ElemStatLearn/ - Figure 3.11.  The figures from the book are repeated below.  \n",
    "\n",
    "<img src='images/Ridge_Regression.png'>\n",
    "\n",
    "<img src='images/Lasso_Regression.png'>\n",
    "\n",
    "The point to be made from this figure is that the solutions with $L_1$ penalty get stuck on the points of the $L_1$-ball.  These points are aligned along the coordinate axes which means automatically that some of the weights are zero.  \n",
    "\n",
    "## ElasticNet Penalty\n",
    "ElasticNet (https://web.stanford.edu/~hastie/Papers/elasticnet.pdf) is a penalty developed by Zou and Hastie at Stanford specifically for penalized regression.  Here's that the ElasticNet penalty looks like.  \n",
    "\n",
    "$ElasticNet Penalty = P_{\\lambda}(w) = (1 - \\lambda)(w_1^2 + w_2^2 + ... + w_N^2) + \\lambda(|w_1| + |w_2| + ... + |w_N|)$\n",
    "\n",
    "<img src='images/elasticnet2.png'>\n",
    "\n",
    "This penalty is a blend of $L_1$ and $L_2$.  In this expression $\\lambda$ is a parameter that ranges from 0 to 1.  It controls whether the blend is more heavily $L_1$ or $L_2$.  If $\\lambda = 0$, then the penalty is all $L_2$.  If $\\lambda = 1$, then the penalty is all $L_1$.  \n",
    "\n",
    "Friedman's glmnet paper shows the coefficient curves for different values of the $\\lambda$ parameter.  That paper outlines a very fast solution approach that makes glmnet a very scalable algorithm for solving penalized regression problems.  One nice feature of the Glmnet algo is that you don't have to hunt around for the correct range of penalty parameters.  The algo calculates the correct range for you.  Another nice feature is that the Glmnet algo generates the entire regularization curve with a single call and is demonstrably as fast as solving for individual points by gradient descent.  The sklearn package \"ElasticNet\" provides a python version.  The code below demonstrates its use.  \n"
   ]
  },
  {
   "cell_type": "code",
   "execution_count": 16,
   "metadata": {
    "collapsed": false
   },
   "outputs": [
    {
     "name": "stdout",
     "output_type": "stream",
     "text": [
      "0.009828323753\n",
      "[ 9.82832375  9.16592763  8.54817478  7.97205641  7.43476649  6.93368811\n",
      "  6.46638074  6.03056832  5.6241282   5.24508078  4.89157989  4.56190378\n",
      "  4.25444673  3.96771126  3.7003008   3.45091291  3.21833293  3.00142806\n",
      "  2.79914186  2.61048906  2.43455084  2.27047026  2.11744816  1.97473924\n",
      "  1.84164843  1.71752749  1.60177188  1.49381782  1.3931395   1.29924656\n",
      "  1.21168169  1.1300184   1.05385894  0.98283238  0.91659276  0.85481748\n",
      "  0.79720564  0.74347665  0.69336881  0.64663807  0.60305683  0.56241282\n",
      "  0.52450808  0.48915799  0.45619038  0.42544467  0.39677113  0.37003008\n",
      "  0.34509129  0.32183329  0.30014281  0.27991419  0.26104891  0.24345508\n",
      "  0.22704703  0.21174482  0.19747392  0.18416484  0.17175275  0.16017719\n",
      "  0.14938178  0.13931395  0.12992466  0.12116817  0.11300184  0.10538589\n",
      "  0.09828324  0.09165928  0.08548175  0.07972056  0.07434766  0.06933688\n",
      "  0.06466381  0.06030568  0.05624128  0.05245081  0.0489158   0.04561904\n",
      "  0.04254447  0.03967711  0.03700301  0.03450913  0.03218333  0.03001428\n",
      "  0.02799142  0.02610489  0.02434551  0.0227047   0.02117448  0.01974739\n",
      "  0.01841648  0.01717527  0.01601772  0.01493818  0.01393139  0.01299247\n",
      "  0.01211682  0.01130018  0.01053859  0.00982832]\n",
      "[ 0.81737824  0.81669052  0.81572858  0.81485516  0.81364055  0.81243462\n",
      "  0.81137444  0.81044207  0.8096218   0.80889984  0.80826409  0.80770397\n",
      "  0.8072102   0.80677464  0.80639018  0.80605059  0.8057504   0.80548483\n",
      "  0.8052497   0.80504134  0.80485653  0.80469245  0.80454664  0.80441694\n",
      "  0.80430144  0.80419849  0.80410661  0.80402453  0.80395111  0.80388538\n",
      "  0.80382505  0.80377082  0.80366269  0.80347764  0.80330729  0.80316987\n",
      "  0.80218294  0.79961615  0.79431875  0.78903552  0.78168703  0.77489762\n",
      "  0.76867752  0.76299694  0.75782411  0.75312436  0.74881094  0.74479495\n",
      "  0.7411501   0.73770838  0.73447651  0.73081379  0.72734063  0.72424826\n",
      "  0.72149843  0.71905781  0.71689213  0.71497861  0.71328717  0.71179547\n",
      "  0.71047968  0.70932358  0.70830721  0.70741366  0.70662962  0.7059424\n",
      "  0.70534059  0.70481407  0.70435382  0.70377034  0.70270047  0.70078902\n",
      "  0.69863273  0.69655442  0.69455035  0.69256941  0.69049592  0.68849803\n",
      "  0.68652893  0.6844683   0.68241323  0.68049724  0.67871729  0.67707152\n",
      "  0.67556085  0.67418136  0.67292134  0.6717752   0.67073717  0.66980112\n",
      "  0.66896084  0.66820998  0.66759814  0.66708451  0.66664683  0.66627856\n",
      "  0.6659734   0.66572606  0.66553034  0.6653803 ]\n"
     ]
    },
    {
     "data": {
      "image/png": "[encoded data removed]",
      "text/plain": [
       "<matplotlib.figure.Figure at 0x10c7bdfd0>"
      ]
     },
     "metadata": {},
     "output_type": "display_data"
    },
    {
     "data": {
      "text/plain": [
       "instance"
      ]
     },
     "execution_count": 16,
     "metadata": {},
     "output_type": "execute_result"
    }
   ],
   "source": [
    "__author__ = 'mike bowles'\n",
    "\n",
    "from sklearn.linear_model import ElasticNet, ElasticNetCV\n",
    "import urllib2\n",
    "import numpy as np\n",
    "import matplotlib.pyplot as plt\n",
    "%matplotlib inline\n",
    "\n",
    "target_url = \"http://archive.ics.uci.edu/ml/machine-learning-databases/wine-quality/winequality-red.csv\"\n",
    "data = urllib2.urlopen(target_url)\n",
    "x = []\n",
    "y = []\n",
    "names = []\n",
    "firstLine = True\n",
    "for row in data:\n",
    "    if firstLine:\n",
    "        names = row.strip().split(\";\")\n",
    "        firstLine = False\n",
    "    else:\n",
    "        rowSplit = row.strip().split(\";\")\n",
    "        y.append(float(rowSplit.pop()))\n",
    "        floatRow = [float(num) for num in rowSplit]\n",
    "        x.append(floatRow)\n",
    "\n",
    "        # normalize = False\n",
    "eNetModel = ElasticNetCV(l1_ratio=0.5, normalize=False, cv=5, verbose=0, random_state=None, selection='cyclic')\n",
    "\n",
    "\n",
    "eNetModel.fit(x,y)\n",
    "\n",
    "print eNetModel.alpha_\n",
    "print eNetModel.alphas_\n",
    "xvalError = np.sqrt(np.mean(eNetModel.mse_path_, axis=1))\n",
    "print xvalError\n",
    "\n",
    "plt.plot(xvalError)\n",
    "plt.show()\n",
    "\n",
    "type(data)"
   ]
  },
  {
   "cell_type": "markdown",
   "metadata": {},
   "source": [
    "Normalizing the data makes a big difference in having a smoother, accurate, graph.  We can't think of a reason not to normalize.\n",
    "\n",
    "with normalize = False, low values of alpha result in high error, then comes to a point at around alpha = 40, when the error starts to drop significantly."
   ]
  },
  {
   "cell_type": "markdown",
   "metadata": {},
   "source": [
    "## In class coding exercises\n",
    "1.  Rerun the code above for various values of l1_ratio (named $\\lambda$ in the discussion above). \n",
    "2.  Rerun the code with normalize=False.  How much difference does that make?\n",
    "3.  Extract the coefficients corresponding to the best choice of alpha."
   ]
  },
  {
   "cell_type": "code",
   "execution_count": 17,
   "metadata": {
    "collapsed": false
   },
   "outputs": [
    {
     "name": "stderr",
     "output_type": "stream",
     "text": [
      "/Users/justin/anaconda/envs/py27/lib/python2.7/site-packages/sklearn/linear_model/coordinate_descent.py:466: ConvergenceWarning: Objective did not converge. You might want to increase the number of iterations\n",
      "  ConvergenceWarning)\n"
     ]
    },
    {
     "name": "stdout",
     "output_type": "stream",
     "text": [
      "1e-15\n",
      "[  1.00000000e-15   1.00000000e-15   1.00000000e-15   1.00000000e-15\n",
      "   1.00000000e-15   1.00000000e-15   1.00000000e-15   1.00000000e-15\n",
      "   1.00000000e-15   1.00000000e-15   1.00000000e-15   1.00000000e-15\n",
      "   1.00000000e-15   1.00000000e-15   1.00000000e-15   1.00000000e-15\n",
      "   1.00000000e-15   1.00000000e-15   1.00000000e-15   1.00000000e-15\n",
      "   1.00000000e-15   1.00000000e-15   1.00000000e-15   1.00000000e-15\n",
      "   1.00000000e-15   1.00000000e-15   1.00000000e-15   1.00000000e-15\n",
      "   1.00000000e-15   1.00000000e-15   1.00000000e-15   1.00000000e-15\n",
      "   1.00000000e-15   1.00000000e-15   1.00000000e-15   1.00000000e-15\n",
      "   1.00000000e-15   1.00000000e-15   1.00000000e-15   1.00000000e-15\n",
      "   1.00000000e-15   1.00000000e-15   1.00000000e-15   1.00000000e-15\n",
      "   1.00000000e-15   1.00000000e-15   1.00000000e-15   1.00000000e-15\n",
      "   1.00000000e-15   1.00000000e-15   1.00000000e-15   1.00000000e-15\n",
      "   1.00000000e-15   1.00000000e-15   1.00000000e-15   1.00000000e-15\n",
      "   1.00000000e-15   1.00000000e-15   1.00000000e-15   1.00000000e-15\n",
      "   1.00000000e-15   1.00000000e-15   1.00000000e-15   1.00000000e-15\n",
      "   1.00000000e-15   1.00000000e-15   1.00000000e-15   1.00000000e-15\n",
      "   1.00000000e-15   1.00000000e-15   1.00000000e-15   1.00000000e-15\n",
      "   1.00000000e-15   1.00000000e-15   1.00000000e-15   1.00000000e-15\n",
      "   1.00000000e-15   1.00000000e-15   1.00000000e-15   1.00000000e-15\n",
      "   1.00000000e-15   1.00000000e-15   1.00000000e-15   1.00000000e-15\n",
      "   1.00000000e-15   1.00000000e-15   1.00000000e-15   1.00000000e-15\n",
      "   1.00000000e-15   1.00000000e-15   1.00000000e-15   1.00000000e-15\n",
      "   1.00000000e-15   1.00000000e-15   1.00000000e-15   1.00000000e-15\n",
      "   1.00000000e-15   1.00000000e-15   1.00000000e-15   1.00000000e-15]\n",
      "[ 0.66077938  0.66077938  0.66077938  0.66077938  0.66077938  0.66077938\n",
      "  0.66077938  0.66077938  0.66077938  0.66077938  0.66077938  0.66077938\n",
      "  0.66077938  0.66077938  0.66077938  0.66077938  0.66077938  0.66077938\n",
      "  0.66077938  0.66077938  0.66077938  0.66077938  0.66077938  0.66077938\n",
      "  0.66077938  0.66077938  0.66077938  0.66077938  0.66077938  0.66077938\n",
      "  0.66077938  0.66077938  0.66077938  0.66077938  0.66077938  0.66077938\n",
      "  0.66077938  0.66077938  0.66077938  0.66077938  0.66077938  0.66077938\n",
      "  0.66077938  0.66077938  0.66077938  0.66077938  0.66077938  0.66077938\n",
      "  0.66077938  0.66077938  0.66077938  0.66077938  0.66077938  0.66077938\n",
      "  0.66077938  0.66077938  0.66077938  0.66077938  0.66077938  0.66077938\n",
      "  0.66077938  0.66077938  0.66077938  0.66077938  0.66077938  0.66077938\n",
      "  0.66077938  0.66077938  0.66077938  0.66077938  0.66077938  0.66077938\n",
      "  0.66077938  0.66077938  0.66077938  0.66077938  0.66077938  0.66077938\n",
      "  0.66077938  0.66077938  0.66077938  0.66077938  0.66077938  0.66077938\n",
      "  0.66077938  0.66077938  0.66077938  0.66077938  0.66077938  0.66077938\n",
      "  0.66077938  0.66077938  0.66077938  0.66077938  0.66077938  0.66077938\n",
      "  0.66077938  0.66077938  0.66077938  0.66077938]\n"
     ]
    },
    {
     "data": {
      "image/png": "[encoded data removed]",
      "text/plain": [
       "<matplotlib.figure.Figure at 0x104297610>"
      ]
     },
     "metadata": {},
     "output_type": "display_data"
    }
   ],
   "source": [
    "# lambda = 0, ridge regression\n",
    "\n",
    "eNetModel = ElasticNetCV(l1_ratio=1*10^-6, normalize=True, cv=5, verbose=0, random_state=None, selection='cyclic')\n",
    "\n",
    "eNetModel.fit(x,y)\n",
    "\n",
    "print eNetModel.alpha_\n",
    "print eNetModel.alphas_\n",
    "xvalError = np.sqrt(np.mean(eNetModel.mse_path_, axis=1))\n",
    "print xvalError\n",
    "\n",
    "plt.plot(xvalError)\n",
    "plt.show()"
   ]
  },
  {
   "cell_type": "code",
   "execution_count": 18,
   "metadata": {
    "collapsed": false,
    "scrolled": false
   },
   "outputs": [
    {
     "name": "stdout",
     "output_type": "stream",
     "text": [
      "0.000136267920545\n",
      "[  9.61343241e-03   8.96551924e-03   8.36127325e-03   7.79775142e-03\n",
      "   7.27220907e-03   6.78208652e-03   6.32499658e-03   5.89871298e-03\n",
      "   5.50115947e-03   5.13039973e-03   4.78462796e-03   4.46216005e-03\n",
      "   4.16142540e-03   3.88095925e-03   3.61939559e-03   3.37546044e-03\n",
      "   3.14796570e-03   2.93580335e-03   2.73794003e-03   2.55341204e-03\n",
      "   2.38132061e-03   2.22082757e-03   2.07115123e-03   1.93156257e-03\n",
      "   1.80138171e-03   1.67997462e-03   1.56674995e-03   1.46115625e-03\n",
      "   1.36267921e-03   1.27083919e-03   1.18518888e-03   1.10531112e-03\n",
      "   1.03081685e-03   9.61343241e-04   8.96551924e-04   8.36127325e-04\n",
      "   7.79775142e-04   7.27220907e-04   6.78208652e-04   6.32499658e-04\n",
      "   5.89871298e-04   5.50115947e-04   5.13039973e-04   4.78462796e-04\n",
      "   4.46216005e-04   4.16142540e-04   3.88095925e-04   3.61939559e-04\n",
      "   3.37546044e-04   3.14796570e-04   2.93580335e-04   2.73794003e-04\n",
      "   2.55341204e-04   2.38132061e-04   2.22082757e-04   2.07115123e-04\n",
      "   1.93156257e-04   1.80138171e-04   1.67997462e-04   1.56674995e-04\n",
      "   1.46115625e-04   1.36267921e-04   1.27083919e-04   1.18518888e-04\n",
      "   1.10531112e-04   1.03081685e-04   9.61343241e-05   8.96551924e-05\n",
      "   8.36127325e-05   7.79775142e-05   7.27220907e-05   6.78208652e-05\n",
      "   6.32499658e-05   5.89871298e-05   5.50115947e-05   5.13039973e-05\n",
      "   4.78462796e-05   4.46216005e-05   4.16142540e-05   3.88095925e-05\n",
      "   3.61939559e-05   3.37546044e-05   3.14796570e-05   2.93580335e-05\n",
      "   2.73794003e-05   2.55341204e-05   2.38132061e-05   2.22082757e-05\n",
      "   2.07115123e-05   1.93156257e-05   1.80138171e-05   1.67997462e-05\n",
      "   1.56674995e-05   1.46115625e-05   1.36267921e-05   1.27083919e-05\n",
      "   1.18518888e-05   1.10531112e-05   1.03081685e-05   9.61343241e-06]\n",
      "[ 0.80206842  0.79136389  0.78130473  0.77036048  0.75828119  0.74760087\n",
      "  0.73821926  0.73003465  0.72288774  0.7166582   0.71123744  0.70652811\n",
      "  0.70230093  0.69849316  0.69518855  0.69212844  0.68919797  0.68650223\n",
      "  0.6841628   0.68206993  0.68022404  0.67863717  0.67731711  0.67618363\n",
      "  0.67507208  0.67408561  0.6732123   0.67212484  0.67098746  0.6698482\n",
      "  0.66862041  0.66753826  0.66658105  0.66571785  0.66496522  0.66430482\n",
      "  0.6636536   0.66313492  0.6627229   0.66239308  0.66211134  0.66186953\n",
      "  0.66164525  0.66144175  0.66125892  0.66110661  0.66099136  0.66091015\n",
      "  0.66083059  0.66073304  0.66061187  0.66051494  0.66044105  0.66038618\n",
      "  0.66034275  0.66030342  0.66026783  0.66024087  0.66022146  0.66020915\n",
      "  0.66019792  0.66018616  0.66020374  0.66023016  0.66024891  0.66026622\n",
      "  0.6602852   0.66030509  0.66032582  0.66034676  0.6603679   0.6603892\n",
      "  0.66041011  0.66043048  0.66045043  0.66046959  0.6604889   0.66050675\n",
      "  0.66052434  0.66054128  0.66055747  0.66057284  0.66058756  0.6606015\n",
      "  0.66061476  0.6606273   0.66063916  0.66065017  0.66066091  0.66067074\n",
      "  0.66067785  0.66068394  0.66068973  0.66069534  0.66070055  0.66070559\n",
      "  0.66071018  0.66071464  0.66071871  0.66072265]\n"
     ]
    },
    {
     "data": {
      "image/png": "[encoded data removed]",
      "text/plain": [
       "<matplotlib.figure.Figure at 0x111e45c90>"
      ]
     },
     "metadata": {},
     "output_type": "display_data"
    }
   ],
   "source": [
    "# lambda = 1, lasso regression\n",
    "\n",
    "eNetModel = ElasticNetCV(l1_ratio=1, normalize=True, cv=5, verbose=0, random_state=None, selection='cyclic')\n",
    "\n",
    "eNetModel.fit(x,y)\n",
    "\n",
    "print eNetModel.alpha_\n",
    "print eNetModel.alphas_\n",
    "xvalError = np.sqrt(np.mean(eNetModel.mse_path_, axis=1))\n",
    "print xvalError\n",
    "\n",
    "plt.plot(xvalError)\n",
    "plt.show()"
   ]
  },
  {
   "cell_type": "code",
   "execution_count": 19,
   "metadata": {
    "collapsed": false
   },
   "outputs": [
    {
     "name": "stdout",
     "output_type": "stream",
     "text": [
      "\n",
      "least error for lambda = 0.1  is: 0.660616682804\n",
      "\n",
      "least error for lambda = 0.2  is: 0.660198077843\n",
      "\n",
      "least error for lambda = 0.4  is: 0.660188051527\n",
      "\n",
      "least error for lambda = 0.5  is: 0.660193809183\n",
      "\n",
      "least error for lambda = 0.6  is: 0.660202339386\n",
      "\n",
      "least error for lambda = 0.8  is: 0.660245762365\n",
      "\n",
      "least error for lambda = 0.9  is: 0.660258125942\n"
     ]
    }
   ],
   "source": [
    "# Extract the coefficients corresponding to the best choice of alpha.\n",
    "# For each lambda, find the best alpha, which is the one with least error.\n",
    "\n",
    "# lambda = .5, lasso regression\n",
    "\n",
    "def find_min_error(x, y, n):\n",
    "\n",
    "    eNetModel = ElasticNetCV(l1_ratio=n, normalize=True, cv=5, verbose=0, random_state=None, selection='cyclic')\n",
    "\n",
    "    eNetModel.fit(x,y)\n",
    "\n",
    "#     print eNetModel.alpha_\n",
    "#     print eNetModel.alphas_\n",
    "    xvalError = np.sqrt(np.mean(eNetModel.mse_path_, axis=1))\n",
    "    print \"\\nleast error for lambda =\", n, \" is:\", min(xvalError)\n",
    "\n",
    "#     plt.plot(xvalError)\n",
    "#     plt.show()\n",
    "    \n",
    "for n in [0.1,0.2,0.4,0.5,0.6,0.8,0.9]:\n",
    "    find_min_error(x, y, n)"
   ]
  },
  {
   "cell_type": "markdown",
   "metadata": {},
   "source": [
    "As we can see, the value of lambda that gives the least error for alpha is lambda = 0.4."
   ]
  },
  {
   "cell_type": "markdown",
   "metadata": {},
   "source": [
    "## Lab 3.2 - 1\n",
    "See what kind of performance you can get on the breast cancer prognosis data using ElasticNet.  "
   ]
  },
  {
   "cell_type": "code",
   "execution_count": 31,
   "metadata": {
    "collapsed": false,
    "scrolled": false
   },
   "outputs": [
    {
     "data": {
      "text/plain": [
       "list"
      ]
     },
     "execution_count": 31,
     "metadata": {},
     "output_type": "execute_result"
    }
   ],
   "source": [
    "# https://archive.ics.uci.edu/ml/datasets/Breast+Cancer+Wisconsin+%28Prognostic%29\n",
    "\n",
    "from sklearn.linear_model import ElasticNet, ElasticNetCV\n",
    "import urllib2\n",
    "import numpy as np\n",
    "import matplotlib.pyplot as plt\n",
    "%matplotlib inline\n",
    "\n",
    "# target_url = \"https://archive.ics.uci.edu/ml/datasets/Breast+Cancer+Wisconsin+%28Prognostic%29.csv\"\n",
    "# data = urllib2.urlopen(target_url)\n",
    "\n",
    "with open('breast-cancer-wisconsin.data.txt') as f:\n",
    "    data = f.readlines()\n",
    "    \n",
    "x = []\n",
    "y = []\n",
    "names = []\n",
    "firstLine = True\n",
    "\n",
    "type(data)"
   ]
  },
  {
   "cell_type": "code",
   "execution_count": 32,
   "metadata": {
    "collapsed": false
   },
   "outputs": [
    {
     "name": "stderr",
     "output_type": "stream",
     "text": [
      "/Users/justin/anaconda/envs/py27/lib/python2.7/site-packages/sklearn/utils/validation.py:386: DeprecationWarning: Passing 1d arrays as data is deprecated in 0.17 and willraise ValueError in 0.19. Reshape your data either using X.reshape(-1, 1) if your data has a single feature or X.reshape(1, -1) if it contains a single sample.\n",
      "  DeprecationWarning)\n"
     ]
    },
    {
     "ename": "ValueError",
     "evalue": "Found array with 0 feature(s) (shape=(1, 0)) while a minimum of 1 is required.",
     "output_type": "error",
     "traceback": [
      "\u001b[0;31m---------------------------------------------------------------------------\u001b[0m",
      "\u001b[0;31mValueError\u001b[0m                                Traceback (most recent call last)",
      "\u001b[0;32m<ipython-input-32-057b173e314a>\u001b[0m in \u001b[0;36m<module>\u001b[0;34m()\u001b[0m\n\u001b[1;32m     37\u001b[0m \u001b[0;34m\u001b[0m\u001b[0m\n\u001b[1;32m     38\u001b[0m \u001b[0;34m\u001b[0m\u001b[0m\n\u001b[0;32m---> 39\u001b[0;31m \u001b[0meNetModel\u001b[0m\u001b[0;34m.\u001b[0m\u001b[0mfit\u001b[0m\u001b[0;34m(\u001b[0m\u001b[0mx\u001b[0m\u001b[0;34m,\u001b[0m\u001b[0my\u001b[0m\u001b[0;34m)\u001b[0m\u001b[0;34m\u001b[0m\u001b[0m\n\u001b[0m\u001b[1;32m     40\u001b[0m \u001b[0;34m\u001b[0m\u001b[0m\n\u001b[1;32m     41\u001b[0m \u001b[0;32mprint\u001b[0m \u001b[0meNetModel\u001b[0m\u001b[0;34m.\u001b[0m\u001b[0malpha_\u001b[0m\u001b[0;34m\u001b[0m\u001b[0m\n",
      "\u001b[0;32m/Users/justin/anaconda/envs/py27/lib/python2.7/site-packages/sklearn/linear_model/coordinate_descent.pyc\u001b[0m in \u001b[0;36mfit\u001b[0;34m(self, X, y)\u001b[0m\n\u001b[1;32m   1088\u001b[0m             \u001b[0;32mdel\u001b[0m \u001b[0mreference_to_old_X\u001b[0m\u001b[0;34m\u001b[0m\u001b[0m\n\u001b[1;32m   1089\u001b[0m         \u001b[0;32melse\u001b[0m\u001b[0;34m:\u001b[0m\u001b[0;34m\u001b[0m\u001b[0m\n\u001b[0;32m-> 1090\u001b[0;31m             \u001b[0mX\u001b[0m \u001b[0;34m=\u001b[0m \u001b[0mcheck_array\u001b[0m\u001b[0;34m(\u001b[0m\u001b[0mX\u001b[0m\u001b[0;34m,\u001b[0m \u001b[0;34m'csc'\u001b[0m\u001b[0;34m,\u001b[0m \u001b[0mdtype\u001b[0m\u001b[0;34m=\u001b[0m\u001b[0mnp\u001b[0m\u001b[0;34m.\u001b[0m\u001b[0mfloat64\u001b[0m\u001b[0;34m,\u001b[0m \u001b[0morder\u001b[0m\u001b[0;34m=\u001b[0m\u001b[0;34m'F'\u001b[0m\u001b[0;34m,\u001b[0m \u001b[0mcopy\u001b[0m\u001b[0;34m=\u001b[0m\u001b[0mcopy_X\u001b[0m\u001b[0;34m)\u001b[0m\u001b[0;34m\u001b[0m\u001b[0m\n\u001b[0m\u001b[1;32m   1091\u001b[0m             \u001b[0mcopy_X\u001b[0m \u001b[0;34m=\u001b[0m \u001b[0mFalse\u001b[0m\u001b[0;34m\u001b[0m\u001b[0m\n\u001b[1;32m   1092\u001b[0m \u001b[0;34m\u001b[0m\u001b[0m\n",
      "\u001b[0;32m/Users/justin/anaconda/envs/py27/lib/python2.7/site-packages/sklearn/utils/validation.pyc\u001b[0m in \u001b[0;36mcheck_array\u001b[0;34m(array, accept_sparse, dtype, order, copy, force_all_finite, ensure_2d, allow_nd, ensure_min_samples, ensure_min_features, warn_on_dtype, estimator)\u001b[0m\n\u001b[1;32m    413\u001b[0m                              \u001b[0;34m\" a minimum of %d is required%s.\"\u001b[0m\u001b[0;34m\u001b[0m\u001b[0m\n\u001b[1;32m    414\u001b[0m                              % (n_features, shape_repr, ensure_min_features,\n\u001b[0;32m--> 415\u001b[0;31m                                 context))\n\u001b[0m\u001b[1;32m    416\u001b[0m \u001b[0;34m\u001b[0m\u001b[0m\n\u001b[1;32m    417\u001b[0m     \u001b[0;32mif\u001b[0m \u001b[0mwarn_on_dtype\u001b[0m \u001b[0;32mand\u001b[0m \u001b[0mdtype_orig\u001b[0m \u001b[0;32mis\u001b[0m \u001b[0;32mnot\u001b[0m \u001b[0mNone\u001b[0m \u001b[0;32mand\u001b[0m \u001b[0marray\u001b[0m\u001b[0;34m.\u001b[0m\u001b[0mdtype\u001b[0m \u001b[0;34m!=\u001b[0m \u001b[0mdtype_orig\u001b[0m\u001b[0;34m:\u001b[0m\u001b[0;34m\u001b[0m\u001b[0m\n",
      "\u001b[0;31mValueError\u001b[0m: Found array with 0 feature(s) (shape=(1, 0)) while a minimum of 1 is required."
     ]
    }
   ],
   "source": [
    "# for row in data:\n",
    "#     if firstLine:\n",
    "#         names = row.strip().split(\";\")\n",
    "#         firstLine = False\n",
    "#     else:\n",
    "#         rowSplit = row.strip().split(\";\")\n",
    "#         try:\n",
    "#             y.append(float(rowSplit.pop()))\n",
    "#             floatRow = [float(num) for num in rowSplit]\n",
    "#         except ValueError:\n",
    "#             pass\n",
    "# #             rowSplit.pop()\n",
    "# #             y.append(list(xrange(len(y[0]))))\n",
    "# #         y.append(rowSplit.pop())\n",
    "#         x.append(floatRow)\n",
    "\n",
    "X = []\n",
    "y = []\n",
    "names = ['Clump Thickness', 'Cell Size Uniformity', 'Cell Shape Uniformity', ' Marginal Adhesion',\\\n",
    "         'Single Epithelial Cell Size', 'Bare Nuclei', 'Bland Chromatin', 'Normal Nucleoli', 'Mitoses']\n",
    "\n",
    "for row in data:\n",
    "    # parse data\n",
    "    rowSplit = row.strip().split(\",\")\n",
    "    # get rid of user ID number\n",
    "    rowSplit = rowSplit[1:]\n",
    "    # conver to float\n",
    "    floatRow = [float(num) for num in rowSplit[:len(rowSplit)-1] if num != '?']\n",
    "    \n",
    "    if len(floatRow) == len(rowSplit)-1:\n",
    "        X.append(floatRow)\n",
    "        y.append(float(rowSplit[-1]))\n",
    "\n",
    "\n",
    "\n",
    "        # normalize = False\n",
    "eNetModel = ElasticNetCV(l1_ratio=0.5, normalize=False, cv=5, verbose=0, random_state=None, selection='cyclic')\n",
    "\n",
    "\n",
    "eNetModel.fit(x,y)\n",
    "\n",
    "print eNetModel.alpha_\n",
    "print eNetModel.alphas_\n",
    "xvalError = np.sqrt(np.mean(eNetModel.mse_path_, axis=1))\n",
    "print xvalError\n",
    "\n",
    "plt.plot(xvalError)\n",
    "plt.show()"
   ]
  },
  {
   "cell_type": "code",
   "execution_count": null,
   "metadata": {
    "collapsed": true
   },
   "outputs": [],
   "source": []
  },
  {
   "cell_type": "code",
   "execution_count": null,
   "metadata": {
    "collapsed": true
   },
   "outputs": [],
   "source": []
  }
 ],
 "metadata": {
  "anaconda-cloud": {},
  "kernelspec": {
   "display_name": "Python [conda env:py27]",
   "language": "python",
   "name": "conda-env-py27-py"
  },
  "language_info": {
   "codemirror_mode": {
    "name": "ipython",
    "version": 2
   },
   "file_extension": ".py",
   "mimetype": "text/x-python",
   "name": "python",
   "nbconvert_exporter": "python",
   "pygments_lexer": "ipython2",
   "version": "2.7.12"
  }
 },
 "nbformat": 4,
 "nbformat_minor": 0
}
