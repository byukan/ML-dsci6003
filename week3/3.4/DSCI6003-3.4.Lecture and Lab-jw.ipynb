{
 "cells": [
  {
   "cell_type": "markdown",
   "metadata": {},
   "source": [
    "# DSCI 6003 3.4 Lecture\n",
    "\n",
    "## Evaluation Metrics\n",
    "\n",
    "\n",
    "### By the End of this Lecture You Will:\n",
    "1. Be able to describe the construction and usage of a confusion matrix\n",
    "2. Construct and interpret a ROC curve plot.\n",
    "3. Discuss the usage of information criteria in evaluating a model\n"
   ]
  },
  {
   "cell_type": "markdown",
   "metadata": {},
   "source": [
    "## The Confusion Matrix\n",
    "\n",
    "So far we have examined basic cross-validation procedures. Each of these procedures recieves an output performance metric for each run. However, there are a large number of \n",
    "\n",
    "\n",
    "![bias variance](images/bias_variance.png)\n",
    "\n",
    "Note that both high bias or high variance are bad. Note that high variance is worse than it sounds since you will only be constructing the model once, so with high variance there's a low probability that your model will be near the optimal one.\n",
    "\n",
    "Another way of viewing this is by comparing the error on the training set with the error on the test set. When you fit a model, it minimizes the error on the training set. An overfit model can reduce this to 0. However, what we really care about it how well it does on a new test set, since we want our model to perform well on unseen data. This paradigm is represented with the following graph.\n",
    "\n",
    "![underfitting overfitting](images/underfitting_overfitting.png)\n",
    "\n",
    "\n",
    "You can see on the left side of the graph that the data is *underfit*: both the train error and the test error are high. On the right hand side of the graph, the data is *overfit*: the train error is low but the test error is high. The best model is where the train error is lowest, around a degree 5 polynomial.\n",
    "\n",
    "\n",
    "\n",
    "\n",
    "### Measuring Bias and Variance\n",
    "\n",
    "\n",
    "### Accuracy\n",
    "The simplest measure is **accuracy**. This is the number of correct predictions over the total number of predictions. It's the percent you predicted correctly. In `sklearn`, this is what the `score` method calculates.\n",
    "\n",
    "### Shortcomings of Accuracy\n",
    "Accuracy is often a good first glance measure, but it has many shortcomings. If the classes are unbalanced, accuracy will not measure how well you did at predicting. Say you are trying to predict whether or not an email is spam. Only 2% of emails are in fact spam emails. You could get 98% accuracy by always predicting not spam. This is a great accuracy but a horrible model!\n",
    "\n",
    "### Confusion Matrix\n",
    "We can get a better picture our model but looking at the confusion matrix. We get the following four metrics:\n",
    "\n",
    "* **True Positives (TP)**: Correct positive predictions\n",
    "* **False Positives (FP)**: Incorrect positive predictions (false alarm)\n",
    "* **True Negatives (TN)**: Correct negative predictions\n",
    "* **False Negatives (FN)**: Incorrect negative predictions (a miss)\n",
    "\n",
    "|            | Predicted Yes  | Predicted No   |\n",
    "| ---------- | -------------- | -------------- |\n",
    "| Actual Yes | True positive  | False negative |\n",
    "| Actual No  | False positive | True negative  |\n",
    "\n",
    "With logistic regression, we can visualize this set of relationships as follows:\n",
    "\n",
    "![logistic confusion matrix](images/logistic_2.png)\n",
    "\n",
    "### Precision, Recall and F1\n",
    "\n",
    "Instead of accuracy, there are some other scores we can calculate:\n",
    "\n",
    "* **Precision**: A measure of how well the model reproduces putative positive predictions. This can be taken as an estimate of the bias.\n",
    "    ```\n",
    "    Precison = TP / (TP + FP)\n",
    "             = TP / (predicted yes)\n",
    "    ```\n",
    "* **Recall**: A measure of how well you distinguish true positive cases from all possible positive cases. Sometimes called *sensitivity*. \n",
    "\n",
    "    ```\n",
    "    Recall = TP / (TP + FN) \n",
    "           = (claimed yes) / (actual yes)\n",
    "    ```\n",
    "* **F1 Score**: The harmonic mean of Precision and Recall\n",
    "    ```\n",
    "    F1 = 2 / (1/Precision + 1/Recall)\n",
    "       = 2 * Precision * Recall / (Precision + Recall)\n",
    "       = 2TP / (2TP + FN + FP)\n",
    "    ```\n",
    "\n",
    "* Accuracy can be written in this notation:\n",
    "    ```\n",
    "    Accuracy = (TP + TN) / (TP + FP + TN + FN) = True Hits/(All Hits)\n",
    "    ```\n",
    "\n",
    "* Variance \n",
    "\n",
    "###QUIZ:\n",
    "Why might we be interested in how well a model predicts negative cases? What are"
   ]
  },
  {
   "cell_type": "code",
   "execution_count": 16,
   "metadata": {
    "collapsed": false
   },
   "outputs": [
    {
     "name": "stdout",
     "output_type": "stream",
     "text": [
      "10\n",
      "4 1 1 4\n"
     ]
    }
   ],
   "source": [
    "# Here are the results in list form, so it's easier to do some calculations\n",
    "labels = [0, 0, 0, 0, 0, 1, 1, 1, 1, 1]\n",
    "predictions = [-.8, -.4, 0, .4, .8, .2, .6, 1, 1.4, 1.8]\n",
    "threshold = .5\n",
    "\n",
    "# calculate #s for TP, FP, TN, FN\n",
    "lp = list(zip(labels, predictions))\n",
    "TP = sum([1 for (l,p) in lp if l>0 and p>threshold])\n",
    "FN = sum([1 for (l,p) in lp if l>0 and p<=threshold])\n",
    "TN = sum([1 for (l,p) in lp if l<=0 and p<=threshold])\n",
    "FP = sum([1 for (l,p) in lp if l<=0 and p>threshold])\n",
    "print(TP + FN + TN + FP)\n",
    "print(TP, FN, FP, TN)"
   ]
  },
  {
   "cell_type": "code",
   "execution_count": 17,
   "metadata": {
    "collapsed": false
   },
   "outputs": [
    {
     "data": {
      "text/plain": [
       "list"
      ]
     },
     "execution_count": 17,
     "metadata": {},
     "output_type": "execute_result"
    }
   ],
   "source": [
    "type(list(lp))"
   ]
  },
  {
   "cell_type": "code",
   "execution_count": 18,
   "metadata": {
    "collapsed": false,
    "scrolled": true
   },
   "outputs": [
    {
     "data": {
      "text/plain": [
       "array([[4, 1],\n",
       "       [1, 4]])"
      ]
     },
     "execution_count": 18,
     "metadata": {},
     "output_type": "execute_result"
    }
   ],
   "source": [
    "from sklearn.metrics import confusion_matrix\n",
    "\n",
    "out = [0 if i<=threshold else 1 for i in predictions]\n",
    "\n",
    "confusion_matrix(labels,out)"
   ]
  },
  {
   "cell_type": "code",
   "execution_count": null,
   "metadata": {
    "collapsed": true
   },
   "outputs": [],
   "source": [
    "# suppose some mistakes are more expensive than others\n",
    "\n"
   ]
  },
  {
   "cell_type": "markdown",
   "metadata": {},
   "source": [
    "## ROC Curves\n",
    "\n",
    "Using the confusion matrix and all the values that we can calculate with it doesn't quite get at everything. With logistic regression, we are actually predicting probabilities, not just which class we think it belongs to. In the standard Logistic Regression, we put anything that has a probability of at least 0.5 in the positive class and everything else in the negative class. We could however choose any threshold from 0 to 1.\n",
    "\n",
    "Each threshold corresponds to a different confusion matrix.\n",
    "\n",
    "* Increasing the threshold will:\n",
    "    - :grinning: decrease the number of False Positives,\n",
    "    - :weary: decrease the number of True Positives,\n",
    "    - :weary: increase the number of False Negatives, and\n",
    "    - :grinning: increase the number of True Negatives.\n",
    "    \n",
    "Now we have an infinite number of models to compare! How are we going to investigate them?\n",
    "\n",
    "We use the Receiver Operating Characteristic Curve, more commonly called the ROC Curve.\n",
    "\n",
    "We calculate the False Positive Rate and the True Positive Rate for every posible threshold and graph them all!\n",
    "\n",
    "Here's how we calculate the FPR and TPR:\n",
    "```\n",
    "TPR = TP / P \n",
    "    = TP / (TP + FN)\n",
    "    = Recall\n",
    "\n",
    "FPR = FP / N \n",
    "    = FP / (FP + TN)\n",
    "```\n",
    "Here's what the ROC Curve looks like:\n",
    "\n",
    "![](images/roc_curve.png)\n",
    "\n",
    "\n",
    "\n",
    "Note that our ideal is the upper left corner, where our FPR is 0 and our TPR is 1.\n",
    "\n",
    "While this graph shows us what FPR and TPR we can get, it does not tell us the theshold that yeilds a specific FPR and TPR. However, once we figure out what point on the graph we want, we can figure out the appropriate threshold (it's just not shown to us on the ROC curve).\n"
   ]
  },
  {
   "cell_type": "markdown",
   "metadata": {},
   "source": [
    "## Information Criterion Metrics (Model selection: typically regressions)\n",
    "\n",
    "We have already discussed the use of entropy to estimate the amount of useful information present in a specific distribution of data (specifically the information_gain criterion). A great deal of research has gone into the quantification of useful information present in a distribution. Likewise, much research has gone into quantifying the amount of useful information captured by a single model. \n",
    "\n",
    "In order to use these metrics, a complete closed description of the \"loss\" function has to be available and implemented. Scikit only has one native implementation of automated IC model selection, however, the technique is quite common and well used in research.\n",
    "\n",
    "\n",
    "### AIC and AIC corrected (AICc)\n",
    "\n",
    "AIC is founded in information theory. It supposes that the data is generated by some unknown process (distribution free) f. We consider two candidate models to represent f: g1 and g2. If we knew f, then we could find the information lost from using g1 to represent f by calculating the degree to which the two distributions (f and g1) match using information theory; similarly, the information lost from using g2 to represent f can be found similarly. We then choose the candidate model that minimizes the loss of information .\n",
    "\n",
    "$$ AIC = 2k - 2\\ ln{(L)} $$\n",
    "\n",
    "Where L is the final \"loss\" (cost) function value for the model's optimized set of parameters. For finite sample sizes, we must correct for the effect of the limits of sampling.\n",
    "\n",
    "$$ AICc = AIC + \\dfrac{2k(k+1)}{(n-k-1)} $$\n",
    "\n",
    "([from wikipedia](https://en.wikipedia.org/wiki/Akaike_information_criterion))\n",
    "To apply AIC in practice, we start with a set of candidate models, and then find the models' corresponding AIC values. There will almost always be information lost due to using a candidate model to represent the \"true\" model (i.e. the process that generates the data). \n",
    "\n",
    "We wish to select, from among the candidate models, the model that minimizes the information loss. We cannot choose with certainty, but we can minimize the estimated information loss.\n",
    "\n",
    "Suppose that there are M candidate models. Denote the AIC values of those models by $AIC_{1}, AIC_{2}, AIC_{3}, \\cdots, AIC_{M}$. Let $AIC_{min}$ be the minimum of those values. Then $P_{i}(AIC) = exp^{{\\frac{AIC_{min} − AIC_{i}}{2}}}$ can be interpreted as the relative probability that the ith model minimizes the (estimated) information loss\n",
    "\n",
    "## BIC\n",
    "\n",
    "BIC can be derived from AIC, although it comes from a slightly different theoretical origin than AIC. It suffers from sample bias just as AIC (not AICc) does. \n",
    "\n",
    "The BIC generally penalizes free parameters more strongly than the Akaike information criterion, though it depends on the size of n and relative magnitude of n and k.\n",
    "\n",
    "It is important to keep in mind that the BIC can be used to compare estimated models only when the numerical values of the dependent variable are identical for all estimates being compared.\n",
    "\n",
    "BIC is given as:\n",
    "\n",
    "$$ BIC = -2 ln{(L)} + k\\ ln{(n)} $$\n"
   ]
  },
  {
   "cell_type": "code",
   "execution_count": 19,
   "metadata": {
    "collapsed": false
   },
   "outputs": [
    {
     "data": {
      "text/plain": [
       "<matplotlib.text.Text at 0x10e9a5048>"
      ]
     },
     "execution_count": 19,
     "metadata": {},
     "output_type": "execute_result"
    },
    {
     "data": {
      "image/png": "[encoded data removed]",
      "text/plain": [
       "<matplotlib.figure.Figure at 0x10e83e828>"
      ]
     },
     "metadata": {},
     "output_type": "display_data"
    }
   ],
   "source": [
    "%matplotlib inline\n",
    "import time\n",
    "\n",
    "import numpy as np\n",
    "import matplotlib.pyplot as plt\n",
    "\n",
    "from sklearn.linear_model import LassoCV, LassoLarsCV, LassoLarsIC\n",
    "from sklearn import datasets\n",
    "\n",
    "diabetes = datasets.load_diabetes()\n",
    "X = diabetes.data\n",
    "y = diabetes.target\n",
    "\n",
    "rng = np.random.RandomState(42)\n",
    "X = np.c_[X, rng.randn(X.shape[0], 14)]  # add some bad features\n",
    "\n",
    "X /= np.sqrt(np.sum(X ** 2, axis=0))\n",
    "\n",
    "##############################################################################\n",
    "### LassoLarsIC: least angle regression with BIC/AIC criterion\n",
    "\n",
    "model_bic = LassoLarsIC(criterion='bic')\n",
    "t1 = time.time()\n",
    "model_bic.fit(X, y)\n",
    "t_bic = time.time() - t1\n",
    "alpha_bic_ = model_bic.alpha_\n",
    "\n",
    "model_aic = LassoLarsIC(criterion='aic')\n",
    "model_aic.fit(X, y)\n",
    "alpha_aic_ = model_aic.alpha_\n",
    "\n",
    "def plot_ic_criterion(model, name, color):\n",
    "    alpha_ = model.alpha_\n",
    "    alphas_ = model.alphas_\n",
    "    criterion_ = model.criterion_\n",
    "    plt.plot(-np.log10(alphas_[:-1]), criterion_[:-1], '--', color=color,\n",
    "             linewidth=3, label='%s criterion' % name)\n",
    "    plt.axvline(-np.log10(alpha_), color=color, linewidth=3,\n",
    "                label='alpha: %s estimate' % name)\n",
    "    plt.xlabel('-log(alpha)')\n",
    "    plt.ylabel('criterion')\n",
    "\n",
    "plt.figure()\n",
    "plot_ic_criterion(model_aic, 'AIC', 'b')\n",
    "plot_ic_criterion(model_bic, 'BIC', 'r')\n",
    "plt.legend()\n",
    "plt.title('Information-criterion for model selection (training time %.3fs)'\n",
    "          % t_bic)"
   ]
  },
  {
   "cell_type": "code",
   "execution_count": null,
   "metadata": {
    "collapsed": true
   },
   "outputs": [],
   "source": []
  }
 ],
 "metadata": {
  "anaconda-cloud": {},
  "kernelspec": {
   "display_name": "Python [default]",
   "language": "python",
   "name": "python3"
  },
  "language_info": {
   "codemirror_mode": {
    "name": "ipython",
    "version": 3
   },
   "file_extension": ".py",
   "mimetype": "text/x-python",
   "name": "python",
   "nbconvert_exporter": "python",
   "pygments_lexer": "ipython3",
   "version": "3.5.2"
  }
 },
 "nbformat": 4,
 "nbformat_minor": 0
}
