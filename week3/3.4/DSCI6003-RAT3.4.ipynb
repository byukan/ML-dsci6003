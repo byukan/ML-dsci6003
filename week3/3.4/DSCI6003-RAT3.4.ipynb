{
 "cells": [
  {
   "cell_type": "raw",
   "metadata": {},
   "source": [
    "RAT 3.4\n",
    "\n",
    "Given a finite dimensional vector space of dimension n, what is a hyperplane? What do hyperplanes in R**2 and R**3 look like? Given a hyperplane in R**2, what is the obvious classifer you can define with this hyperplane? Given a dataset in R**2, is there always a line that can separate the dataset into two groups?"
   ]
  }
 ],
 "metadata": {
  "kernelspec": {
   "display_name": "Python 2",
   "language": "python",
   "name": "python2"
  },
  "language_info": {
   "codemirror_mode": {
    "name": "ipython",
    "version": 2
   },
   "file_extension": ".py",
   "mimetype": "text/x-python",
   "name": "python",
   "nbconvert_exporter": "python",
   "pygments_lexer": "ipython2",
   "version": "2.7.10"
  }
 },
 "nbformat": 4,
 "nbformat_minor": 0
}
