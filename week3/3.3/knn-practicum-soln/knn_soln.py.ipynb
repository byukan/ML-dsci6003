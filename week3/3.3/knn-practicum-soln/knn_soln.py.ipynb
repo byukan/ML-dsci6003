{
 "cells": [
  {
   "cell_type": "code",
   "execution_count": null,
   "metadata": {
    "collapsed": true
   },
   "outputs": [],
   "source": [
    "import numpy as np\n",
    "import pandas as pd\n",
    "from collections import Counter\n",
    "from itertools import izip\n",
    "from sklearn.datasets import make_classification\n",
    "\n",
    "def euclidean_distance(a, b):\n",
    "    return np.sqrt(np.dot(a - b, a - b))\n",
    "\n",
    "def cosine_distance(a, b):\n",
    "    return 1 - np.dot(a, b) / np.sqrt(np.dot(a, a) * np.dot(b, b))\n",
    "\n",
    "class KNearestNeighbors(object):\n",
    "    def __init__(self, k=5, distance=euclidean_distance):\n",
    "        self.k = k\n",
    "        self.distance = distance\n",
    "\n",
    "    def fit(self, X, y):\n",
    "        self.X_train = X\n",
    "        self.y_train = y\n",
    "\n",
    "    def predict(self, X):\n",
    "        X = X.reshape( (-1, self.X_train.shape[1]) )\n",
    "        distances = np.zeros((X.shape[0], self.X_train.shape[0]))\n",
    "        for i, x in enumerate(X):\n",
    "            for j, x_train in enumerate(self.X_train):\n",
    "                distances[i, j] = self.distance(x_train, x)\n",
    "        top_k = y[distances.argsort()[:,:self.k]]  #sort and take top k\n",
    "        result = np.zeros(X.shape[0])\n",
    "        for i, values in enumerate(top_k):\n",
    "            result[i] = Counter(values).most_common(1)[0][0]\n",
    "        return result\n",
    "\n",
    "\n",
    "if __name__ == '__main__':\n",
    "    X, y = make_classification(n_features=4, n_redundant=0, n_informative=1,\n",
    "                               n_clusters_per_class=1, class_sep=5,\n",
    "                               random_state=5)\n",
    "    knn = KNearestNeighbors(3, cosine_distance)\n",
    "    knn.fit(X, y)\n",
    "    print \"\\tactual\\tpredict\\tcorrect?\"\n",
    "    for i, (actual, predicted) in enumerate(izip(y, knn.predict(X))):\n",
    "        print \"%d\\t%d\\t%d\\t%d\" % (i, actual, predicted, int(actual == predicted))"
   ]
  }
 ],
 "metadata": {
  "kernelspec": {
   "display_name": "Python 2",
   "language": "python",
   "name": "python2"
  },
  "language_info": {
   "codemirror_mode": {
    "name": "ipython",
    "version": 2
   },
   "file_extension": ".py",
   "mimetype": "text/x-python",
   "name": "python",
   "nbconvert_exporter": "python",
   "pygments_lexer": "ipython2",
   "version": "2.7.10"
  }
 },
 "nbformat": 4,
 "nbformat_minor": 0
}
