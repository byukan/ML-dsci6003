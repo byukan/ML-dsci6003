{
 "cells": [
  {
   "cell_type": "markdown",
   "metadata": {},
   "source": [
    "\n",
    "#RAT 3.3\n",
    "\n",
    "Suppose that your loss function is $L(w)$ where $w$ is a vector of parameters that you can adjust to minimize L (loss). Given a starting value for $w$ (say $w_0$) give the gradient descent update equation for $w_{n+1}$ in terms of $w_n$ and $\\nabla L$ the gradient of $L$ with respect to the vector w.\n"
   ]
  },
  {
   "cell_type": "markdown",
   "metadata": {},
   "source": [
    "# use gradient descent\n",
    "\n",
    "$w_{n+1}$ = $w_n - \\alpha\\nabla L$"
   ]
  },
  {
   "cell_type": "code",
   "execution_count": 1,
   "metadata": {
    "collapsed": true
   },
   "outputs": [],
   "source": [
    "# # RAT 3.3\n",
    "\n",
    "# Suppose that we wish to create a machine learning model of the time it takes to observe specific repeated event that is both rare and independent between events. Our model will account for a linear relationship amongst a set of features $\\bf{x}$ and will produce a predicted delay value for these regressands (features).\n",
    "\n",
    "# 1. What standard statistical distribution would we use to model this process?\n",
    "\n",
    "# 2. Instead of the expectation value parameter that is modelled by this distribution, we will need to model the expectation as a function of a weighted sum of the regressands. (You have seen this equation many times before) W\n",
    "# Write it down the expression for the log of that parameter now and let the expectation value be equal to the weighted sum of the regressands.\n",
    "\n",
    "# 3. Use a simple transformation for the equation written in 2, to get back the standard value for the parameter (not log). Hint: you will have a equation involving e.\n",
    "\n",
    "# 4. Make the (safe) assumption that the probability of an event can be taken as its likelihood. Using the new probability function for this distribution, derive the log-likelihood function of this model.\n"
   ]
  }
 ],
 "metadata": {
  "anaconda-cloud": {},
  "kernelspec": {
   "display_name": "Python [conda env:nlp]",
   "language": "python",
   "name": "conda-env-nlp-py"
  },
  "language_info": {
   "codemirror_mode": {
    "name": "ipython",
    "version": 3
   },
   "file_extension": ".py",
   "mimetype": "text/x-python",
   "name": "python",
   "nbconvert_exporter": "python",
   "pygments_lexer": "ipython3",
   "version": "3.5.2"
  }
 },
 "nbformat": 4,
 "nbformat_minor": 0
}
