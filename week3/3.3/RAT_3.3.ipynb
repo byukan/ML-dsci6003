{
 "cells": [
  {
   "cell_type": "markdown",
   "metadata": {},
   "source": [
    "# RAT 3.3\n",
    "\n",
    "Suppose that your loss function is $L(w)$ where $w$ is a vector of parameters that you can adjust to minimize L (loss).  Given a starting value for $w$ (say $w_0$) give the gradient descent update equation for $w_{n+1}$ in terms of $w_n$ and $\\nabla L$ the gradient of $L$ with respect to the vector w.  "
   ]
  },
  {
   "cell_type": "code",
   "execution_count": null,
   "metadata": {
    "collapsed": true
   },
   "outputs": [],
   "source": []
  }
 ],
 "metadata": {
  "kernelspec": {
   "display_name": "Python 2",
   "language": "python",
   "name": "python2"
  },
  "language_info": {
   "codemirror_mode": {
    "name": "ipython",
    "version": 2
   },
   "file_extension": ".py",
   "mimetype": "text/x-python",
   "name": "python",
   "nbconvert_exporter": "python",
   "pygments_lexer": "ipython2",
   "version": "2.7.12"
  }
 },
 "nbformat": 4,
 "nbformat_minor": 0
}
