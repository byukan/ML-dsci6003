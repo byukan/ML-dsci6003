{
 "cells": [
  {
   "cell_type": "markdown",
   "metadata": {},
   "source": [
    "# Skills Test One\n",
    "\n",
    "## Problem 1.\n",
    "Use dynamic programming to write a program to make change using as few coins as possible.  Suppose that you've got an infinite supply of coins in several denominations.  Suppose further that an integer from 1 to 99 cents represents the amount you must represent with coins.  Suppose that the coin denominations are flexible, but always include a coin worth one cent.  \n",
    "1a.  Show an equation relating the best value at stage \"m\" to a maximization over earlier stages.    \n",
    "1b.  Write a python program to solve the recursion.  \n",
    "\n"
   ]
  },
  {
   "cell_type": "markdown",
   "metadata": {},
   "source": [
    "# equation relating best value at stage \"m\": $C(p) = min_i{C(p-v_i)} + 1$"
   ]
  },
  {
   "cell_type": "code",
   "execution_count": 105,
   "metadata": {
    "collapsed": false
   },
   "outputs": [
    {
     "name": "stdout",
     "output_type": "stream",
     "text": [
      "9\n"
     ]
    }
   ],
   "source": [
    "\"\"\"Use dynamic programming to write a program to make change using as few coins as possible. Suppose that you've got\n",
    "an infinite supply of coins in several denominations. Suppose further that an integer from 1 to 99 cents\n",
    "represents the amount you must represent with coins. Suppose that the coin denominations are flexible, but always\n",
    "include a coin worth one cent. 1a. Show an equation relating the best value at stage \"m\" to a maximization over\n",
    "earlier stages. 1b. Write a python program to solve the recursion. \"\"\"\n",
    "\n",
    "\n",
    "def make_change(denominations_list=[], amount=0):\n",
    "    \"\"\"\n",
    "    Given a list of currency and the target value, return the minimum number of currency and a list of values.\n",
    "    Dynamic programming (DP) is an efficient solution.\n",
    "    make change using as few coins as possible\n",
    "    :param denominations_list:\n",
    "    :param amount: integer from 1 to 99 representing cents\n",
    "    :return: min number of coins\n",
    "    \"\"\"\n",
    "    # create memo of minimum coins required at each amount\n",
    "    C = [0] * (amount+1) if amount > 0 else [0]\n",
    "    # print(C)\n",
    "\n",
    "    # for each target amount we loop through the denominations\n",
    "    for i in range(1, amount+1):\n",
    "        t = []\n",
    "        for x in denominations_list:\n",
    "            if i - x >= 0:\n",
    "                # print(\"i, x:\", i, x)\n",
    "                t.append(C[i-x])\n",
    "        #         print(C[i-x])\n",
    "        # print(t)\n",
    "        C[i] = min(t) + 1\n",
    "        # print(C[1])\n",
    "    return C[amount]\n",
    "\n",
    "\n",
    "denominations = [1, 5, 10, 25]\n",
    "amt = 99\n",
    "print(make_change(denominations, amt))\n"
   ]
  },
  {
   "cell_type": "code",
   "execution_count": 106,
   "metadata": {
    "collapsed": true
   },
   "outputs": [],
   "source": [
    "\"\"\"\n",
    "another solution\n",
    "\"\"\"\n",
    "\n",
    "def make_change(currency=[], value=0):\n",
    "    \"\"\"Given a list of coins, find the minimum number of coins and which ones.\n",
    "    Use dynamic programming.\n",
    "    \n",
    "    >>> make_change(coins=[1, 5, 10], value=10)\n",
    "    (1, [10]) # 1 coin, 10 denomination\n",
    "    \n",
    "    >>> make_change(coins=[1, 5, 10], value=15)\n",
    "    (2, [10, 5]) # 2 coins, 10 and 5 in denomination\n",
    "    \n",
    "    >>> make_change(coins=[5, 10], value=3)\n",
    "    No solution possible\n",
    "    \"\"\"\n",
    "\n",
    "    table = [None]*(value+1) # Initialize the table\n",
    "    table[0] = [] \n",
    "    for i in range(1, value+1):\n",
    "        for current in currency:\n",
    "            if current > i: continue\n",
    "            elif not table[i] or len(table[i - current]) + 1 < len(table[i]):\n",
    "                if table[i - current] != None:\n",
    "                    table[i] = table[i - current][:]\n",
    "                    table[i].append(current)\n",
    "\n",
    "    if table[-1] != None:\n",
    "        return len(table[-1]), table[-1] # Number of coins, which coins\n",
    "    else:\n",
    "        return 'No solution possible'"
   ]
  },
  {
   "cell_type": "code",
   "execution_count": 107,
   "metadata": {
    "collapsed": true
   },
   "outputs": [],
   "source": [
    "assert make_change(currency=[1, 5, 10], value=10) == (1, [10])\n",
    "assert make_change(currency=[1, 5, 10], value=15) == (2, [10, 5])\n",
    "assert make_change(currency=[1, 5, 10], value=30) == (3, [10, 10, 10])\n",
    "assert make_change(currency=[1, 5, 21, 25], value=63) == (3, [21, 21, 21])\n",
    "assert make_change(currency=[5, 10], value=3) == 'No solution possible'"
   ]
  },
  {
   "cell_type": "markdown",
   "metadata": {},
   "source": [
    "## Problem 2.  \n",
    "Use k-nearest neighbors to build a machine learning model to predict wine quality scores from chemical measurements of the wine.  Use the white wine data set from UCI data repository.  Here's a link:  https://archive.ics.uci.edu/ml/machine-learning-databases/wine-quality/winequality-white.csv .  Download the csv file and store it in the same folder as this notebook so the notebook will have access to the file easily.  Or you can download the file over the internet - whichever is easier for you.  You can read the website description or look through the file to figure out how the data are formatted in the file - (usually delimited text file).  Read it into a numpy data structure in order to be able to manipulate easily.  Then do the following:  \n",
    "\n",
    "#### Step 1.  Download the data\n",
    "The download instructions are given directly above.\n",
    "\n",
    "#### Step 2.  Scale the data\n",
    "Use the package - sklearn.preprocessing.scale to scale the attributes in this set to standard form (zero mean and unit variance).  The documentation shows you how to use the function.  http://scikit-learn.org/stable/modules/generated/sklearn.preprocessing.scale.html and http://scikit-learn.org/stable/modules/preprocessing.html#preprocessing-scaler .  The default settings on the scale function will work fine.  Be sure to do the scaling along the columns of the data matrix - not along the rows.  \n",
    "\n",
    "#### Step 3.  Divide the data\n",
    "-Divide the data set into two subsets for training and test.  \n",
    "-Use 35% of the data for testing and 65% for training.  (Notice that we're not doing a separate validations set.)\n",
    "\n",
    "#### Step 4.  Build models and \n",
    "-Use the sklearn KNN regression package to train and test.\n",
    "http://scikit-learn.org/stable/modules/neighbors.html   \n",
    "http://scikit-learn.org/stable/modules/generated/sklearn.neighbors.KNeighborsRegressor.html#sklearn.neighbors.KNeighborsRegressor   \n",
    "\n",
    "-Train and test KNN models over a range of k values and plot the root mean squared error on the training data and on the test data.  Plot both of these quantities on the same figure.  \n",
    "\n",
    "-Pick the value of k that gives the best performance (lowest value of error on the test data).   \n",
    "\n",
    "-Report best value of k and the corresponding value of the rmse.  \n",
    "\n"
   ]
  },
  {
   "cell_type": "code",
   "execution_count": 108,
   "metadata": {
    "collapsed": false,
    "scrolled": true
   },
   "outputs": [
    {
     "data": {
      "text/html": [
       "<div>\n",
       "<table border=\"1\" class=\"dataframe\">\n",
       "  <thead>\n",
       "    <tr style=\"text-align: right;\">\n",
       "      <th></th>\n",
       "      <th>fixed acidity</th>\n",
       "      <th>volatile acidity</th>\n",
       "      <th>citric acid</th>\n",
       "      <th>residual sugar</th>\n",
       "      <th>chlorides</th>\n",
       "      <th>free sulfur dioxide</th>\n",
       "      <th>total sulfur dioxide</th>\n",
       "      <th>density</th>\n",
       "      <th>pH</th>\n",
       "      <th>sulphates</th>\n",
       "      <th>alcohol</th>\n",
       "      <th>quality</th>\n",
       "    </tr>\n",
       "  </thead>\n",
       "  <tbody>\n",
       "    <tr>\n",
       "      <th>0</th>\n",
       "      <td>7.0</td>\n",
       "      <td>0.27</td>\n",
       "      <td>0.36</td>\n",
       "      <td>20.7</td>\n",
       "      <td>0.045</td>\n",
       "      <td>45.0</td>\n",
       "      <td>170.0</td>\n",
       "      <td>1.0010</td>\n",
       "      <td>3.00</td>\n",
       "      <td>0.45</td>\n",
       "      <td>8.8</td>\n",
       "      <td>6</td>\n",
       "    </tr>\n",
       "    <tr>\n",
       "      <th>1</th>\n",
       "      <td>6.3</td>\n",
       "      <td>0.30</td>\n",
       "      <td>0.34</td>\n",
       "      <td>1.6</td>\n",
       "      <td>0.049</td>\n",
       "      <td>14.0</td>\n",
       "      <td>132.0</td>\n",
       "      <td>0.9940</td>\n",
       "      <td>3.30</td>\n",
       "      <td>0.49</td>\n",
       "      <td>9.5</td>\n",
       "      <td>6</td>\n",
       "    </tr>\n",
       "    <tr>\n",
       "      <th>2</th>\n",
       "      <td>8.1</td>\n",
       "      <td>0.28</td>\n",
       "      <td>0.40</td>\n",
       "      <td>6.9</td>\n",
       "      <td>0.050</td>\n",
       "      <td>30.0</td>\n",
       "      <td>97.0</td>\n",
       "      <td>0.9951</td>\n",
       "      <td>3.26</td>\n",
       "      <td>0.44</td>\n",
       "      <td>10.1</td>\n",
       "      <td>6</td>\n",
       "    </tr>\n",
       "    <tr>\n",
       "      <th>3</th>\n",
       "      <td>7.2</td>\n",
       "      <td>0.23</td>\n",
       "      <td>0.32</td>\n",
       "      <td>8.5</td>\n",
       "      <td>0.058</td>\n",
       "      <td>47.0</td>\n",
       "      <td>186.0</td>\n",
       "      <td>0.9956</td>\n",
       "      <td>3.19</td>\n",
       "      <td>0.40</td>\n",
       "      <td>9.9</td>\n",
       "      <td>6</td>\n",
       "    </tr>\n",
       "    <tr>\n",
       "      <th>4</th>\n",
       "      <td>7.2</td>\n",
       "      <td>0.23</td>\n",
       "      <td>0.32</td>\n",
       "      <td>8.5</td>\n",
       "      <td>0.058</td>\n",
       "      <td>47.0</td>\n",
       "      <td>186.0</td>\n",
       "      <td>0.9956</td>\n",
       "      <td>3.19</td>\n",
       "      <td>0.40</td>\n",
       "      <td>9.9</td>\n",
       "      <td>6</td>\n",
       "    </tr>\n",
       "  </tbody>\n",
       "</table>\n",
       "</div>"
      ],
      "text/plain": [
       "   fixed acidity  volatile acidity  citric acid  residual sugar  chlorides  \\\n",
       "0            7.0              0.27         0.36            20.7      0.045   \n",
       "1            6.3              0.30         0.34             1.6      0.049   \n",
       "2            8.1              0.28         0.40             6.9      0.050   \n",
       "3            7.2              0.23         0.32             8.5      0.058   \n",
       "4            7.2              0.23         0.32             8.5      0.058   \n",
       "\n",
       "   free sulfur dioxide  total sulfur dioxide  density    pH  sulphates  \\\n",
       "0                 45.0                 170.0   1.0010  3.00       0.45   \n",
       "1                 14.0                 132.0   0.9940  3.30       0.49   \n",
       "2                 30.0                  97.0   0.9951  3.26       0.44   \n",
       "3                 47.0                 186.0   0.9956  3.19       0.40   \n",
       "4                 47.0                 186.0   0.9956  3.19       0.40   \n",
       "\n",
       "   alcohol  quality  \n",
       "0      8.8        6  \n",
       "1      9.5        6  \n",
       "2     10.1        6  \n",
       "3      9.9        6  \n",
       "4      9.9        6  "
      ]
     },
     "execution_count": 108,
     "metadata": {},
     "output_type": "execute_result"
    }
   ],
   "source": [
    "# KNN\n",
    "\n",
    "import pandas as pd\n",
    "\n",
    "data = pd.read_csv(\"https://archive.ics.uci.edu/ml/machine-learning-databases/wine-quality/winequality-white.csv\", ';')\n",
    "# type(df.values)\n",
    "# data = df.values\n",
    "# data[0]\n",
    "# print(data.shape)\n",
    "# print(data.dropna().shape)\n",
    "data.head()"
   ]
  },
  {
   "cell_type": "code",
   "execution_count": 109,
   "metadata": {
    "collapsed": false
   },
   "outputs": [],
   "source": [
    "x = data.drop('quality', axis=1)  # predictors\n",
    "y = data.quality # target"
   ]
  },
  {
   "cell_type": "code",
   "execution_count": 110,
   "metadata": {
    "collapsed": false,
    "scrolled": false
   },
   "outputs": [],
   "source": [
    "import sklearn\n",
    "\n",
    "# sklearn.preprocessing.scale(data, axis=0)"
   ]
  },
  {
   "cell_type": "code",
   "execution_count": 111,
   "metadata": {
    "collapsed": false
   },
   "outputs": [],
   "source": [
    "from sklearn.cross_validation import train_test_split\n",
    "import numpy as np\n",
    "\n",
    "#pull out 35% test set\n",
    "xTrVa, xTe, yTrVa, yTe = train_test_split(x, y, test_size=0.35)\n",
    "\n",
    "from sklearn.neighbors import KNeighborsRegressor\n",
    "\n",
    "\n",
    "#set up xvalidation loop and run on sklearn knn regression for several values of \"k\"\n",
    "\n",
    "#set values for some constants and initilize lists for holding answers\n",
    "nxVal = 5  #number of cross-validation folds\n",
    "ks = [200, 150, 100, 80, 60, 50, 40, 30, 20, 15, 10, 8, 6, 5, 3, 1]  #list of k-values to generate error vs complexity curves\n",
    "\n",
    "trPerf = np.zeros(len(ks))  #to hold fold-by-fold training error\n",
    "vaPerf = np.zeros(len(ks))  #to hold fold-by-fold validation error\n",
    "\n",
    "for ik in range(len(ks)):\n",
    "    knn = KNeighborsRegressor(n_neighbors=ks[ik])  # create instance of KNeighborsRegressor class\n",
    "    knn.fit(xTrVa, yTrVa)\n",
    "    #performance on training set\n",
    "    trErr = knn.predict(xTrVa) - yTrVa  # training error\n",
    "#     print(\"training error shape\", trErr.shape)\n",
    "#     print(\"mean squared error\", np.mean(trErr*trErr))\n",
    "    trPerf[ik] = np.mean(trErr*trErr)\n",
    "    #performance on val set\n",
    "    vaErr = knn.predict(xTe) - yTe\n",
    "#     print(vaErr.shape)\n",
    "#     print(np.mean(vaErr*vaErr))\n",
    "    vaPerf[ik] = np.mean(vaErr*vaErr)"
   ]
  },
  {
   "cell_type": "code",
   "execution_count": 112,
   "metadata": {
    "collapsed": false,
    "scrolled": true
   },
   "outputs": [
    {
     "name": "stdout",
     "output_type": "stream",
     "text": [
      "Populating the interactive namespace from numpy and matplotlib\n",
      "validation rmse\n",
      "[ 0.67752194  0.67273767  0.66579178  0.66357844  0.66273858  0.65718414\n",
      "  0.65415999  0.64676514  0.64216327  0.64433301  0.65195918  0.65868258\n",
      "  0.67013282  0.67589504  0.70670554  0.88279883]\n",
      "training rmse\n",
      "[ 0.70164188  0.69533061  0.68497892  0.67796075  0.66912626  0.65765203\n",
      "  0.64922459  0.63547457  0.61069039  0.58150731  0.54207666  0.51594899\n",
      "  0.47262366  0.4441596   0.33221629  0.        ]\n"
     ]
    },
    {
     "name": "stderr",
     "output_type": "stream",
     "text": [
      "WARNING: pylab import has clobbered these variables: ['sqrt']\n",
      "`%matplotlib` prevents importing * from pylab and numpy\n"
     ]
    },
    {
     "data": {
      "image/png": "[encoded data removed]",
      "text/plain": [
       "<matplotlib.figure.Figure at 0x116597a58>"
      ]
     },
     "metadata": {},
     "output_type": "display_data"
    },
    {
     "name": "stdout",
     "output_type": "stream",
     "text": [
      "best k =  20 min value of MSE =  0.642163265306\n"
     ]
    }
   ],
   "source": [
    "%pylab inline\n",
    "import matplotlib.pyplot as plt\n",
    "%matplotlib inline\n",
    "\n",
    "# print(type(vaPerf), vaPerf.size)\n",
    "\n",
    "#form outputs\n",
    "# vaMse = np.sqrt(np.mean(vaPerf))\n",
    "print('validation rmse')\n",
    "print(vaPerf)\n",
    "\n",
    "# trMse = np.sqrt(np.mean(trPerf))\n",
    "print('training rmse')\n",
    "print(trPerf)\n",
    "\n",
    "plot(vaPerf)\n",
    "plot(trPerf)\n",
    "plt.xlabel(\"complexity\")\n",
    "plt.ylabel(\"mean squared error\")\n",
    "plt.show()\n",
    "kStar = ks[np.argmin(vaPerf)]\n",
    "print('best k = ', kStar, 'min value of MSE = ', np.min(vaPerf))  #print best value of k and corresponding mse"
   ]
  },
  {
   "cell_type": "markdown",
   "metadata": {},
   "source": [
    "pick the value of k that gives the best performance (lowest value of error on the test data)\n",
    "\n",
    "best k =  15 min value of MSE =  0.63556851312"
   ]
  },
  {
   "cell_type": "code",
   "execution_count": 113,
   "metadata": {
    "collapsed": false
   },
   "outputs": [
    {
     "name": "stdout",
     "output_type": "stream",
     "text": [
      "0.807439894775\n"
     ]
    }
   ],
   "source": [
    "#use test data to confirm results\n",
    "knnTe = KNeighborsRegressor(n_neighbors=10)\n",
    "knnTe.fit(xTrVa, yTrVa)\n",
    "teErr = knnTe.predict(xTe) - yTe\n",
    "teMse = np.sqrt(np.mean(teErr*teErr))\n",
    "print(teMse)"
   ]
  },
  {
   "cell_type": "markdown",
   "metadata": {},
   "source": [
    "## Discussion:\n",
    "When I run this several times (starting from train/test split), I get optimum k values that bounce around between 10 and 30.  The corresponding mean square errors (MSE) are around 0.67.  Generally the test errors are slightly smaller than the best MSE from cross validation.  Occasionally, the test error will be 30% or so higher than MSE from cross validation.  I'd probably deploy with k=15 or so to be a little conservative.  \n",
    "\n",
    "We scaled the data to zero mean and unit variance at the very beginning to see if it improves performance.\n",
    "\n",
    "\n",
    "\n",
    "## ElasticNet CV on the same data set\n",
    "For this problem we can start with the same xTrVa, xTe, yTrVa, yTe that were developed in the code above.  That's where this sample code below picks up the story. "
   ]
  },
  {
   "cell_type": "markdown",
   "metadata": {},
   "source": [
    "## Problem 3. \n",
    "Use penalized regression to build a model to predict wine quality as in the last problem.  \n",
    "\n",
    "#### Step 1.  Instantiate member of ElasticNetCV class\n",
    "-Use the sklearn.linear_model.ElasticNetCV package in sklearn.  You can find the package documentation here:  http://scikit-learn.org/stable/modules/generated/sklearn.linear_model.ElasticNetCV.html .  Most of the default settings for the class will work fine on this problem.  The only ones you'll want to change are: \n",
    "\n",
    "l1_ratio=0.5 -    You'll want to build several models with different values of l1_ratio (between say 0.01 and 1).   \n",
    "normalize=False - This should be set to True   \n",
    "cv=None, -        Try 5 or 10   \n",
    "n_jobs=1. -        This integer determines how many cores will be use.  Setting to -1 uses all the available core.   \n",
    " \n",
    "#### Step 2.  Train an ElasticNet penalized model and plot it's performance \n",
    "-Plot MSE.  Instantiate a class member of the ElasticNetCV class and then use the fit() member function (supplying training data and lables that you extracted in Problem 2).  The fit() function will perform cross-validation on a multitude of models, and calculate mean square error across the models.  In the package documentation you'll see the attribute mse_path_ .  That shows a two dimensional numpy array filled with mean square error across the test portion for each fold and model complexity (alpha value).  Plot the paths for each of the folds (columns in the mse_path_ matrix).  \n",
    "\n",
    "#### Step 3.  Produce model coefficients for best performing model\n",
    "-Extract coefficients.  The member variable coef_ has a real number coefficient for each of the attributes.  \n",
    "\n",
    "#### Step 4.  Use penalized regression to determine variable importance.  \n",
    "-Determine variable importance.  \n",
    "Go through this whole sequence again, but before starting normalize the feature matrix before fitting a model to it.  Use the scale() function as you used in Problem 2.  Instantiate an ElasticNetCV object as in the first portion of this problem.  Then fit the model to the scaled versions of the training data.  Extract the coefficients and order them from the one with the largest absolute value to the smallest.  Order the names of attributes associated from largest absolute coefficient value to smallest.   \n"
   ]
  },
  {
   "cell_type": "code",
   "execution_count": 114,
   "metadata": {
    "collapsed": false
   },
   "outputs": [
    {
     "data": {
      "text/plain": [
       "(ElasticNetCV(alphas=None, copy_X=True, cv=10, eps=0.001, fit_intercept=True,\n",
       "        l1_ratio=0.5, max_iter=1000, n_alphas=100, n_jobs=-1,\n",
       "        normalize=True, positive=False, precompute='auto',\n",
       "        random_state=None, selection='cyclic', tol=0.0001, verbose=0),\n",
       " (100, 10))"
      ]
     },
     "execution_count": 114,
     "metadata": {},
     "output_type": "execute_result"
    }
   ],
   "source": [
    "from sklearn.linear_model import ElasticNetCV\n",
    "from math import sqrt\n",
    "\n",
    "enet = ElasticNetCV(l1_ratio=0.5, normalize=True, cv=10, n_jobs=-1)\n",
    "enet.fit(xTrVa, yTrVa), enet.mse_path_.shape  # perform cross-validation on multitude of models, and calculate MSE across the models"
   ]
  },
  {
   "cell_type": "code",
   "execution_count": 115,
   "metadata": {
    "collapsed": false
   },
   "outputs": [],
   "source": [
    "#mse_path shows a 2-dimensional numpy array filled with MSE across the test portion for each fold and model complexity (alpha value)\n",
    "# enet.mse_path_"
   ]
  },
  {
   "cell_type": "code",
   "execution_count": 116,
   "metadata": {
    "collapsed": false
   },
   "outputs": [
    {
     "data": {
      "image/png": "[encoded data removed]",
      "text/plain": [
       "<matplotlib.figure.Figure at 0x11652b9b0>"
      ]
     },
     "metadata": {},
     "output_type": "display_data"
    }
   ],
   "source": [
    "for i in range(10):\n",
    "    plt.plot(enet.mse_path_[:,i])\n",
    "plt.show()"
   ]
  },
  {
   "cell_type": "code",
   "execution_count": 142,
   "metadata": {
    "collapsed": false
   },
   "outputs": [
    {
     "data": {
      "text/plain": [
       "array([ 6,  5,  0,  2,  3, 10,  8,  9,  4,  1,  7])"
      ]
     },
     "execution_count": 142,
     "metadata": {},
     "output_type": "execute_result"
    }
   ],
   "source": [
    "# produce model coefficients for best performing model\n",
    "\n",
    "# extract coefficients, coef_ member variable has real number coefficient for each of the attributes\n",
    "# sorted(abs(enet.coef_), reverse=True)\n",
    "index = argsort(abs(enet.coef_))\n",
    "index"
   ]
  },
  {
   "cell_type": "code",
   "execution_count": 118,
   "metadata": {
    "collapsed": false
   },
   "outputs": [
    {
     "name": "stdout",
     "output_type": "stream",
     "text": [
      "index of mse min 99 Min value of rmse 0.7556297074099242\n",
      "RMSE on Test data 0.749760281838\n"
     ]
    },
    {
     "data": {
      "text/plain": [
       "(array([99]),)"
      ]
     },
     "execution_count": 118,
     "metadata": {},
     "output_type": "execute_result"
    }
   ],
   "source": [
    "# use penalized regression to determine variable importance\n",
    "\n",
    "meanErr = np.mean(enet.mse_path_, axis=1)\n",
    "minIdx = np.argmin(meanErr)\n",
    "print('index of mse min', minIdx, 'Min value of rmse', sqrt(meanErr[minIdx]))\n",
    "\n",
    "#check on test data to make sure it's in line with min from xvalidation\n",
    "teErr = enet.predict(xTe) - yTe\n",
    "teRmse = np.sqrt(np.mean(teErr*teErr))\n",
    "print('RMSE on Test data', teRmse)\n",
    "\n",
    "np.where(enet.alphas_ == enet.alpha_)  #find index of alpha used in ElasticNetCV predict method - same as minimum mse index"
   ]
  },
  {
   "cell_type": "code",
   "execution_count": 119,
   "metadata": {
    "collapsed": false,
    "scrolled": true
   },
   "outputs": [
    {
     "name": "stdout",
     "output_type": "stream",
     "text": [
      "[0.78578476271716802,\n",
      " 0.77984144377738385,\n",
      " 0.7797696277847328,\n",
      " 0.77236774988290047,\n",
      " 0.7625531164862106,\n",
      " 0.75441276978916627,\n",
      " 0.74905809872797757,\n",
      " 0.74657089831759527,\n",
      " 0.72466930976258603,\n",
      " 0.72004565331131509]\n"
     ]
    }
   ],
   "source": [
    "import pprint\n",
    "pprint.pprint(sorted(np.sqrt(enet.mse_path_[83,:]), reverse=True))  #print rmse for each of the xval sets to see if this fits within their spread"
   ]
  },
  {
   "cell_type": "code",
   "execution_count": 144,
   "metadata": {
    "collapsed": false
   },
   "outputs": [
    {
     "data": {
      "text/plain": [
       "['density',\n",
       " 'volatile acidity',\n",
       " 'chlorides',\n",
       " 'sulphates',\n",
       " 'pH',\n",
       " 'alcohol',\n",
       " 'residual sugar',\n",
       " 'citric acid',\n",
       " 'fixed acidity',\n",
       " 'free sulfur dioxide',\n",
       " 'total sulfur dioxide']"
      ]
     },
     "execution_count": 144,
     "metadata": {},
     "output_type": "execute_result"
    }
   ],
   "source": [
    "columns = data.columns\n",
    "columns\n",
    "[columns[i] for i in index[::-1]]"
   ]
  },
  {
   "cell_type": "markdown",
   "metadata": {},
   "source": [
    "# Normalize the feature matrix and go through the whole sequence again and fit a model to it."
   ]
  },
  {
   "cell_type": "code",
   "execution_count": 120,
   "metadata": {
    "collapsed": false,
    "scrolled": false
   },
   "outputs": [
    {
     "data": {
      "text/plain": [
       "array([[  1.72096961e-01,  -8.17699008e-02,   2.13280202e-01, ...,\n",
       "         -3.49184257e-01,  -1.39315246e+00,   1.37870140e-01],\n",
       "       [ -6.57501128e-01,   2.15895632e-01,   4.80011213e-02, ...,\n",
       "          1.34184656e-03,  -8.24275678e-01,   1.37870140e-01],\n",
       "       [  1.47575110e+00,   1.74519434e-02,   5.43838363e-01, ...,\n",
       "         -4.36815783e-01,  -3.36667007e-01,   1.37870140e-01],\n",
       "       ..., \n",
       "       [ -4.20473102e-01,  -3.79435433e-01,  -1.19159198e+00, ...,\n",
       "         -2.61552731e-01,  -9.05543789e-01,   1.37870140e-01],\n",
       "       [ -1.60561323e+00,   1.16673788e-01,  -2.82557040e-01, ...,\n",
       "         -9.62604939e-01,   1.85757201e+00,   1.26711420e+00],\n",
       "       [ -1.01304317e+00,  -6.77100966e-01,   3.78559282e-01, ...,\n",
       "         -1.48839409e+00,   1.04489089e+00,   1.37870140e-01]])"
      ]
     },
     "execution_count": 120,
     "metadata": {},
     "output_type": "execute_result"
    }
   ],
   "source": [
    "sklearn.preprocessing.scale(data, axis=0)"
   ]
  },
  {
   "cell_type": "code",
   "execution_count": 121,
   "metadata": {
    "collapsed": true
   },
   "outputs": [],
   "source": [
    "from sklearn.cross_validation import train_test_split\n",
    "import numpy as np\n",
    "\n",
    "#pull out 35% test set\n",
    "xTrVa, xTe, yTrVa, yTe = train_test_split(x, y, test_size=0.35)\n",
    "\n",
    "from sklearn.neighbors import KNeighborsRegressor\n",
    "\n",
    "\n",
    "#set up xvalidation loop and run on sklearn knn regression for several values of \"k\"\n",
    "\n",
    "#set values for some constants and initilize lists for holding answers\n",
    "nxVal = 5  #number of cross-validation folds\n",
    "ks = [200, 150, 100, 80, 60, 50, 40, 30, 20, 15, 10, 8, 6, 5, 3, 1]  #list of k-values to generate error vs complexity curves\n",
    "\n",
    "trPerf = np.zeros(len(ks))  #to hold fold-by-fold training error\n",
    "vaPerf = np.zeros(len(ks))  #to hold fold-by-fold validation error\n",
    "\n",
    "for ik in range(len(ks)):\n",
    "    knn = KNeighborsRegressor(n_neighbors=ks[ik])  # create instance of KNeighborsRegressor class\n",
    "    knn.fit(xTrVa, yTrVa)\n",
    "    #performance on training set\n",
    "    trErr = knn.predict(xTrVa) - yTrVa  # training error\n",
    "#     print(\"training error shape\", trErr.shape)\n",
    "#     print(\"mean squared error\", np.mean(trErr*trErr))\n",
    "    trPerf[ik] = np.mean(trErr*trErr)\n",
    "    #performance on val set\n",
    "    vaErr = knn.predict(xTe) - yTe\n",
    "#     print(vaErr.shape)\n",
    "#     print(np.mean(vaErr*vaErr))\n",
    "    vaPerf[ik] = np.mean(vaErr*vaErr)"
   ]
  },
  {
   "cell_type": "code",
   "execution_count": 122,
   "metadata": {
    "collapsed": false
   },
   "outputs": [
    {
     "name": "stdout",
     "output_type": "stream",
     "text": [
      "Populating the interactive namespace from numpy and matplotlib\n",
      "validation rmse\n",
      "[ 0.66271984  0.66062251  0.65750198  0.653957    0.65077114  0.64203125\n",
      "  0.63953754  0.63778361  0.64065015  0.63985747  0.64132362  0.64071611\n",
      "  0.64561063  0.65182507  0.69122125  0.89154519]\n",
      "training rmse\n",
      "[ 0.70580548  0.69961011  0.68652714  0.68038702  0.67213364  0.66404248\n",
      "  0.65138431  0.6391287   0.61372683  0.59287884  0.56061891  0.52947789\n",
      "  0.49052257  0.45525605  0.35110134  0.        ]\n"
     ]
    },
    {
     "name": "stderr",
     "output_type": "stream",
     "text": [
      "WARNING: pylab import has clobbered these variables: ['sqrt']\n",
      "`%matplotlib` prevents importing * from pylab and numpy\n"
     ]
    },
    {
     "data": {
      "image/png": "[encoded data removed]",
      "text/plain": [
       "<matplotlib.figure.Figure at 0x116084860>"
      ]
     },
     "metadata": {},
     "output_type": "display_data"
    },
    {
     "name": "stdout",
     "output_type": "stream",
     "text": [
      "best k =  30 min value of MSE =  0.637783608682\n"
     ]
    }
   ],
   "source": [
    "%pylab inline\n",
    "import matplotlib.pyplot as plt\n",
    "%matplotlib inline\n",
    "\n",
    "# print(type(vaPerf), vaPerf.size)\n",
    "\n",
    "#form outputs\n",
    "# vaMse = np.sqrt(np.mean(vaPerf))\n",
    "print('validation rmse')\n",
    "print(vaPerf)\n",
    "\n",
    "# trMse = np.sqrt(np.mean(trPerf))\n",
    "print('training rmse')\n",
    "print(trPerf)\n",
    "\n",
    "plot(vaPerf)\n",
    "plot(trPerf)\n",
    "plt.xlabel(\"complexity\")\n",
    "plt.ylabel(\"mean squared error\")\n",
    "plt.show()\n",
    "kStar = ks[np.argmin(vaPerf)]\n",
    "print('best k = ', kStar, 'min value of MSE = ', np.min(vaPerf))  #print best value of k and corresponding mse"
   ]
  },
  {
   "cell_type": "code",
   "execution_count": 123,
   "metadata": {
    "collapsed": false
   },
   "outputs": [
    {
     "name": "stdout",
     "output_type": "stream",
     "text": [
      "0.800826832193\n"
     ]
    }
   ],
   "source": [
    "#use test data to confirm results\n",
    "knnTe = KNeighborsRegressor(n_neighbors=10)\n",
    "knnTe.fit(xTrVa, yTrVa)\n",
    "teErr = knnTe.predict(xTe) - yTe\n",
    "teMse = np.sqrt(np.mean(teErr*teErr))\n",
    "print(teMse)"
   ]
  },
  {
   "cell_type": "code",
   "execution_count": 124,
   "metadata": {
    "collapsed": false
   },
   "outputs": [
    {
     "data": {
      "text/plain": [
       "(ElasticNetCV(alphas=None, copy_X=True, cv=10, eps=0.001, fit_intercept=True,\n",
       "        l1_ratio=0.5, max_iter=1000, n_alphas=100, n_jobs=-1,\n",
       "        normalize=True, positive=False, precompute='auto',\n",
       "        random_state=None, selection='cyclic', tol=0.0001, verbose=0),\n",
       " (100, 10))"
      ]
     },
     "execution_count": 124,
     "metadata": {},
     "output_type": "execute_result"
    }
   ],
   "source": [
    "from sklearn.linear_model import ElasticNetCV\n",
    "from math import sqrt\n",
    "\n",
    "enet = ElasticNetCV(l1_ratio=0.5, normalize=True, cv=10, n_jobs=-1)\n",
    "enet.fit(xTrVa, yTrVa), enet.mse_path_.shape  # perform cross-validation on multitude of models, and calculate MSE across the models"
   ]
  },
  {
   "cell_type": "code",
   "execution_count": 125,
   "metadata": {
    "collapsed": false
   },
   "outputs": [
    {
     "data": {
      "image/png": "[encoded data removed]",
      "text/plain": [
       "<matplotlib.figure.Figure at 0x116526c88>"
      ]
     },
     "metadata": {},
     "output_type": "display_data"
    }
   ],
   "source": [
    "for i in range(10):\n",
    "    plt.plot(enet.mse_path_[:,i])\n",
    "plt.show()"
   ]
  },
  {
   "cell_type": "code",
   "execution_count": 140,
   "metadata": {
    "collapsed": false
   },
   "outputs": [
    {
     "data": {
      "text/plain": [
       "array([ 6,  5,  0,  2,  3, 10,  8,  9,  4,  1,  7])"
      ]
     },
     "execution_count": 140,
     "metadata": {},
     "output_type": "execute_result"
    }
   ],
   "source": [
    "# produce model coefficients for best performing model\n",
    "\n",
    "# extract coefficients, coef_ member variable has real number coefficient for each of the attributes\n",
    "index = argsort(abs(enet.coef_))\n",
    "index"
   ]
  },
  {
   "cell_type": "code",
   "execution_count": 127,
   "metadata": {
    "collapsed": false
   },
   "outputs": [
    {
     "name": "stdout",
     "output_type": "stream",
     "text": [
      "index of mse min 99 Min value of rmse 0.7622794818465501\n",
      "RMSE on Test data 0.738521128767\n"
     ]
    },
    {
     "data": {
      "text/plain": [
       "(array([99]),)"
      ]
     },
     "execution_count": 127,
     "metadata": {},
     "output_type": "execute_result"
    }
   ],
   "source": [
    "# use penalized regression to determine variable importance\n",
    "\n",
    "meanErr = np.mean(enet.mse_path_, axis=1)\n",
    "minIdx = np.argmin(meanErr)\n",
    "print('index of mse min', minIdx, 'Min value of rmse', sqrt(meanErr[minIdx]))\n",
    "\n",
    "#check on test data to make sure it's in line with min from xvalidation\n",
    "teErr = enet.predict(xTe) - yTe\n",
    "teRmse = np.sqrt(np.mean(teErr*teErr))\n",
    "print('RMSE on Test data', teRmse)\n",
    "\n",
    "np.where(enet.alphas_ == enet.alpha_)  #find index of alpha used in ElasticNetCV predict method - same as minimum mse index"
   ]
  },
  {
   "cell_type": "code",
   "execution_count": 128,
   "metadata": {
    "collapsed": false
   },
   "outputs": [
    {
     "name": "stdout",
     "output_type": "stream",
     "text": [
      "[0.81335415452488447,\n",
      " 0.80631764232690861,\n",
      " 0.7937166161236946,\n",
      " 0.77344076532538131,\n",
      " 0.76633219587828127,\n",
      " 0.75546946458781594,\n",
      " 0.74642130412656138,\n",
      " 0.74516184923517326,\n",
      " 0.72174751402389836,\n",
      " 0.70747103482054552]\n"
     ]
    }
   ],
   "source": [
    "import pprint\n",
    "pprint.pprint(sorted(np.sqrt(enet.mse_path_[83,:]), reverse=True))  #print rmse for each of the xval sets to see if this fits within their spread"
   ]
  },
  {
   "cell_type": "code",
   "execution_count": 145,
   "metadata": {
    "collapsed": false
   },
   "outputs": [
    {
     "data": {
      "text/plain": [
       "['density',\n",
       " 'volatile acidity',\n",
       " 'chlorides',\n",
       " 'sulphates',\n",
       " 'pH',\n",
       " 'alcohol',\n",
       " 'residual sugar',\n",
       " 'citric acid',\n",
       " 'fixed acidity',\n",
       " 'free sulfur dioxide',\n",
       " 'total sulfur dioxide']"
      ]
     },
     "execution_count": 145,
     "metadata": {},
     "output_type": "execute_result"
    }
   ],
   "source": [
    "# order the names of attributes associated from largest absolute coefficient value to smallest.\n",
    "\n",
    "columns = data.columns\n",
    "columns\n",
    "[columns[i] for i in index[::-1]]"
   ]
  },
  {
   "cell_type": "code",
   "execution_count": null,
   "metadata": {
    "collapsed": true
   },
   "outputs": [],
   "source": []
  }
 ],
 "metadata": {
  "anaconda-cloud": {},
  "kernelspec": {
   "display_name": "Python [default]",
   "language": "python",
   "name": "python3"
  },
  "language_info": {
   "codemirror_mode": {
    "name": "ipython",
    "version": 3
   },
   "file_extension": ".py",
   "mimetype": "text/x-python",
   "name": "python",
   "nbconvert_exporter": "python",
   "pygments_lexer": "ipython3",
   "version": "3.5.2"
  }
 },
 "nbformat": 4,
 "nbformat_minor": 0
}
