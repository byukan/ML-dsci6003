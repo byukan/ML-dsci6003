{
 "cells": [
  {
   "cell_type": "markdown",
   "metadata": {},
   "source": [
    "# Test 1 practice solutions\n"
   ]
  },
  {
   "cell_type": "code",
   "execution_count": 28,
   "metadata": {
    "collapsed": false
   },
   "outputs": [],
   "source": [
    "__author__ = 'mike-bowles'\n",
    "\n",
    "import urllib2  ##Uncomment for Python 2\n",
    "#from urllib.request import urlopen  ##Uncomment for Python 3\n",
    "import numpy as np\n",
    "target_url = \"https://archive.ics.uci.edu/ml/machine-learning-databases/breast-cancer-wisconsin/breast-cancer-wisconsin.data\"\n",
    "data = urllib2.urlopen(target_url)  ##Uncomment for Python 2\n",
    "#data = urlopen(target_url).read()  ##Uncomment for Python 3\n",
    "# type(data)"
   ]
  },
  {
   "cell_type": "code",
   "execution_count": 29,
   "metadata": {
    "collapsed": false
   },
   "outputs": [
    {
     "name": "stdout",
     "output_type": "stream",
     "text": [
      "(683, 9)\n",
      "(683,)\n"
     ]
    }
   ],
   "source": [
    "x = []\n",
    "y=[]\n",
    "for row in data:   ##Uncomment for Python 2\n",
    "#for row in data.decode('ascii').split('\\n')[:-1]:    ##Uncomment for Python 3\n",
    "    #print(row)\n",
    "    #strip leading and trailing spaces and EOL and split on comma\n",
    "    rowSplit = row.strip().split(',')\n",
    "    #eliminate lines with missing data, convert to numeric, pull off id.  put data into x and labels into y.\n",
    "    if not any('?' in word for word in rowSplit):\n",
    "        numList = [float(w) for w in rowSplit]\n",
    "        numList.pop(0)\n",
    "        y.append(numList.pop(-1))\n",
    "        x.append(numList)\n",
    "\n",
    "#convert lists to numpy arrays\n",
    "x = np.array(x)\n",
    "print(x.shape)\n",
    "y = np.array(y)\n",
    "print(y.shape)\n"
   ]
  },
  {
   "cell_type": "code",
   "execution_count": 30,
   "metadata": {
    "collapsed": false
   },
   "outputs": [
    {
     "name": "stdout",
     "output_type": "stream",
     "text": [
      "((546, 9), (137, 9), (546,), (137,))\n"
     ]
    }
   ],
   "source": [
    "from sklearn.cross_validation import train_test_split\n",
    "#pull out 20% test set\n",
    "xTrVa, xTe, yTrVa, yTe = train_test_split(x, y, test_size=0.2)\n",
    "print(xTrVa.shape, xTe.shape, yTrVa.shape, yTe.shape)"
   ]
  },
  {
   "cell_type": "code",
   "execution_count": 31,
   "metadata": {
    "collapsed": false
   },
   "outputs": [],
   "source": [
    "from sklearn.neighbors import KNeighborsRegressor\n",
    "#set up xvalidation loop and run on sklearn knn regression for several values of \"k\"\n",
    "\n",
    "#set values for some constants and initilize lists for holding answers\n",
    "nxVal = 10  #number of cross-validation folds\n",
    "ks = [200, 150, 100, 80, 60, 50, 40, 30, 20, 15, 10, 8, 6, 5, 3, 1]  #list of k-values to generate error vs complexity curves\n",
    "\n",
    "trPerf = np.zeros([nxVal, len(ks)])  #matrix to hold fold-by-fold training error\n",
    "vaPerf = np.zeros([nxVal, len(ks)])  #matrix to hold fold-by-fold validation error\n",
    "\n",
    "#for ixVal in range(1):  #cross-validation loop for testing\n",
    "for ixVal in range(nxVal):  #cross-validation loop\n",
    "    #compute validation and training indices\n",
    "    vaIdx = [i for i in range(len(yTrVa)) if i%nxVal == ixVal]\n",
    "    trIdx = [i for i in range(len(yTrVa)) if i%nxVal != ixVal]\n",
    "    #form training and validation sets (features and labels)\n",
    "    xTr = xTrVa[trIdx,:]\n",
    "    xVa = xTrVa[vaIdx,:]\n",
    "    yTr = yTrVa[trIdx]\n",
    "    yVa = yTrVa[vaIdx]\n",
    "    #print(xTr.shape, xVa.shape, yTr.shape, yVa.shape)  #print out shapes to check code to this point\n",
    "    #for ik in range(1):  #for testing\n",
    "    for ik in range(len(ks)):\n",
    "        knn = KNeighborsRegressor(n_neighbors=ks[ik])\n",
    "        knn.fit(xTr, yTr)\n",
    "        #performance on training set\n",
    "        trErr = knn.predict(xTr) - yTr\n",
    "        #print(trErr.shape)\n",
    "        #print(np.mean(trErr*trErr))\n",
    "        trPerf[ixVal, ik] = np.mean(trErr*trErr)\n",
    "        #performance on val set\n",
    "        vaErr = knn.predict(xVa) - yVa\n",
    "        #print(vaErr.shape)\n",
    "        #print(np.mean(vaErr*vaErr))\n",
    "        vaPerf[ixVal, ik] = np.mean(vaErr*vaErr)"
   ]
  },
  {
   "cell_type": "code",
   "execution_count": 44,
   "metadata": {
    "collapsed": false
   },
   "outputs": [
    {
     "name": "stdout",
     "output_type": "stream",
     "text": [
      "(<type 'numpy.ndarray'>, 160)\n",
      "validation rmse\n",
      "[ 0.47039374  0.40941622  0.37351201  0.36298583  0.35202902  0.34691801\n",
      "  0.34350074  0.33244933  0.32142255  0.31518639  0.30531984  0.29858321\n",
      "  0.2843992   0.29663886  0.31779732  0.34289322]\n",
      "training rmse\n",
      "[ 0.46888629  0.4069062   0.37040756  0.36054297  0.34778339  0.34138433\n",
      "  0.3348485   0.3222738   0.3059037   0.29326958  0.27403152  0.25749441\n",
      "  0.24306788  0.23637449  0.2132968   0.        ]\n"
     ]
    }
   ],
   "source": [
    "#form outputs\n",
    "\n",
    "print(type(vaPerf), vaPerf.size)\n",
    "\n",
    "vaMse = np.sqrt(np.mean(vaPerf, axis=0))\n",
    "print('validation rmse')\n",
    "print(vaMse)\n",
    "\n",
    "trMse = np.sqrt(np.mean(trPerf, axis=0))\n",
    "print('training rmse')\n",
    "print(trMse)"
   ]
  },
  {
   "cell_type": "code",
   "execution_count": 33,
   "metadata": {
    "collapsed": false
   },
   "outputs": [
    {
     "data": {
      "image/png": "[encoded data removed]",
      "text/plain": [
       "<matplotlib.figure.Figure at 0x11166b110>"
      ]
     },
     "metadata": {},
     "output_type": "display_data"
    },
    {
     "name": "stdout",
     "output_type": "stream",
     "text": [
      "('best k = ', 6, 'min value of MSE = ', 0.2843991967378342)\n"
     ]
    }
   ],
   "source": [
    "import matplotlib.pyplot as plt\n",
    "%matplotlib inline\n",
    "plt.plot(vaMse) #plot validation rmse\n",
    "plt.plot(trMse)\n",
    "plt.show()\n",
    "kStar = ks[np.argmin(vaMse)]\n",
    "print('best k = ', kStar, 'min value of MSE = ', np.min(vaMse))  #print best value of k and corresponding mse"
   ]
  },
  {
   "cell_type": "code",
   "execution_count": 34,
   "metadata": {
    "collapsed": false
   },
   "outputs": [
    {
     "name": "stdout",
     "output_type": "stream",
     "text": [
      "0.332212226602\n"
     ]
    }
   ],
   "source": [
    "#use test data to confirm results\n",
    "knnTe = KNeighborsRegressor(n_neighbors=10)\n",
    "knnTe.fit(xTrVa, yTrVa)\n",
    "teErr = knnTe.predict(xTe) - yTe\n",
    "teMse = np.sqrt(np.mean(teErr*teErr))\n",
    "print(teMse)"
   ]
  },
  {
   "cell_type": "markdown",
   "metadata": {},
   "source": [
    "## Discussion:\n",
    "When I run this several times (starting from train/test split), I get optimum k values that bounce around between 5 and 15.  The corresponding mean square errors (MSE) range from 0.29 to 0.38.  Generally the test errors are slightly smaller than the best MSE from cross validation.  Occasionally, the test error will be 30% or so higher than MSE from cross validation.  I'd probably deploy with k=10 or so to be a little conservative.  \n",
    "\n",
    "Try scaling the data to zero mean and unit variance at the very beginning.  See if that improves performance.  \n",
    "\n",
    "\n",
    "\n",
    "## ElasticNet CV on the same data set\n",
    "For this problem we can start with the same xTrVa, xTe, yTrVa, yTe that were developed in the code above.  That's where this sample code below picks up the story. "
   ]
  },
  {
   "cell_type": "code",
   "execution_count": 35,
   "metadata": {
    "collapsed": false
   },
   "outputs": [
    {
     "data": {
      "text/plain": [
       "ElasticNetCV(alphas=None, copy_X=True, cv=10, eps=0.001, fit_intercept=True,\n",
       "       l1_ratio=0.5, max_iter=1000, n_alphas=100, n_jobs=-1,\n",
       "       normalize=True, positive=False, precompute='auto',\n",
       "       random_state=None, selection='cyclic', tol=0.0001, verbose=0)"
      ]
     },
     "execution_count": 35,
     "metadata": {},
     "output_type": "execute_result"
    }
   ],
   "source": [
    "from sklearn.linear_model import ElasticNetCV\n",
    "from math import sqrt\n",
    "#xTrVa, xTe, yTrVa, yTe\n",
    "\n",
    "enet = ElasticNetCV(l1_ratio=0.5, normalize=True, cv=10, n_jobs=-1)\n",
    "enet.fit(xTrVa, yTrVa)"
   ]
  },
  {
   "cell_type": "code",
   "execution_count": 36,
   "metadata": {
    "collapsed": false
   },
   "outputs": [
    {
     "data": {
      "text/plain": [
       "(100, 10)"
      ]
     },
     "execution_count": 36,
     "metadata": {},
     "output_type": "execute_result"
    }
   ],
   "source": [
    "enet.mse_path_.shape"
   ]
  },
  {
   "cell_type": "code",
   "execution_count": 37,
   "metadata": {
    "collapsed": false
   },
   "outputs": [
    {
     "data": {
      "image/png": "[encoded data removed]",
      "text/plain": [
       "<matplotlib.figure.Figure at 0x1115fb210>"
      ]
     },
     "metadata": {},
     "output_type": "display_data"
    }
   ],
   "source": [
    "for i in range(10):\n",
    "    plt.plot(enet.mse_path_[:,i])\n",
    "plt.show()"
   ]
  },
  {
   "cell_type": "code",
   "execution_count": 38,
   "metadata": {
    "collapsed": false
   },
   "outputs": [
    {
     "name": "stdout",
     "output_type": "stream",
     "text": [
      "('index of mse min', 80, 'Min value of rmse', 0.39113834675869524)\n"
     ]
    }
   ],
   "source": [
    "meanErr = np.mean(enet.mse_path_, axis=1)\n",
    "minIdx = np.argmin(meanErr)\n",
    "print('index of mse min', minIdx, 'Min value of rmse', sqrt(meanErr[minIdx]))"
   ]
  },
  {
   "cell_type": "code",
   "execution_count": 39,
   "metadata": {
    "collapsed": false
   },
   "outputs": [
    {
     "name": "stdout",
     "output_type": "stream",
     "text": [
      "('RMSE on Test data', 0.37313139450411809)\n"
     ]
    }
   ],
   "source": [
    "#check on test data to make sure it's in line with min from xvalidation\n",
    "teErr = enet.predict(xTe) - yTe\n",
    "teRmse = np.sqrt(np.mean(teErr*teErr))\n",
    "print('RMSE on Test data', teRmse)"
   ]
  },
  {
   "cell_type": "code",
   "execution_count": 40,
   "metadata": {
    "collapsed": false
   },
   "outputs": [
    {
     "data": {
      "text/plain": [
       "(array([80]),)"
      ]
     },
     "execution_count": 40,
     "metadata": {},
     "output_type": "execute_result"
    }
   ],
   "source": [
    "np.where(enet.alphas_ == enet.alpha_)  #find index of alpha used in ElasticNetCV predict method - same as minimum mse index"
   ]
  },
  {
   "cell_type": "code",
   "execution_count": 41,
   "metadata": {
    "collapsed": false
   },
   "outputs": [
    {
     "name": "stdout",
     "output_type": "stream",
     "text": [
      "[ 0.48539351  0.41376367  0.36946354  0.30546294  0.39616437  0.3959432\n",
      "  0.30336935  0.36692786  0.51821294  0.29142094]\n"
     ]
    }
   ],
   "source": [
    "print(np.sqrt(enet.mse_path_[83,:]))  #print rmse for each of the xval sets to see if this fits within their spread"
   ]
  },
  {
   "cell_type": "markdown",
   "metadata": {},
   "source": [
    "## Discussion\n",
    "This model is generating reasonable answers.  Might get better results by fooling around with the l1 ratio parameter some.  The rmse on the test data is within the spread of the xval folds, so it's congruent with the values out of xvalidation. "
   ]
  },
  {
   "cell_type": "code",
   "execution_count": null,
   "metadata": {
    "collapsed": true
   },
   "outputs": [],
   "source": []
  }
 ],
 "metadata": {
  "anaconda-cloud": {},
  "kernelspec": {
   "display_name": "Python [conda env:py27]",
   "language": "python",
   "name": "conda-env-py27-py"
  },
  "language_info": {
   "codemirror_mode": {
    "name": "ipython",
    "version": 2
   },
   "file_extension": ".py",
   "mimetype": "text/x-python",
   "name": "python",
   "nbconvert_exporter": "python",
   "pygments_lexer": "ipython2",
   "version": "2.7.12"
  }
 },
 "nbformat": 4,
 "nbformat_minor": 0
}
