{
 "cells": [
  {
   "cell_type": "markdown",
   "metadata": {},
   "source": [
    "# Practice Test\n",
    "\n",
    "## 1.  Train KNN on breast cancer data set\n",
    "1.  Here's a link to the breast cancer data set on UCI data repository.  [breast cancer data](https://archive.ics.uci.edu/ml/datasets/Breast+Cancer+Wisconsin+%28Prognostic%29)\n",
    "1.  Data inspection check data for missing values.  \n",
    "-Make a decision about whether to discard rows with missing data or to try and fill in the missing values.  \n",
    "Hint:  If you decide to fill in the missing values, the easiest method is to replace missing values is to substitute the average of the non-missing values\n",
    "2.  Set up data for training, validation and testing.  \n",
    "-You'll use n-fold cross validation to determine k in k nearest neighbors.  Hold out 20% of the data for final testing.  \n",
    "\n",
    "3.  Scale data\n",
    "4.  Produce plots of absolute value of error for each of the n validation folds as a function of complexity (number of training examples minus k).  Also plot the root mean squared error.  Put all of these plots on the same graph.  \n",
    "5.  Choose the best value of k for KNN and generate error on the test set to confirm your validation results. \n",
    "\n",
    "Here are some examples of what a training and validation error curves look like: [some train/validation plot examples](https://www.google.com/search?q=train+and+test+error+plot+images&biw=1580&bih=864&tbm=isch&imgil=Y7yivsIwgm2AXM%253A%253B8QRxV4RA1cfQ1M%253Bhttp%25253A%25252F%25252Fgenomicsclass.github.io%25252Fbook%25252Fpages%25252Fmachine_learning.html&source=iu&pf=m&fir=Y7yivsIwgm2AXM%253A%252C8QRxV4RA1cfQ1M%252C_&usg=__IkOEpQtI4rjyBaGTQqOOhAKvA4E%3D&ved=0ahUKEwiI9cS4o5fQAhWo0FQKHcT1DxgQyjcINA&ei=N8ggWMj9H6ih0wLE67_AAQ#imgrc=Pz8e50_l-ZGWrM%3A)\n",
    "\n",
    "Note:  With KNN and with elastic net (described below), you'll treat the breast cancer problem as a regression problem.  That is train your model to predict the real number labels (2 and 4).  Measure and report performance in real number terms (sample standard deviation of error, for example).  We'll talk about approaches to dealing with classification error in the next lecture. \n",
    "\n",
    "Pseudo code looks something like:"
   ]
  },
  {
   "cell_type": "code",
   "execution_count": 19,
   "metadata": {
    "collapsed": false,
    "scrolled": true
   },
   "outputs": [],
   "source": [
    "# import pandas as pd\n",
    "import numpy as np\n",
    "\n",
    "with open('breast-cancer-wisconsin.data.txt') as f:\n",
    "    data = f.readlines()\n",
    "    \n",
    "# df = pd.read_csv('breast-cancer-wisconsin.data.txt')\n",
    "# df.shape()\n",
    "# df.dropna()\n",
    "\n",
    "cleaned_list= []\n",
    "\n",
    "for x in data:\n",
    "    if \"?\" not in x:\n",
    "        cleaned_list.append(x)\n",
    "#     else:\n",
    "#         print(x)\n",
    "        \n",
    "# cleaned_list.split(\",\")\n",
    "\n",
    "# for x in cleaned_list:\n",
    "#     x.split(\",\")\n",
    "\n",
    "# for i in range(len(cleaned_list))\n",
    "#     cleaned_list[i].replace(\"\\n\", \"\").split(\",\")\n",
    "\n",
    "list_of_lists = []\n",
    "\n",
    "for x in cleaned_list:\n",
    "    temp = x.replace(\"\\n\", \"\").split(\",\")\n",
    "    row = [float(z) for z in temp]\n",
    "    list_of_lists.append(row)\n",
    "    \n",
    "list_of_lists = np.array(list_of_lists)\n",
    "list_of_lists.shape\n",
    "list_of_lists[:,1:].shape\n",
    "\n",
    "no_ids = list_of_lists[:,1:]\n",
    "X = no_ids[:,:-1]\n",
    "y = no_ids[:,-1]  # labels\n",
    "# x.shape\n",
    "# y.shape"
   ]
  },
  {
   "cell_type": "code",
   "execution_count": 20,
   "metadata": {
    "collapsed": false
   },
   "outputs": [
    {
     "data": {
      "text/plain": [
       "((546, 9), (137, 9), (546,), (137,))"
      ]
     },
     "execution_count": 20,
     "metadata": {},
     "output_type": "execute_result"
    }
   ],
   "source": [
    "from sklearn.model_selection import train_test_split\n",
    "xTrVal, xTe, yTrVal, yTe = train_test_split(X, y, test_size =.2)  #Function for splitting off data for final test\n",
    "nFolds = 5  #number of cross validation folds\n",
    "xTrVal.shape, xTe.shape, yTrVal.shape, yTe.shape"
   ]
  },
  {
   "cell_type": "code",
   "execution_count": 23,
   "metadata": {
    "collapsed": false
   },
   "outputs": [],
   "source": [
    "# cross validation loop  \n",
    "for ixVal in range(nFolds):\n",
    "    valIdx = [i for i in range(len(xTrVal)) if i%nFolds==ixVal]  #or use sklearn k-fold package\n",
    "    trainIdx = [i for i in range(len(xTrVal)) if i%nFolds!=ixVal]\n",
    "    xTrain = xTrVal[trainIdx]  #this will work if xTrVal is a numpy array.. if xTrVal is a list, use list comprehension\n",
    "    xVal = xTrVal[valIdx]\n",
    "    \n",
    "    #Use sklearn KNN package to provide training and validation results for range of reasonable k-values\n",
    "\n",
    "from sklearn.neighbors import KNeighborsClassifier\n",
    "\n",
    "for i in range(1,200):\n",
    "    neigh = KNeighborsClassifier(n_neighbors=i)\n",
    "    neigh.fit(X, y) \n",
    "# KNeighborsClassifier(...)\n",
    "# >>> print(neigh.predict([[1.1]]))\n",
    "# [0]\n",
    "# >>> print(neigh.predict_proba([[0.9]]))\n",
    "# [[ 0.66666667  0.33333333]]\n",
    "#     #save training and testing results for each of the nFolds runs\n",
    "    \n",
    "\n",
    "\n",
    "\n",
    "#Plot all nFolds RMSE (root mean squared error) plots as function of k\n",
    "#pick k for minimum validation error \n",
    "#run xTe, yTe with best k value to confirm error estimate.  "
   ]
  },
  {
   "cell_type": "markdown",
   "metadata": {},
   "source": [
    "##  2.  Train ElasticNet on breast cancer data set\n",
    "\n",
    "1.  Use same train test split as above\n",
    "2.  Use ElasticNetCV to perform cross-validation on xTrVal, yTrVal\n",
    "3.  Plot the RMS error that ElasticNetCV produces\n",
    "4.  Extract optimum coefficients and run on test data to confirm performance numbers.  "
   ]
  },
  {
   "cell_type": "code",
   "execution_count": null,
   "metadata": {
    "collapsed": true
   },
   "outputs": [],
   "source": []
  }
 ],
 "metadata": {
  "anaconda-cloud": {},
  "kernelspec": {
   "display_name": "Python [conda env:nlp]",
   "language": "python",
   "name": "conda-env-nlp-py"
  },
  "language_info": {
   "codemirror_mode": {
    "name": "ipython",
    "version": 3
   },
   "file_extension": ".py",
   "mimetype": "text/x-python",
   "name": "python",
   "nbconvert_exporter": "python",
   "pygments_lexer": "ipython3",
   "version": "3.5.2"
  }
 },
 "nbformat": 4,
 "nbformat_minor": 0
}
