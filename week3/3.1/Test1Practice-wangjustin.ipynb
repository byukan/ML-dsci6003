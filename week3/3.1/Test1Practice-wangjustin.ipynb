{
 "cells": [
  {
   "cell_type": "markdown",
   "metadata": {},
   "source": [
    "# Practice Test\n",
    "\n",
    "## 1.  Train KNN on breast cancer data set\n",
    "1.  Here's a link to the breast cancer data set on UCI data repository.  [breast cancer data](https://archive.ics.uci.edu/ml/datasets/Breast+Cancer+Wisconsin+%28Prognostic%29)\n",
    "1.  Data inspection check data for missing values.  \n",
    "-Make a decision about whether to discard rows with missing data or to try and fill in the missing values.  \n",
    "Hint:  If you decide to fill in the missing values, the easiest method is to replace missing values is to substitute the average of the non-missing values\n",
    "2.  Set up data for training, validation and testing.  \n",
    "-You'll use n-fold cross validation to determine k in k nearest neighbors.  Hold out 20% of the data for final testing.  \n",
    "\n",
    "3.  Scale data\n",
    "4.  Produce plots of absolute value of error for each of the n validation folds as a function of complexity (number of training examples minus k).  Also plot the root mean squared error.  Put all of these plots on the same graph.  \n",
    "5.  Choose the best value of k for KNN and generate error on the test set to confirm your validation results. \n",
    "\n",
    "Here are some examples of what a training and validation error curves look like: [some train/validation plot examples](https://www.google.com/search?q=train+and+test+error+plot+images&biw=1580&bih=864&tbm=isch&imgil=Y7yivsIwgm2AXM%253A%253B8QRxV4RA1cfQ1M%253Bhttp%25253A%25252F%25252Fgenomicsclass.github.io%25252Fbook%25252Fpages%25252Fmachine_learning.html&source=iu&pf=m&fir=Y7yivsIwgm2AXM%253A%252C8QRxV4RA1cfQ1M%252C_&usg=__IkOEpQtI4rjyBaGTQqOOhAKvA4E%3D&ved=0ahUKEwiI9cS4o5fQAhWo0FQKHcT1DxgQyjcINA&ei=N8ggWMj9H6ih0wLE67_AAQ#imgrc=Pz8e50_l-ZGWrM%3A)\n",
    "\n",
    "Note:  With KNN and with elastic net (described below), you'll treat the breast cancer problem as a regression problem.  That is train your model to predict the real number labels (2 and 4).  Measure and report performance in real number terms (sample standard deviation of error, for example).  We'll talk about approaches to dealing with classification error in the next lecture. \n",
    "\n",
    "Pseudo code looks something like:"
   ]
  },
  {
   "cell_type": "code",
   "execution_count": 56,
   "metadata": {
    "collapsed": false
   },
   "outputs": [
    {
     "data": {
      "text/plain": [
       "instance"
      ]
     },
     "execution_count": 56,
     "metadata": {},
     "output_type": "execute_result"
    }
   ],
   "source": [
    "import urllib2  ##Uncomment for Python 2\n",
    "#from urllib.request import urlopen  ##Uncomment for Python 3\n",
    "import numpy as np\n",
    "import pandas as pd\n",
    "target_url = \"https://archive.ics.uci.edu/ml/machine-learning-databases/breast-cancer-wisconsin/breast-cancer-wisconsin.data\"\n",
    "data = urllib2.urlopen(target_url)  ##Uncomment for Python 2\n",
    "#data = urlopen(target_url).read()  ##Uncomment for Python 3\n",
    "type(data)"
   ]
  },
  {
   "cell_type": "code",
   "execution_count": 57,
   "metadata": {
    "collapsed": false
   },
   "outputs": [
    {
     "name": "stdout",
     "output_type": "stream",
     "text": [
      "(683, 9)\n",
      "(683,)\n"
     ]
    }
   ],
   "source": [
    "with open('breast-cancer-wisconsin.data.txt') as f:\n",
    "    data = f.readlines()\n",
    "\n",
    "x = []\n",
    "y=[]\n",
    "for row in data:   ##Uncomment for Python 2\n",
    "#for row in data.decode('ascii').split('\\n')[:-1]:    ##Uncomment for Python 3\n",
    "    #print(row)\n",
    "    #strip leading and trailing spaces and EOL and split on comma\n",
    "    rowSplit = row.strip().split(',')\n",
    "    #eliminate lines with missing data, convert to numeric, pull off id.  put data into x and labels into y.\n",
    "    if not any('?' in word for word in rowSplit):\n",
    "        numList = [float(w) for w in rowSplit]\n",
    "        numList.pop(0)\n",
    "        y.append(numList.pop(-1))\n",
    "        x.append(numList)\n",
    "\n",
    "#convert lists to numpy arrays\n",
    "x = np.array(x)\n",
    "print(x.shape)\n",
    "y = np.array(y)\n",
    "print(y.shape)\n"
   ]
  },
  {
   "cell_type": "code",
   "execution_count": 58,
   "metadata": {
    "collapsed": false,
    "scrolled": true
   },
   "outputs": [],
   "source": [
    "cleaned_list= []\n",
    "\n",
    "for x in data:\n",
    "    if \"?\" not in x:\n",
    "        cleaned_list.append(x)\n",
    "#     else:\n",
    "#         print(x)\n",
    "        \n",
    "# cleaned_list.split(\",\")\n",
    "\n",
    "# for x in cleaned_list:\n",
    "#     x.split(\",\")\n",
    "\n",
    "# for i in range(len(cleaned_list))\n",
    "#     cleaned_list[i].replace(\"\\n\", \"\").split(\",\")\n",
    "\n",
    "list_of_lists = []\n",
    "\n",
    "for x in cleaned_list:\n",
    "    temp = x.replace(\"\\n\", \"\").split(\",\")\n",
    "    row = [float(z) for z in temp]\n",
    "    list_of_lists.append(row)\n",
    "    \n",
    "list_of_lists = np.array(list_of_lists)\n",
    "list_of_lists.shape\n",
    "list_of_lists[:,1:].shape\n",
    "\n",
    "no_ids = list_of_lists[:,1:]\n",
    "X = no_ids[:,:-1]\n",
    "y = no_ids[:,-1]  # labels\n",
    "# x.shape\n",
    "# y.shape"
   ]
  },
  {
   "cell_type": "code",
   "execution_count": 59,
   "metadata": {
    "collapsed": false
   },
   "outputs": [
    {
     "data": {
      "text/plain": [
       "((546, 9), (137, 9), (546,), (137,))"
      ]
     },
     "execution_count": 59,
     "metadata": {},
     "output_type": "execute_result"
    }
   ],
   "source": [
    "from sklearn.cross_validation import train_test_split\n",
    "\n",
    "# #pull out 20% test set\n",
    "xTrVa, xTe, yTrVa, yTe = train_test_split(X, y, test_size =.2)  #Function for splitting off data for final test\n",
    "nFolds = 5  #number of cross validation folds\n",
    "xTrVa.shape, xTe.shape, yTrVa.shape, yTe.shape"
   ]
  },
  {
   "cell_type": "code",
   "execution_count": 60,
   "metadata": {
    "collapsed": false
   },
   "outputs": [],
   "source": [
    "from sklearn.neighbors import KNeighborsRegressor\n",
    "#set up xvalidation loop and run on sklearn knn regression for several values of \"k\"\n",
    "\n",
    "#set values for some constants and initilize lists for holding answers\n",
    "nxVal = 10  #number of cross-validation folds\n",
    "ks = [200, 150, 100, 80, 60, 50, 40, 30, 20, 15, 10, 8, 6, 5, 3, 1]  #list of k-values to generate error vs complexity curves\n",
    "\n",
    "trPerf = np.zeros([nxVal, len(ks)])  #matrix to hold fold-by-fold training error\n",
    "vaPerf = np.zeros([nxVal, len(ks)])  #matrix to hold fold-by-fold validation error\n",
    "\n",
    "#for ixVal in range(1):  #cross-validation loop for testing\n",
    "for ixVal in range(nxVal):  #cross-validation loop\n",
    "    #compute validation and training indices\n",
    "    vaIdx = [i for i in range(len(yTrVa)) if i%nxVal == ixVal]\n",
    "    trIdx = [i for i in range(len(yTrVa)) if i%nxVal != ixVal]\n",
    "    #form training and validation sets (features and labels)\n",
    "    xTr = xTrVa[trIdx,:]\n",
    "    xVa = xTrVa[vaIdx,:]\n",
    "    yTr = yTrVa[trIdx]\n",
    "    yVa = yTrVa[vaIdx]\n",
    "    #print(xTr.shape, xVa.shape, yTr.shape, yVa.shape)  #print out shapes to check code to this point\n",
    "    #for ik in range(1):  #for testing\n",
    "    for ik in range(len(ks)):\n",
    "        knn = KNeighborsRegressor(n_neighbors=ks[ik])\n",
    "        knn.fit(xTr, yTr)\n",
    "        #performance on training set\n",
    "        trErr = knn.predict(xTr) - yTr\n",
    "        #print(trErr.shape)\n",
    "        #print(np.mean(trErr*trErr))\n",
    "        trPerf[ixVal, ik] = np.mean(trErr*trErr)\n",
    "        #performance on val set\n",
    "        vaErr = knn.predict(xVa) - yVa\n",
    "        #print(vaErr.shape)\n",
    "        #print(np.mean(vaErr*vaErr))\n",
    "        vaPerf[ixVal, ik] = np.mean(vaErr*vaErr)"
   ]
  },
  {
   "cell_type": "code",
   "execution_count": 61,
   "metadata": {
    "collapsed": false,
    "scrolled": true
   },
   "outputs": [
    {
     "data": {
      "text/plain": [
       "array([ 2.,  2.,  4.,  2.,  2.,  2.,  2.,  4.,  2.,  4.,  2.,  4.,  4.,\n",
       "        2.,  4.,  4.,  2.,  4.,  2.,  2.,  2.,  2.,  2.,  2.,  2.,  2.,\n",
       "        4.,  4.,  2.,  2.,  2.,  4.,  2.,  2.,  4.,  4.,  2.,  2.,  2.,\n",
       "        4.,  4.,  4.,  2.,  2.,  2.,  4.,  2.,  4.,  2.,  2.,  4.,  2.,\n",
       "        4.,  2.,  4.,  2.,  2.,  2.,  2.,  4.,  2.,  4.,  2.,  4.,  2.,\n",
       "        2.,  2.,  2.,  4.,  4.,  2.,  4.,  2.,  2.,  2.,  4.,  2.,  4.,\n",
       "        2.,  2.,  2.,  2.,  4.,  4.,  2.,  2.,  4.,  2.,  4.,  4.,  4.,\n",
       "        2.,  4.,  4.,  2.,  4.,  4.,  4.,  4.,  4.,  2.,  2.,  2.,  2.,\n",
       "        4.,  2.,  4.,  4.,  2.,  2.,  4.,  2.,  2.,  2.,  2.,  4.,  4.,\n",
       "        4.,  4.,  2.,  4.,  4.,  2.,  4.,  4.,  2.,  2.,  2.,  4.,  2.,\n",
       "        2.,  4.,  4.,  2.,  4.,  4.,  2.])"
      ]
     },
     "execution_count": 61,
     "metadata": {},
     "output_type": "execute_result"
    }
   ],
   "source": [
    "# cross validation loop  \n",
    "for ixVal in range(nFolds):\n",
    "    valIdx = [i for i in range(len(xTrVal)) if i%nFolds==ixVal]  #or use sklearn k-fold package\n",
    "    trainIdx = [i for i in range(len(xTrVal)) if i%nFolds!=ixVal]\n",
    "    xTrain = xTrVal[trainIdx]  #this will work if xTrVal is a numpy array.. if xTrVal is a list, use list comprehension\n",
    "    xVal = xTrVal[valIdx]\n",
    "    \n",
    "    #Use sklearn KNN package to provide training and validation results for range of reasonable k-values\n",
    "\n",
    "from sklearn.neighbors import KNeighborsClassifier\n",
    "\n",
    "for i in range(1,200):\n",
    "    neigh = KNeighborsClassifier(n_neighbors=i)\n",
    "    neigh.fit(X, y) \n",
    "    \n",
    "\n",
    "neigh = KNeighborsClassifier(n_neighbors=3)\n",
    "neigh.fit(X,y)\n",
    "neigh.predict(xTe)\n",
    "    \n",
    "    \n",
    "# KNeighborsClassifier(...)\n",
    "# print(neigh.predict([[1.1]]))\n",
    "# [0]\n",
    "\n",
    "\n",
    "\n",
    "# print(neigh.predict_proba([[0.9]]))\n",
    "\n",
    "\n",
    "\n",
    "# use probability version, not the hard classification\n",
    "\n",
    "# [[ 0.66666667  0.33333333]]\n",
    "#     #save training and testing results for each of the nFolds runs\n",
    "    \n",
    "\n",
    "\n",
    "\n",
    "#Plot all nFolds RMSE (root mean squared error) plots as function of k\n",
    "#pick k for minimum validation error \n",
    "#run xTe, yTe with best k value to confirm error estimate.  "
   ]
  },
  {
   "cell_type": "code",
   "execution_count": 62,
   "metadata": {
    "collapsed": false,
    "scrolled": false
   },
   "outputs": [
    {
     "data": {
      "text/plain": [
       "array([[77,  1],\n",
       "       [ 1, 58]])"
      ]
     },
     "execution_count": 62,
     "metadata": {},
     "output_type": "execute_result"
    }
   ],
   "source": [
    "# import sklearn.metrics.confusion_matrix\n",
    "from sklearn.metrics import confusion_matrix\n",
    "\n",
    "a, b = zip(*neigh.predict_proba(xTe))\n",
    "output = [2 if i<.5 else 4 for i in b]\n",
    "\n",
    "confusion_matrix(yTe, output)"
   ]
  },
  {
   "cell_type": "code",
   "execution_count": 63,
   "metadata": {
    "collapsed": false,
    "scrolled": true
   },
   "outputs": [
    {
     "name": "stdout",
     "output_type": "stream",
     "text": [
      "(<type 'numpy.ndarray'>, 160)\n",
      "validation rmse\n",
      "[ 0.49426556  0.42416176  0.386269    0.37279673  0.36249907  0.35513169\n",
      "  0.34665088  0.33623763  0.32201857  0.31644868  0.31203686  0.31098708\n",
      "  0.29613421  0.30532866  0.31474549  0.41907385]\n",
      "training rmse\n",
      "[ 0.49127678  0.42080987  0.38188318  0.36926952  0.35815748  0.34970036\n",
      "  0.3410071   0.32894956  0.31183278  0.30289938  0.28880494  0.27778158\n",
      "  0.2598795   0.25677101  0.23756358  0.        ]\n"
     ]
    }
   ],
   "source": [
    "#form outputs\n",
    "\n",
    "print(type(vaPerf), vaPerf.size)\n",
    "\n",
    "vaMse = np.sqrt(np.mean(vaPerf, axis=0))\n",
    "print('validation rmse')\n",
    "print(vaMse)\n",
    "\n",
    "trMse = np.sqrt(np.mean(trPerf, axis=0))\n",
    "print('training rmse')\n",
    "print(trMse)"
   ]
  },
  {
   "cell_type": "code",
   "execution_count": 64,
   "metadata": {
    "collapsed": false,
    "scrolled": true
   },
   "outputs": [
    {
     "data": {
      "image/png": "[encoded data removed]",
      "text/plain": [
       "<matplotlib.figure.Figure at 0x119fbb910>"
      ]
     },
     "metadata": {},
     "output_type": "display_data"
    },
    {
     "name": "stdout",
     "output_type": "stream",
     "text": [
      "('best k = ', 6, 'min value of MSE = ', 0.29613421492800995)\n"
     ]
    }
   ],
   "source": [
    "import matplotlib.pyplot as plt\n",
    "%matplotlib inline\n",
    "plt.plot(vaMse) #plot validation rmse\n",
    "plt.plot(trMse)\n",
    "plt.show()\n",
    "kStar = ks[np.argmin(vaMse)]\n",
    "print('best k = ', kStar, 'min value of MSE = ', np.min(vaMse))  #print best value of k and corresponding mse"
   ]
  },
  {
   "cell_type": "code",
   "execution_count": 65,
   "metadata": {
    "collapsed": false,
    "scrolled": true
   },
   "outputs": [
    {
     "name": "stdout",
     "output_type": "stream",
     "text": [
      "0.291484997298\n"
     ]
    }
   ],
   "source": [
    "#use test data to confirm results\n",
    "knnTe = KNeighborsRegressor(n_neighbors=10)\n",
    "knnTe.fit(xTrVa, yTrVa)\n",
    "teErr = knnTe.predict(xTe) - yTe\n",
    "teMse = np.sqrt(np.mean(teErr*teErr))\n",
    "print(teMse)"
   ]
  },
  {
   "cell_type": "markdown",
   "metadata": {},
   "source": [
    "## Discussion:\n",
    "When I run this several times (starting from train/test split), I get optimum k values that bounce around between 5 and 15.  The corresponding mean square errors (MSE) range from 0.29 to 0.38.  Generally the test errors are slightly smaller than the best MSE from cross validation.  Occasionally, the test error will be 30% or so higher than MSE from cross validation.  I'd probably deploy with k=10 or so to be a little conservative.  \n",
    "\n",
    "Try scaling the data to zero mean and unit variance at the very beginning.  See if that improves performance.  \n",
    "\n",
    "\n",
    "\n",
    "## ElasticNet CV on the same data set\n",
    "For this problem we can start with the same xTrVa, xTe, yTrVa, yTe that were developed in the code above.  That's where this sample code below picks up the story. "
   ]
  },
  {
   "cell_type": "markdown",
   "metadata": {},
   "source": [
    "##  2.  Train ElasticNet on breast cancer data set\n",
    "\n",
    "1.  Use same train test split as above\n",
    "2.  Use ElasticNetCV to perform cross-validation on xTrVal, yTrVal\n",
    "3.  Plot the RMS error that ElasticNetCV produces\n",
    "4.  Extract optimum coefficients and run on test data to confirm performance numbers.  "
   ]
  },
  {
   "cell_type": "code",
   "execution_count": 66,
   "metadata": {
    "collapsed": false
   },
   "outputs": [
    {
     "data": {
      "text/plain": [
       "ElasticNetCV(alphas=None, copy_X=True, cv=10, eps=0.001, fit_intercept=True,\n",
       "       l1_ratio=0.5, max_iter=1000, n_alphas=100, n_jobs=-1,\n",
       "       normalize=True, positive=False, precompute='auto',\n",
       "       random_state=None, selection='cyclic', tol=0.0001, verbose=0)"
      ]
     },
     "execution_count": 66,
     "metadata": {},
     "output_type": "execute_result"
    }
   ],
   "source": [
    "from sklearn.linear_model import ElasticNetCV\n",
    "from math import sqrt\n",
    "#xTrVa, xTe, yTrVa, yTe\n",
    "\n",
    "enet = ElasticNetCV(l1_ratio=0.5, normalize=True, cv=10, n_jobs=-1)\n",
    "enet.fit(xTrVa, yTrVa)"
   ]
  },
  {
   "cell_type": "code",
   "execution_count": 67,
   "metadata": {
    "collapsed": false
   },
   "outputs": [
    {
     "data": {
      "text/plain": [
       "(100, 10)"
      ]
     },
     "execution_count": 67,
     "metadata": {},
     "output_type": "execute_result"
    }
   ],
   "source": [
    "enet.mse_path_.shape"
   ]
  },
  {
   "cell_type": "code",
   "execution_count": 68,
   "metadata": {
    "collapsed": false
   },
   "outputs": [
    {
     "data": {
      "image/png": "[encoded data removed]",
      "text/plain": [
       "<matplotlib.figure.Figure at 0x11c039850>"
      ]
     },
     "metadata": {},
     "output_type": "display_data"
    }
   ],
   "source": [
    "for i in range(10):\n",
    "    plt.plot(enet.mse_path_[:,i])\n",
    "plt.show()"
   ]
  },
  {
   "cell_type": "code",
   "execution_count": 69,
   "metadata": {
    "collapsed": false
   },
   "outputs": [
    {
     "name": "stdout",
     "output_type": "stream",
     "text": [
      "('index of mse min', 73, 'Min value of rmse', 0.39208546037368674)\n"
     ]
    }
   ],
   "source": [
    "meanErr = np.mean(enet.mse_path_, axis=1)\n",
    "minIdx = np.argmin(meanErr)\n",
    "print('index of mse min', minIdx, 'Min value of rmse', sqrt(meanErr[minIdx]))"
   ]
  },
  {
   "cell_type": "code",
   "execution_count": 70,
   "metadata": {
    "collapsed": false
   },
   "outputs": [
    {
     "name": "stdout",
     "output_type": "stream",
     "text": [
      "('RMSE on Test data', 0.37571979006031786)\n"
     ]
    }
   ],
   "source": [
    "#check on test data to make sure it's in line with min from xvalidation\n",
    "teErr = enet.predict(xTe) - yTe\n",
    "teRmse = np.sqrt(np.mean(teErr*teErr))\n",
    "print('RMSE on Test data', teRmse)"
   ]
  },
  {
   "cell_type": "code",
   "execution_count": 71,
   "metadata": {
    "collapsed": false
   },
   "outputs": [
    {
     "data": {
      "text/plain": [
       "(array([73]),)"
      ]
     },
     "execution_count": 71,
     "metadata": {},
     "output_type": "execute_result"
    }
   ],
   "source": [
    "np.where(enet.alphas_ == enet.alpha_)  #find index of alpha used in ElasticNetCV predict method - same as minimum mse index"
   ]
  },
  {
   "cell_type": "code",
   "execution_count": 72,
   "metadata": {
    "collapsed": false
   },
   "outputs": [
    {
     "name": "stdout",
     "output_type": "stream",
     "text": [
      "[ 0.33034926  0.49661185  0.26463539  0.41323893  0.28059202  0.33679584\n",
      "  0.45725796  0.40498649  0.46393038  0.40534651]\n"
     ]
    }
   ],
   "source": [
    "print(np.sqrt(enet.mse_path_[83,:]))  #print rmse for each of the xval sets to see if this fits within their spread"
   ]
  },
  {
   "cell_type": "markdown",
   "metadata": {},
   "source": [
    "## Discussion\n",
    "This model is generating reasonable answers.  Might get better results by fooling around with the l1 ratio parameter some.  The rmse on the test data is within the spread of the xval folds, so it's congruent with the values out of xvalidation. "
   ]
  },
  {
   "cell_type": "code",
   "execution_count": null,
   "metadata": {
    "collapsed": true
   },
   "outputs": [],
   "source": []
  }
 ],
 "metadata": {
  "anaconda-cloud": {},
  "kernelspec": {
   "display_name": "Python [conda env:py27]",
   "language": "python",
   "name": "conda-env-py27-py"
  },
  "language_info": {
   "codemirror_mode": {
    "name": "ipython",
    "version": 2
   },
   "file_extension": ".py",
   "mimetype": "text/x-python",
   "name": "python",
   "nbconvert_exporter": "python",
   "pygments_lexer": "ipython2",
   "version": "2.7.12"
  }
 },
 "nbformat": 4,
 "nbformat_minor": 0
}
