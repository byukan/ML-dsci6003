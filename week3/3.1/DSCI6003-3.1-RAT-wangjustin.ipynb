{
 "cells": [
  {
   "cell_type": "markdown",
   "metadata": {},
   "source": [
    "# DSCI6003-3.1_RAT - Eigenvalues, Eigenvectors and Feature Reduction\n",
    "1.  Given a problem with an enormous number of features and not many rows of data, what might you do to reduce the number of features?\n",
    "2.  What is the main difference between using PCA and LDA for feature reduction?\n",
    "3.  Who invented LDA?  For what problem?\n",
    "4.  Would LDA work on a regression problem?"
   ]
  },
  {
   "cell_type": "markdown",
   "metadata": {
    "collapsed": true
   },
   "source": [
    "pca or lda for dimensionality reduction\n",
    "\n",
    "lda is supervised, whereas pca is unsupervised\n",
    "\n",
    "Fisher: for Fisher's linear discriminant\n",
    "to find a linear combination of features that characterizes or separates two or more classes of objects or events.\n",
    "\n",
    "not really, since we would have to assume that the independent variables are normally distributed"
   ]
  }
 ],
 "metadata": {
  "kernelspec": {
   "display_name": "Python 3",
   "language": "python",
   "name": "python3"
  },
  "language_info": {
   "codemirror_mode": {
    "name": "ipython",
    "version": 3
   },
   "file_extension": ".py",
   "mimetype": "text/x-python",
   "name": "python",
   "nbconvert_exporter": "python",
   "pygments_lexer": "ipython3",
   "version": "3.5.2"
  }
 },
 "nbformat": 4,
 "nbformat_minor": 0
}
