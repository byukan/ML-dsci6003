{
 "cells": [
  {
   "cell_type": "markdown",
   "metadata": {},
   "source": [
    "# Test 1 practice solutions\n"
   ]
  },
  {
   "cell_type": "code",
   "execution_count": 44,
   "metadata": {
    "collapsed": true
   },
   "outputs": [],
   "source": [
    "__author__ = 'mike-bowles'\n",
    "import urllib2\n",
    "import numpy as np\n",
    "target_url = \"https://archive.ics.uci.edu/ml/machine-learning-databases/breast-cancer-wisconsin/breast-cancer-wisconsin.data\"\n",
    "data = urllib2.urlopen(target_url)"
   ]
  },
  {
   "cell_type": "code",
   "execution_count": 45,
   "metadata": {
    "collapsed": false
   },
   "outputs": [
    {
     "name": "stdout",
     "output_type": "stream",
     "text": [
      "(683, 9)\n",
      "(683,)\n"
     ]
    }
   ],
   "source": [
    "x = []\n",
    "y=[]\n",
    "for row in data:\n",
    "    #print(row)\n",
    "    #strip leading and trailing spaces and EOL and split on comma\n",
    "    rowSplit = row.strip().split(',')\n",
    "    #eliminate lines with missing data, convert to numeric, pull off id.  put data into x and labels into y.\n",
    "    if not any('?' in word for word in rowSplit):\n",
    "        numList = [float(w) for w in rowSplit]\n",
    "        numList.pop(0)\n",
    "        y.append(numList.pop(-1))\n",
    "        x.append(numList)\n",
    "\n",
    "#convert lists to numpy arrays\n",
    "x = np.array(x)\n",
    "print(x.shape)\n",
    "y = np.array(y)\n",
    "print(y.shape)\n"
   ]
  },
  {
   "cell_type": "code",
   "execution_count": 79,
   "metadata": {
    "collapsed": false
   },
   "outputs": [
    {
     "name": "stdout",
     "output_type": "stream",
     "text": [
      "((546, 9), (137, 9), (546,), (137,))\n"
     ]
    }
   ],
   "source": [
    "from sklearn.model_selection import train_test_split\n",
    "#pull out 20% test set\n",
    "xTrVa, xTe, yTrVa, yTe = train_test_split(x, y, test_size=0.2)\n",
    "print(xTrVa.shape, xTe.shape, yTrVa.shape, yTe.shape)"
   ]
  },
  {
   "cell_type": "code",
   "execution_count": 80,
   "metadata": {
    "collapsed": false
   },
   "outputs": [],
   "source": [
    "from sklearn.neighbors import KNeighborsRegressor\n",
    "#set up xvalidation loop and run on sklearn knn regression for several values of \"k\"\n",
    "\n",
    "#set values for some constants and initilize lists for holding answers\n",
    "nxVal = 10  #number of cross-validation folds\n",
    "ks = [200, 150, 100, 80, 60, 50, 40, 30, 20, 15, 10, 8, 6, 5, 3, 1]  #list of k-values to generate error vs complexity curves\n",
    "\n",
    "trPerf = np.zeros([nxVal, len(ks)])  #matrix to hold fold-by-fold training error\n",
    "vaPerf = np.zeros([nxVal, len(ks)])  #matrix to hold fold-by-fold validation error\n",
    "\n",
    "#for ixVal in range(1):  #cross-validation loop for testing\n",
    "for ixVal in range(nxVal):  #cross-validation loop\n",
    "    #compute validation and training indices\n",
    "    vaIdx = [i for i in range(len(yTrVa)) if i%nxVal == ixVal]\n",
    "    trIdx = [i for i in range(len(yTrVa)) if i%nxVal != ixVal]\n",
    "    #form training and validation sets (features and labels)\n",
    "    xTr = xTrVa[trIdx,:]\n",
    "    xVa = xTrVa[vaIdx,:]\n",
    "    yTr = yTrVa[trIdx]\n",
    "    yVa = yTrVa[vaIdx]\n",
    "    #print(xTr.shape, xVa.shape, yTr.shape, yVa.shape)  #print out shapes to check code to this point\n",
    "    #for ik in range(1):  #for testing\n",
    "    for ik in range(len(ks)):\n",
    "        knn = KNeighborsRegressor(n_neighbors=ks[ik])\n",
    "        knn.fit(xTr, yTr)\n",
    "        #performance on training set\n",
    "        trErr = knn.predict(xTr) - yTr\n",
    "        #print(trErr.shape)\n",
    "        #print(np.mean(trErr*trErr))\n",
    "        trPerf[ixVal, ik] = np.mean(trErr*trErr)\n",
    "        #performance on val set\n",
    "        vaErr = knn.predict(xVa) - yVa\n",
    "        #print(vaErr.shape)\n",
    "        #print(np.mean(vaErr*vaErr))\n",
    "        vaPerf[ixVal, ik] = np.mean(vaErr*vaErr)\n"
   ]
  },
  {
   "cell_type": "code",
   "execution_count": 90,
   "metadata": {
    "collapsed": false
   },
   "outputs": [
    {
     "name": "stdout",
     "output_type": "stream",
     "text": [
      "validation rmse\n",
      "[ 0.4684675   0.39682856  0.36581177  0.35665236  0.34595163  0.34250234\n",
      "  0.33708869  0.32986183  0.31544688  0.30823102  0.30915111  0.29943479\n",
      "  0.29566009  0.29490853  0.31245501  0.40117672]\n",
      "training rmse\n",
      "[ 0.46554381  0.39425873  0.36316112  0.35342133  0.34217784  0.33747595\n",
      "  0.33054269  0.32064247  0.3028599   0.29208794  0.27935096  0.26858936\n",
      "  0.25287349  0.24542967  0.23295309  0.        ]\n"
     ]
    }
   ],
   "source": [
    "#form outputs\n",
    "vaMse = np.sqrt(np.mean(vaPerf, axis=0))\n",
    "print('validation rmse')\n",
    "print(vaMse)\n",
    "\n",
    "trMse = np.sqrt(np.mean(trPerf, axis=0))\n",
    "print('training rmse')\n",
    "print(trMse)"
   ]
  },
  {
   "cell_type": "code",
   "execution_count": 91,
   "metadata": {
    "collapsed": false
   },
   "outputs": [
    {
     "data": {
      "image/png": "[encoded data removed]",
      "text/plain": [
       "<matplotlib.figure.Figure at 0x7f137407b450>"
      ]
     },
     "metadata": {},
     "output_type": "display_data"
    },
    {
     "name": "stdout",
     "output_type": "stream",
     "text": [
      "('best k = ', 5, 'min value of MSE = ', 0.29490853458495192)\n"
     ]
    }
   ],
   "source": [
    "import matplotlib.pyplot as plt\n",
    "%matplotlib inline\n",
    "plt.plot(vaMse) #plot validation rmse\n",
    "plt.plot(trMse)\n",
    "plt.show()\n",
    "kStar = ks[np.argmin(vaMse)]\n",
    "print('best k = ', kStar, 'min value of MSE = ', np.min(vaMse))  #print best value of k and corresponding mse"
   ]
  },
  {
   "cell_type": "code",
   "execution_count": 92,
   "metadata": {
    "collapsed": false
   },
   "outputs": [
    {
     "name": "stdout",
     "output_type": "stream",
     "text": [
      "0.32734276328\n"
     ]
    }
   ],
   "source": [
    "#use test data to confirm results\n",
    "knnTe = KNeighborsRegressor(n_neighbors=10)\n",
    "knnTe.fit(xTrVa, yTrVa)\n",
    "teErr = knnTe.predict(xTe) - yTe\n",
    "teMse = np.sqrt(np.mean(teErr*teErr))\n",
    "print(teMse)"
   ]
  },
  {
   "cell_type": "markdown",
   "metadata": {},
   "source": [
    "## Discussion:\n",
    "When I run this several times (starting from train/test split), I get optimum k values that bounce around between 5 and 15.  The corresponding mean square errors (MSE) range from 0.29 to 0.38.  Generally the test errors are slightly smaller than the best MSE from cross validation.  Occasionally, the test error will be 30% or so higher than MSE from cross validation.  I'd probably deploy with k=10 or so to be a little conservative.  \n",
    "\n",
    "Try scaling the data to zero mean and unit variance at the very beginning.  See if that improves performance.  "
   ]
  }
 ],
 "metadata": {
  "kernelspec": {
   "display_name": "Python 2",
   "language": "python",
   "name": "python2"
  },
  "language_info": {
   "codemirror_mode": {
    "name": "ipython",
    "version": 2
   },
   "file_extension": ".py",
   "mimetype": "text/x-python",
   "name": "python",
   "nbconvert_exporter": "python",
   "pygments_lexer": "ipython2",
   "version": "2.7.12"
  }
 },
 "nbformat": 4,
 "nbformat_minor": 0
}
